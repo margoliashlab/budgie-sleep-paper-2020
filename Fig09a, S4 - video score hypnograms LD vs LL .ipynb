{
 "cells": [
  {
   "cell_type": "markdown",
   "metadata": {},
   "source": [
    "# Setup"
   ]
  },
  {
   "cell_type": "code",
   "execution_count": 26,
   "metadata": {},
   "outputs": [],
   "source": [
    "%matplotlib inline\n",
    "\n",
    "import numpy as np\n",
    "import scipy.signal as sig\n",
    "import scipy.stats as stat\n",
    "import matplotlib.pyplot as plt\n",
    "import seaborn as sns\n",
    "import os\n",
    "import h5py\n",
    "import datetime\n",
    "import pandas as pd\n",
    "\n",
    "from pandas import DataFrame,Series,read_table"
   ]
  },
  {
   "cell_type": "markdown",
   "metadata": {},
   "source": [
    "General info"
   ]
  },
  {
   "cell_type": "code",
   "execution_count": 27,
   "metadata": {},
   "outputs": [],
   "source": [
    "savePlots = True    # whether or not to save plots\n",
    "saveData = True # whether or not to save csv files\n",
    "\n",
    "saveAsPath = './Fig S4/'\n",
    "if not os.path.exists(saveAsPath):\n",
    "    os.mkdir(saveAsPath)\n",
    "saveAsPath = './Fig 09/'\n",
    "if not os.path.exists(saveAsPath):\n",
    "    os.mkdir(saveAsPath)\n",
    "saveAsName = 'Fig'"
   ]
  },
  {
   "cell_type": "code",
   "execution_count": 28,
   "metadata": {},
   "outputs": [],
   "source": [
    "#path = '/Users/svcanavan/Dropbox/Coding in progress/00_BudgieSleep/Data_copies/'\n",
    "\n",
    "birdPaths =    ['../data_copies/01_PreprocessedData/01_BudgieFemale_green1/00_Baseline_night/',\n",
    "                '../data_copies/01_PreprocessedData/02_BudgieMale_yellow1/00_Baseline_night/',\n",
    "                '../data_copies/01_PreprocessedData/03_BudgieFemale_white1/00_Baseline_night/',\n",
    "                '../data_copies/01_PreprocessedData/04_BudgieMale_yellow2/00_Baseline_night/',\n",
    "                '../data_copies/01_PreprocessedData/05_BudgieFemale_green2/00_Baseline_night/']\n",
    "\n",
    "arfFilePaths =  ['EEG 2 scored/',\n",
    "                 'EEG 3 scored/',\n",
    "                 'EEG 3 scored/',\n",
    "                 'EEG 4 scored/',\n",
    "                 'EEG 4 scored/']\n",
    "\n",
    "### load BEST EEG channels - as determined during manual scoring ####\n",
    "channelsToLoadEEG_best = [['6 LEEGm-LEEGp', '5 LEEGf-LEEGp'], #, '9 REEGp-LEEGp'], # extra channel to represent R hemisphere\n",
    "                     ['5 LEEGf-LEEGm', '4 LEEGf-Fgr'], #, '9 REEGf-REEGm'], # extra channel to represent R hemisphere\n",
    "                     ['9REEGm-REEGp', '4LEEGf-LEEGp'], \n",
    "                     ['6LEEGm-LEEGf', '9REEGf-REEGp'], \n",
    "                     ['7REEGf-REEGp', '4LEEGf-LEEGp']]\n",
    "\n",
    "\n",
    "### load ALL of EEG channels ####\n",
    "channelsToLoadEEG = [['4 LEEGf-Fgr', '5 LEEGf-LEEGp', '6 LEEGm-LEEGp', '7 LEEGp-Fgr', '8 REEGp-Fgr','9 REEGp-LEEGp'],\n",
    "                     ['4 LEEGf-Fgr','5 LEEGf-LEEGm', '6 LEEGm-LEEGp', '7 REEGf-Fgr', '8 REEGm-Fgr', '9 REEGf-REEGm'],\n",
    "                     ['4LEEGf-LEEGp', '5LEEGf-LEEGm', '6LEEGm-LEEGp', '7REEGf-REEGp', '8REEGf-REEGm', '9REEGm-REEGp'],\n",
    "                     ['4LEEGf-LEEGp', '5LEEGm-LEEGp', '6LEEGm-LEEGf', '7REEGf-Fgr', '8REEGf-REEGm','9REEGf-REEGp',],\n",
    "                     ['4LEEGf-LEEGp', '5LEEGf-LEEGm', '6LEEGm-LEEGp', '7REEGf-REEGp', '8REEGf-REEGm', '9REEGm-REEGp']]\n",
    "\n",
    "\n",
    "channelsToLoadEOG = [['1 LEOG-Fgr', '2 REOG-Fgr'],\n",
    "                     ['2 LEOG-Fgr', '3 REOG-Fgr'],\n",
    "                     ['2LEOG-Fgr', '3REOG-Fgr'],\n",
    "                     ['2LEOG-Fgr', '3REOG-Fgr'],\n",
    "                     ['2LEOG-Fgr', '3REOG-Fgr']]\n",
    "\n",
    "birds_LL = [1,2,3]\n",
    "nBirds_LL = len(birds_LL)\n",
    "\n",
    "birdPaths_LL = ['../data_copies/01_PreprocessedData/02_BudgieMale_yellow1/01_Constant_light/',\n",
    "                '../data_copies/01_PreprocessedData/03_BudgieFemale_white1/01_Constant_light/',\n",
    "                '../data_copies/01_PreprocessedData/04_BudgieMale_yellow2/01_Constant_light/',]\n",
    "\n",
    "arfFilePaths_LL =  ['EEG 2 preprocessed/',\n",
    "                    'EEG 2 preprocessed/',\n",
    "                    'EEG 2 preprocessed/']\n",
    "\n",
    "lightsOffSec = np.array([7947, 9675, 9861 + 8*3600, 9873, 13467])  # lights off times in seconds from beginning of file\n",
    "lightsOnSec = np.array([46449, 48168, 48375+ 8*3600, 48381, 52005]) # Bird 3 gets 8 hours added b/c file starts at 8:00 instead of 16:00\n",
    "\n",
    "epochLength = 3\n",
    "sr = 200\n",
    "scalingFactor = (2**15)*0.195       # scaling/conversion factor from amplitude to uV (when recording arf from jrecord)\n",
    "\n",
    "stages = ['w','d','u','i','s','r'] # wake, drowsy, unihem sleep, intermediate sleep, SWS, REM\n",
    "stagesSleep =    ['u','i','s','r']\n",
    "\n",
    "stagesVideo = ['m','q','d','s','u'] # moving wake, quiet wake, drowsy, sleep, unclear\n",
    "\n",
    "## Path to scores formatted as CSVs\n",
    "formatted_scores_path = '../formatted_scores/'\n",
    "\n",
    "## Path to detect SW ands EM events: use folder w/ EMs and EM artifacts detected during non-sleep\n",
    "events_path = '../data_copies/SWs_EMs_and_EMartifacts/'"
   ]
  },
  {
   "cell_type": "code",
   "execution_count": 29,
   "metadata": {},
   "outputs": [],
   "source": [
    "# THIS NOTEBOOK ONLY: define more video stages\n",
    "stagesVideo = ['m','q','d','l','g','s','u'] # moving wake, quiet wake, drowsy, L unihem, R unihem, sleep, unclear"
   ]
  },
  {
   "cell_type": "code",
   "execution_count": 30,
   "metadata": {},
   "outputs": [
    {
     "data": {
      "image/png": "[encoded data removed]",
      "text/plain": [
       "<Figure size 432x72 with 1 Axes>"
      ]
     },
     "metadata": {
      "needs_background": "light"
     },
     "output_type": "display_data"
    }
   ],
   "source": [
    "colors = sns.color_palette(np.array([[234,103,99],\n",
    "[218,142,60],\n",
    "[174,174,62],\n",
    "[97,188,101],\n",
    "[140,133,232],\n",
    "[225,113,190]])\n",
    "/255)\n",
    "\n",
    "sns.palplot(colors)\n",
    "\n",
    "# colorpalette from iWantHue"
   ]
  },
  {
   "cell_type": "code",
   "execution_count": 31,
   "metadata": {},
   "outputs": [
    {
     "data": {
      "image/png": "[encoded data removed]",
      "text/plain": [
       "<Figure size 504x72 with 1 Axes>"
      ]
     },
     "metadata": {
      "needs_background": "light"
     },
     "output_type": "display_data"
    }
   ],
   "source": [
    "colors_video = sns.color_palette(np.array([[244,133,129],\n",
    "                                           [255,153,120],\n",
    "                                            [248,172,90],\n",
    "                                            [204,204,92],\n",
    "                                            [204,204,92],\n",
    "                                            [124, 203, 204],\n",
    "                                            [200, 200, 200]])\n",
    "                                            /(255))\n",
    "\n",
    "sns.palplot(colors_video)"
   ]
  },
  {
   "cell_type": "markdown",
   "metadata": {},
   "source": [
    "Plot-specific info"
   ]
  },
  {
   "cell_type": "code",
   "execution_count": 32,
   "metadata": {},
   "outputs": [],
   "source": [
    "sns.set_context(\"notebook\", font_scale=1.5)\n",
    "sns.set_style(\"white\")\n",
    "\n",
    "# Markers for legends of video scoring colors\n",
    "legendMarkersVideo = []\n",
    "for stage in range(len(stagesVideo)):\n",
    "    legendMarkersVideo.append(plt.Line2D([0],[0], color=colors_video[stage], marker='o', linestyle='', alpha=0.7))  "
   ]
  },
  {
   "cell_type": "markdown",
   "metadata": {},
   "source": [
    "Calculate general variables"
   ]
  },
  {
   "cell_type": "code",
   "execution_count": 33,
   "metadata": {},
   "outputs": [],
   "source": [
    "lightsOffEp = lightsOffSec / epochLength\n",
    "lightsOnEp = lightsOnSec / epochLength\n",
    "\n",
    "nBirds = len(birdPaths)\n",
    "\n",
    "epochLengthPts = epochLength*sr\n",
    "\n",
    "nStages = len(stagesSleep)"
   ]
  },
  {
   "cell_type": "markdown",
   "metadata": {},
   "source": [
    "## Read in files"
   ]
  },
  {
   "cell_type": "markdown",
   "metadata": {},
   "source": [
    "### Read in: Video scores"
   ]
  },
  {
   "cell_type": "code",
   "execution_count": 34,
   "metadata": {},
   "outputs": [],
   "source": [
    "AllScores = {}\n",
    "for b in range(nBirds):\n",
    "    bird_name = 'Bird ' + str(b+1)\n",
    "    file = formatted_scores_path + 'All_scores_' + bird_name + '.csv'\n",
    "    data = pd.read_csv(file, index_col=0)\n",
    "    \n",
    "    # if any epochs missing, mark as unclear\n",
    "    date_index = pd.date_range(data.index.values[0], end=data.index.values[-1], freq='3s')\n",
    "    data_reindexed = data.reindex(date_index.astype('str'))\n",
    "    data_reindexed['Video Label'].fillna('u', inplace=True)\n",
    "    \n",
    "    # interpolate Time-related columns\n",
    "    time_columns = ['Time (s)', 'Time (h)', 'Zeitgeber time (s)', 'Zeitgeber time (h)', \n",
    "                    'Zeitgeber time (ep)', 'Epoch #']\n",
    "    data_interpolated = data_reindexed.copy()\n",
    "    data_interpolated[time_columns] = data_reindexed[time_columns].interpolate()\n",
    "    \n",
    "    AllScores[bird_name] = data_interpolated"
   ]
  },
  {
   "cell_type": "code",
   "execution_count": 35,
   "metadata": {},
   "outputs": [],
   "source": [
    "# LL\n",
    "AllScores_LL = {}\n",
    "for b in [1,2,3]:\n",
    "    bird_name = 'Bird ' + str(b+1)\n",
    "    file = formatted_scores_path + 'All_scores_' + bird_name + 'LL.csv'\n",
    "    data = pd.read_csv(file, index_col=0)\n",
    "    AllScores_LL[bird_name] = data"
   ]
  },
  {
   "cell_type": "markdown",
   "metadata": {},
   "source": [
    "## Convert video score labels to numbers: "
   ]
  },
  {
   "cell_type": "code",
   "execution_count": 36,
   "metadata": {},
   "outputs": [],
   "source": [
    "# LD #\n",
    "for b_num in range(nBirds):\n",
    "\n",
    "    b_name = 'Bird ' + str(b_num+1)\n",
    "    Scores = AllScores[b_name]\n",
    "\n",
    "    Label_num = -1 * np.ones_like(Scores['Video Label'])\n",
    "    for st in range(len(stagesVideo)):\n",
    "        stage_inds = [x for x in range(len(Scores['Label'])) if stagesVideo[st] in Scores['Video Label'].iloc[x]]\n",
    "        Label_num[stage_inds] = st\n",
    "\n",
    "    # Preening/singing labels\n",
    "    stage_inds = [x for x in range(len(Scores['Video Label']))\n",
    "                  if ('p' in Scores['Video Label'].iloc[x])|('si' in Scores['Video Label'].iloc[x])]\n",
    "    Label_num[stage_inds] = 0\n",
    "\n",
    "    # Save to dataframe\n",
    "    AllScores[b_name]['Video Label (#)'] = Label_num"
   ]
  },
  {
   "cell_type": "code",
   "execution_count": 37,
   "metadata": {},
   "outputs": [],
   "source": [
    "# LL #\n",
    "for b_num in [1,2,3]:\n",
    "\n",
    "    b_name = 'Bird ' + str(b_num+1)\n",
    "    Scores = AllScores_LL[b_name]\n",
    "    # replace nan's with empty string\n",
    "    Scores.fillna('', inplace=True)\n",
    "\n",
    "    Label_num = -1 * np.ones_like(Scores['Video Label'])\n",
    "    for st in range(len(stagesVideo)):\n",
    "        stage_inds = [x for x in range(len(Scores['Epoch #'])) if stagesVideo[st] in Scores['Video Label'].iloc[x]]\n",
    "        Label_num[stage_inds] = st\n",
    "\n",
    "    # Preening/singing labels\n",
    "    stage_inds = [x for x in range(len(Scores['Video Label']))\n",
    "                  if ('p' in Scores['Video Label'].iloc[x])|('si' in Scores['Video Label'].iloc[x])]\n",
    "    Label_num[stage_inds] = 0\n",
    "\n",
    "    # Unihem labels\n",
    "    stage_inds = [x for x in range(len(Scores['Video Label'])) if ('g' in Scores['Video Label'].iloc[x])]\n",
    "    Label_num[stage_inds] = 4\n",
    "\n",
    "    # Save to dataframe\n",
    "    AllScores_LL[b_name]['Video Label (#)'] = Label_num"
   ]
  },
  {
   "cell_type": "markdown",
   "metadata": {},
   "source": [
    "## Calculate lights off in Zeitgeber time (s and hrs)\n",
    "Lights on is 0 "
   ]
  },
  {
   "cell_type": "code",
   "execution_count": 38,
   "metadata": {},
   "outputs": [],
   "source": [
    "lightsOffZeit_s = lightsOffSec - lightsOnSec\n",
    "lightsOffZeit_hr = lightsOffZeit_s / 3600"
   ]
  },
  {
   "cell_type": "markdown",
   "metadata": {},
   "source": [
    "## define PlotFig"
   ]
  },
  {
   "cell_type": "code",
   "execution_count": 39,
   "metadata": {},
   "outputs": [],
   "source": [
    "def PlotFig(b_name, all_scores, plot_xlabels=True, plot_lightsonoff=True, full_stagelabels=False,\n",
    "           sr=sr, colors=colors, stages=stages, xlim_min=0, shade_nighttime=True):\n",
    "    '''Plot Figure: hypnogram\n",
    "    b = bird name\n",
    "    all_scores = dictionary containing video scores for each bird\n",
    "    plot_xlabels = whether to plot the time & label at the bottom\n",
    "    plot_lightsonoff = whether to plot the text labeling the lights on & off lines\n",
    "    \n",
    "    sr = sampling rate\n",
    "    colors = list of colors to use for plotting sleep stages\n",
    "    stages = list of sleep/wake stages\n",
    "    shade_nighttime = whether to plot light gray box during lights off\n",
    "    \n",
    "    '''\n",
    "    Scores = all_scores[b_name].copy()\n",
    "    b = int(b_name[5]) - 1\n",
    "    \n",
    "    # pull out only scores within 24 hr after start of recording\n",
    "    Scores = Scores[Scores['Time (h)']<=24]\n",
    "                           \n",
    "    xlim_max = xlim_min + 24\n",
    "    if lightsOffZeit_hr[b_num]<xlim_min:\n",
    "        lights_off = lightsOffZeit_hr[b_num] + 24\n",
    "    else:\n",
    "        lights_off = lightsOffZeit_hr[b_num]    \n",
    "    \n",
    "    # for Zeitgeber times falling before the desired Xmin, wrap around to next day by adding 24hrs\n",
    "    too_early_inds = np.where(Scores['Zeitgeber time (h)'] < xlim_min)\n",
    "    new_Zeit_hrs = Scores['Zeitgeber time (h)'].iloc[too_early_inds] + 24\n",
    "    Scores['Zeitgeber time (h)'].iloc[too_early_inds] = new_Zeit_hrs.values\n",
    "        \n",
    "    # for each stage, make a vlines plot\n",
    "    for st in range(len(stagesVideo)):\n",
    "        stage_scores = Scores[Scores['Video Label (#)']==st]\n",
    "        plt.vlines(stage_scores['Zeitgeber time (h)'], -st, -st - 1, \n",
    "               color=colors[st], alpha=0.1)\n",
    "   \n",
    "    # vertical lines at lights on and off\n",
    "\n",
    "    if shade_nighttime:\n",
    "        plt.axvline(0, alpha=0.4, color='k', lw=3)\n",
    "        plt.axvline(lights_off, alpha=0.4, color='k', lw=3)\n",
    "        plt.axvspan(lights_off, 24, alpha=0.1, color='k')\n",
    "        \n",
    "    if plot_lightsonoff:\n",
    "        plt.text(-.75, 0.3, 'lights on', alpha=0.7, fontsize=12)\n",
    "        plt.text(lights_off - .75, 0.3, 'lights off', alpha=0.7, fontsize=12)\n",
    "\n",
    "    # labels of each stage\n",
    "    if full_stagelabels:\n",
    "        stage_labels = ['Moving','Quiet wake','Drowsy','Left Unihem', 'Right Unihem','Sleep', 'Unclear']\n",
    "    else:\n",
    "        stage_labels = ['M','Q','D','L','R','S','U']\n",
    "        \n",
    "    plt.yticks(-0.5 - np.arange(len(stages)), stage_labels)\n",
    "    ax = plt.gca()\n",
    "    #ax.yaxis.tick_right()     # labels on right side of plot\n",
    "    for ytick, color in zip(ax.get_yticklabels(), colors):   # text color\n",
    "        ytick.set_color(color)\n",
    "        \n",
    "    # axis labels    \n",
    "    plt.ylabel(b_name, fontsize=14)\n",
    "    if plot_xlabels:\n",
    "        plt.xlabel('Zeitgeber hour', fontsize=14)\n",
    "        ticks = ax.get_xticks()\n",
    "        plt.xticks(np.arange(xlim_min, np.max(ticks), 2))\n",
    "    else:\n",
    "        plt.xticks([])\n",
    "\n",
    "    # limits\n",
    "    plt.xlim(xlim_min, xlim_max)\n",
    "    plt.ylim(-len(stages), 0)\n",
    "\n"
   ]
  },
  {
   "cell_type": "markdown",
   "metadata": {},
   "source": [
    "## define TSTstats"
   ]
  },
  {
   "cell_type": "code",
   "execution_count": 40,
   "metadata": {},
   "outputs": [],
   "source": [
    "def TSTstats(birdToRun):\n",
    "\n",
    "#### Baseline LD \n",
    "    print('', birdToRun, 'LD')\n",
    "\n",
    "    scores = AllScores[birdToRun]\n",
    "    \n",
    "    # calc number of epochs, excluding Unclear\n",
    "    recording_len_ep = len(scores) - len(scores[scores['Video Label']=='u'])\n",
    "    \n",
    "    ## TST as % of recording time\n",
    "\n",
    "    TST_ep = len(scores[(scores['Video Label']=='s')])\n",
    "\n",
    "    print('TST as % of recording time: \\t \\t', TST_ep / recording_len_ep)\n",
    "\n",
    "    ## TST, including epochs marked \"unclear\"\n",
    "\n",
    "    TST_w_unclear_ep = len(scores[(scores['Video Label']=='s')|(scores['Video Label']=='u')])\n",
    "\n",
    "    print('TST including Unclear epochs as sleep: \\t', TST_w_unclear_ep / len(scores))\n",
    "\n",
    "    ## TST based on PSG\n",
    "\n",
    "    TST_ep_PSG = len(scores[(scores['Label']=='s')|(scores['Label']=='i')|(scores['Label']=='r')])\n",
    "\n",
    "    print('TST based on PSG: \\t \\t \\t', TST_ep / len(scores))\n",
    "    \n",
    "#### Constant light\n",
    "\n",
    "    print('\\n', birdToRun, 'LL')\n",
    "    scores = AllScores_LL[birdToRun]\n",
    "    \n",
    "    # calc number of epochs, excluding Unclear\n",
    "    recording_len_ep = len(scores) - len(scores[scores['Video Label']=='u'])\n",
    "\n",
    "    ## TST as % of recording time\n",
    "\n",
    "    TST_ep = len(scores[scores['Video Label']=='s'])\n",
    "\n",
    "    print('TST as % of recording time: \\t \\t', TST_ep / recording_len_ep)\n",
    "\n",
    "    ## TST, including epochs marked \"unclear\"\n",
    "\n",
    "    TST_w_unclear_ep = len(scores[(scores['Video Label']=='s')|(scores['Video Label']=='u')])\n",
    "\n",
    "    print('TST including Unclear epochs as sleep: \\t', TST_w_unclear_ep / len(scores))"
   ]
  },
  {
   "cell_type": "markdown",
   "metadata": {},
   "source": [
    "# FIGURE 09a, S4: Plot LD vs LL hypnograms"
   ]
  },
  {
   "cell_type": "markdown",
   "metadata": {},
   "source": [
    "## Bird 2"
   ]
  },
  {
   "cell_type": "code",
   "execution_count": 41,
   "metadata": {},
   "outputs": [],
   "source": [
    "birdToRun = 'Bird 2'\n",
    "b = int(birdToRun[5]) - 1\n",
    "birdToRunID = b"
   ]
  },
  {
   "cell_type": "code",
   "execution_count": 42,
   "metadata": {},
   "outputs": [
    {
     "name": "stderr",
     "output_type": "stream",
     "text": [
      "/Users/svcanavan/anaconda3/lib/python3.7/site-packages/pandas/core/indexing.py:205: SettingWithCopyWarning: \n",
      "A value is trying to be set on a copy of a slice from a DataFrame\n",
      "\n",
      "See the caveats in the documentation: http://pandas.pydata.org/pandas-docs/stable/user_guide/indexing.html#returning-a-view-versus-a-copy\n",
      "  self._setitem_with_indexer(indexer, value)\n"
     ]
    },
    {
     "data": {
      "image/png": "[encoded data removed]",
      "text/plain": [
       "<Figure size 612x345.6 with 2 Axes>"
      ]
     },
     "metadata": {},
     "output_type": "display_data"
    }
   ],
   "source": [
    "plt.figure(figsize=(8.5, 12*(2/5)))\n",
    "\n",
    "axis_color = [.8,.8,.8]\n",
    "with plt.rc_context({'axes.edgecolor': axis_color}):  # set color of plot outline\n",
    "    plt.subplot(2,1,1)\n",
    "    PlotFig(birdToRun, AllScores, plot_xlabels=False, full_stagelabels=True, \n",
    "            colors=colors_video, stages=stagesVideo)\n",
    "    plt.ylabel('LD', fontsize=18)\n",
    "    \n",
    "    plt.subplot(2,1,2)\n",
    "    PlotFig(birdToRun, AllScores_LL, plot_lightsonoff=False, full_stagelabels=True, \n",
    "            shade_nighttime=False, colors=colors_video, stages=stagesVideo)\n",
    "    plt.ylabel('LL', fontsize=18)\n",
    "\n",
    "    plt.suptitle(birdToRun)\n",
    "    plt.tight_layout()\n",
    "    \n",
    "if savePlots:\n",
    "    name = saveAsPath + saveAsName + '9a_video_hypnograms_LL_vs_LD_' + birdToRun\n",
    "    plt.savefig(name + '.tiff', dpi=300)"
   ]
  },
  {
   "cell_type": "code",
   "execution_count": 43,
   "metadata": {
    "scrolled": true
   },
   "outputs": [
    {
     "name": "stdout",
     "output_type": "stream",
     "text": [
      " Bird 2 LD\n",
      "TST as % of recording time: \t \t 0.3971802314622837\n",
      "TST including Unclear epochs as sleep: \t 0.4435590507342195\n",
      "TST based on PSG: \t \t \t 0.3666225902985594\n",
      "\n",
      " Bird 2 LL\n",
      "TST as % of recording time: \t \t 0.14937611408199644\n",
      "TST including Unclear epochs as sleep: \t 0.17118243712658052\n"
     ]
    }
   ],
   "source": [
    "TSTstats(birdToRun)"
   ]
  },
  {
   "cell_type": "markdown",
   "metadata": {},
   "source": [
    "## Bird 3"
   ]
  },
  {
   "cell_type": "code",
   "execution_count": 44,
   "metadata": {},
   "outputs": [],
   "source": [
    "birdToRun = 'Bird 3'\n",
    "b = int(birdToRun[5]) - 1\n",
    "birdToRunID = b"
   ]
  },
  {
   "cell_type": "code",
   "execution_count": 45,
   "metadata": {},
   "outputs": [
    {
     "name": "stderr",
     "output_type": "stream",
     "text": [
      "/Users/svcanavan/anaconda3/lib/python3.7/site-packages/pandas/core/indexing.py:205: SettingWithCopyWarning: \n",
      "A value is trying to be set on a copy of a slice from a DataFrame\n",
      "\n",
      "See the caveats in the documentation: http://pandas.pydata.org/pandas-docs/stable/user_guide/indexing.html#returning-a-view-versus-a-copy\n",
      "  self._setitem_with_indexer(indexer, value)\n"
     ]
    },
    {
     "data": {
      "image/png": "[encoded data removed]",
      "text/plain": [
       "<Figure size 612x345.6 with 2 Axes>"
      ]
     },
     "metadata": {},
     "output_type": "display_data"
    }
   ],
   "source": [
    "plt.figure(figsize=(8.5, 12*(2/5)))\n",
    "\n",
    "axis_color = [.8,.8,.8]\n",
    "with plt.rc_context({'axes.edgecolor': axis_color}):  # set color of plot outline\n",
    "    plt.subplot(2,1,1)\n",
    "    PlotFig(birdToRun, AllScores, plot_xlabels=False, full_stagelabels=True, \n",
    "            colors=colors_video, stages=stagesVideo)\n",
    "    plt.ylabel('LD', fontsize=18)\n",
    "    \n",
    "    plt.subplot(2,1,2)\n",
    "    PlotFig(birdToRun, AllScores_LL, plot_lightsonoff=False, full_stagelabels=True, \n",
    "            shade_nighttime=False, colors=colors_video, stages=stagesVideo)\n",
    "    plt.ylabel('LL', fontsize=18)\n",
    "\n",
    "    plt.suptitle(birdToRun)\n",
    "    plt.tight_layout()\n",
    "    \n",
    "if savePlots:\n",
    "    name = './Fig S4/' + saveAsName + 'S4b_video_hypnograms_LL_vs_LD_' + birdToRun\n",
    "    plt.savefig(name + '.tiff', dpi=300)"
   ]
  },
  {
   "cell_type": "code",
   "execution_count": 46,
   "metadata": {
    "scrolled": true
   },
   "outputs": [
    {
     "name": "stdout",
     "output_type": "stream",
     "text": [
      " Bird 3 LD\n",
      "TST as % of recording time: \t \t 0.49246611645339594\n",
      "TST including Unclear epochs as sleep: \t 0.5410004450987776\n",
      "TST based on PSG: \t \t \t 0.4453726846303968\n",
      "\n",
      " Bird 3 LL\n",
      "TST as % of recording time: \t \t 0.25935092550632693\n",
      "TST including Unclear epochs as sleep: \t 0.25935092550632693\n"
     ]
    }
   ],
   "source": [
    "TSTstats(birdToRun)"
   ]
  },
  {
   "cell_type": "markdown",
   "metadata": {},
   "source": [
    "## Bird 4"
   ]
  },
  {
   "cell_type": "code",
   "execution_count": 47,
   "metadata": {},
   "outputs": [],
   "source": [
    "birdToRun = 'Bird 4'\n",
    "b = int(birdToRun[5]) - 1\n",
    "birdToRunID = b"
   ]
  },
  {
   "cell_type": "code",
   "execution_count": 48,
   "metadata": {},
   "outputs": [
    {
     "name": "stderr",
     "output_type": "stream",
     "text": [
      "/Users/svcanavan/anaconda3/lib/python3.7/site-packages/pandas/core/indexing.py:205: SettingWithCopyWarning: \n",
      "A value is trying to be set on a copy of a slice from a DataFrame\n",
      "\n",
      "See the caveats in the documentation: http://pandas.pydata.org/pandas-docs/stable/user_guide/indexing.html#returning-a-view-versus-a-copy\n",
      "  self._setitem_with_indexer(indexer, value)\n"
     ]
    },
    {
     "data": {
      "image/png": "[encoded data removed]",
      "text/plain": [
       "<Figure size 612x345.6 with 2 Axes>"
      ]
     },
     "metadata": {},
     "output_type": "display_data"
    }
   ],
   "source": [
    "plt.figure(figsize=(8.5, 12*(2/5)))\n",
    "\n",
    "axis_color = [.8,.8,.8]\n",
    "with plt.rc_context({'axes.edgecolor': axis_color}):  # set color of plot outline\n",
    "    plt.subplot(2,1,1)\n",
    "    PlotFig(birdToRun, AllScores, plot_xlabels=False, full_stagelabels=True, \n",
    "            colors=colors_video, stages=stagesVideo)\n",
    "    plt.ylabel('LD', fontsize=18)\n",
    "    \n",
    "    plt.subplot(2,1,2)\n",
    "    PlotFig(birdToRun, AllScores_LL, plot_lightsonoff=False, full_stagelabels=True, \n",
    "            shade_nighttime=False, colors=colors_video, stages=stagesVideo)\n",
    "    plt.ylabel('LL', fontsize=18)\n",
    "\n",
    "    plt.suptitle(birdToRun)\n",
    "    plt.tight_layout()\n",
    "    \n",
    "if savePlots:\n",
    "    name = './Fig S4/' + saveAsName + 'S4c_video_hypnograms_LL_vs_LD_' + birdToRun\n",
    "    plt.savefig(name + '.tiff', dpi=300)"
   ]
  },
  {
   "cell_type": "code",
   "execution_count": 49,
   "metadata": {
    "scrolled": true
   },
   "outputs": [
    {
     "name": "stdout",
     "output_type": "stream",
     "text": [
      " Bird 4 LD\n",
      "TST as % of recording time: \t \t 0.5588883987648875\n",
      "TST including Unclear epochs as sleep: \t 0.5833043961386207\n",
      "TST based on PSG: \t \t \t 0.5279533300923676\n",
      "\n",
      " Bird 4 LL\n",
      "TST as % of recording time: \t \t 0.38966105827846864\n",
      "TST including Unclear epochs as sleep: \t 0.38966105827846864\n"
     ]
    }
   ],
   "source": [
    "TSTstats(birdToRun)"
   ]
  },
  {
   "cell_type": "code",
   "execution_count": null,
   "metadata": {},
   "outputs": [],
   "source": []
  }
 ],
 "metadata": {
  "kernelspec": {
   "display_name": "Python 3",
   "language": "python",
   "name": "python3"
  },
  "language_info": {
   "codemirror_mode": {
    "name": "ipython",
    "version": 3
   },
   "file_extension": ".py",
   "mimetype": "text/x-python",
   "name": "python",
   "nbconvert_exporter": "python",
   "pygments_lexer": "ipython3",
   "version": "3.7.4"
  },
  "toc": {
   "base_numbering": 1,
   "nav_menu": {},
   "number_sections": true,
   "sideBar": true,
   "skip_h1_title": false,
   "title_cell": "Table of Contents",
   "title_sidebar": "Contents",
   "toc_cell": false,
   "toc_position": {
    "height": "calc(100% - 180px)",
    "left": "10px",
    "top": "150px",
    "width": "288px"
   },
   "toc_section_display": true,
   "toc_window_display": true
  }
 },
 "nbformat": 4,
 "nbformat_minor": 1
}
