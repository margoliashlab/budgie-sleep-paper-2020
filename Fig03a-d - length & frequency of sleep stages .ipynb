{
 "cells": [
  {
   "cell_type": "markdown",
   "metadata": {},
   "source": [
    "# Setup"
   ]
  },
  {
   "cell_type": "code",
   "execution_count": 108,
   "metadata": {},
   "outputs": [],
   "source": [
    "%matplotlib inline\n",
    "\n",
    "import numpy as np\n",
    "import scipy.signal as sig\n",
    "import scipy.stats as stat\n",
    "import matplotlib.pyplot as plt\n",
    "import seaborn as sns\n",
    "import os\n",
    "import h5py\n",
    "import datetime\n",
    "import pandas as pd\n",
    "\n",
    "from pandas import DataFrame,Series,read_table"
   ]
  },
  {
   "cell_type": "markdown",
   "metadata": {},
   "source": [
    "General info"
   ]
  },
  {
   "cell_type": "code",
   "execution_count": 109,
   "metadata": {},
   "outputs": [],
   "source": [
    "savePlots = True    # whether or not to save plots\n",
    "saveData = True # whether or not to save csv files\n",
    "\n",
    "saveAsPath = './Fig 03/'\n",
    "if not os.path.exists(saveAsPath):\n",
    "    os.mkdir(saveAsPath)\n",
    "saveAsName = 'Fig3'"
   ]
  },
  {
   "cell_type": "code",
   "execution_count": 110,
   "metadata": {},
   "outputs": [],
   "source": [
    "#path = '/Users/svcanavan/Dropbox/Coding in progress/00_BudgieSleep/Data_copies/'\n",
    "\n",
    "birdPaths =    ['../data_copies/01_PreprocessedData/01_BudgieFemale_green1/00_Baseline_night/',\n",
    "                '../data_copies/01_PreprocessedData/02_BudgieMale_yellow1/00_Baseline_night/',\n",
    "                '../data_copies/01_PreprocessedData/03_BudgieFemale_white1/00_Baseline_night/',\n",
    "                '../data_copies/01_PreprocessedData/04_BudgieMale_yellow2/00_Baseline_night/',\n",
    "                '../data_copies/01_PreprocessedData/05_BudgieFemale_green2/00_Baseline_night/']\n",
    "\n",
    "arfFilePaths =  ['EEG 2 scored/',\n",
    "                 'EEG 3 scored/',\n",
    "                 'EEG 3 scored/',\n",
    "                 'EEG 4 scored/',\n",
    "                 'EEG 4 scored/']\n",
    "\n",
    "### load BEST EEG channels - as determined during manual scoring ####\n",
    "channelsToLoadEEG_best = [['6 LEEGm-LEEGp', '5 LEEGf-LEEGp'], #, '9 REEGp-LEEGp'], # extra channel to represent R hemisphere\n",
    "                     ['5 LEEGf-LEEGm', '4 LEEGf-Fgr'], #, '9 REEGf-REEGm'], # extra channel to represent R hemisphere\n",
    "                     ['9REEGm-REEGp', '4LEEGf-LEEGp'], \n",
    "                     ['6LEEGm-LEEGf', '9REEGf-REEGp'], \n",
    "                     ['7REEGf-REEGp', '4LEEGf-LEEGp']]\n",
    "\n",
    "\n",
    "### load ALL of EEG channels ####\n",
    "channelsToLoadEEG = [['4 LEEGf-Fgr', '5 LEEGf-LEEGp', '6 LEEGm-LEEGp', '7 LEEGp-Fgr', '8 REEGp-Fgr','9 REEGp-LEEGp'],\n",
    "                     ['4 LEEGf-Fgr','5 LEEGf-LEEGm', '6 LEEGm-LEEGp', '7 REEGf-Fgr', '8 REEGm-Fgr', '9 REEGf-REEGm'],\n",
    "                     ['4LEEGf-LEEGp', '5LEEGf-LEEGm', '6LEEGm-LEEGp', '7REEGf-REEGp', '8REEGf-REEGm', '9REEGm-REEGp'],\n",
    "                     ['4LEEGf-LEEGp', '5LEEGm-LEEGp', '6LEEGm-LEEGf', '7REEGf-Fgr', '8REEGf-REEGm','9REEGf-REEGp',],\n",
    "                     ['4LEEGf-LEEGp', '5LEEGf-LEEGm', '6LEEGm-LEEGp', '7REEGf-REEGp', '8REEGf-REEGm', '9REEGm-REEGp']]\n",
    "\n",
    "\n",
    "channelsToLoadEOG = [['1 LEOG-Fgr', '2 REOG-Fgr'],\n",
    "                     ['2 LEOG-Fgr', '3 REOG-Fgr'],\n",
    "                     ['2LEOG-Fgr', '3REOG-Fgr'],\n",
    "                     ['2LEOG-Fgr', '3REOG-Fgr'],\n",
    "                     ['2LEOG-Fgr', '3REOG-Fgr']]\n",
    "\n",
    "birds_LL = [1,2,3]\n",
    "nBirds_LL = len(birds_LL)\n",
    "\n",
    "birdPaths_LL = ['../data_copies/01_PreprocessedData/02_BudgieMale_yellow1/01_Constant_light/',\n",
    "                '../data_copies/01_PreprocessedData/03_BudgieFemale_white1/01_Constant_light/',\n",
    "                '../data_copies/01_PreprocessedData/04_BudgieMale_yellow2/01_Constant_light/',]\n",
    "\n",
    "arfFilePaths_LL =  ['EEG 2 preprocessed/',\n",
    "                    'EEG 2 preprocessed/',\n",
    "                    'EEG 2 preprocessed/']\n",
    "\n",
    "lightsOffSec = np.array([7947, 9675, 9861 + 8*3600, 9873, 13467])  # lights off times in seconds from beginning of file\n",
    "lightsOnSec = np.array([46449, 48168, 48375+ 8*3600, 48381, 52005]) # Bird 3 gets 8 hours added b/c file starts at 8:00 instead of 16:00\n",
    "\n",
    "epochLength = 3\n",
    "sr = 200\n",
    "scalingFactor = (2**15)*0.195       # scaling/conversion factor from amplitude to uV (when recording arf from jrecord)\n",
    "\n",
    "stages = ['w','d','u','i','s','r'] # wake, drowsy, unihem sleep, intermediate sleep, SWS, REM\n",
    "stagesSleep =    ['u','i','s','r']\n",
    "\n",
    "stagesVideo = ['m','q','d','s','u'] # moving wake, quiet wake, drowsy, sleep, unclear\n",
    "\n",
    "## Path to scores formatted as CSVs\n",
    "formatted_scores_path = '../formatted_scores/'\n",
    "\n",
    "## Path to detect SW ands EM events: use folder w/ EMs and EM artifacts detected during non-sleep\n",
    "events_path = '../data_copies/SWs_EMs_and_EMartifacts/'"
   ]
  },
  {
   "cell_type": "code",
   "execution_count": 111,
   "metadata": {},
   "outputs": [
    {
     "data": {
      "image/png": "[encoded data removed]",
      "text/plain": [
       "<Figure size 432x72 with 1 Axes>"
      ]
     },
     "metadata": {
      "needs_background": "light"
     },
     "output_type": "display_data"
    }
   ],
   "source": [
    "colors = sns.color_palette(np.array([[234,103,99],\n",
    "[218,142,60],\n",
    "[174,174,62],\n",
    "[97,188,101],\n",
    "[140,133,232],\n",
    "[225,113,190]])\n",
    "/255)\n",
    "\n",
    "sns.palplot(colors)\n",
    "\n",
    "# colorpalette from iWantHue"
   ]
  },
  {
   "cell_type": "code",
   "execution_count": 112,
   "metadata": {},
   "outputs": [
    {
     "data": {
      "image/png": "[encoded data removed]",
      "text/plain": [
       "<Figure size 360x72 with 1 Axes>"
      ]
     },
     "metadata": {
      "needs_background": "light"
     },
     "output_type": "display_data"
    }
   ],
   "source": [
    "colors_birds = [np.repeat(.4, 3),\n",
    "                np.repeat(.5, 3),\n",
    "                np.repeat(.6, 3),\n",
    "                np.repeat(.7, 3),\n",
    "                np.repeat(.8, 3)]\n",
    "\n",
    "sns.palplot(colors_birds)\n"
   ]
  },
  {
   "cell_type": "markdown",
   "metadata": {},
   "source": [
    "Plot-specific info"
   ]
  },
  {
   "cell_type": "code",
   "execution_count": 113,
   "metadata": {},
   "outputs": [],
   "source": [
    "sns.set_context(\"notebook\", font_scale=1.5)\n",
    "sns.set_style(\"white\")\n",
    "\n",
    "# Markers for legends of EEG scoring colors\n",
    "legendMarkersEEG = []\n",
    "for stage in range(len(stages)):\n",
    "    legendMarkersEEG.append(plt.Line2D([0],[0], color=colors[stage], marker='o', linestyle='', alpha=0.7))  "
   ]
  },
  {
   "cell_type": "markdown",
   "metadata": {},
   "source": [
    "Calculate general variables"
   ]
  },
  {
   "cell_type": "code",
   "execution_count": 114,
   "metadata": {},
   "outputs": [],
   "source": [
    "lightsOffEp = lightsOffSec / epochLength\n",
    "lightsOnEp = lightsOnSec / epochLength\n",
    "\n",
    "nBirds = len(birdPaths)\n",
    "\n",
    "epochLengthPts = epochLength*sr\n",
    "\n",
    "nStages = len(stagesSleep)"
   ]
  },
  {
   "cell_type": "markdown",
   "metadata": {},
   "source": [
    "## LEGEND: bird colors"
   ]
  },
  {
   "cell_type": "code",
   "execution_count": 115,
   "metadata": {},
   "outputs": [
    {
     "data": {
      "image/png": "[encoded data removed]",
      "text/plain": [
       "<Figure size 432x288 with 1 Axes>"
      ]
     },
     "metadata": {},
     "output_type": "display_data"
    }
   ],
   "source": [
    "# Markers for bird colors\n",
    "legendMarkers_birds = []\n",
    "for b in range(nBirds):\n",
    "    legendMarkers_birds.append(plt.Line2D([0],[0], marker='o', color=colors_birds[b], linestyle='', alpha=0.7))  \n",
    "plt.legend(legendMarkers_birds, ['Bird 1', 'Bird 2', 'Bird 3', 'Bird 4', 'Bird 5'])\n",
    "sns.despine(bottom=True, left=True)\n",
    "plt.yticks([])\n",
    "plt.xticks([])\n",
    "\n",
    "\n",
    "if savePlots:\n",
    "        plt.savefig(saveAsPath + saveAsName + \"a-d_bird_color_legend.pdf\")"
   ]
  },
  {
   "cell_type": "markdown",
   "metadata": {},
   "source": [
    "## Load formatted scores"
   ]
  },
  {
   "cell_type": "code",
   "execution_count": 116,
   "metadata": {},
   "outputs": [],
   "source": [
    "AllScores = {}\n",
    "for b in range(nBirds):\n",
    "    bird_name = 'Bird ' + str(b+1)\n",
    "    file = formatted_scores_path + 'All_scores_' + bird_name + '.csv'\n",
    "    data = pd.read_csv(file, index_col=0)\n",
    "    AllScores[bird_name] = data"
   ]
  },
  {
   "cell_type": "markdown",
   "metadata": {},
   "source": [
    "## Calculate lights off in Zeitgeber time (s and hrs)\n",
    "Lights on is 0 "
   ]
  },
  {
   "cell_type": "code",
   "execution_count": 117,
   "metadata": {},
   "outputs": [],
   "source": [
    "lightsOffDatetime = np.array([], dtype='datetime64')\n",
    "lightsOnDatetime = np.array([], dtype='datetime64')\n",
    "\n",
    "for b_num in range(nBirds):\n",
    "    b_name = 'Bird ' + str(b_num+1)\n",
    "    Scores = AllScores[b_name]\n",
    "    startDatetime = np.datetime64(Scores.index.values[0])\n",
    "\n",
    "    # Calc lights off & on using datetime formats\n",
    "    lightsOffTimedelta = lightsOffSec[b_num].astype('timedelta64[s]')\n",
    "    lightsOffDatetime = np.append(lightsOffDatetime, startDatetime + lightsOffTimedelta)\n",
    "    lightsOnTimedelta = lightsOnSec[b_num].astype('timedelta64[s]')\n",
    "    lightsOnDatetime = np.append(lightsOnDatetime, startDatetime + lightsOnTimedelta)"
   ]
  },
  {
   "cell_type": "code",
   "execution_count": 118,
   "metadata": {},
   "outputs": [],
   "source": [
    "lightsOffZeit_s = lightsOffSec - lightsOnSec\n",
    "lightsOffZeit_hr = lightsOffZeit_s / 3600"
   ]
  },
  {
   "cell_type": "markdown",
   "metadata": {},
   "source": [
    "# With all sleep stages separately"
   ]
  },
  {
   "cell_type": "markdown",
   "metadata": {},
   "source": [
    "## Merge continuous epochs of the same stage, same length & start time"
   ]
  },
  {
   "cell_type": "code",
   "execution_count": 119,
   "metadata": {},
   "outputs": [
    {
     "name": "stderr",
     "output_type": "stream",
     "text": [
      "/Users/svcanavan/anaconda3/lib/python3.7/site-packages/pandas/core/indexes/base.py:346: FutureWarning: Passing in 'datetime64' dtype with no precision is deprecated\n",
      "and will raise in a future version. Please pass in\n",
      "'datetime64[ns]' instead.\n",
      "  data, copy=copy, name=name, dtype=dtype, **kwargs\n",
      "/Users/svcanavan/anaconda3/lib/python3.7/site-packages/pandas/core/frame.py:7123: FutureWarning: Sorting because non-concatenation axis is not aligned. A future version\n",
      "of pandas will change to not sort by default.\n",
      "\n",
      "To accept the future behavior, pass 'sort=False'.\n",
      "\n",
      "To retain the current behavior and silence the warning, pass 'sort=True'.\n",
      "\n",
      "  sort=sort,\n"
     ]
    }
   ],
   "source": [
    "ScoresMerged = {}\n",
    "\n",
    "for key in AllScores.keys():\n",
    "\n",
    "    scores = AllScores[key]\n",
    "    \n",
    "    # add a \"stop\" column\n",
    "    scores['Stop (s)'] = scores['Time (s)'] + epochLength\n",
    "    \n",
    "    original_end_s = scores['Stop (s)'].iloc[-1]\n",
    "    \n",
    "    # add a dummy row wherever there is a gap between epochs\n",
    "    gaps = np.where(scores['Stop (s)'] != scores['Time (s)'].shift(-1))[0]\n",
    "    gaps = gaps[0:-1] # don't include the last row of the file as a gap\n",
    "    gap_datetimes = scores.iloc[gaps].index.astype('datetime64') + np.timedelta64(3, 's')\n",
    "\n",
    "    lines = pd.DataFrame({'Time (s)': scores['Stop (s)'].iloc[gaps].values,\n",
    "                          'Stop (s)': scores['Time (s)'].iloc[gaps+1].values,\n",
    "                          'Label': 'gap'}, index=gap_datetimes.astype('str'))\n",
    "    scores = scores.append(lines, ignore_index=False)\n",
    "    scores = scores.sort_index()\n",
    "    \n",
    "    # add a datetime column\n",
    "    scores['datetime'] = scores.index\n",
    "                \n",
    "    # add a column to keep track of consecutive epochs of the same stage\n",
    "    scores['episode #'] = (scores['Label'] != scores['Label'].shift(1)).astype(int).cumsum()\n",
    "        # don't worry about the gaps where the video recording restarted\n",
    "        # if the behavior is the same before and after the gap, count it as a continuous episode\n",
    "        # if you want to split episodes where the gap occurs, add:\n",
    "        #     (scores['Stop (s)'] == scores['Time (s)'].shift(-1))\n",
    "    \n",
    "    # combine all epochs of the same episode # and use the values from the first epoch of that episode\n",
    "    merged_scores = scores.groupby(scores['episode #'], sort=False).aggregate('first')\n",
    "    \n",
    "    # calculate length of each episode\n",
    "    lengths = merged_scores['Time (s)'].shift(-1) - merged_scores['Time (s)']\n",
    "    lengths.iloc[-1] = original_end_s - merged_scores['Time (s)'].iloc[-1]\n",
    "    \n",
    "    merged_scores['Length (s)'] = lengths\n",
    "    \n",
    "    # set index back to datetime\n",
    "    merged_scores.index = merged_scores['datetime']\n",
    "    \n",
    "    gap_rows =merged_scores[merged_scores['Label']=='gap'].index\n",
    "    merged_scores = merged_scores.drop(gap_rows)\n",
    "    \n",
    "    ScoresMerged[key] = merged_scores"
   ]
  },
  {
   "cell_type": "code",
   "execution_count": 120,
   "metadata": {},
   "outputs": [
    {
     "name": "stdout",
     "output_type": "stream",
     "text": [
      "23.905833333333334\n",
      "23.905833333333334\n"
     ]
    }
   ],
   "source": [
    "# Check lengths\n",
    "print(len(AllScores['Bird 5']) * epochLength/3600) # original\n",
    "\n",
    "print(ScoresMerged['Bird 5']['Length (s)'].sum()/3600) # merged\n"
   ]
  },
  {
   "cell_type": "markdown",
   "metadata": {},
   "source": [
    "### Save to csv"
   ]
  },
  {
   "cell_type": "code",
   "execution_count": 121,
   "metadata": {},
   "outputs": [],
   "source": [
    "if saveData:\n",
    "    for b in range(nBirds):\n",
    "\n",
    "        b_name = 'Bird ' + str(b+1)\n",
    "\n",
    "        scores = ScoresMerged[b_name]\n",
    "        scores.to_csv(saveAsPath + saveAsName + '_scores_merged_' + b_name + '.csv')"
   ]
  },
  {
   "cell_type": "markdown",
   "metadata": {},
   "source": [
    "## Frequency of episodes of each stage per bin"
   ]
  },
  {
   "cell_type": "code",
   "execution_count": 122,
   "metadata": {},
   "outputs": [],
   "source": [
    "binSize_min = 60\n",
    "\n",
    "binSize_s = np.timedelta64(int(binSize_min*60), 's')\n",
    "\n",
    "stageProportions_whole_night_all = {}\n",
    "\n",
    "for b in range(nBirds):\n",
    "    nBins = int(np.ceil(np.min(lightsOnSec - lightsOffSec)/(60*binSize_min)))\n",
    "\n",
    "    stageProportions = DataFrame([], columns=range(len(stages)))\n",
    "\n",
    "    b_name = 'Bird ' + str(b+1)\n",
    "    Scores = ScoresMerged[b_name]\n",
    "\n",
    "    for bn in range(nBins):\n",
    "\n",
    "        start_time = str(lightsOffDatetime[b] + bn*binSize_s).replace('T', ' ')\n",
    "        end_time   = str(lightsOffDatetime[b] + (bn+1)*binSize_s).replace('T', ' ')\n",
    "\n",
    "        bn_scores = Scores[str(start_time):str(end_time)]\n",
    "        bn_stage_frequencies = bn_scores['Label (#)'].value_counts(sort=False)\n",
    "                \n",
    "        stageProportions = stageProportions.append(bn_stage_frequencies, ignore_index=True)\n",
    "    \n",
    "    # Replace NaNs with 0\n",
    "    stageProportions = stageProportions.fillna(0)\n",
    "\n",
    "    # Add to dictionary\n",
    "    stageProportions_whole_night_all[b] = stageProportions\n",
    "    "
   ]
  },
  {
   "cell_type": "markdown",
   "metadata": {},
   "source": [
    "### Save to csv"
   ]
  },
  {
   "cell_type": "code",
   "execution_count": 123,
   "metadata": {},
   "outputs": [],
   "source": [
    "if saveData:\n",
    "    for b in range(nBirds):\n",
    "        b_name = 'Bird ' + str(b+1)\n",
    "\n",
    "        stageProportions = stageProportions_whole_night_all[b]\n",
    "        stageProportions.to_csv(saveAsPath + saveAsName + 'c_stage_frequencies_' + b_name + '.csv')"
   ]
  },
  {
   "cell_type": "markdown",
   "metadata": {},
   "source": [
    "### FIGURE 3C: Plot"
   ]
  },
  {
   "cell_type": "code",
   "execution_count": 124,
   "metadata": {},
   "outputs": [],
   "source": [
    "figsize = (8,6)\n",
    "axis_label_fontsize = 24\n",
    "\n",
    "# Line formatting\n",
    "linewidth = 5\n",
    "linealpha = .7\n",
    "marker = 'o'\n",
    "markersize = 10\n",
    "err_capsize = 3\n",
    "err_capthick = 3\n",
    "elinewidth = 3\n",
    "\n",
    "# Bar formatting\n",
    "bar_linewidth = 4"
   ]
  },
  {
   "cell_type": "code",
   "execution_count": 125,
   "metadata": {},
   "outputs": [
    {
     "name": "stdout",
     "output_type": "stream",
     "text": [
      "i : mean 164.6727272727273, SD 25.31027949142175\n",
      "s : mean 102.9090909090909, SD 26.014172869469537\n",
      "r : mean 79.98181818181817, SD 10.878502570750175\n"
     ]
    },
    {
     "data": {
      "image/png": "[encoded data removed]",
      "text/plain": [
       "<Figure size 576x432 with 1 Axes>"
      ]
     },
     "metadata": {},
     "output_type": "display_data"
    }
   ],
   "source": [
    "plt.figure(figsize=figsize)\n",
    "\n",
    "bird_means_by_stage = pd.DataFrame([])\n",
    "All_per_bin_means = pd.DataFrame([])\n",
    "\n",
    "for st in range(len(stages[3:6])):\n",
    "\n",
    "    st_freqs = np.zeros((nBins, nBirds))\n",
    "    bird_means = np.zeros(nBirds)\n",
    "    for b in range(nBirds):\n",
    "\n",
    "        stageProportions = stageProportions_whole_night_all[b]\n",
    "\n",
    "        st_freqs[:,b] = stageProportions[st+3]\n",
    "        \n",
    "        bird_means[b] = np.mean(stageProportions[st+3])\n",
    "\n",
    "    nighttime_mean = np.mean(st_freqs)\n",
    "    per_bin_mean = np.mean(st_freqs, axis=1)\n",
    "    per_bin_sd = np.std(st_freqs, axis=1)\n",
    "    per_bin_sem = per_bin_sd / np.sqrt(nBirds)\n",
    "        \n",
    "    # save to dataframe\n",
    "    All_per_bin_means[st+3] = per_bin_mean\n",
    "\n",
    "    plt.errorbar(range(nBins), per_bin_mean, yerr=per_bin_sem,\n",
    "                color=colors[3:6][st], linewidth=linewidth, alpha=linealpha,\n",
    "                marker=marker, markersize=markersize,\n",
    "                capsize=err_capsize, capthick=err_capthick, elinewidth=elinewidth);\n",
    "    \n",
    "    # Dots marking nighttime mean of each bird\n",
    "    plt.scatter(np.ones(nBirds)*(nBins+2+(st*2)), bird_means, 50, color=colors[3:6][st]);\n",
    "    \n",
    "    # Bar graph of mean across all birds\n",
    "    plt.bar(nBins+2+(st*2), np.mean(bird_means), width=2, color='none',edgecolor=colors[3:6][st], linewidth=bar_linewidth);\n",
    "    \n",
    "    print(stages[3:6][st] + ' : mean ' + str(np.mean(bird_means)) + ', SD ' + str(np.std(bird_means)))\n",
    "    bird_means_by_stage[stages[3:6][st]] = bird_means\n",
    "    \n",
    "# Dots color coded by bird\n",
    "for b in range(nBirds):\n",
    "    plt.scatter(nBins+(np.arange(0,3)*2)+2, \n",
    "             bird_means_by_stage.loc[b], 50, color=colors_birds[b], alpha=.5)\n",
    "    \n",
    "    \n",
    "plt.ylim(0,225)\n",
    "plt.xlim(-.5,19)\n",
    "\n",
    "# x tick labels: label each bar of the bar graph separately\n",
    "c = (0,0,0)\n",
    "plt.xticks([0,2,4,6,8,10,13,15,17], [0,2,4,6,8,10, 'IS', 'SWS','REM']);\n",
    "ax = plt.gca()\n",
    "[t.set_color(i) for (i,t) in zip([c,c,c,c,c,c,colors[3],colors[4],colors[5]],ax.xaxis.get_ticklabels())]\n",
    "\n",
    "plt.ylabel('Number of episodes / hour', fontsize=axis_label_fontsize)\n",
    "plt.xlabel('Hour of night                       Total', fontsize=axis_label_fontsize)\n",
    " \n",
    "sns.despine()\n",
    "    \n",
    "if savePlots:\n",
    "        plt.savefig(saveAsPath + saveAsName + \"c_frequencies.pdf\")"
   ]
  },
  {
   "cell_type": "markdown",
   "metadata": {},
   "source": [
    "### FIGURE 3C: STATISTICS"
   ]
  },
  {
   "cell_type": "code",
   "execution_count": 126,
   "metadata": {},
   "outputs": [
    {
     "data": {
      "text/plain": [
       "F_onewayResult(statistic=16.0382292261499, pvalue=0.0004072370909314963)"
      ]
     },
     "execution_count": 126,
     "metadata": {},
     "output_type": "execute_result"
    }
   ],
   "source": [
    "# One-way ANOVA: mean frequencies\n",
    "stat.f_oneway(bird_means_by_stage['i'],bird_means_by_stage['s'], bird_means_by_stage['r'])"
   ]
  },
  {
   "cell_type": "code",
   "execution_count": 127,
   "metadata": {},
   "outputs": [
    {
     "data": {
      "text/plain": [
       "Ttest_relResult(statistic=7.310015257613437, pvalue=0.001862726905038296)"
      ]
     },
     "execution_count": 127,
     "metadata": {},
     "output_type": "execute_result"
    }
   ],
   "source": [
    "# Mean frequencies: IS vs REM\n",
    "stat.ttest_rel(bird_means_by_stage['i'], bird_means_by_stage['r'])"
   ]
  },
  {
   "cell_type": "code",
   "execution_count": 128,
   "metadata": {},
   "outputs": [
    {
     "data": {
      "text/plain": [
       "Ttest_relResult(statistic=1.5431170521473294, pvalue=0.19767370570831563)"
      ]
     },
     "execution_count": 128,
     "metadata": {},
     "output_type": "execute_result"
    }
   ],
   "source": [
    "# Mean frequencies: SWS vs REM\n",
    "stat.ttest_rel(bird_means_by_stage['s'], bird_means_by_stage['r'])"
   ]
  },
  {
   "cell_type": "code",
   "execution_count": 131,
   "metadata": {},
   "outputs": [
    {
     "data": {
      "text/plain": [
       "Ttest_relResult(statistic=7.712212936328445, pvalue=0.001521457587853904)"
      ]
     },
     "execution_count": 131,
     "metadata": {},
     "output_type": "execute_result"
    }
   ],
   "source": [
    "# Mean frequencies: IS vs SWS\n",
    "stat.ttest_rel(bird_means_by_stage['i'], bird_means_by_stage['s'])"
   ]
  },
  {
   "cell_type": "code",
   "execution_count": 76,
   "metadata": {},
   "outputs": [
    {
     "name": "stdout",
     "output_type": "stream",
     "text": [
      "slope = -0.0018181818181822317 , r2 = 4.207263250987887e-08 , p = 0.9995224466780807\n"
     ]
    }
   ],
   "source": [
    "# IS: regression with hour of night\n",
    "test = All_per_bin_means[3]\n",
    "\n",
    "slope, intercept, r_value, p_value, std_err = stat.linregress(test.index.values, test.values)\n",
    "print('slope =', slope, ', r2 =', r_value**2, ', p =', p_value)"
   ]
  },
  {
   "cell_type": "code",
   "execution_count": 135,
   "metadata": {},
   "outputs": [
    {
     "name": "stdout",
     "output_type": "stream",
     "text": [
      "slope = -4.900606060606061 , r2 = 0.732465049967923 , p = 0.0015818264642422173\n"
     ]
    }
   ],
   "source": [
    "# IS: regression with hour of night\n",
    "test = All_per_bin_means[3][1:] # FIRST HOUR OMITTED\n",
    "\n",
    "slope, intercept, r_value, p_value, std_err = stat.linregress(test.index.values, test.values)\n",
    "print('slope =', slope, ', r2 =', r_value**2, ', p =', p_value)"
   ]
  },
  {
   "cell_type": "code",
   "execution_count": 77,
   "metadata": {},
   "outputs": [
    {
     "name": "stdout",
     "output_type": "stream",
     "text": [
      "slope = -3.6327272727272715 , r2 = 0.1726966520589901 , p = 0.20369015541009844\n"
     ]
    }
   ],
   "source": [
    "# SWS: regression with hour of night\n",
    "test = All_per_bin_means[4]\n",
    "\n",
    "slope, intercept, r_value, p_value, std_err = stat.linregress(test.index.values, test.values)\n",
    "print('slope =', slope, ', r2 =', r_value**2, ', p =', p_value)"
   ]
  },
  {
   "cell_type": "code",
   "execution_count": 134,
   "metadata": {},
   "outputs": [
    {
     "name": "stdout",
     "output_type": "stream",
     "text": [
      "slope = -7.664242424242423 , r2 = 0.7528924210890774 , p = 0.0011392692535196122\n"
     ]
    }
   ],
   "source": [
    "# SWS: regression with hour of night\n",
    "test = All_per_bin_means[4][1:] # FIRST HOUR OMITTED\n",
    "\n",
    "slope, intercept, r_value, p_value, std_err = stat.linregress(test.index.values, test.values)\n",
    "print('slope =', slope, ', r2 =', r_value**2, ', p =', p_value)"
   ]
  },
  {
   "cell_type": "code",
   "execution_count": 78,
   "metadata": {},
   "outputs": [
    {
     "name": "stdout",
     "output_type": "stream",
     "text": [
      "slope = 3.698181818181817 , r2 = 0.2252302847909687 , p = 0.14022155928550747\n"
     ]
    }
   ],
   "source": [
    "# REM: regression with hour of night\n",
    "test = All_per_bin_means[5]\n",
    "\n",
    "slope, intercept, r_value, p_value, std_err = stat.linregress(test.index.values, test.values)\n",
    "print('slope =', slope, ', r2 =', r_value**2, ', p =', p_value)"
   ]
  },
  {
   "cell_type": "code",
   "execution_count": 133,
   "metadata": {},
   "outputs": [
    {
     "name": "stdout",
     "output_type": "stream",
     "text": [
      "slope = 0.838787878787878 , r2 = 0.022897306014779267 , p = 0.6764663179233157\n"
     ]
    }
   ],
   "source": [
    "# REM: regression with hour of night\n",
    "test = All_per_bin_means[5][1:] # FIRST HOUR OMITTED\n",
    "\n",
    "slope, intercept, r_value, p_value, std_err = stat.linregress(test.index.values, test.values)\n",
    "print('slope =', slope, ', r2 =', r_value**2, ', p =', p_value)"
   ]
  },
  {
   "cell_type": "code",
   "execution_count": null,
   "metadata": {},
   "outputs": [],
   "source": []
  },
  {
   "cell_type": "markdown",
   "metadata": {},
   "source": [
    "## Duration of episodes of each stage per bin"
   ]
  },
  {
   "cell_type": "code",
   "execution_count": 79,
   "metadata": {},
   "outputs": [],
   "source": [
    "binSize_min = 60\n",
    "\n",
    "binSize_s = np.timedelta64(int(binSize_min*60), 's')\n",
    "\n",
    "stageProportions_whole_night_all = {}\n",
    "\n",
    "for b in range(nBirds):\n",
    "    nBins = int(np.ceil(np.min(lightsOnSec - lightsOffSec)/(60*binSize_min)))\n",
    "\n",
    "    stageProportions = DataFrame([], columns=range(len(stages)))\n",
    "\n",
    "    b_name = 'Bird ' + str(b+1)\n",
    "    Scores = ScoresMerged[b_name]\n",
    "\n",
    "    for bn in range(nBins):\n",
    "\n",
    "        start_time = str(lightsOffDatetime[b] + bn*binSize_s).replace('T', ' ')\n",
    "        end_time   = str(lightsOffDatetime[b] + (bn+1)*binSize_s).replace('T', ' ')\n",
    "\n",
    "        bn_scores = Scores[start_time:end_time]\n",
    "        \n",
    "        bn_stage_lengths = np.array([])\n",
    "        for st in range(len(stages)):\n",
    "            bn_st_episodes = bn_scores[bn_scores['Label (#)'] == st]\n",
    "            if len(bn_st_episodes) > 0:\n",
    "                bn_avg_length = bn_st_episodes['Length (s)'].mean(0)\n",
    "            else:\n",
    "                bn_avg_length = np.nan\n",
    "            bn_stage_lengths = np.append(bn_stage_lengths, bn_avg_length)\n",
    "                        \n",
    "        stageProportions.loc[bn] = bn_stage_lengths\n",
    "\n",
    "    # Add to dictionary\n",
    "    stageProportions_whole_night_all[b] = stageProportions\n",
    "    "
   ]
  },
  {
   "cell_type": "markdown",
   "metadata": {},
   "source": [
    "### FIGURE 3A: Plot"
   ]
  },
  {
   "cell_type": "code",
   "execution_count": 80,
   "metadata": {
    "scrolled": true
   },
   "outputs": [
    {
     "name": "stdout",
     "output_type": "stream",
     "text": [
      "i : mean 9.246904631604412, SD 1.250965921913051\n",
      "s : mean 5.134153837328954, SD 0.789065355060224\n",
      "r : mean 11.26150728060531, SD 5.060989008212911\n"
     ]
    },
    {
     "data": {
      "image/png": "[encoded data removed]",
      "text/plain": [
       "<Figure size 576x432 with 1 Axes>"
      ]
     },
     "metadata": {},
     "output_type": "display_data"
    }
   ],
   "source": [
    "plt.figure(figsize=figsize)\n",
    "\n",
    "bird_means_by_stage = pd.DataFrame([]) # init\n",
    "All_per_bin_means = pd.DataFrame([])\n",
    "\n",
    "for st in range(len(stages[3:6])):\n",
    "\n",
    "    st_lengths = np.zeros((nBins, nBirds))\n",
    "    bird_means = np.zeros(nBirds)\n",
    "    for b in range(nBirds):\n",
    "\n",
    "        stageProportions = stageProportions_whole_night_all[b]\n",
    "\n",
    "        st_lengths[:,b] = stageProportions[st+3]\n",
    "        \n",
    "        bird_means[b] = np.mean(stageProportions[st+3])\n",
    "\n",
    "    nighttime_mean = np.mean(st_lengths)\n",
    "    per_bin_mean = np.mean(st_lengths, axis=1)\n",
    "    per_bin_sd = np.std(st_lengths, axis=1)\n",
    "    per_bin_sem = per_bin_sd / np.sqrt(nBirds)\n",
    "    \n",
    "    # save to dataframe\n",
    "    All_per_bin_means[st+3] = per_bin_mean\n",
    "\n",
    "    plt.errorbar(range(nBins), per_bin_mean, yerr=per_bin_sem, color=colors[3:6][st],\n",
    "                linewidth=linewidth, alpha=linealpha,\n",
    "                marker=marker, markersize=markersize,\n",
    "                capsize=err_capsize, capthick=err_capthick, elinewidth=elinewidth);\n",
    "    \n",
    "    # Dots marking nighttime mean of each bird\n",
    "    plt.scatter(np.ones(nBirds)*(nBins+(st*2)+2), bird_means, 50, color=colors[3:6][st]);\n",
    "    \n",
    "    # Bar graph of mean across all birds\n",
    "    plt.bar(nBins+(st*2)+2, np.mean(bird_means), width=2, color='none',edgecolor=colors[3:6][st], linewidth=bar_linewidth);\n",
    "    \n",
    "    print(stages[3:6][st] + ' : mean ' + str(np.mean(bird_means)) + ', SD ' + str(np.std(bird_means)))\n",
    "    bird_means_by_stage[stages[3:6][st]] = bird_means\n",
    "    \n",
    "# Dots color coded by bird\n",
    "for b in range(nBirds):\n",
    "    plt.scatter(nBins+(np.arange(0,3)*2)+2, \n",
    "             bird_means_by_stage.loc[b], 50, color=colors_birds[b], alpha=.5)\n",
    "\n",
    "plt.ylim(0,25)\n",
    "plt.xlim(-.5,19)\n",
    "\n",
    "# x tick labels: label each bar of the bar graph separately\n",
    "c = (0,0,0)\n",
    "plt.xticks([0,2,4,6,8,10,13,15,17], [0,2,4,6,8,10,'IS', 'SWS','REM']);\n",
    "ax = plt.gca()\n",
    "[t.set_color(i) for (i,t) in zip([c,c,c,c,c,c,colors[3],colors[4],colors[5]],ax.xaxis.get_ticklabels())]\n",
    "\n",
    "plt.ylabel('Mean duration of episodes (s)', fontsize=axis_label_fontsize)\n",
    "plt.xlabel('Hour of night                       Total', fontsize=axis_label_fontsize)\n",
    "\n",
    "sns.despine()\n",
    "\n",
    "if savePlots:\n",
    "        plt.savefig(saveAsPath + saveAsName + \"a_durations.pdf\")"
   ]
  },
  {
   "cell_type": "markdown",
   "metadata": {},
   "source": [
    "### FIGURE 3A STATISTICS"
   ]
  },
  {
   "cell_type": "code",
   "execution_count": 81,
   "metadata": {},
   "outputs": [
    {
     "data": {
      "text/plain": [
       "F_onewayResult(statistic=4.2097398101399115, pvalue=0.04119262379369538)"
      ]
     },
     "execution_count": 81,
     "metadata": {},
     "output_type": "execute_result"
    }
   ],
   "source": [
    "# One-way ANOVA: mean durations\n",
    "stat.f_oneway(bird_means_by_stage['i'],bird_means_by_stage['s'], bird_means_by_stage['r'])"
   ]
  },
  {
   "cell_type": "code",
   "execution_count": 82,
   "metadata": {},
   "outputs": [
    {
     "data": {
      "text/plain": [
       "Ttest_relResult(statistic=-0.6888103350245784, pvalue=0.5288140987173507)"
      ]
     },
     "execution_count": 82,
     "metadata": {},
     "output_type": "execute_result"
    }
   ],
   "source": [
    "# Mean durations: IS vs REM\n",
    "stat.ttest_rel(bird_means_by_stage['i'], bird_means_by_stage['r'])"
   ]
  },
  {
   "cell_type": "code",
   "execution_count": 83,
   "metadata": {},
   "outputs": [
    {
     "data": {
      "text/plain": [
       "Ttest_relResult(statistic=-2.588750873524876, pvalue=0.060763871462579035)"
      ]
     },
     "execution_count": 83,
     "metadata": {},
     "output_type": "execute_result"
    }
   ],
   "source": [
    "# Mean durations: SWS vs REM\n",
    "stat.ttest_rel(bird_means_by_stage['s'], bird_means_by_stage['r'])"
   ]
  },
  {
   "cell_type": "code",
   "execution_count": 84,
   "metadata": {},
   "outputs": [
    {
     "data": {
      "text/plain": [
       "Ttest_relResult(statistic=-4.671468568868213, pvalue=0.00950790817839959)"
      ]
     },
     "execution_count": 84,
     "metadata": {},
     "output_type": "execute_result"
    }
   ],
   "source": [
    "# Mean durations: SWS vs IS\n",
    "stat.ttest_rel(bird_means_by_stage['s'], bird_means_by_stage['i'])"
   ]
  },
  {
   "cell_type": "code",
   "execution_count": 85,
   "metadata": {},
   "outputs": [
    {
     "name": "stdout",
     "output_type": "stream",
     "text": [
      "slope = 0.3606111319295407 , r2 = 0.6813777712756139 , p = 0.0017529352370463235\n"
     ]
    }
   ],
   "source": [
    "# IS: regression with hour of night\n",
    "test = All_per_bin_means[3]\n",
    "\n",
    "slope, intercept, r_value, p_value, std_err = stat.linregress(test.index.values, test.values)\n",
    "print('slope =', slope, ', r2 =', r_value**2, ', p =', p_value)"
   ]
  },
  {
   "cell_type": "code",
   "execution_count": 86,
   "metadata": {},
   "outputs": [
    {
     "name": "stdout",
     "output_type": "stream",
     "text": [
      "slope = -0.24056236891664864 , r2 = 0.7080237477666089 , p = 0.0011658502864583798\n"
     ]
    }
   ],
   "source": [
    "# SWS: regression with hour of night\n",
    "test = All_per_bin_means[4]\n",
    "\n",
    "slope, intercept, r_value, p_value, std_err = stat.linregress(test.index.values, test.values)\n",
    "print('slope =', slope, ', r2 =', r_value**2, ', p =', p_value)"
   ]
  },
  {
   "cell_type": "code",
   "execution_count": 87,
   "metadata": {},
   "outputs": [
    {
     "name": "stdout",
     "output_type": "stream",
     "text": [
      "slope = 0.8017961761027387 , r2 = 0.7649437977969713 , p = 0.00042632071896564987\n"
     ]
    }
   ],
   "source": [
    "# REM: regression with hour of night\n",
    "test = All_per_bin_means[5]\n",
    "\n",
    "slope, intercept, r_value, p_value, std_err = stat.linregress(test.index.values, test.values)\n",
    "print('slope =', slope, ', r2 =', r_value**2, ', p =', p_value)"
   ]
  },
  {
   "cell_type": "markdown",
   "metadata": {},
   "source": [
    "## Save as csv"
   ]
  },
  {
   "cell_type": "code",
   "execution_count": 88,
   "metadata": {},
   "outputs": [],
   "source": [
    "if saveData:\n",
    "    for b in range(nBirds):\n",
    "        b_name = 'Bird ' + str(b+1)\n",
    "\n",
    "        stageProportions = stageProportions_whole_night_all[b]\n",
    "        stageProportions.to_csv(saveAsPath + saveAsName + 'a_stage_durations_' + b_name + '.csv')"
   ]
  },
  {
   "cell_type": "markdown",
   "metadata": {
    "collapsed": true
   },
   "source": [
    "# With NREM stages lumped"
   ]
  },
  {
   "cell_type": "code",
   "execution_count": 89,
   "metadata": {},
   "outputs": [],
   "source": [
    "# THIS NOTEBOOK ONLY:\n",
    "stages = ['w','d','u', 'n', 'n','r'] # wake, drowsy, unihem sleep, NREM, REM\n",
    "stagesSleep =    ['u','n', 'n','r']"
   ]
  },
  {
   "cell_type": "code",
   "execution_count": 90,
   "metadata": {},
   "outputs": [
    {
     "data": {
      "image/png": "[encoded data removed]",
      "text/plain": [
       "<Figure size 432x72 with 1 Axes>"
      ]
     },
     "metadata": {},
     "output_type": "display_data"
    }
   ],
   "source": [
    "# THIS NOTEBOOK ONLY - LUMP NREM:\n",
    "NREM_color = np.median(np.array([[97,188,101],\n",
    "[140,133,232]]),axis=0)\n",
    "\n",
    "colors = sns.color_palette(np.array([[234,103,99],\n",
    "[218,142,60],\n",
    "[174,174,62],\n",
    "NREM_color,\n",
    "NREM_color,                                     \n",
    "[225,113,190]])\n",
    "/255)\n",
    "\n",
    "sns.palplot(colors)\n",
    "\n",
    "# colorpalette from iWantHue"
   ]
  },
  {
   "cell_type": "markdown",
   "metadata": {},
   "source": [
    "## Reload formatted scores and replace IS and SWS with just \"NREM\""
   ]
  },
  {
   "cell_type": "code",
   "execution_count": 91,
   "metadata": {},
   "outputs": [],
   "source": [
    "AllScores = {}\n",
    "for b in range(nBirds):\n",
    "    bird_name = 'Bird ' + str(b+1)\n",
    "    file = formatted_scores_path + 'All_scores_' + bird_name + '.csv'\n",
    "    data = pd.read_csv(file, index_col=0)\n",
    "    \n",
    "    labels = data['Label'].replace(to_replace=np.nan, value='u').values\n",
    "    label_nums = data['Label (#)'].values\n",
    "    indsNREM = [x for x in range(int(len(labels))) if ('i' in labels[x])|('s' in labels[x])]\n",
    "    for ind in indsNREM:\n",
    "        labels[ind] = 'n' \n",
    "        label_nums[ind] = 4\n",
    "    data['Label'] = labels\n",
    "    data['Label (#)'] = label_nums\n",
    "    \n",
    "    AllScores[bird_name] = data"
   ]
  },
  {
   "cell_type": "markdown",
   "metadata": {},
   "source": [
    "## Calculate lights off in Zeitgeber time (s and hrs)\n",
    "Lights on is 0 "
   ]
  },
  {
   "cell_type": "code",
   "execution_count": 92,
   "metadata": {},
   "outputs": [],
   "source": [
    "lightsOffDatetime = np.array([], dtype='datetime64')\n",
    "lightsOnDatetime = np.array([], dtype='datetime64')\n",
    "\n",
    "for b_num in range(nBirds):\n",
    "    b_name = 'Bird ' + str(b_num+1)\n",
    "    Scores = AllScores[b_name]\n",
    "    startDatetime = np.datetime64(Scores.index.values[0])\n",
    "\n",
    "    # Calc lights off & on using datetime formats\n",
    "    lightsOffTimedelta = lightsOffSec[b_num].astype('timedelta64[s]')\n",
    "    lightsOffDatetime = np.append(lightsOffDatetime, startDatetime + lightsOffTimedelta)\n",
    "    lightsOnTimedelta = lightsOnSec[b_num].astype('timedelta64[s]')\n",
    "    lightsOnDatetime = np.append(lightsOnDatetime, startDatetime + lightsOnTimedelta)"
   ]
  },
  {
   "cell_type": "code",
   "execution_count": 93,
   "metadata": {},
   "outputs": [],
   "source": [
    "lightsOffZeit_s = lightsOffSec - lightsOnSec\n",
    "lightsOffZeit_hr = lightsOffZeit_s / 3600"
   ]
  },
  {
   "cell_type": "markdown",
   "metadata": {},
   "source": [
    "## Merge continuous epochs of the same stage, same length & start time"
   ]
  },
  {
   "cell_type": "code",
   "execution_count": 94,
   "metadata": {},
   "outputs": [
    {
     "name": "stderr",
     "output_type": "stream",
     "text": [
      "/Users/svcanavan/anaconda3/lib/python3.7/site-packages/pandas/core/indexes/base.py:346: FutureWarning: Passing in 'datetime64' dtype with no precision is deprecated\n",
      "and will raise in a future version. Please pass in\n",
      "'datetime64[ns]' instead.\n",
      "  data, copy=copy, name=name, dtype=dtype, **kwargs\n",
      "/Users/svcanavan/anaconda3/lib/python3.7/site-packages/pandas/core/frame.py:7123: FutureWarning: Sorting because non-concatenation axis is not aligned. A future version\n",
      "of pandas will change to not sort by default.\n",
      "\n",
      "To accept the future behavior, pass 'sort=False'.\n",
      "\n",
      "To retain the current behavior and silence the warning, pass 'sort=True'.\n",
      "\n",
      "  sort=sort,\n"
     ]
    }
   ],
   "source": [
    "ScoresMerged = {}\n",
    "\n",
    "for key in AllScores.keys():\n",
    "\n",
    "    scores = AllScores[key]\n",
    "    \n",
    "    # add a \"stop\" column\n",
    "    scores['Stop (s)'] = scores['Time (s)'] + epochLength\n",
    "    \n",
    "    original_end_s = scores['Stop (s)'].iloc[-1]\n",
    "    \n",
    "    # add a dummy row wherever there is a gap between epochs\n",
    "    gaps = np.where(scores['Stop (s)'] != scores['Time (s)'].shift(-1))[0]\n",
    "    gaps = gaps[0:-1] # don't include the last row of the file as a gap\n",
    "    gap_datetimes = scores.iloc[gaps].index.astype('datetime64') + np.timedelta64(3, 's')\n",
    "\n",
    "    lines = pd.DataFrame({'Time (s)': scores['Stop (s)'].iloc[gaps].values,\n",
    "                          'Stop (s)': scores['Time (s)'].iloc[gaps+1].values,\n",
    "                          'Label': 'gap'}, index=gap_datetimes.astype('str'))\n",
    "    scores = scores.append(lines, ignore_index=False)\n",
    "    scores = scores.sort_index()\n",
    "    \n",
    "    # add a datetime column\n",
    "    scores['datetime'] = scores.index\n",
    "                \n",
    "    # add a column to keep track of consecutive epochs of the same stage\n",
    "    scores['episode #'] = (scores['Label'] != scores['Label'].shift(1)).astype(int).cumsum()\n",
    "        # don't worry about the gaps where the video recording restarted\n",
    "        # if the behavior is the same before and after the gap, count it as a continuous episode\n",
    "        # if you want to split episodes where the gap occurs, add:\n",
    "        #     (scores['Stop (s)'] == scores['Time (s)'].shift(-1))\n",
    "    \n",
    "    # combine all epochs of the same episode # and use the values from the first epoch of that episode\n",
    "    merged_scores = scores.groupby(scores['episode #'], sort=False).aggregate('first')\n",
    "    \n",
    "    # calculate length of each episode\n",
    "    lengths = merged_scores['Time (s)'].shift(-1) - merged_scores['Time (s)']\n",
    "    lengths.iloc[-1] = original_end_s - merged_scores['Time (s)'].iloc[-1]\n",
    "    \n",
    "    merged_scores['Length (s)'] = lengths\n",
    "    \n",
    "    # set index back to datetime\n",
    "    merged_scores.index = merged_scores['datetime']\n",
    "    \n",
    "    gap_rows =merged_scores[merged_scores['Label']=='gap'].index\n",
    "    merged_scores = merged_scores.drop(gap_rows)\n",
    "    \n",
    "    ScoresMerged[key] = merged_scores"
   ]
  },
  {
   "cell_type": "code",
   "execution_count": 95,
   "metadata": {},
   "outputs": [
    {
     "name": "stdout",
     "output_type": "stream",
     "text": [
      "23.905833333333334\n",
      "23.905833333333334\n"
     ]
    }
   ],
   "source": [
    "# Check lengths\n",
    "print(len(AllScores['Bird 5']) * epochLength/3600) # original\n",
    "\n",
    "print(ScoresMerged['Bird 5']['Length (s)'].sum()/3600) # merged\n"
   ]
  },
  {
   "cell_type": "markdown",
   "metadata": {},
   "source": [
    "## Frequency of episodes of each stage per bin"
   ]
  },
  {
   "cell_type": "code",
   "execution_count": 96,
   "metadata": {},
   "outputs": [],
   "source": [
    "binSize_min = 60\n",
    "\n",
    "binSize_s = np.timedelta64(int(binSize_min*60), 's')\n",
    "\n",
    "stageProportions_whole_night_all = {}\n",
    "\n",
    "\n",
    "for b in range(nBirds):\n",
    "    nBins = int(np.ceil(np.min(lightsOnSec - lightsOffSec)/(60*binSize_min)))\n",
    "\n",
    "    stageProportions = DataFrame([], columns=range(len(stages)))\n",
    "\n",
    "    b_name = 'Bird ' + str(b+1)\n",
    "    Scores = ScoresMerged[b_name]\n",
    "\n",
    "    for bn in range(nBins):\n",
    "\n",
    "        start_time = str(lightsOffDatetime[b] + bn*binSize_s).replace('T', ' ')\n",
    "        end_time   = str(lightsOffDatetime[b] + (bn+1)*binSize_s).replace('T', ' ')\n",
    "\n",
    "        bn_scores = Scores[str(start_time):str(end_time)]\n",
    "        bn_stage_frequencies = bn_scores['Label (#)'].value_counts(sort=False)\n",
    "                \n",
    "        stageProportions = stageProportions.append(bn_stage_frequencies, ignore_index=True)\n",
    "    \n",
    "    # Replace NaNs with 0\n",
    "    stageProportions = stageProportions.fillna(0)\n",
    "\n",
    "    # Add to dictionary\n",
    "    stageProportions_whole_night_all[b] = stageProportions\n",
    "    "
   ]
  },
  {
   "cell_type": "markdown",
   "metadata": {},
   "source": [
    "### save to csv"
   ]
  },
  {
   "cell_type": "code",
   "execution_count": 97,
   "metadata": {},
   "outputs": [],
   "source": [
    "if saveData:\n",
    "    for b in range(nBirds):\n",
    "        b_name = 'Bird ' + str(b+1)\n",
    "\n",
    "        stageProportions = stageProportions_whole_night_all[b]\n",
    "        stageProportions.to_csv(saveAsPath + saveAsName + 'd_NREM_lumped_stage_frequencies_' + b_name + '.csv')"
   ]
  },
  {
   "cell_type": "markdown",
   "metadata": {},
   "source": [
    "### FIGURE  3D Plot"
   ]
  },
  {
   "cell_type": "code",
   "execution_count": 98,
   "metadata": {},
   "outputs": [],
   "source": [
    "figsize = (8,6)\n",
    "axis_label_fontsize = 24\n",
    "\n",
    "# Line formatting\n",
    "linewidth = 5\n",
    "linealpha = .7\n",
    "marker = 'o'\n",
    "markersize = 10\n",
    "err_capsize = 3\n",
    "err_capthick = 3\n",
    "elinewidth = 3\n",
    "\n",
    "# Bar formatting\n",
    "bar_linewidth = 4"
   ]
  },
  {
   "cell_type": "code",
   "execution_count": 99,
   "metadata": {},
   "outputs": [
    {
     "name": "stdout",
     "output_type": "stream",
     "text": [
      "n : mean 90.14545454545456, SD 7.945808188510155\n",
      "r : mean 79.98181818181817, SD 10.878502570750175\n"
     ]
    },
    {
     "data": {
      "image/png": "[encoded data removed]",
      "text/plain": [
       "<Figure size 576x432 with 1 Axes>"
      ]
     },
     "metadata": {},
     "output_type": "display_data"
    }
   ],
   "source": [
    "plt.figure(figsize=figsize)\n",
    "\n",
    "bird_means_by_stage = pd.DataFrame([])\n",
    "All_per_bin_means = pd.DataFrame([])\n",
    "\n",
    "for st in range(len(stages[4:6])):\n",
    "\n",
    "    st_freqs = np.zeros((nBins, nBirds))\n",
    "    bird_means = np.zeros(nBirds)\n",
    "    for b in range(nBirds):\n",
    "\n",
    "        stageProportions = stageProportions_whole_night_all[b]\n",
    "\n",
    "        st_freqs[:,b] = stageProportions[st+4]\n",
    "        \n",
    "        bird_means[b] = np.mean(stageProportions[st+4])\n",
    "\n",
    "    nighttime_mean = np.mean(st_freqs)\n",
    "    per_bin_mean = np.mean(st_freqs, axis=1)\n",
    "    per_bin_sd = np.std(st_freqs, axis=1)\n",
    "    per_bin_sem = per_bin_sd / np.sqrt(nBirds)\n",
    "    \n",
    "    # save to dataframe\n",
    "    All_per_bin_means[st+4] = per_bin_mean\n",
    "\n",
    "    plt.errorbar(range(nBins), per_bin_mean, yerr=per_bin_sem,\n",
    "                color=colors[4:6][st], linewidth=linewidth, alpha=linealpha,\n",
    "                marker=marker, markersize=markersize,\n",
    "                capsize=err_capsize, capthick=err_capthick, elinewidth=elinewidth);\n",
    "    \n",
    "    # Dots marking nighttime mean of each bird\n",
    "    plt.scatter(np.ones(nBirds)*(nBins+2+(st*2)), bird_means, 50, color=colors[4:6][st]);\n",
    "    \n",
    "    # Bar graph of mean across all birds\n",
    "    plt.bar(nBins+2+(st*2), np.mean(bird_means), width=2, color='none',edgecolor=colors[4:6][st], linewidth=bar_linewidth);\n",
    "    \n",
    "    print(stages[4:6][st] + ' : mean ' + str(np.mean(bird_means)) + ', SD ' + str(np.std(bird_means)))\n",
    "    bird_means_by_stage[stages[4:6][st]] = bird_means\n",
    "\n",
    "    \n",
    "# Dots color coded by bird\n",
    "for b in range(nBirds):\n",
    "    plt.scatter(nBins+(np.arange(0,2)*2)+2, \n",
    "                bird_means_by_stage.loc[b], 50, color=colors_birds[b], alpha=.5)\n",
    "    \n",
    "plt.ylim(0,150)\n",
    "plt.xlim(-.5,19)\n",
    "\n",
    "# x tick labels: label each bar of the bar graph separately\n",
    "c = (0,0,0)\n",
    "plt.xticks([0,2,4,6,8,10,13,15], [0,2,4,6,8,10,'nonREM','REM']);\n",
    "ax = plt.gca()\n",
    "[t.set_color(i) for (i,t) in zip([c,c,c,c,c,c,colors[4],colors[5]],ax.xaxis.get_ticklabels())]\n",
    "\n",
    "plt.ylabel('Number of episodes / hour', fontsize=axis_label_fontsize)\n",
    "plt.xlabel('Hour of night                       Total', fontsize=axis_label_fontsize)\n",
    "\n",
    "sns.despine()\n",
    "\n",
    "if savePlots:\n",
    "        plt.savefig(saveAsPath + saveAsName + \"d_NREM_lumped_frequencies.pdf\")"
   ]
  },
  {
   "cell_type": "markdown",
   "metadata": {},
   "source": [
    "### FIGURE 3D: STATISTICS"
   ]
  },
  {
   "cell_type": "code",
   "execution_count": 100,
   "metadata": {},
   "outputs": [
    {
     "data": {
      "text/plain": [
       "Ttest_relResult(statistic=4.148315915311524, pvalue=0.014279779796079617)"
      ]
     },
     "execution_count": 100,
     "metadata": {},
     "output_type": "execute_result"
    }
   ],
   "source": [
    "# Mean frequencies: NREM vs REM\n",
    "stat.ttest_rel(bird_means_by_stage['n'], bird_means_by_stage['r'])"
   ]
  },
  {
   "cell_type": "code",
   "execution_count": 101,
   "metadata": {},
   "outputs": [
    {
     "name": "stdout",
     "output_type": "stream",
     "text": [
      "slope = 2.3854545454545453 , r2 = 0.21350373835948772 , p = 0.15247522575946523\n"
     ]
    }
   ],
   "source": [
    "# NREM: regression with hour of night\n",
    "test = All_per_bin_means[4]\n",
    "\n",
    "slope, intercept, r_value, p_value, std_err = stat.linregress(test.index.values, test.values)\n",
    "print('slope =', slope, ', r2 =', r_value**2, ', p =', p_value)"
   ]
  },
  {
   "cell_type": "markdown",
   "metadata": {},
   "source": [
    "## Duration of episodes of each stage per bin"
   ]
  },
  {
   "cell_type": "code",
   "execution_count": 102,
   "metadata": {},
   "outputs": [],
   "source": [
    "binSize_min = 60\n",
    "\n",
    "binSize_s = np.timedelta64(int(binSize_min*60), 's')\n",
    "\n",
    "stageProportions_whole_night_all = {}\n",
    "\n",
    "for b in range(nBirds):\n",
    "    nBins = int(np.ceil(np.min(lightsOnSec - lightsOffSec)/(60*binSize_min)))\n",
    "\n",
    "    stageProportions = DataFrame([], columns=range(len(stages)))\n",
    "\n",
    "    b_name = 'Bird ' + str(b+1)\n",
    "    Scores = ScoresMerged[b_name]\n",
    "\n",
    "    for bn in range(nBins):\n",
    "\n",
    "        start_time = str(lightsOffDatetime[b] + bn*binSize_s).replace('T', ' ')\n",
    "        end_time   = str(lightsOffDatetime[b] + (bn+1)*binSize_s).replace('T', ' ')\n",
    "\n",
    "        bn_scores = Scores[start_time:end_time]\n",
    "        \n",
    "        bn_stage_lengths = np.array([])\n",
    "        for st in range(len(stages)):\n",
    "            bn_st_episodes = bn_scores[bn_scores['Label (#)'] == st]\n",
    "            if len(bn_st_episodes) > 0:\n",
    "                bn_avg_length = bn_st_episodes['Length (s)'].mean(0)\n",
    "            else:\n",
    "                bn_avg_length = np.nan\n",
    "            bn_stage_lengths = np.append(bn_stage_lengths, bn_avg_length)\n",
    "                        \n",
    "        stageProportions.loc[bn] = bn_stage_lengths\n",
    "\n",
    "    # Add to dictionary\n",
    "    stageProportions_whole_night_all[b] = stageProportions\n",
    "    "
   ]
  },
  {
   "cell_type": "markdown",
   "metadata": {},
   "source": [
    "### FIGURE 3B: Plot"
   ]
  },
  {
   "cell_type": "code",
   "execution_count": 103,
   "metadata": {
    "scrolled": false
   },
   "outputs": [
    {
     "name": "stdout",
     "output_type": "stream",
     "text": [
      "n : mean 25.059823683308498, SD 6.556666048684886\n",
      "r : mean 11.26150728060531, SD 5.060989008212911\n"
     ]
    },
    {
     "data": {
      "image/png": "[encoded data removed]",
      "text/plain": [
       "<Figure size 576x432 with 1 Axes>"
      ]
     },
     "metadata": {},
     "output_type": "display_data"
    }
   ],
   "source": [
    "plt.figure(figsize=figsize)\n",
    "\n",
    "bird_means_by_stage = pd.DataFrame([])\n",
    "All_per_bin_means = pd.DataFrame([])\n",
    "\n",
    "for st in range(len(stages[4:6])):\n",
    "\n",
    "    st_lengths = np.zeros((nBins, nBirds))\n",
    "    bird_means = np.zeros(nBirds)\n",
    "    for b in range(nBirds):\n",
    "\n",
    "        stageProportions = stageProportions_whole_night_all[b]\n",
    "\n",
    "        st_lengths[:,b] = stageProportions[st+4]\n",
    "        \n",
    "        bird_means[b] = np.mean(stageProportions[st+4])\n",
    "\n",
    "    nighttime_mean = np.mean(st_lengths)\n",
    "    per_bin_mean = np.mean(st_lengths, axis=1)\n",
    "    per_bin_sd = np.std(st_lengths, axis=1)\n",
    "    per_bin_sem = per_bin_sd / np.sqrt(nBirds)\n",
    "\n",
    "    # save to dataframe\n",
    "    All_per_bin_means[st+4] = per_bin_mean\n",
    "    \n",
    "    plt.errorbar(range(nBins), per_bin_mean, yerr=per_bin_sem, color=colors[4:6][st],\n",
    "                linewidth=linewidth, alpha=linealpha,\n",
    "                marker=marker, markersize=markersize,\n",
    "                capsize=err_capsize, capthick=err_capthick, elinewidth=elinewidth);\n",
    "    \n",
    "    # Dots marking nighttime mean of each bird\n",
    "    plt.scatter(np.ones(nBirds)*(nBins+(st*2)+2), bird_means, 50, color=colors[4:6][st]);\n",
    "    \n",
    "    # Bar graph of mean across all birds\n",
    "    plt.bar(nBins+(st*2)+2, np.mean(bird_means), width=2, color='none',edgecolor=colors[4:6][st], linewidth=bar_linewidth);\n",
    "    \n",
    "    print(stages[4:6][st] + ' : mean ' + str(np.mean(bird_means)) + ', SD ' + str(np.std(bird_means)))\n",
    "    bird_means_by_stage[stages[4:6][st]] = bird_means\n",
    "    \n",
    "# Dots color coded by bird\n",
    "for b in range(nBirds):\n",
    "    plt.scatter(nBins+(np.arange(0,2)*2)+2, \n",
    "                bird_means_by_stage.loc[b], 50, color=colors_birds[b], alpha=.5)\n",
    "    \n",
    "    \n",
    "plt.ylim(0,60)\n",
    "plt.xlim(-.5,19)\n",
    "\n",
    "# x tick labels: label each bar of the bar graph separately\n",
    "c = (0,0,0)\n",
    "plt.xticks([0,2,4,6,8,10,13,15], [0,2,4,6,8,10,'nonREM','REM']);\n",
    "ax = plt.gca()\n",
    "[t.set_color(i) for (i,t) in zip([c,c,c,c,c,c,colors[4],colors[5]],ax.xaxis.get_ticklabels())]\n",
    "\n",
    "plt.ylabel('Mean duration of episodes (s)', fontsize=axis_label_fontsize)\n",
    "plt.xlabel('Hour of night                       Total', fontsize=axis_label_fontsize)\n",
    "\n",
    "sns.despine()\n",
    "\n",
    "if savePlots:\n",
    "        plt.savefig(saveAsPath + saveAsName + \"b_NREM_lumped_durations.pdf\")\n",
    "        "
   ]
  },
  {
   "cell_type": "markdown",
   "metadata": {},
   "source": [
    "### FIGURE 3B STATISTICS"
   ]
  },
  {
   "cell_type": "code",
   "execution_count": 104,
   "metadata": {},
   "outputs": [
    {
     "data": {
      "text/plain": [
       "Ttest_relResult(statistic=2.5713006034303616, pvalue=0.06189362132781688)"
      ]
     },
     "execution_count": 104,
     "metadata": {},
     "output_type": "execute_result"
    }
   ],
   "source": [
    "# Mean durations: NREM vs REM\n",
    "stat.ttest_rel(bird_means_by_stage['n'], bird_means_by_stage['r'])"
   ]
  },
  {
   "cell_type": "code",
   "execution_count": 105,
   "metadata": {},
   "outputs": [
    {
     "name": "stdout",
     "output_type": "stream",
     "text": [
      "slope = -1.0748672504921193 , r2 = 0.3375036895087704 , p = 0.060896633283737865\n"
     ]
    }
   ],
   "source": [
    "# NREM: regression with hour of night\n",
    "test = All_per_bin_means[4]\n",
    "\n",
    "slope, intercept, r_value, p_value, std_err = stat.linregress(test.index.values, test.values)\n",
    "print('slope =', slope, ', r2 =', r_value**2, ', p =', p_value)"
   ]
  },
  {
   "cell_type": "code",
   "execution_count": 106,
   "metadata": {},
   "outputs": [
    {
     "name": "stdout",
     "output_type": "stream",
     "text": [
      "slope = -1.3562427985389598 , r2 = 0.4045730640042001 , p = 0.04805153416194467\n"
     ]
    }
   ],
   "source": [
    "# NREM: regression with hour of night\n",
    "test = All_per_bin_means[4][1:] # ONLY SIGNIFICANT IF FIRST HOUR OMITTED\n",
    "\n",
    "slope, intercept, r_value, p_value, std_err = stat.linregress(test.index.values, test.values)\n",
    "print('slope =', slope, ', r2 =', r_value**2, ', p =', p_value)"
   ]
  },
  {
   "cell_type": "markdown",
   "metadata": {},
   "source": [
    "## Save as csv"
   ]
  },
  {
   "cell_type": "code",
   "execution_count": 107,
   "metadata": {},
   "outputs": [],
   "source": [
    "if saveData:\n",
    "    for b in range(nBirds):\n",
    "        b_name = 'Bird ' + str(b+1)\n",
    "\n",
    "        stageProportions = stageProportions_whole_night_all[b]\n",
    "        stageProportions.to_csv(saveAsPath + saveAsName + 'b_NREM_lumped_stage_durations_' + b_name + '.csv')"
   ]
  },
  {
   "cell_type": "code",
   "execution_count": null,
   "metadata": {},
   "outputs": [],
   "source": []
  },
  {
   "cell_type": "code",
   "execution_count": null,
   "metadata": {},
   "outputs": [],
   "source": []
  }
 ],
 "metadata": {
  "kernelspec": {
   "display_name": "Python 3",
   "language": "python",
   "name": "python3"
  },
  "language_info": {
   "codemirror_mode": {
    "name": "ipython",
    "version": 3
   },
   "file_extension": ".py",
   "mimetype": "text/x-python",
   "name": "python",
   "nbconvert_exporter": "python",
   "pygments_lexer": "ipython3",
   "version": "3.7.4"
  },
  "toc": {
   "base_numbering": 1,
   "nav_menu": {},
   "number_sections": true,
   "sideBar": true,
   "skip_h1_title": false,
   "title_cell": "Table of Contents",
   "title_sidebar": "Contents",
   "toc_cell": false,
   "toc_position": {
    "height": "calc(100% - 180px)",
    "left": "10px",
    "top": "150px",
    "width": "298px"
   },
   "toc_section_display": true,
   "toc_window_display": true
  }
 },
 "nbformat": 4,
 "nbformat_minor": 1
}
