{
 "cells": [
  {
   "cell_type": "markdown",
   "metadata": {},
   "source": [
    "# Setup"
   ]
  },
  {
   "cell_type": "code",
   "execution_count": 1,
   "metadata": {},
   "outputs": [],
   "source": [
    "%matplotlib inline\n",
    "\n",
    "import numpy as np\n",
    "import scipy.signal as sig\n",
    "import scipy.stats as stat\n",
    "import matplotlib.pyplot as plt\n",
    "import seaborn as sns\n",
    "import os\n",
    "import h5py\n",
    "import datetime\n",
    "\n",
    "import pandas as pd\n",
    "from pandas import DataFrame,Series,read_table"
   ]
  },
  {
   "cell_type": "markdown",
   "metadata": {},
   "source": [
    "General info"
   ]
  },
  {
   "cell_type": "code",
   "execution_count": 2,
   "metadata": {},
   "outputs": [],
   "source": [
    "savePlots = True    # whether or not to save plots\n",
    "saveData = True # whether or not to save csv files\n",
    "\n",
    "saveAsPath = './Fig 02/'\n",
    "if not os.path.exists(saveAsPath):\n",
    "    os.mkdir(saveAsPath)\n",
    "saveAsName = 'Fig2c_'"
   ]
  },
  {
   "cell_type": "code",
   "execution_count": 3,
   "metadata": {},
   "outputs": [],
   "source": [
    "#path = '/Users/svcanavan/Dropbox/Coding in progress/00_BudgieSleep/Data_copies/'\n",
    "\n",
    "birdPaths =    ['../data_copies/01_PreprocessedData/01_BudgieFemale_green1/00_Baseline_night/',\n",
    "                '../data_copies/01_PreprocessedData/02_BudgieMale_yellow1/00_Baseline_night/',\n",
    "                '../data_copies/01_PreprocessedData/03_BudgieFemale_white1/00_Baseline_night/',\n",
    "                '../data_copies/01_PreprocessedData/04_BudgieMale_yellow2/00_Baseline_night/',\n",
    "                '../data_copies/01_PreprocessedData/05_BudgieFemale_green2/00_Baseline_night/']\n",
    "\n",
    "arfFilePaths =  ['EEG 2 scored/',\n",
    "                 'EEG 3 scored/',\n",
    "                 'EEG 3 scored/',\n",
    "                 'EEG 4 scored/',\n",
    "                 'EEG 4 scored/']\n",
    "\n",
    "### load BEST EEG channels - as determined during manual scoring ####\n",
    "channelsToLoadEEG_best = [['6 LEEGm-LEEGp', '5 LEEGf-LEEGp'], #, '9 REEGp-LEEGp'], # extra channel to represent R hemisphere\n",
    "                     ['5 LEEGf-LEEGm', '4 LEEGf-Fgr'], #, '9 REEGf-REEGm'], # extra channel to represent R hemisphere\n",
    "                     ['9REEGm-REEGp', '4LEEGf-LEEGp'], \n",
    "                     ['6LEEGm-LEEGf', '9REEGf-REEGp'], \n",
    "                     ['7REEGf-REEGp', '4LEEGf-LEEGp']]\n",
    "\n",
    "\n",
    "### load ALL of EEG channels ####\n",
    "channelsToLoadEEG = [['4 LEEGf-Fgr', '5 LEEGf-LEEGp', '6 LEEGm-LEEGp', '7 LEEGp-Fgr', '8 REEGp-Fgr','9 REEGp-LEEGp'],\n",
    "                     ['4 LEEGf-Fgr','5 LEEGf-LEEGm', '6 LEEGm-LEEGp', '7 REEGf-Fgr', '8 REEGm-Fgr', '9 REEGf-REEGm'],\n",
    "                     ['4LEEGf-LEEGp', '5LEEGf-LEEGm', '6LEEGm-LEEGp', '7REEGf-REEGp', '8REEGf-REEGm', '9REEGm-REEGp'],\n",
    "                     ['4LEEGf-LEEGp', '5LEEGm-LEEGp', '6LEEGm-LEEGf', '7REEGf-Fgr', '8REEGf-REEGm','9REEGf-REEGp',],\n",
    "                     ['4LEEGf-LEEGp', '5LEEGf-LEEGm', '6LEEGm-LEEGp', '7REEGf-REEGp', '8REEGf-REEGm', '9REEGm-REEGp']]\n",
    "\n",
    "\n",
    "channelsToLoadEOG = [['1 LEOG-Fgr', '2 REOG-Fgr'],\n",
    "                     ['2 LEOG-Fgr', '3 REOG-Fgr'],\n",
    "                     ['2LEOG-Fgr', '3REOG-Fgr'],\n",
    "                     ['2LEOG-Fgr', '3REOG-Fgr'],\n",
    "                     ['2LEOG-Fgr', '3REOG-Fgr']]\n",
    "\n",
    "birds_LL = [1,2,3]\n",
    "nBirds_LL = len(birds_LL)\n",
    "\n",
    "birdPaths_LL = ['../data_copies/01_PreprocessedData/02_BudgieMale_yellow1/01_Constant_light/',\n",
    "                '../data_copies/01_PreprocessedData/03_BudgieFemale_white1/01_Constant_light/',\n",
    "                '../data_copies/01_PreprocessedData/04_BudgieMale_yellow2/01_Constant_light/',]\n",
    "\n",
    "arfFilePaths_LL =  ['EEG 2 preprocessed/',\n",
    "                    'EEG 2 preprocessed/',\n",
    "                    'EEG 2 preprocessed/']\n",
    "\n",
    "lightsOffSec = np.array([7947, 9675, 9861 + 8*3600, 9873, 13467])  # lights off times in seconds from beginning of file\n",
    "lightsOnSec = np.array([46449, 48168, 48375+ 8*3600, 48381, 52005]) # Bird 3 gets 8 hours added b/c file starts at 8:00 instead of 16:00\n",
    "\n",
    "epochLength = 3\n",
    "sr = 200\n",
    "scalingFactor = (2**15)*0.195       # scaling/conversion factor from amplitude to uV (when recording arf from jrecord)\n",
    "\n",
    "stages = ['w','d','u','i','s','r'] # wake, drowsy, unihem sleep, intermediate sleep, SWS, REM\n",
    "stagesSleep =    ['u','i','s','r']\n",
    "\n",
    "stagesVideo = ['m','q','d','s','u'] # moving wake, quiet wake, drowsy, sleep, unclear\n",
    "\n",
    "## Path to scores formatted as CSVs\n",
    "formatted_scores_path = '../formatted_scores/'\n",
    "\n",
    "## Path to detect SW ands EM events: use folder w/ EMs and EM artifacts detected during non-sleep\n",
    "events_path = '../data_copies/SWs_EMs_and_EMartifacts/'"
   ]
  },
  {
   "cell_type": "code",
   "execution_count": 4,
   "metadata": {},
   "outputs": [
    {
     "data": {
      "image/png": "[encoded data removed]",
      "text/plain": [
       "<Figure size 432x72 with 1 Axes>"
      ]
     },
     "metadata": {
      "needs_background": "light"
     },
     "output_type": "display_data"
    }
   ],
   "source": [
    "colors = sns.color_palette(np.array([[234,103,99],\n",
    "[218,142,60],\n",
    "[174,174,62],\n",
    "[97,188,101],\n",
    "[140,133,232],\n",
    "[225,113,190]])\n",
    "/255)\n",
    "\n",
    "sns.palplot(colors)\n",
    "\n",
    "# colorpalette from iWantHue"
   ]
  },
  {
   "cell_type": "code",
   "execution_count": 5,
   "metadata": {},
   "outputs": [
    {
     "data": {
      "image/png": "[encoded data removed]",
      "text/plain": [
       "<Figure size 360x72 with 1 Axes>"
      ]
     },
     "metadata": {
      "needs_background": "light"
     },
     "output_type": "display_data"
    }
   ],
   "source": [
    "colors_birds = [np.repeat(.4, 3),\n",
    "                np.repeat(.5, 3),\n",
    "                np.repeat(.6, 3),\n",
    "                np.repeat(.7, 3),\n",
    "                np.repeat(.8, 3)]\n",
    "\n",
    "sns.palplot(colors_birds)\n"
   ]
  },
  {
   "cell_type": "markdown",
   "metadata": {},
   "source": [
    "Plot-specific info"
   ]
  },
  {
   "cell_type": "code",
   "execution_count": 6,
   "metadata": {},
   "outputs": [],
   "source": [
    "sns.set_context(\"notebook\", font_scale=1.5)\n",
    "sns.set_style(\"white\")\n",
    "axis_label_fontsize = 24\n",
    "\n",
    "# Markers for legends of EEG scoring colors\n",
    "legendMarkersEEG = []\n",
    "for stage in range(len(stages)):\n",
    "    legendMarkersEEG.append(plt.Line2D([0],[0], color=colors[stage], marker='o', linestyle='', alpha=0.7))  "
   ]
  },
  {
   "cell_type": "markdown",
   "metadata": {},
   "source": [
    "Calculate general variables"
   ]
  },
  {
   "cell_type": "code",
   "execution_count": 7,
   "metadata": {},
   "outputs": [],
   "source": [
    "lightsOffEp = lightsOffSec / epochLength\n",
    "lightsOnEp = lightsOnSec / epochLength\n",
    "\n",
    "nBirds = len(birdPaths)\n",
    "\n",
    "epochLengthPts = epochLength*sr\n",
    "\n",
    "nStages = len(stagesSleep)"
   ]
  },
  {
   "cell_type": "markdown",
   "metadata": {},
   "source": [
    "## LEGEND: bird colors"
   ]
  },
  {
   "cell_type": "code",
   "execution_count": 8,
   "metadata": {},
   "outputs": [
    {
     "data": {
      "image/png": "[encoded data removed]",
      "text/plain": [
       "<Figure size 432x288 with 1 Axes>"
      ]
     },
     "metadata": {},
     "output_type": "display_data"
    }
   ],
   "source": [
    "# Markers for bird colors\n",
    "legendMarkers_birds = []\n",
    "for b in range(nBirds):\n",
    "    legendMarkers_birds.append(plt.Line2D([0],[0], color=colors_birds[b], linewidth=3, alpha=0.7))  \n",
    "plt.legend(legendMarkers_birds, ['Bird 1', 'Bird 2', 'Bird 3', 'Bird 4', 'Bird 5'])\n",
    "sns.despine(bottom=True, left=True)\n",
    "plt.yticks([])\n",
    "plt.xticks([])\n",
    "\n",
    "\n",
    "if savePlots:\n",
    "        plt.savefig(saveAsPath + saveAsName + \"bird_color_legend.pdf\")"
   ]
  },
  {
   "cell_type": "markdown",
   "metadata": {},
   "source": [
    "## Read in files"
   ]
  },
  {
   "cell_type": "markdown",
   "metadata": {},
   "source": [
    "### Load formatted scores"
   ]
  },
  {
   "cell_type": "code",
   "execution_count": 9,
   "metadata": {},
   "outputs": [],
   "source": [
    "AllScores = {}\n",
    "for b in range(nBirds):\n",
    "    bird_name = 'Bird ' + str(b+1)\n",
    "    file = formatted_scores_path + 'All_scores_' + bird_name + '.csv'\n",
    "    data = pd.read_csv(file, index_col=0)\n",
    "    AllScores[bird_name] = data"
   ]
  },
  {
   "cell_type": "markdown",
   "metadata": {},
   "source": [
    "## Calculate lights off in Zeitgeber time (s and hrs)\n",
    "Lights on is 0 "
   ]
  },
  {
   "cell_type": "code",
   "execution_count": 10,
   "metadata": {},
   "outputs": [],
   "source": [
    "lightsOffZeit_s = lightsOffSec - lightsOnSec\n",
    "lightsOffZeit_hr = lightsOffZeit_s / 3600"
   ]
  },
  {
   "cell_type": "markdown",
   "metadata": {},
   "source": [
    "## Set bin size as 1/2 of the night"
   ]
  },
  {
   "cell_type": "code",
   "execution_count": 11,
   "metadata": {},
   "outputs": [],
   "source": [
    "nightLength_hr = np.mean(0 - lightsOffZeit_hr)\n",
    "\n",
    "binSize_min = 60 * nightLength_hr/2"
   ]
  },
  {
   "cell_type": "markdown",
   "metadata": {},
   "source": [
    "## Make table of % of each stage per bin"
   ]
  },
  {
   "cell_type": "code",
   "execution_count": 12,
   "metadata": {},
   "outputs": [],
   "source": [
    "binSize_s = int(binSize_min*60)\n",
    "binSize_ep = int(binSize_s/epochLength)\n",
    "\n",
    "stageProportions_whole_night_all = {}\n",
    "\n",
    "for b in range(nBirds):\n",
    "    nBins = int(np.ceil(np.min(lightsOnSec - lightsOffSec)/(60*binSize_min)))\n",
    "\n",
    "    stageProportions = DataFrame([], columns=range(len(stages)))\n",
    "\n",
    "    b_name = 'Bird ' + str(b+1)\n",
    "    Scores = AllScores[b_name]\n",
    "\n",
    "    for bn in range(nBins):\n",
    "\n",
    "        start_ep = int(lightsOffEp[b] + bn*binSize_ep)\n",
    "        end_ep   = int(lightsOffEp[b] + (bn+1)*binSize_ep)\n",
    "\n",
    "        bn_scores = Scores[start_ep:end_ep]\n",
    "        bn_stage_frequencies = bn_scores['Label (#)'].value_counts(normalize=True,sort=False)\n",
    "                \n",
    "        stageProportions = stageProportions.append(bn_stage_frequencies, ignore_index=True)\n",
    "    \n",
    "    # Replace NaNs with 0\n",
    "    stageProportions = stageProportions.fillna(0)\n",
    "    \n",
    "    # Calc TST and sleep stages as % TST\n",
    "    \n",
    "    stageProportions['TST'] = stageProportions[[2,3,4,5]].sum(axis=1)\n",
    "\n",
    "    stageProportions['U (% TST)'] = stageProportions[2]/stageProportions['TST']\n",
    "    stageProportions['I (% TST)'] = stageProportions[3]/stageProportions['TST']\n",
    "    stageProportions['S (% TST)'] = stageProportions[4]/stageProportions['TST']\n",
    "    stageProportions['R (% TST)'] = stageProportions[5]/stageProportions['TST']\n",
    "\n",
    "    # Add to dictionary\n",
    "    stageProportions_whole_night_all[b] = stageProportions\n",
    "    "
   ]
  },
  {
   "cell_type": "markdown",
   "metadata": {},
   "source": [
    "### Plot by half of night: all stages"
   ]
  },
  {
   "cell_type": "code",
   "execution_count": 13,
   "metadata": {},
   "outputs": [
    {
     "data": {
      "image/png": "[encoded data removed]",
      "text/plain": [
       "<Figure size 288x1080 with 5 Axes>"
      ]
     },
     "metadata": {},
     "output_type": "display_data"
    }
   ],
   "source": [
    "plt.figure(figsize=(4,3*nBirds))\n",
    "\n",
    "for b in range(nBirds):\n",
    "    stageProportions = stageProportions_whole_night_all[b]\n",
    "    \n",
    "    # Plot\n",
    "    with sns.color_palette(colors):\n",
    "        plt.subplot(nBirds,1,b+1)\n",
    "        plt.plot(stageProportions[[0,1,2,3,4,5]], 'o-')\n",
    "        \n",
    "    # Labels etc\n",
    "    plt.title('Bird ' + str(b+1))\n",
    "    plt.xlim((-0.5, len(stageProportions)))\n",
    "    if b == 2:\n",
    "        plt.ylabel('proportion of recording time')\n",
    "        \n",
    "    # Legend just on first graph\n",
    "    if b == 0:\n",
    "        plt.legend(legendMarkersEEG, stages, loc=1)\n",
    "        \n",
    "    # X-axis labels just on last graph\n",
    "    if b < nBirds-1:\n",
    "        plt.xticks([])\n",
    "    else:\n",
    "        plt.xticks([0,1], ['Early', 'Late'])\n",
    "        plt.xlabel('Half of night')\n",
    "        \n",
    "#if savePlots:\n",
    "#    plt.savefig(saveAsPath  + saveAsName + \"_All_birds_by_half_of_night.pdf\")"
   ]
  },
  {
   "cell_type": "markdown",
   "metadata": {},
   "source": [
    "### By hour of night: sleep only"
   ]
  },
  {
   "cell_type": "code",
   "execution_count": 14,
   "metadata": {},
   "outputs": [
    {
     "data": {
      "image/png": "[encoded data removed]",
      "text/plain": [
       "<Figure size 288x1080 with 5 Axes>"
      ]
     },
     "metadata": {},
     "output_type": "display_data"
    }
   ],
   "source": [
    "plt.figure(figsize=(4,3*nBirds))\n",
    "\n",
    "for b in range(nBirds):\n",
    "\n",
    "    stageProportions = stageProportions_whole_night_all[b]\n",
    "\n",
    "    # Plot\n",
    "    with sns.color_palette(colors[2:6]):\n",
    "        plt.subplot(nBirds,1,b+1)\n",
    "        plt.plot(stageProportions[['U (% TST)', 'I (% TST)', 'S (% TST)', 'R (% TST)']], 'o-')\n",
    "    \n",
    "    # Labels etc\n",
    "    plt.title('Bird ' + str(b+1))\n",
    "    plt.xlim((-0.5, len(stageProportions)))\n",
    "    if b == 2:\n",
    "        plt.ylabel('proportion of TST')\n",
    "    # Legend just on first graph\n",
    "\n",
    "    if b == 0:\n",
    "        plt.legend(legendMarkersEEG[2:6], stages[2:6], loc=1)\n",
    "        \n",
    "    # X-axis labels just on last graph\n",
    "    if b < nBirds-1:\n",
    "        plt.xticks([])\n",
    "    else:\n",
    "        plt.xticks([0,1], ['Early', 'Late'])\n",
    "        plt.xlabel('Half of night')\n",
    "        \n",
    "#if savePlots:\n",
    "#    plt.savefig(saveAsPath + saveAsName  + \"_All_birds_by_percent_of_TST.pdf\")"
   ]
  },
  {
   "cell_type": "markdown",
   "metadata": {},
   "source": [
    "### By hour of sleep"
   ]
  },
  {
   "cell_type": "code",
   "execution_count": 15,
   "metadata": {},
   "outputs": [],
   "source": [
    "stageProportions_sleep_only = {}\n",
    "\n",
    "for b in range(nBirds):\n",
    "    b_name = 'Bird ' + str(b+1)\n",
    "    Scores = AllScores[b_name]\n",
    "\n",
    "    Scores_Nighttime = Scores[int(lightsOffEp[b]):int(lightsOnEp[b])]\n",
    "\n",
    "    Scores_Nighttime_Sleep = Scores_Nighttime[Scores_Nighttime['Label (#)']>=2]\n",
    "\n",
    "    # Re-index to consecutive numbers starting at 0\n",
    "    Scores_Nighttime_Sleep = Scores_Nighttime_Sleep.reset_index(drop=True)\n",
    "    \n",
    "    # Determine bin size (1/2 of nighttime TST)\n",
    "    \n",
    "    TST_night_ep = len(Scores_Nighttime_Sleep)\n",
    "    binSize_TST_ep = TST_night_ep/2\n",
    "\n",
    "    nBins_sleep = int(np.ceil(len(Scores_Nighttime_Sleep)/(binSize_TST_ep)))\n",
    "\n",
    "    stageProportions = DataFrame([], columns=np.arange(2,6))\n",
    "\n",
    "    for bn in range(nBins_sleep):\n",
    "\n",
    "        start_ep = int(bn*binSize_TST_ep)\n",
    "        end_ep   = int((bn+1)*binSize_TST_ep)\n",
    "\n",
    "        bn_scores = Scores_Nighttime_Sleep[start_ep:end_ep]\n",
    "        bn_stage_frequencies = bn_scores['Label (#)'].value_counts(normalize=True,sort=False)\n",
    "\n",
    "        stageProportions = stageProportions.append(bn_stage_frequencies, ignore_index=True)\n",
    "\n",
    "    # Replace NaNs with 0\n",
    "    stageProportions = stageProportions.fillna(0)\n",
    "    \n",
    "    # Add to dictionary\n",
    "    stageProportions_sleep_only[b] = stageProportions"
   ]
  },
  {
   "cell_type": "markdown",
   "metadata": {},
   "source": [
    "Plot"
   ]
  },
  {
   "cell_type": "code",
   "execution_count": 16,
   "metadata": {},
   "outputs": [
    {
     "data": {
      "image/png": "[encoded data removed]",
      "text/plain": [
       "<Figure size 288x1080 with 5 Axes>"
      ]
     },
     "metadata": {},
     "output_type": "display_data"
    }
   ],
   "source": [
    "plt.figure(figsize=(4,3*nBirds))\n",
    "\n",
    "for b in range(nBirds):\n",
    "    stageProportions = stageProportions_sleep_only[b]\n",
    "    \n",
    "    # Plot\n",
    "    with sns.color_palette(colors[2:6]):\n",
    "        plt.subplot(nBirds,1,b+1)\n",
    "        plt.plot(stageProportions[[2,3,4,5]], 'o-')\n",
    "    \n",
    "    # Labels etc\n",
    "    plt.title('Bird ' + str(b+1))\n",
    "    plt.xlim((-0.5, len(stageProportions)))\n",
    "    if b == 2:\n",
    "        plt.ylabel('proportion of TST')\n",
    "    # Legend just on first graph\n",
    "\n",
    "    if b == 0:\n",
    "        plt.legend(legendMarkersEEG[2:6], stages[2:6], loc=1)\n",
    "        \n",
    "    # X-axis labels just on last graph\n",
    "    if b < nBirds-1:\n",
    "        plt.xticks([])\n",
    "    else:\n",
    "        plt.xticks([0,1], ['Early', 'Late'])\n",
    "        plt.xlabel('Half of nighttime sleep')\n",
    "        \n",
    "#if savePlots:\n",
    "#    plt.savefig(saveAsPath + saveAsName  + \"_All_birds_by_half_of_nighttime_sleep.pdf\")"
   ]
  },
  {
   "cell_type": "markdown",
   "metadata": {},
   "source": [
    "# Organize proportions by stage (instead of by bird)"
   ]
  },
  {
   "cell_type": "code",
   "execution_count": 17,
   "metadata": {},
   "outputs": [],
   "source": [
    "stageProportions_by_stage = {}\n",
    "\n",
    "stage_labels_by_bin = stageProportions_whole_night_all[0].columns.values\n",
    "\n",
    "for st in stage_labels_by_bin:\n",
    "    stageProportions_stage = DataFrame([])\n",
    "    \n",
    "    for b in range(nBirds):\n",
    "        stageProportions_bird = stageProportions_whole_night_all[b]\n",
    "        stageProportions_stage['Bird ' + str(b+1)] = stageProportions_bird[st]\n",
    "        \n",
    "    stageProportions_by_stage[st] = stageProportions_stage"
   ]
  },
  {
   "cell_type": "code",
   "execution_count": 18,
   "metadata": {},
   "outputs": [],
   "source": [
    "stage_labels_by_sleep = stageProportions_sleep_only[0].columns.values\n",
    "\n",
    "for st in stage_labels_by_sleep:\n",
    "    stageProportions_stage = DataFrame([])\n",
    "    \n",
    "    for b in range(nBirds):\n",
    "        stageProportions_bird = stageProportions_sleep_only[b]\n",
    "        stageProportions_stage['Bird ' + str(b+1)] = stageProportions_bird[st]\n",
    "        \n",
    "    stageProportions_by_stage[str(st) + ' by half of sleep'] = stageProportions_stage"
   ]
  },
  {
   "cell_type": "markdown",
   "metadata": {},
   "source": [
    "Find means and SDs over time"
   ]
  },
  {
   "cell_type": "code",
   "execution_count": 19,
   "metadata": {},
   "outputs": [],
   "source": [
    "Means = DataFrame([])\n",
    "SDs = DataFrame([])\n",
    "\n",
    "for st in stage_labels_by_bin:\n",
    "    tmp_mean = stageProportions_by_stage[st].mean(axis=1)\n",
    "    tmp_sd = stageProportions_by_stage[st].std(axis=1)\n",
    "    \n",
    "    Means[st] = tmp_mean\n",
    "    SDs[st] = tmp_sd\n",
    "    \n",
    "for st in stage_labels_by_sleep:\n",
    "    tmp_mean = stageProportions_by_stage[str(st) + ' by half of sleep'].mean(axis=1,skipna=True)\n",
    "    tmp_sd = stageProportions_by_stage[str(st) + ' by half of sleep'].std(axis=1,skipna=True)\n",
    "    \n",
    "    Means[str(st) + ' by half of sleep'] = tmp_mean\n",
    "    SDs[str(st) + ' by half of sleep'] = tmp_sd"
   ]
  },
  {
   "cell_type": "markdown",
   "metadata": {},
   "source": [
    "## Save to csv"
   ]
  },
  {
   "cell_type": "code",
   "execution_count": 20,
   "metadata": {},
   "outputs": [],
   "source": [
    "if saveData:\n",
    "    for key in stageProportions_by_stage.keys():\n",
    "        stageProportions = stageProportions_by_stage[key]\n",
    "        stageProportions.to_csv(saveAsPath + saveAsName + str(key) + '.csv')"
   ]
  },
  {
   "cell_type": "markdown",
   "metadata": {
    "collapsed": true
   },
   "source": [
    "# FIGURE 2C: Bar graphs: Plot each stage"
   ]
  },
  {
   "cell_type": "code",
   "execution_count": null,
   "metadata": {},
   "outputs": [],
   "source": []
  },
  {
   "cell_type": "code",
   "execution_count": 21,
   "metadata": {},
   "outputs": [
    {
     "data": {
      "image/png": "[encoded data removed]",
      "text/plain": [
       "<Figure size 864x324 with 4 Axes>"
      ]
     },
     "metadata": {},
     "output_type": "display_data"
    }
   ],
   "source": [
    "stage_names = ['Unihem','IS','SWS','REM']\n",
    "\n",
    "axis_color = [.8,.8,.8]\n",
    "with plt.rc_context({'axes.edgecolor': 'k'}):  # set color of plot outline\n",
    "\n",
    "    plt.figure(figsize=(12,4.5))\n",
    "\n",
    "    column=1\n",
    "    for st in ['U (% TST)', 'I (% TST)', 'S (% TST)', 'R (% TST)']:\n",
    "        stage_color = colors[2:6][column-1]\n",
    "        plt.subplot(1,4,column)\n",
    "\n",
    "        # Scatter plot of each bird\n",
    "        plt.plot(stageProportions_by_stage[st]*100, 'o', color=colors[2:6][column-1], alpha=.7)\n",
    "        \n",
    "        # Lines color coded by bird\n",
    "        for b in range(nBirds):\n",
    "            b_name = 'Bird ' + str(b+1)\n",
    "            plt.plot(stageProportions_by_stage[st][b_name]*100, color=colors_birds[b], alpha=.7)\n",
    "\n",
    "        # Bar graph of mean\n",
    "        plt.bar([0,1],Means[st]*100, width=1, color='none', edgecolor=stage_color, linewidth=4)\n",
    "\n",
    "\n",
    "        plt.xlim(-.7, 1.7)\n",
    "        plt.xticks([0,1], ['Early', 'Late'],fontsize=16)\n",
    "        plt.title(stage_names[column-1], color=stage_color, fontsize=20, fontweight='bold')\n",
    "\n",
    "        if column==1:\n",
    "            plt.ylabel('% of TST', fontsize=axis_label_fontsize)  # y label only on leftmost plot\n",
    "            plt.ylim(0,.2)          # smaller y scale for unihem sleep\n",
    "        elif column==2:\n",
    "            plt.ylim(0,70)\n",
    "        else:\n",
    "            plt.ylim(0,70)\n",
    "\n",
    "        column=column+1\n",
    "\n",
    "    fig = plt.gcf()\n",
    "    fig.text(0.5, 0, 'Halves of Night', ha='center', fontsize=axis_label_fontsize)\n",
    "\n",
    "if savePlots:\n",
    "        plt.savefig(saveAsPath + saveAsName + \"summary_barplot.pdf\")"
   ]
  },
  {
   "cell_type": "code",
   "execution_count": 22,
   "metadata": {},
   "outputs": [
    {
     "data": {
      "text/html": [
       "<div>\n",
       "<style scoped>\n",
       "    .dataframe tbody tr th:only-of-type {\n",
       "        vertical-align: middle;\n",
       "    }\n",
       "\n",
       "    .dataframe tbody tr th {\n",
       "        vertical-align: top;\n",
       "    }\n",
       "\n",
       "    .dataframe thead th {\n",
       "        text-align: right;\n",
       "    }\n",
       "</style>\n",
       "<table border=\"1\" class=\"dataframe\">\n",
       "  <thead>\n",
       "    <tr style=\"text-align: right;\">\n",
       "      <th></th>\n",
       "      <th>Bird 1</th>\n",
       "      <th>Bird 2</th>\n",
       "      <th>Bird 3</th>\n",
       "      <th>Bird 4</th>\n",
       "      <th>Bird 5</th>\n",
       "    </tr>\n",
       "  </thead>\n",
       "  <tbody>\n",
       "    <tr>\n",
       "      <td>0</td>\n",
       "      <td>0.321008</td>\n",
       "      <td>0.493242</td>\n",
       "      <td>0.555979</td>\n",
       "      <td>0.530239</td>\n",
       "      <td>0.575199</td>\n",
       "    </tr>\n",
       "    <tr>\n",
       "      <td>1</td>\n",
       "      <td>0.346635</td>\n",
       "      <td>0.530053</td>\n",
       "      <td>0.627621</td>\n",
       "      <td>0.491883</td>\n",
       "      <td>0.575743</td>\n",
       "    </tr>\n",
       "  </tbody>\n",
       "</table>\n",
       "</div>"
      ],
      "text/plain": [
       "     Bird 1    Bird 2    Bird 3    Bird 4    Bird 5\n",
       "0  0.321008  0.493242  0.555979  0.530239  0.575199\n",
       "1  0.346635  0.530053  0.627621  0.491883  0.575743"
      ]
     },
     "execution_count": 22,
     "metadata": {},
     "output_type": "execute_result"
    }
   ],
   "source": [
    "stageProportions_by_stage['I (% TST)']"
   ]
  },
  {
   "cell_type": "code",
   "execution_count": 23,
   "metadata": {},
   "outputs": [
    {
     "data": {
      "text/html": [
       "<div>\n",
       "<style scoped>\n",
       "    .dataframe tbody tr th:only-of-type {\n",
       "        vertical-align: middle;\n",
       "    }\n",
       "\n",
       "    .dataframe tbody tr th {\n",
       "        vertical-align: top;\n",
       "    }\n",
       "\n",
       "    .dataframe thead th {\n",
       "        text-align: right;\n",
       "    }\n",
       "</style>\n",
       "<table border=\"1\" class=\"dataframe\">\n",
       "  <thead>\n",
       "    <tr style=\"text-align: right;\">\n",
       "      <th></th>\n",
       "      <th>Bird 1</th>\n",
       "      <th>Bird 2</th>\n",
       "      <th>Bird 3</th>\n",
       "      <th>Bird 4</th>\n",
       "      <th>Bird 5</th>\n",
       "    </tr>\n",
       "  </thead>\n",
       "  <tbody>\n",
       "    <tr>\n",
       "      <td>0</td>\n",
       "      <td>0.267713</td>\n",
       "      <td>0.157477</td>\n",
       "      <td>0.304694</td>\n",
       "      <td>0.325363</td>\n",
       "      <td>0.214914</td>\n",
       "    </tr>\n",
       "    <tr>\n",
       "      <td>1</td>\n",
       "      <td>0.116538</td>\n",
       "      <td>0.092428</td>\n",
       "      <td>0.143185</td>\n",
       "      <td>0.215732</td>\n",
       "      <td>0.090594</td>\n",
       "    </tr>\n",
       "  </tbody>\n",
       "</table>\n",
       "</div>"
      ],
      "text/plain": [
       "     Bird 1    Bird 2    Bird 3    Bird 4    Bird 5\n",
       "0  0.267713  0.157477  0.304694  0.325363  0.214914\n",
       "1  0.116538  0.092428  0.143185  0.215732  0.090594"
      ]
     },
     "execution_count": 23,
     "metadata": {},
     "output_type": "execute_result"
    }
   ],
   "source": [
    "stageProportions_by_stage['S (% TST)']"
   ]
  },
  {
   "cell_type": "code",
   "execution_count": 24,
   "metadata": {},
   "outputs": [
    {
     "data": {
      "text/html": [
       "<div>\n",
       "<style scoped>\n",
       "    .dataframe tbody tr th:only-of-type {\n",
       "        vertical-align: middle;\n",
       "    }\n",
       "\n",
       "    .dataframe tbody tr th {\n",
       "        vertical-align: top;\n",
       "    }\n",
       "\n",
       "    .dataframe thead th {\n",
       "        text-align: right;\n",
       "    }\n",
       "</style>\n",
       "<table border=\"1\" class=\"dataframe\">\n",
       "  <thead>\n",
       "    <tr style=\"text-align: right;\">\n",
       "      <th></th>\n",
       "      <th>Bird 1</th>\n",
       "      <th>Bird 2</th>\n",
       "      <th>Bird 3</th>\n",
       "      <th>Bird 4</th>\n",
       "      <th>Bird 5</th>\n",
       "    </tr>\n",
       "  </thead>\n",
       "  <tbody>\n",
       "    <tr>\n",
       "      <td>0</td>\n",
       "      <td>0.411072</td>\n",
       "      <td>0.347994</td>\n",
       "      <td>0.139327</td>\n",
       "      <td>0.144398</td>\n",
       "      <td>0.209049</td>\n",
       "    </tr>\n",
       "    <tr>\n",
       "      <td>1</td>\n",
       "      <td>0.536827</td>\n",
       "      <td>0.377520</td>\n",
       "      <td>0.229194</td>\n",
       "      <td>0.292385</td>\n",
       "      <td>0.333663</td>\n",
       "    </tr>\n",
       "  </tbody>\n",
       "</table>\n",
       "</div>"
      ],
      "text/plain": [
       "     Bird 1    Bird 2    Bird 3    Bird 4    Bird 5\n",
       "0  0.411072  0.347994  0.139327  0.144398  0.209049\n",
       "1  0.536827  0.377520  0.229194  0.292385  0.333663"
      ]
     },
     "execution_count": 24,
     "metadata": {},
     "output_type": "execute_result"
    }
   ],
   "source": [
    "stageProportions_by_stage['R (% TST)']"
   ]
  },
  {
   "cell_type": "markdown",
   "metadata": {},
   "source": [
    "## FIGURE 2C STATS: t-tests"
   ]
  },
  {
   "cell_type": "markdown",
   "metadata": {},
   "source": [
    "### IS"
   ]
  },
  {
   "cell_type": "code",
   "execution_count": 25,
   "metadata": {
    "scrolled": true
   },
   "outputs": [
    {
     "data": {
      "text/html": [
       "<div>\n",
       "<style scoped>\n",
       "    .dataframe tbody tr th:only-of-type {\n",
       "        vertical-align: middle;\n",
       "    }\n",
       "\n",
       "    .dataframe tbody tr th {\n",
       "        vertical-align: top;\n",
       "    }\n",
       "\n",
       "    .dataframe thead th {\n",
       "        text-align: right;\n",
       "    }\n",
       "</style>\n",
       "<table border=\"1\" class=\"dataframe\">\n",
       "  <thead>\n",
       "    <tr style=\"text-align: right;\">\n",
       "      <th></th>\n",
       "      <th>Bird 1</th>\n",
       "      <th>Bird 2</th>\n",
       "      <th>Bird 3</th>\n",
       "      <th>Bird 4</th>\n",
       "      <th>Bird 5</th>\n",
       "    </tr>\n",
       "  </thead>\n",
       "  <tbody>\n",
       "    <tr>\n",
       "      <td>0</td>\n",
       "      <td>0.321008</td>\n",
       "      <td>0.493242</td>\n",
       "      <td>0.555979</td>\n",
       "      <td>0.530239</td>\n",
       "      <td>0.575199</td>\n",
       "    </tr>\n",
       "    <tr>\n",
       "      <td>1</td>\n",
       "      <td>0.346635</td>\n",
       "      <td>0.530053</td>\n",
       "      <td>0.627621</td>\n",
       "      <td>0.491883</td>\n",
       "      <td>0.575743</td>\n",
       "    </tr>\n",
       "  </tbody>\n",
       "</table>\n",
       "</div>"
      ],
      "text/plain": [
       "     Bird 1    Bird 2    Bird 3    Bird 4    Bird 5\n",
       "0  0.321008  0.493242  0.555979  0.530239  0.575199\n",
       "1  0.346635  0.530053  0.627621  0.491883  0.575743"
      ]
     },
     "execution_count": 25,
     "metadata": {},
     "output_type": "execute_result"
    }
   ],
   "source": [
    "data = stageProportions_by_stage['I (% TST)']\n",
    "data"
   ]
  },
  {
   "cell_type": "code",
   "execution_count": 26,
   "metadata": {},
   "outputs": [
    {
     "data": {
      "text/plain": [
       "0    0.495133\n",
       "1    0.514387\n",
       "dtype: float64"
      ]
     },
     "execution_count": 26,
     "metadata": {},
     "output_type": "execute_result"
    }
   ],
   "source": [
    "data.mean(axis=1)"
   ]
  },
  {
   "cell_type": "code",
   "execution_count": 27,
   "metadata": {},
   "outputs": [
    {
     "data": {
      "text/plain": [
       "0    0.102064\n",
       "1    0.106629\n",
       "dtype: float64"
      ]
     },
     "execution_count": 27,
     "metadata": {},
     "output_type": "execute_result"
    }
   ],
   "source": [
    "data.std(axis=1)"
   ]
  },
  {
   "cell_type": "code",
   "execution_count": 28,
   "metadata": {
    "scrolled": true
   },
   "outputs": [
    {
     "data": {
      "text/plain": [
       "Ttest_relResult(statistic=-1.047062403995699, pvalue=0.35416822038292706)"
      ]
     },
     "execution_count": 28,
     "metadata": {},
     "output_type": "execute_result"
    }
   ],
   "source": [
    "stat.ttest_rel(data.loc[0], data.loc[1])"
   ]
  },
  {
   "cell_type": "markdown",
   "metadata": {},
   "source": [
    "### SWS"
   ]
  },
  {
   "cell_type": "code",
   "execution_count": 29,
   "metadata": {},
   "outputs": [
    {
     "data": {
      "text/html": [
       "<div>\n",
       "<style scoped>\n",
       "    .dataframe tbody tr th:only-of-type {\n",
       "        vertical-align: middle;\n",
       "    }\n",
       "\n",
       "    .dataframe tbody tr th {\n",
       "        vertical-align: top;\n",
       "    }\n",
       "\n",
       "    .dataframe thead th {\n",
       "        text-align: right;\n",
       "    }\n",
       "</style>\n",
       "<table border=\"1\" class=\"dataframe\">\n",
       "  <thead>\n",
       "    <tr style=\"text-align: right;\">\n",
       "      <th></th>\n",
       "      <th>Bird 1</th>\n",
       "      <th>Bird 2</th>\n",
       "      <th>Bird 3</th>\n",
       "      <th>Bird 4</th>\n",
       "      <th>Bird 5</th>\n",
       "    </tr>\n",
       "  </thead>\n",
       "  <tbody>\n",
       "    <tr>\n",
       "      <td>0</td>\n",
       "      <td>0.267713</td>\n",
       "      <td>0.157477</td>\n",
       "      <td>0.304694</td>\n",
       "      <td>0.325363</td>\n",
       "      <td>0.214914</td>\n",
       "    </tr>\n",
       "    <tr>\n",
       "      <td>1</td>\n",
       "      <td>0.116538</td>\n",
       "      <td>0.092428</td>\n",
       "      <td>0.143185</td>\n",
       "      <td>0.215732</td>\n",
       "      <td>0.090594</td>\n",
       "    </tr>\n",
       "  </tbody>\n",
       "</table>\n",
       "</div>"
      ],
      "text/plain": [
       "     Bird 1    Bird 2    Bird 3    Bird 4    Bird 5\n",
       "0  0.267713  0.157477  0.304694  0.325363  0.214914\n",
       "1  0.116538  0.092428  0.143185  0.215732  0.090594"
      ]
     },
     "execution_count": 29,
     "metadata": {},
     "output_type": "execute_result"
    }
   ],
   "source": [
    "data = stageProportions_by_stage['S (% TST)']\n",
    "data"
   ]
  },
  {
   "cell_type": "code",
   "execution_count": 30,
   "metadata": {},
   "outputs": [
    {
     "data": {
      "text/plain": [
       "0    0.254032\n",
       "1    0.131695\n",
       "dtype: float64"
      ]
     },
     "execution_count": 30,
     "metadata": {},
     "output_type": "execute_result"
    }
   ],
   "source": [
    "data.mean(axis=1)"
   ]
  },
  {
   "cell_type": "code",
   "execution_count": 31,
   "metadata": {},
   "outputs": [
    {
     "data": {
      "text/plain": [
       "0    0.068365\n",
       "1    0.051612\n",
       "dtype: float64"
      ]
     },
     "execution_count": 31,
     "metadata": {},
     "output_type": "execute_result"
    }
   ],
   "source": [
    "data.std(axis=1)"
   ]
  },
  {
   "cell_type": "code",
   "execution_count": 32,
   "metadata": {},
   "outputs": [
    {
     "data": {
      "text/plain": [
       "Ttest_relResult(statistic=7.175592360263929, pvalue=0.0019974760987470047)"
      ]
     },
     "execution_count": 32,
     "metadata": {},
     "output_type": "execute_result"
    }
   ],
   "source": [
    "stat.ttest_rel(data.loc[0], data.loc[1])"
   ]
  },
  {
   "cell_type": "markdown",
   "metadata": {},
   "source": [
    "### REM"
   ]
  },
  {
   "cell_type": "code",
   "execution_count": 33,
   "metadata": {},
   "outputs": [
    {
     "data": {
      "text/html": [
       "<div>\n",
       "<style scoped>\n",
       "    .dataframe tbody tr th:only-of-type {\n",
       "        vertical-align: middle;\n",
       "    }\n",
       "\n",
       "    .dataframe tbody tr th {\n",
       "        vertical-align: top;\n",
       "    }\n",
       "\n",
       "    .dataframe thead th {\n",
       "        text-align: right;\n",
       "    }\n",
       "</style>\n",
       "<table border=\"1\" class=\"dataframe\">\n",
       "  <thead>\n",
       "    <tr style=\"text-align: right;\">\n",
       "      <th></th>\n",
       "      <th>Bird 1</th>\n",
       "      <th>Bird 2</th>\n",
       "      <th>Bird 3</th>\n",
       "      <th>Bird 4</th>\n",
       "      <th>Bird 5</th>\n",
       "    </tr>\n",
       "  </thead>\n",
       "  <tbody>\n",
       "    <tr>\n",
       "      <td>0</td>\n",
       "      <td>0.411072</td>\n",
       "      <td>0.347994</td>\n",
       "      <td>0.139327</td>\n",
       "      <td>0.144398</td>\n",
       "      <td>0.209049</td>\n",
       "    </tr>\n",
       "    <tr>\n",
       "      <td>1</td>\n",
       "      <td>0.536827</td>\n",
       "      <td>0.377520</td>\n",
       "      <td>0.229194</td>\n",
       "      <td>0.292385</td>\n",
       "      <td>0.333663</td>\n",
       "    </tr>\n",
       "  </tbody>\n",
       "</table>\n",
       "</div>"
      ],
      "text/plain": [
       "     Bird 1    Bird 2    Bird 3    Bird 4    Bird 5\n",
       "0  0.411072  0.347994  0.139327  0.144398  0.209049\n",
       "1  0.536827  0.377520  0.229194  0.292385  0.333663"
      ]
     },
     "execution_count": 33,
     "metadata": {},
     "output_type": "execute_result"
    }
   ],
   "source": [
    "data = stageProportions_by_stage['R (% TST)']\n",
    "data"
   ]
  },
  {
   "cell_type": "code",
   "execution_count": 34,
   "metadata": {},
   "outputs": [
    {
     "data": {
      "text/plain": [
       "0    0.250368\n",
       "1    0.353918\n",
       "dtype: float64"
      ]
     },
     "execution_count": 34,
     "metadata": {},
     "output_type": "execute_result"
    }
   ],
   "source": [
    "data.mean(axis=1)"
   ]
  },
  {
   "cell_type": "code",
   "execution_count": 35,
   "metadata": {},
   "outputs": [
    {
     "data": {
      "text/plain": [
       "0    0.123110\n",
       "1    0.115937\n",
       "dtype: float64"
      ]
     },
     "execution_count": 35,
     "metadata": {},
     "output_type": "execute_result"
    }
   ],
   "source": [
    "data.std(axis=1)"
   ]
  },
  {
   "cell_type": "code",
   "execution_count": 36,
   "metadata": {},
   "outputs": [
    {
     "data": {
      "text/plain": [
       "Ttest_relResult(statistic=-4.9999358700982155, pvalue=0.007490773732489366)"
      ]
     },
     "execution_count": 36,
     "metadata": {},
     "output_type": "execute_result"
    }
   ],
   "source": [
    "stat.ttest_rel(data.loc[0], data.loc[1])"
   ]
  },
  {
   "cell_type": "code",
   "execution_count": null,
   "metadata": {},
   "outputs": [],
   "source": []
  },
  {
   "cell_type": "code",
   "execution_count": null,
   "metadata": {},
   "outputs": [],
   "source": []
  }
 ],
 "metadata": {
  "kernelspec": {
   "display_name": "Python 3",
   "language": "python",
   "name": "python3"
  },
  "language_info": {
   "codemirror_mode": {
    "name": "ipython",
    "version": 3
   },
   "file_extension": ".py",
   "mimetype": "text/x-python",
   "name": "python",
   "nbconvert_exporter": "python",
   "pygments_lexer": "ipython3",
   "version": "3.7.4"
  },
  "toc": {
   "base_numbering": 1,
   "nav_menu": {},
   "number_sections": true,
   "sideBar": true,
   "skip_h1_title": false,
   "title_cell": "Table of Contents",
   "title_sidebar": "Contents",
   "toc_cell": false,
   "toc_position": {
    "height": "calc(100% - 180px)",
    "left": "10px",
    "top": "150px",
    "width": "288px"
   },
   "toc_section_display": true,
   "toc_window_display": true
  }
 },
 "nbformat": 4,
 "nbformat_minor": 1
}
