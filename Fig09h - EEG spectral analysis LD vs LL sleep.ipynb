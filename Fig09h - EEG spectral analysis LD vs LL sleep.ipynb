{
 "cells": [
  {
   "cell_type": "markdown",
   "metadata": {},
   "source": [
    "# Setup"
   ]
  },
  {
   "cell_type": "code",
   "execution_count": 1,
   "metadata": {},
   "outputs": [],
   "source": [
    "%matplotlib inline\n",
    "\n",
    "import numpy as np\n",
    "import scipy.signal as sig\n",
    "import scipy.stats as stat\n",
    "import matplotlib.pyplot as plt\n",
    "import seaborn as sns\n",
    "import os\n",
    "import h5py\n",
    "import resin\n",
    "import sklearn.cluster\n",
    "\n",
    "import pandas as pd\n",
    "from pandas import DataFrame,Series,read_table\n",
    "\n",
    "from mpl_toolkits.mplot3d import Axes3D"
   ]
  },
  {
   "cell_type": "markdown",
   "metadata": {},
   "source": [
    "## Saving parameters"
   ]
  },
  {
   "cell_type": "code",
   "execution_count": 2,
   "metadata": {},
   "outputs": [],
   "source": [
    "birds = ['2', '2LL', '3', '3LL', '4', '4LL']\n",
    "\n",
    "savePlots = True    # whether or not to save plots\n",
    "saveData = True # whether or not to save csv files\n",
    "\n",
    "saveAsPath = './Fig 09/'\n",
    "if not os.path.exists(saveAsPath):\n",
    "    os.mkdir(saveAsPath)\n",
    "\n",
    "saveAsName = 'Fig9h_'"
   ]
  },
  {
   "cell_type": "code",
   "execution_count": 3,
   "metadata": {},
   "outputs": [],
   "source": [
    "scores_path = '../formatted_scores/'\n",
    "\n",
    "# Path to CSVs with epoch-by-epoch variables\n",
    "var_path = './Epoch-by-epoch_variables/' #'../data_copies/Epoch_variables/'\n",
    "events_path  = '../data_copies/SWs_EMs_and_EMartifacts/1s-epochs/'"
   ]
  },
  {
   "cell_type": "markdown",
   "metadata": {},
   "source": [
    "## Paths"
   ]
  },
  {
   "cell_type": "code",
   "execution_count": 4,
   "metadata": {},
   "outputs": [],
   "source": [
    "birdPaths =    ['../data_copies/01_PreprocessedData/01_BudgieFemale_green1/00_Baseline_night/',\n",
    "                '../data_copies/01_PreprocessedData/02_BudgieMale_yellow1/00_Baseline_night/',\n",
    "                '../data_copies/01_PreprocessedData/03_BudgieFemale_white1/00_Baseline_night/',\n",
    "                '../data_copies/01_PreprocessedData/04_BudgieMale_yellow2/00_Baseline_night/',\n",
    "                '../data_copies/01_PreprocessedData/05_BudgieFemale_green2/00_Baseline_night/']\n",
    "\n",
    "arfFilePaths =  ['EEG 2 scored/',\n",
    "                 'EEG 3 scored/',\n",
    "                 'EEG 3 scored/',\n",
    "                 'EEG 4 scored/',\n",
    "                 'EEG 4 scored/']\n",
    "\n",
    "### load BEST EEG channels - as determined during manual scoring ####\n",
    "channelsToLoadEEG_best = [['5 LEEGf-LEEGp', '6 LEEGm-LEEGp'],\n",
    "                     ['5 LEEGf-LEEGm'], #, '4 LEEGf-Fgr'] this channel seems to have too much artifact\n",
    "                     ['6LEEGm-LEEGp', '9REEGm-REEGp'],\n",
    "                     ['9REEGf-REEGp', '6LEEGm-LEEGf'],\n",
    "                     ['4LEEGf-LEEGp','7REEGf-REEGp']]\n",
    "\n",
    "\n",
    "### load ALL of EEG channels ####\n",
    "channelsToLoadEEG = [['4 LEEGf-Fgr', '5 LEEGf-LEEGp', '6 LEEGm-LEEGp', '7 LEEGp-Fgr', '8 REEGp-Fgr','9 REEGp-LEEGp'],\n",
    "                     ['4 LEEGf-Fgr','5 LEEGf-LEEGm', '6 LEEGm-LEEGp', '7 REEGf-Fgr', '8 REEGm-Fgr', '9 REEGf-REEGm'],\n",
    "                     ['4LEEGf-LEEGp', '5LEEGf-LEEGm', '6LEEGm-LEEGp', '7REEGf-REEGp', '8REEGf-REEGm', '9REEGm-REEGp'],\n",
    "                     ['4LEEGf-LEEGp', '5LEEGm-LEEGp', '6LEEGm-LEEGf', '7REEGf-Fgr', '8REEGf-REEGm','9REEGf-REEGp',],\n",
    "                     ['4LEEGf-LEEGp', '5LEEGf-LEEGm', '6LEEGm-LEEGp', '7REEGf-REEGp', '8REEGf-REEGm', '9REEGm-REEGp']]\n",
    "\n",
    "\n",
    "channelsToLoadEOG = [['1 LEOG-Fgr', '2 REOG-Fgr'],\n",
    "                     ['2 LEOG-Fgr', '3 REOG-Fgr'],\n",
    "                     ['2LEOG-Fgr', '3REOG-Fgr'],\n",
    "                     ['2LEOG-Fgr', '3REOG-Fgr'],\n",
    "                     ['2LEOG-Fgr', '3REOG-Fgr']]\n",
    "\n",
    "birds_LL = [1,2,3]\n",
    "nBirds_LL = len(birds_LL)\n",
    "\n",
    "birdPaths_LL = ['../data_copies/01_PreprocessedData/02_BudgieMale_yellow1/01_Constant_light/',\n",
    "                '../data_copies/01_PreprocessedData/03_BudgieFemale_white1/01_Constant_light/',\n",
    "                '../data_copies/01_PreprocessedData/04_BudgieMale_yellow2/01_Constant_light/',]\n",
    "\n",
    "arfFilePaths_LL =  ['EEG 2 preprocessed/',\n",
    "                    'EEG 2 preprocessed/',\n",
    "                    'EEG 2 preprocessed/']\n",
    "\n",
    "lightsOffSec = np.array([7947, 9675, 9861 + 8*3600, 9873, 13467])  # lights off times in seconds from beginning of file\n",
    "lightsOnSec = np.array([46449, 48168, 48375+ 8*3600, 48381, 52005]) # Bird 3 gets 8 hours added b/c file starts at 8:00 instead of 16:00\n",
    "\n",
    "epochLength = 3\n",
    "sr = 200\n",
    "scalingFactor = (2**15)*0.195       # scaling/conversion factor from amplitude to uV (when recording arf from jrecord)\n",
    "\n",
    "stages = ['w','d','u','i','s','r'] # wake, drowsy, unihem sleep, intermediate sleep, SWS, REM\n",
    "stagesSleep =    ['u','i','s','r']\n",
    "\n",
    "stagesVideo = ['m','q','d','s','u'] # moving wake, quiet wake, drowsy, sleep, unclear\n",
    "\n",
    "## Path to scores formatted as CSVs\n",
    "formatted_scores_path = '../formatted_scores/'\n",
    "\n",
    "## Path to detect SW ands EM events\n",
    "events_path = '../data_copies/SWs_EMs_and_EMartifacts/1s-epochs/'"
   ]
  },
  {
   "cell_type": "markdown",
   "metadata": {},
   "source": [
    "## General info"
   ]
  },
  {
   "cell_type": "code",
   "execution_count": 5,
   "metadata": {},
   "outputs": [],
   "source": [
    "epochLength = 3\n",
    "sr = 200\n",
    "scalingFactor = (2**15)*0.195       # scaling/conversion factor from amplitude to uV (when recording arf from jrecord)\n",
    "\n",
    "stages = ['w','d','u','i','s','r'] # wake, drowsy, unihem sleep, intermediate sleep, SWS, REM\n",
    "stagesSleep =    ['u','i','s','r']\n",
    "\n",
    "stagesVideo = ['m','q','d','l','g','s','u'] # moving wake, quiet wake, drowsy, left uni, right uni, sleep, unclear"
   ]
  },
  {
   "cell_type": "code",
   "execution_count": 6,
   "metadata": {},
   "outputs": [],
   "source": [
    "# Calculate general variables\n",
    "lightsOffEp = lightsOffSec / epochLength\n",
    "lightsOnEp = lightsOnSec / epochLength\n",
    "\n",
    "epochLengthPts = epochLength*sr\n",
    "\n",
    "nStages = len(stagesSleep)"
   ]
  },
  {
   "cell_type": "markdown",
   "metadata": {},
   "source": [
    "## Colors"
   ]
  },
  {
   "cell_type": "code",
   "execution_count": 7,
   "metadata": {},
   "outputs": [
    {
     "data": {
      "image/png": "[encoded data removed]",
      "text/plain": [
       "<Figure size 432x72 with 1 Axes>"
      ]
     },
     "metadata": {
      "needs_background": "light"
     },
     "output_type": "display_data"
    }
   ],
   "source": [
    "colors = sns.color_palette(np.array([[234,103,99],\n",
    "[218,142,60],\n",
    "[174,174,62],\n",
    "[97,188,101],\n",
    "[140,133,232],\n",
    "[225,113,190]])\n",
    "/255)\n",
    "\n",
    "sns.palplot(colors)\n",
    "\n",
    "# colorpalette from iWantHue"
   ]
  },
  {
   "cell_type": "code",
   "execution_count": 8,
   "metadata": {},
   "outputs": [
    {
     "data": {
      "image/png": "[encoded data removed]",
      "text/plain": [
       "<Figure size 504x72 with 1 Axes>"
      ]
     },
     "metadata": {
      "needs_background": "light"
     },
     "output_type": "display_data"
    }
   ],
   "source": [
    "colors_video = sns.color_palette(np.array([[244,133,129],\n",
    "                                           [255,153,120],\n",
    "                                            [248,172,90],\n",
    "                                            [204,204,92],\n",
    "                                            [204,204,92],\n",
    "                                            [124, 203, 204],\n",
    "                                            [200, 200, 200]])\n",
    "                                            /(255))\n",
    "\n",
    "sns.palplot(colors_video)"
   ]
  },
  {
   "cell_type": "code",
   "execution_count": 9,
   "metadata": {},
   "outputs": [
    {
     "data": {
      "image/png": "[encoded data removed]",
      "text/plain": [
       "<Figure size 360x72 with 1 Axes>"
      ]
     },
     "metadata": {
      "needs_background": "light"
     },
     "output_type": "display_data"
    }
   ],
   "source": [
    "colors_birds = [np.repeat(.4, 3),\n",
    "                np.repeat(.5, 3),\n",
    "                np.repeat(.6, 3),\n",
    "                np.repeat(.7, 3),\n",
    "                np.repeat(.8, 3)]\n",
    "\n",
    "sns.palplot(colors_birds)\n"
   ]
  },
  {
   "cell_type": "code",
   "execution_count": 10,
   "metadata": {},
   "outputs": [
    {
     "data": {
      "image/png": "[encoded data removed]",
      "text/plain": [
       "<Figure size 144x72 with 1 Axes>"
      ]
     },
     "metadata": {
      "needs_background": "light"
     },
     "output_type": "display_data"
    }
   ],
   "source": [
    "LD_color=[0, 102/255, 1]\n",
    "LL_color=[1, 99/255, 99/255]\n",
    "\n",
    "sns.palplot([LD_color, LL_color])"
   ]
  },
  {
   "cell_type": "markdown",
   "metadata": {},
   "source": [
    "## Plot formatting"
   ]
  },
  {
   "cell_type": "code",
   "execution_count": 11,
   "metadata": {},
   "outputs": [],
   "source": [
    "sns.set_context(\"notebook\", font_scale=1.5)\n",
    "sns.set_style(\"white\")\n",
    "\n",
    "# Markers for legends of EEG scoring colors\n",
    "legendMarkersEEG = []\n",
    "for stage in range(len(stages)):\n",
    "    legendMarkersEEG.append(plt.Line2D([0],[0], color=colors[stage], marker='o', linestyle='', alpha=0.7)) \n",
    "    \n",
    "# Markers for legends of video scoring colors\n",
    "legendMarkersVideo = []\n",
    "for stage in range(len(stagesVideo)):\n",
    "    legendMarkersVideo.append(plt.Line2D([0],[0], color=colors_video[stage], marker='o', linestyle='', alpha=0.7))  "
   ]
  },
  {
   "cell_type": "code",
   "execution_count": 12,
   "metadata": {},
   "outputs": [],
   "source": [
    "figsize = (9,10)\n",
    "figsize_smaller = (6,8)\n",
    "axis_label_fontsize = 24\n",
    "\n",
    "# Dot formatting\n",
    "alpha_main = 0.2\n",
    "alpha_darker = 0.3\n",
    "\n",
    "\n",
    "# Line formatting\n",
    "linewidth = 5\n",
    "linealpha = .7\n",
    "marker = 'o'\n",
    "markersize = 10\n",
    "err_capsize = 3\n",
    "err_capthick = 3\n",
    "elinewidth = 3\n",
    "\n",
    "# Bar formatting\n",
    "bar_linewidth = 4"
   ]
  },
  {
   "cell_type": "markdown",
   "metadata": {},
   "source": [
    "# Load data"
   ]
  },
  {
   "cell_type": "markdown",
   "metadata": {},
   "source": [
    "## Scores"
   ]
  },
  {
   "cell_type": "code",
   "execution_count": 13,
   "metadata": {},
   "outputs": [],
   "source": [
    "AllScores = {}\n",
    "for b in birds:\n",
    "    scores_file = 'All_scores_Bird {}.csv'.format(b)\n",
    "    AllScores['Bird ' + b] = pd.read_table(scores_path + scores_file, sep=',', index_col=0)"
   ]
  },
  {
   "cell_type": "markdown",
   "metadata": {},
   "source": [
    "## Per-epoch variables"
   ]
  },
  {
   "cell_type": "code",
   "execution_count": 14,
   "metadata": {},
   "outputs": [],
   "source": [
    "SleepVariables_raw = {}\n",
    "\n",
    "for file in os.listdir(var_path):\n",
    "    if file.endswith('.csv'):\n",
    "        data = pd.read_csv(var_path + file, index_col=0)\n",
    "        ch = file.split('_')[0].split('.')[0]   # get name of channel from filename\n",
    "        \n",
    "        SleepVariables_raw[ch] = data"
   ]
  },
  {
   "cell_type": "markdown",
   "metadata": {},
   "source": [
    "## Remove high-amplitude artifacts"
   ]
  },
  {
   "cell_type": "code",
   "execution_count": 15,
   "metadata": {},
   "outputs": [],
   "source": [
    "channel_artifact_thres = {\n",
    "    'Bird 2: 4 LEEGf-Fgr' : 504.72536588215985,\n",
    "    'Bird 2: 5 LEEGf-LEEGm' : 260.6034616921849,\n",
    "    'Bird 2: 6 LEEGm-LEEGp' : 248.599520730528,\n",
    "    'Bird 2: 7 REEGf-Fgr' : 524.3624990659733,\n",
    "    'Bird 2: 8 REEGm-Fgr' : 563.8844002322004,\n",
    "    'Bird 2: 9 REEGf-REEGm': 415.4251751631489,\n",
    "    'Bird 2LL: 4 LEEGf-Fgr' : 4406.433842845319,\n",
    "    'Bird 2LL: 5 LEEGf-LEEGm' : 366.25538004536395,\n",
    "    'Bird 2LL: 6 LEEGm-LEEGp' : 362.7644075778204,\n",
    "    'Bird 2LL: 7 REEGf-Fgr' : 4384.478343375354,\n",
    "    'Bird 2LL: 8 REEGm-Fgr' : 4411.889950231094,\n",
    "    'Bird 2LL: 9 REEGf-REEGm' : 610.215352151259,\n",
    "    'Bird 3: 4LEEGf-LEEGp' : 434.3907547931754,\n",
    "    'Bird 3: 5LEEGf-LEEGm' : 570.3830657447792,\n",
    "    'Bird 3: 6LEEGm-LEEGp' : 431.8025000446411,\n",
    "    'Bird 3: 7REEGf-REEGp' : 682.6618564103704,\n",
    "    'Bird 3: 8REEGf-REEGm' : 630.2331039533059,\n",
    "    'Bird 3: 9REEGm-REEGp' : 565.1595695127436,\n",
    "    'Bird 3LL: 4LEEGf-LEEGp' : 499.4068691714165,\n",
    "    'Bird 3LL: 5LEEGf-LEEGm' : 542.0150907203132,\n",
    "    'Bird 3LL: 6LEEGm-LEEGp' : 340.2319650694524,\n",
    "    'Bird 3LL: 7REEGf-REEGp' : 320.15491558954704,\n",
    "    'Bird 3LL: 8REEGf-REEGm' : 432.7719387388962,\n",
    "    'Bird 3LL: 9REEGm-REEGp' : 336.2021306395864,\n",
    "    'Bird 4: 4LEEGf-LEEGp' : 326.9907988688425,\n",
    "    'Bird 4: 5LEEGm-LEEGp' : 229.17181995825953,\n",
    "    'Bird 4: 6LEEGm-LEEGf' : 305.3846764062442,\n",
    "    'Bird 4: 7REEGf-Fgr' : 236.09867154982518,\n",
    "    'Bird 4: 8REEGf-REEGm' : 4358.523887351811,\n",
    "    'Bird 4: 9REEGf-REEGp' : 390.99383856831656,\n",
    "    'Bird 4LL: 4LEEGf-LEEGp' : 173.0596647759594,\n",
    "    'Bird 4LL: 5LEEGm-LEEGp' : 170.26483511120819,\n",
    "    'Bird 4LL: 7REEGf-Fgr' : 214.83376105957555,\n",
    "    'Bird 4LL: 8REEGf-REEGm' : 1373.1455172252208,\n",
    "    'Bird 4LL: 6LEEGm-LEEGf' : 171.49782939690607,\n",
    "    'Bird 4LL: 9REEGf-REEGp' : 160.2987283133437}"
   ]
  },
  {
   "cell_type": "code",
   "execution_count": 16,
   "metadata": {},
   "outputs": [],
   "source": [
    "EEGchannels = np.sort(list(channel_artifact_thres.keys()))\n",
    "\n",
    "\n",
    "AllEpochs = pd.DataFrame([]) # init --> get number of epochs\n",
    "\n",
    "nEpochs = pd.Series([])\n",
    "\n",
    "for ch in EEGchannels:\n",
    "    nEpochs.loc[ch] = len(SleepVariables_raw[ch])\n",
    "        \n",
    "AllEpochs['nEpochs'] = nEpochs"
   ]
  },
  {
   "cell_type": "code",
   "execution_count": 17,
   "metadata": {},
   "outputs": [],
   "source": [
    "nEpochs_remaining = pd.Series([])\n",
    "for ch in EEGchannels:\n",
    "    ChannelVariables = SleepVariables_raw[ch].copy()\n",
    "    \n",
    "    # pull out only sleep rows\n",
    "    sleep_data = ChannelVariables[ChannelVariables[\"is sleep\"]==1]\n",
    "    amp_thres = channel_artifact_thres[ch]\n",
    "    \n",
    "    # remove epochs with a max amplitude exceeding the threshold\n",
    "    sleep_data = sleep_data[np.abs(sleep_data['max amp']) < amp_thres]\n",
    "    \n",
    "    SleepVariables_raw[ch] = sleep_data\n",
    "    \n",
    "    # Calc number of epochs remaining\n",
    "    nEpochs_remaining.loc[ch] = len(sleep_data)\n",
    "        \n",
    "AllEpochs['nEpochs w/o max amp'] = nEpochs_remaining\n",
    "\n"
   ]
  },
  {
   "cell_type": "markdown",
   "metadata": {},
   "source": [
    "### pull out sleep data only and z-score SleepVariables"
   ]
  },
  {
   "cell_type": "code",
   "execution_count": 18,
   "metadata": {},
   "outputs": [],
   "source": [
    "dont_z_score = ['Epoch', 'sleep scores', 'video scores', 'is sleep', 'nPeaks',\n",
    "               'Delta', 'DeltaLog', 'GammaDeltaRatio', 'SD', 'diffDeltaLog', 'diffGammaDeltaRatio']\n",
    "\n",
    "channels = np.sort(list(SleepVariables_raw.keys()))\n",
    "SleepVariables = {}\n",
    "\n",
    "for ch in channels:\n",
    "    b = int(ch[5]) - 1\n",
    "    \n",
    "    raw_data = SleepVariables_raw[ch].copy()\n",
    "    \n",
    "    # get sleep data only\n",
    "    sleep_data = raw_data[raw_data['is sleep'] == 1] # exclude artifact, wake, drowsy, and US epochs\n",
    "    \n",
    "    tmp_data = sleep_data.copy()\n",
    "    \n",
    "    for variable in dont_z_score:\n",
    "        if variable in sleep_data.columns.values:\n",
    "            tmp_data = tmp_data.drop(variable, axis=1) # don't zscore these things\n",
    "    \n",
    "    # Zscore\n",
    "    for col in tmp_data.columns.values:\n",
    "        col_data = tmp_data[col]\n",
    "        col_data[~np.isnan(col_data)] = stat.zscore(col_data[~np.isnan(col_data)])\n",
    "        \n",
    "        tmp_data[col] = col_data\n",
    "        \n",
    "    # Add back in non-z-scored variables e.g.g Epoch # and manual scores\n",
    "    \n",
    "    for variable in dont_z_score:\n",
    "        if variable in sleep_data.columns.values:\n",
    "            tmp_data[variable] = sleep_data[variable]\n",
    "\n",
    "    \n",
    "    SleepVariables[ch] = tmp_data\n",
    "        "
   ]
  },
  {
   "cell_type": "markdown",
   "metadata": {},
   "source": [
    "## calc how many epochs removed"
   ]
  },
  {
   "cell_type": "code",
   "execution_count": 19,
   "metadata": {},
   "outputs": [
    {
     "name": "stdout",
     "output_type": "stream",
     "text": [
      "mean % epochs removed by max amp cutoff\n",
      "3.5787629583528764 %  +/- 2.1379415352564757\n"
     ]
    }
   ],
   "source": [
    "EEGchannels_to_use = ['Bird 2: 5 LEEGf-LEEGm',   'Bird 2: 6 LEEGm-LEEGp',   'Bird 2: 9 REEGf-REEGm',\n",
    "                      'Bird 2LL: 5 LEEGf-LEEGm', 'Bird 2LL: 6 LEEGm-LEEGp', 'Bird 2LL: 9 REEGf-REEGm',\n",
    "                      'Bird 3: 4LEEGf-LEEGp',   'Bird 3: 5LEEGf-LEEGm',   'Bird 3: 6LEEGm-LEEGp',\n",
    "                      'Bird 3LL: 4LEEGf-LEEGp', 'Bird 3LL: 5LEEGf-LEEGm', 'Bird 3LL: 6LEEGm-LEEGp',\n",
    "                      'Bird 4: 5LEEGm-LEEGp', 'Bird 4: 6LEEGm-LEEGf', 'Bird 4: 9REEGf-REEGp',\n",
    "                      'Bird 4LL: 5LEEGm-LEEGp', 'Bird 4LL: 6LEEGm-LEEGf', 'Bird 4LL: 9REEGf-REEGp']\n",
    "\n",
    "AllEpochs_to_use = AllEpochs.loc[EEGchannels_to_use]\n",
    "print('mean % epochs removed by max amp cutoff')\n",
    "perc_ep_rm = 100*((AllEpochs_to_use['nEpochs'] - AllEpochs_to_use['nEpochs w/o max amp'])/AllEpochs_to_use['nEpochs'])\n",
    "print(np.mean(perc_ep_rm), '%  +/-', np.std(perc_ep_rm))"
   ]
  },
  {
   "cell_type": "markdown",
   "metadata": {},
   "source": [
    "# Plot"
   ]
  },
  {
   "cell_type": "markdown",
   "metadata": {},
   "source": [
    "## get channels that were good through both LD and LL"
   ]
  },
  {
   "cell_type": "code",
   "execution_count": 20,
   "metadata": {},
   "outputs": [],
   "source": [
    "# LL: channels that were still good\n",
    "channelsToLoadEEG_LL = [['5 LEEGf-LEEGm', '6 LEEGm-LEEGp', '9 REEGf-REEGm'], # BIRD 2 bad ch: '4 LEEGf-Fgr', '7 REEGf-Fgr', '8 REEGm-Fgr',\n",
    "                        ['4LEEGf-LEEGp', '5LEEGf-LEEGm', '6LEEGm-LEEGp', '7REEGf-REEGp', '8REEGf-REEGm', '9REEGm-REEGp'],\n",
    "                        ['4LEEGf-LEEGp', '5LEEGm-LEEGp', '6LEEGm-LEEGf', '7REEGf-Fgr','9REEGf-REEGp']] # BIRD 4 bad ch: '8REEGf-REEGm'\n"
   ]
  },
  {
   "cell_type": "code",
   "execution_count": 21,
   "metadata": {},
   "outputs": [],
   "source": [
    "variables = [\"DeltaLog\", \"GammaDeltaRatio\", 'diffDeltaLog', 'diffGammaDeltaRatio',\n",
    "             \"nPeaks\", \"SD\"]"
   ]
  },
  {
   "cell_type": "code",
   "execution_count": 22,
   "metadata": {},
   "outputs": [],
   "source": [
    "sns.set_palette(colors_video)"
   ]
  },
  {
   "cell_type": "code",
   "execution_count": 23,
   "metadata": {},
   "outputs": [],
   "source": [
    "legendMarkers = []\n",
    "\n",
    "color = 'b'\n",
    "legendMarkers.append(plt.Line2D([0],[0], color=color, alpha=linealpha, lw=linewidth/2)) \n",
    "\n",
    "color = 'r'\n",
    "legendMarkers.append(plt.Line2D([0],[0], color=color, alpha=linealpha, lw=linewidth/2)) "
   ]
  },
  {
   "cell_type": "code",
   "execution_count": 24,
   "metadata": {},
   "outputs": [],
   "source": [
    "BirdChannels = {}"
   ]
  },
  {
   "cell_type": "markdown",
   "metadata": {},
   "source": [
    "### Bird 2"
   ]
  },
  {
   "cell_type": "code",
   "execution_count": 25,
   "metadata": {},
   "outputs": [],
   "source": [
    "bird = 'Bird 2'\n",
    "b = int(bird[5]) - 1\n",
    "bird_channels_all = channelsToLoadEEG_LL[b - 1]\n",
    "BirdChannels[bird] = bird_channels_all"
   ]
  },
  {
   "cell_type": "markdown",
   "metadata": {},
   "source": [
    "### Bird 3"
   ]
  },
  {
   "cell_type": "code",
   "execution_count": 26,
   "metadata": {},
   "outputs": [],
   "source": [
    "bird = 'Bird 3'\n",
    "b = int(bird[5]) - 1\n",
    "bird_channels_all = channelsToLoadEEG_LL[b-1]\n",
    "BirdChannels[bird] = bird_channels_all[0:4] # take out channel 8 -- drastic change in quiet wake nPeaks from LD to LL\n",
    "BirdChannels[bird].append(bird_channels_all[5])\n"
   ]
  },
  {
   "cell_type": "markdown",
   "metadata": {},
   "source": [
    "### Bird 4"
   ]
  },
  {
   "cell_type": "code",
   "execution_count": 27,
   "metadata": {},
   "outputs": [],
   "source": [
    "bird = 'Bird 4'\n",
    "b = int(bird[5]) - 1\n",
    "bird_channels_all = channelsToLoadEEG_LL[b-1]\n",
    "BirdChannels[bird] = bird_channels_all\n"
   ]
  },
  {
   "cell_type": "markdown",
   "metadata": {
    "collapsed": true
   },
   "source": [
    "## Histograms: one variable, all birds"
   ]
  },
  {
   "cell_type": "markdown",
   "metadata": {},
   "source": [
    "### nPeaks raw"
   ]
  },
  {
   "cell_type": "code",
   "execution_count": 28,
   "metadata": {},
   "outputs": [
    {
     "data": {
      "image/png": "[encoded data removed]",
      "text/plain": [
       "<Figure size 1080x216 with 3 Axes>"
      ]
     },
     "metadata": {},
     "output_type": "display_data"
    },
    {
     "data": {
      "image/png": "[encoded data removed]",
      "text/plain": [
       "<Figure size 1080x216 with 5 Axes>"
      ]
     },
     "metadata": {},
     "output_type": "display_data"
    },
    {
     "data": {
      "image/png": "[encoded data removed]",
      "text/plain": [
       "<Figure size 1080x216 with 5 Axes>"
      ]
     },
     "metadata": {},
     "output_type": "display_data"
    }
   ],
   "source": [
    "var = 'nPeaks'\n",
    "x_range = (50, 150)\n",
    "\n",
    "for bird in ['Bird 2', 'Bird 3', 'Bird 4']:\n",
    "    b = int(bird[5]) - 1\n",
    "    bird_channels_all = channelsToLoadEEG[b]\n",
    "    bird_channels = BirdChannels[bird]\n",
    "\n",
    "    plt.figure(figsize=(15,3))\n",
    "\n",
    "    for n, ch_name in enumerate(bird_channels):\n",
    "        plt.subplot(1, len(bird_channels), n+1)\n",
    "\n",
    "        for LDorLL in ['', 'LL']:\n",
    "\n",
    "            ch_to_plot = bird + LDorLL + ': ' + ch_name\n",
    "\n",
    "            ch_variables = SleepVariables[ch_to_plot]\n",
    "            ch_variables_sleep = ch_variables[ch_variables['is sleep']==1]\n",
    "\n",
    "            if LDorLL == 'LL':\n",
    "                color = 'r'\n",
    "            else:\n",
    "                color = 'b'\n",
    "\n",
    "            plt.hist(ch_variables[var], color=color, density=True, bins=200,\n",
    "                     histtype='step', lw=linewidth/2, alpha=linealpha,\n",
    "                     range=x_range)\n",
    "\n",
    "            plt.xlabel(ch_name)\n",
    "            plt.xlim(x_range)\n",
    "            #plt.ylim(0,2)\n",
    "\n",
    "    plt.legend(legendMarkers,['LD','LL'])\n",
    "\n",
    "    plt.suptitle(bird + \": \" + var)\n",
    "    plt.tight_layout()\n",
    "    plt.savefig(saveAsPath + saveAsName + var + '_histograms.pdf')\n"
   ]
  },
  {
   "cell_type": "markdown",
   "metadata": {},
   "source": [
    "#### plot bar graph"
   ]
  },
  {
   "cell_type": "code",
   "execution_count": 29,
   "metadata": {},
   "outputs": [
    {
     "name": "stdout",
     "output_type": "stream",
     "text": [
      "Bird 2\n",
      "Ttest_relResult(statistic=5.498242791822666, pvalue=0.03152320094905814)\n",
      "Bird 3\n",
      "Ttest_relResult(statistic=2.038948435790124, pvalue=0.11107632572863574)\n",
      "Bird 4\n",
      "Ttest_relResult(statistic=12.403875191224182, pvalue=0.00024284770757580887)\n"
     ]
    },
    {
     "data": {
      "image/png": "[encoded data removed]",
      "text/plain": [
       "<Figure size 504x216 with 3 Axes>"
      ]
     },
     "metadata": {},
     "output_type": "display_data"
    }
   ],
   "source": [
    "var = 'nPeaks'\n",
    "y_range = ([27,40], [27,40], [27,40])\n",
    "plt.figure(figsize=(7,3))\n",
    "\n",
    "All_LD_means = {}\n",
    "All_LL_means = {}\n",
    "\n",
    "for bird in ['Bird 2', 'Bird 3', 'Bird 4']:\n",
    "    b = int(bird[5]) - 1\n",
    "    bird_channels_all = channelsToLoadEEG[b]\n",
    "    bird_channels = BirdChannels[bird]\n",
    "    plt.subplot(1, len(birds_LL), b)\n",
    "\n",
    "    bird_LD_means = []\n",
    "    bird_LL_means = []\n",
    "    for n, ch_name in enumerate(bird_channels):\n",
    "        \n",
    "\n",
    "        for LDorLL in ['', 'LL']:\n",
    "\n",
    "            ch_to_plot = bird + LDorLL + ': ' + ch_name\n",
    "\n",
    "            ch_variables = SleepVariables[ch_to_plot]\n",
    "            ch_variables_sleep = ch_variables[ch_variables['is sleep']==1]\n",
    "\n",
    "            if LDorLL == 'LL':\n",
    "                color = LL_color\n",
    "                x_pos = 1\n",
    "                LL_mean = np.nanmean(ch_variables[var])/epochLength\n",
    "                bird_LL_means.append(LL_mean)\n",
    "            else:\n",
    "                color = LD_color\n",
    "                x_pos = 0\n",
    "                LD_mean = np.nanmean(ch_variables[var])/epochLength\n",
    "                bird_LD_means.append(LD_mean)\n",
    "\n",
    "            plt.scatter(x_pos, np.nanmean(ch_variables[var])/epochLength, color=color)\n",
    "            \n",
    "        # line plot\n",
    "        plt.plot([0, 1], [LD_mean, LL_mean], color=colors_birds[b+1])\n",
    "\n",
    "    # bar plot of MEDIAN across channels\n",
    "    plt.bar([0, 1], [np.median(bird_LD_means), np.median(bird_LL_means)], \n",
    "            width=1, color='none', edgecolor=[LD_color, LL_color], linewidth=4)\n",
    "    \n",
    "    #plt.legend(legendMarkers,['LD','LL'])\n",
    "    plt.xticks([0, 1], ['LD', 'LL'])\n",
    "\n",
    "    if b !=1:\n",
    "        plt.yticks([])\n",
    "    plt.xlim(-1, 2)\n",
    "        \n",
    "    plt.ylim(y_range[b-1])\n",
    "    sns.despine()\n",
    "\n",
    "    plt.title(bird)\n",
    "    \n",
    "    print(bird)\n",
    "    print(stat.ttest_rel(bird_LD_means, bird_LL_means))\n",
    "    All_LD_means[bird] = bird_LD_means\n",
    "    All_LL_means[bird] = bird_LL_means\n",
    "    \n",
    "plt.suptitle(\"Sleep: \" + var)\n",
    "plt.tight_layout()\n",
    "#plt.savefig(saveAsPath + saveAsName + var + '_barplots.pdf')\n"
   ]
  },
  {
   "cell_type": "code",
   "execution_count": 30,
   "metadata": {},
   "outputs": [
    {
     "data": {
      "text/plain": [
       "{'Bird 2': [32.290305825646136, 38.36363824803598, 31.09154275577816],\n",
       " 'Bird 3': [31.955381392100566,\n",
       "  31.71586948269317,\n",
       "  31.497486615366075,\n",
       "  37.67382211621556,\n",
       "  31.42475625993214],\n",
       " 'Bird 4': [32.3115919876554,\n",
       "  32.89021288380669,\n",
       "  33.46163043319773,\n",
       "  29.12864622288706,\n",
       "  32.34846750044037]}"
      ]
     },
     "execution_count": 30,
     "metadata": {},
     "output_type": "execute_result"
    }
   ],
   "source": [
    "All_LD_means"
   ]
  },
  {
   "cell_type": "code",
   "execution_count": 31,
   "metadata": {},
   "outputs": [
    {
     "data": {
      "text/plain": [
       "[['5 LEEGf-LEEGm', '6 LEEGm-LEEGp', '9 REEGf-REEGm'],\n",
       " ['4LEEGf-LEEGp',\n",
       "  '5LEEGf-LEEGm',\n",
       "  '6LEEGm-LEEGp',\n",
       "  '7REEGf-REEGp',\n",
       "  '8REEGf-REEGm',\n",
       "  '9REEGm-REEGp'],\n",
       " ['4LEEGf-LEEGp',\n",
       "  '5LEEGm-LEEGp',\n",
       "  '6LEEGm-LEEGf',\n",
       "  '7REEGf-Fgr',\n",
       "  '9REEGf-REEGp']]"
      ]
     },
     "execution_count": 31,
     "metadata": {},
     "output_type": "execute_result"
    }
   ],
   "source": [
    "channelsToLoadEEG_LL"
   ]
  },
  {
   "cell_type": "code",
   "execution_count": 32,
   "metadata": {},
   "outputs": [
    {
     "data": {
      "text/plain": [
       "{'Bird 2': [31.539005933910392, 37.19030184687983, 30.426347697853515],\n",
       " 'Bird 3': [30.193123640348727,\n",
       "  27.940300940643287,\n",
       "  30.140305644102757,\n",
       "  29.44095139930035,\n",
       "  31.659985288709084],\n",
       " 'Bird 4': [31.03718609143593,\n",
       "  31.299216984927735,\n",
       "  31.820523031992565,\n",
       "  28.048691905201597,\n",
       "  31.137252442911635]}"
      ]
     },
     "execution_count": 32,
     "metadata": {},
     "output_type": "execute_result"
    }
   ],
   "source": [
    "All_LL_means"
   ]
  },
  {
   "cell_type": "markdown",
   "metadata": {},
   "source": [
    "#### Collate each ch separately"
   ]
  },
  {
   "cell_type": "code",
   "execution_count": 33,
   "metadata": {},
   "outputs": [],
   "source": [
    "all_ch_means = pd.DataFrame([])\n",
    "for bird in All_LD_means.keys():\n",
    "    tmp = pd.DataFrame(All_LD_means[bird], columns=['value'])\n",
    "    tmp['Light'] = 'LD'\n",
    "    tmp['Bird'] = bird[5]\n",
    "    tmp['Channel'] = BirdChannels[bird]\n",
    "    all_ch_means = all_ch_means.append(tmp, sort=False)\n",
    "    \n",
    "for bird in All_LD_means.keys():\n",
    "    tmp = pd.DataFrame(All_LL_means[bird], columns=['value'])\n",
    "    tmp['Light'] = 'LL'\n",
    "    tmp['Bird'] = bird[5]\n",
    "    tmp['Channel'] = BirdChannels[bird]\n",
    "    all_ch_means = all_ch_means.append(tmp)"
   ]
  },
  {
   "cell_type": "markdown",
   "metadata": {},
   "source": [
    "## FIGURE 9H"
   ]
  },
  {
   "cell_type": "markdown",
   "metadata": {},
   "source": [
    "#### plot bar graph w/ mean line"
   ]
  },
  {
   "cell_type": "code",
   "execution_count": 34,
   "metadata": {},
   "outputs": [],
   "source": [
    "LD_grandmean = []\n",
    "LL_grandmean = []\n",
    "for bird in All_LD_means.keys():\n",
    "    LD_grandmean.append(np.median(All_LD_means[bird])) # MEDIAN\n",
    "    LL_grandmean.append(np.median(All_LL_means[bird]))"
   ]
  },
  {
   "cell_type": "code",
   "execution_count": 35,
   "metadata": {},
   "outputs": [
    {
     "name": "stdout",
     "output_type": "stream",
     "text": [
      "Bird 2\n",
      "Ttest_relResult(statistic=5.498242791822666, pvalue=0.03152320094905814)\n",
      "Bird 3\n",
      "Ttest_relResult(statistic=2.038948435790124, pvalue=0.11107632572863574)\n",
      "Bird 4\n",
      "Ttest_relResult(statistic=12.403875191224182, pvalue=0.00024284770757580887)\n"
     ]
    },
    {
     "data": {
      "image/png": "[encoded data removed]",
      "text/plain": [
       "<Figure size 504x288 with 3 Axes>"
      ]
     },
     "metadata": {},
     "output_type": "display_data"
    }
   ],
   "source": [
    "var = 'nPeaks'\n",
    "y_range = ([27,40], [27,40], [27,40])\n",
    "plt.figure(figsize=(7,4))\n",
    "\n",
    "All_LD_means = {}\n",
    "All_LL_means = {}\n",
    "\n",
    "for bird in ['Bird 2', 'Bird 3', 'Bird 4']:\n",
    "    b = int(bird[5]) - 1\n",
    "    bird_channels_all = channelsToLoadEEG[b]\n",
    "    bird_channels = BirdChannels[bird]\n",
    "    plt.subplot(1, len(birds_LL), b)\n",
    "\n",
    "    bird_LD_means = []\n",
    "    bird_LL_means = []\n",
    "    for n, ch_name in enumerate(bird_channels):\n",
    "        \n",
    "\n",
    "        for LDorLL in ['', 'LL']:\n",
    "\n",
    "            ch_to_plot = bird + LDorLL + ': ' + ch_name\n",
    "\n",
    "            ch_variables = SleepVariables[ch_to_plot]\n",
    "            ch_variables_sleep = ch_variables[ch_variables['is sleep']==1]\n",
    "\n",
    "            if LDorLL == 'LL':\n",
    "                color = LL_color\n",
    "                x_pos = 1\n",
    "                LL_mean = np.nanmean(ch_variables[var])/epochLength\n",
    "                bird_LL_means.append(LL_mean)\n",
    "            else:\n",
    "                color = LD_color\n",
    "                x_pos = 0\n",
    "                LD_mean = np.nanmean(ch_variables[var])/epochLength\n",
    "                bird_LD_means.append(LD_mean)\n",
    "\n",
    "            plt.scatter(x_pos, np.nanmean(ch_variables[var])/epochLength, color=color)\n",
    "            \n",
    "        # line plot\n",
    "        plt.plot([0, 1], [LD_mean, LL_mean], color=colors_birds[b+1])\n",
    "\n",
    "    # bar plot of MEDIAN across channels\n",
    "    plt.bar([0, 1], [np.median(bird_LD_means), np.median(bird_LL_means)], \n",
    "            width=1, color='none', edgecolor=[LD_color, LL_color], linewidth=4)\n",
    "    \n",
    "    #plt.legend(legendMarkers,['LD','LL'])\n",
    "    plt.xticks([0, 1], ['LD', 'LL'])\n",
    "\n",
    "    if b !=1:\n",
    "        plt.yticks([])\n",
    "    plt.xlim(-1, 2)\n",
    "        \n",
    "    plt.ylim(y_range[b-1])\n",
    "    sns.despine()\n",
    "\n",
    "    plt.title(bird, color=colors_birds[b+1])\n",
    "    \n",
    "    print(bird)\n",
    "    print(stat.ttest_rel(bird_LD_means, bird_LL_means))\n",
    "    All_LD_means[bird] = bird_LD_means\n",
    "    All_LL_means[bird] = bird_LL_means\n",
    "    \n",
    "    plt.axhline(np.mean(LD_grandmean), linestyle='--', color=LD_color, alpha=.7)\n",
    "    plt.axhline(np.mean(LL_grandmean), linestyle='--', color=LL_color, alpha=.7)\n",
    "    \n",
    "plt.suptitle(\"Sleep: \" + var)\n",
    "plt.tight_layout()\n",
    "\n",
    "if savePlots:\n",
    "    plt.savefig(saveAsPath + saveAsName + var + '_barplots.pdf')\n"
   ]
  },
  {
   "cell_type": "markdown",
   "metadata": {},
   "source": [
    "## save to csv"
   ]
  },
  {
   "cell_type": "code",
   "execution_count": 36,
   "metadata": {},
   "outputs": [],
   "source": [
    "if saveData:\n",
    "    all_ch_means.to_csv(saveAsPath + saveAsName + var + '_sleep.csv')"
   ]
  },
  {
   "cell_type": "markdown",
   "metadata": {},
   "source": [
    "## ANOVAs - median of each bird"
   ]
  },
  {
   "cell_type": "code",
   "execution_count": 37,
   "metadata": {},
   "outputs": [],
   "source": [
    "all_means = pd.DataFrame(np.append(LD_grandmean, LL_grandmean), columns=['value'])\n",
    "all_means['State'] = 's'\n",
    "all_means['Light'] = ['LD', 'LD', 'LD', 'LL', 'LL', 'LL']\n",
    "all_means['Bird'] = [2, 3, 4, 2, 3, 4]"
   ]
  },
  {
   "cell_type": "code",
   "execution_count": 38,
   "metadata": {},
   "outputs": [],
   "source": [
    "# Quiet wake values -- LD\n",
    "tmp = pd.DataFrame([32.50367946253874, 32.60616329556285, 33.75741478530323], columns=['value']) # medians\n",
    "tmp['State'] = 'q'\n",
    "tmp['Light'] = 'LD'\n",
    "tmp['Bird'] = [2, 3, 4]\n",
    "all_means = all_means.append(tmp, sort=False)"
   ]
  },
  {
   "cell_type": "code",
   "execution_count": 39,
   "metadata": {},
   "outputs": [
    {
     "data": {
      "text/html": [
       "<div>\n",
       "<style scoped>\n",
       "    .dataframe tbody tr th:only-of-type {\n",
       "        vertical-align: middle;\n",
       "    }\n",
       "\n",
       "    .dataframe tbody tr th {\n",
       "        vertical-align: top;\n",
       "    }\n",
       "\n",
       "    .dataframe thead th {\n",
       "        text-align: right;\n",
       "    }\n",
       "</style>\n",
       "<table border=\"1\" class=\"dataframe\">\n",
       "  <thead>\n",
       "    <tr style=\"text-align: right;\">\n",
       "      <th></th>\n",
       "      <th>value</th>\n",
       "      <th>State</th>\n",
       "      <th>Light</th>\n",
       "      <th>Bird</th>\n",
       "    </tr>\n",
       "  </thead>\n",
       "  <tbody>\n",
       "    <tr>\n",
       "      <td>0</td>\n",
       "      <td>32.290306</td>\n",
       "      <td>s</td>\n",
       "      <td>LD</td>\n",
       "      <td>2</td>\n",
       "    </tr>\n",
       "    <tr>\n",
       "      <td>1</td>\n",
       "      <td>31.715869</td>\n",
       "      <td>s</td>\n",
       "      <td>LD</td>\n",
       "      <td>3</td>\n",
       "    </tr>\n",
       "    <tr>\n",
       "      <td>2</td>\n",
       "      <td>32.348468</td>\n",
       "      <td>s</td>\n",
       "      <td>LD</td>\n",
       "      <td>4</td>\n",
       "    </tr>\n",
       "    <tr>\n",
       "      <td>3</td>\n",
       "      <td>31.539006</td>\n",
       "      <td>s</td>\n",
       "      <td>LL</td>\n",
       "      <td>2</td>\n",
       "    </tr>\n",
       "    <tr>\n",
       "      <td>4</td>\n",
       "      <td>30.140306</td>\n",
       "      <td>s</td>\n",
       "      <td>LL</td>\n",
       "      <td>3</td>\n",
       "    </tr>\n",
       "    <tr>\n",
       "      <td>5</td>\n",
       "      <td>31.137252</td>\n",
       "      <td>s</td>\n",
       "      <td>LL</td>\n",
       "      <td>4</td>\n",
       "    </tr>\n",
       "    <tr>\n",
       "      <td>0</td>\n",
       "      <td>32.503679</td>\n",
       "      <td>q</td>\n",
       "      <td>LD</td>\n",
       "      <td>2</td>\n",
       "    </tr>\n",
       "    <tr>\n",
       "      <td>1</td>\n",
       "      <td>32.606163</td>\n",
       "      <td>q</td>\n",
       "      <td>LD</td>\n",
       "      <td>3</td>\n",
       "    </tr>\n",
       "    <tr>\n",
       "      <td>2</td>\n",
       "      <td>33.757415</td>\n",
       "      <td>q</td>\n",
       "      <td>LD</td>\n",
       "      <td>4</td>\n",
       "    </tr>\n",
       "    <tr>\n",
       "      <td>0</td>\n",
       "      <td>33.188392</td>\n",
       "      <td>q</td>\n",
       "      <td>LL</td>\n",
       "      <td>2</td>\n",
       "    </tr>\n",
       "    <tr>\n",
       "      <td>1</td>\n",
       "      <td>32.303571</td>\n",
       "      <td>q</td>\n",
       "      <td>LL</td>\n",
       "      <td>3</td>\n",
       "    </tr>\n",
       "    <tr>\n",
       "      <td>2</td>\n",
       "      <td>33.664621</td>\n",
       "      <td>q</td>\n",
       "      <td>LL</td>\n",
       "      <td>4</td>\n",
       "    </tr>\n",
       "  </tbody>\n",
       "</table>\n",
       "</div>"
      ],
      "text/plain": [
       "       value State Light  Bird\n",
       "0  32.290306     s    LD     2\n",
       "1  31.715869     s    LD     3\n",
       "2  32.348468     s    LD     4\n",
       "3  31.539006     s    LL     2\n",
       "4  30.140306     s    LL     3\n",
       "5  31.137252     s    LL     4\n",
       "0  32.503679     q    LD     2\n",
       "1  32.606163     q    LD     3\n",
       "2  33.757415     q    LD     4\n",
       "0  33.188392     q    LL     2\n",
       "1  32.303571     q    LL     3\n",
       "2  33.664621     q    LL     4"
      ]
     },
     "execution_count": 39,
     "metadata": {},
     "output_type": "execute_result"
    }
   ],
   "source": [
    "# Quiet wake values -- LL\n",
    "tmp = pd.DataFrame([33.188392050587176, 32.303570894964885, 33.664621228723796], columns=['value']) # medians\n",
    "tmp['State'] = 'q'\n",
    "tmp['Light'] = 'LL'\n",
    "tmp['Bird'] = [2, 3, 4]\n",
    "all_means = all_means.append(tmp, sort=False)\n",
    "all_means"
   ]
  },
  {
   "cell_type": "code",
   "execution_count": 40,
   "metadata": {},
   "outputs": [
    {
     "name": "stdout",
     "output_type": "stream",
     "text": [
      "                  Anova\n",
      "=========================================\n",
      "            F Value  Num DF Den DF Pr > F\n",
      "-----------------------------------------\n",
      "Light         4.1047 1.0000 2.0000 0.1800\n",
      "State        24.1251 1.0000 2.0000 0.0390\n",
      "Light:State 193.6011 1.0000 2.0000 0.0051\n",
      "=========================================\n",
      "\n"
     ]
    }
   ],
   "source": [
    "# randomized measures ANOVA\n",
    "from statsmodels.stats.anova import AnovaRM\n",
    "\n",
    "model = AnovaRM(all_means, 'value', 'Bird', within=['Light', 'State'])\n",
    "anova_table = model.fit()\n",
    "\n",
    "print(anova_table)"
   ]
  },
  {
   "cell_type": "code",
   "execution_count": 41,
   "metadata": {},
   "outputs": [
    {
     "data": {
      "text/plain": [
       "Ttest_relResult(statistic=-4.945380839318821, pvalue=0.03854014955688214)"
      ]
     },
     "execution_count": 41,
     "metadata": {},
     "output_type": "execute_result"
    }
   ],
   "source": [
    "# Sleep: LL vs LD\n",
    "means1 = all_means[(all_means['State']=='s')&(all_means['Light']=='LL')]\n",
    "means2 = all_means[(all_means['State']=='s')&(all_means['Light']=='LD')]\n",
    "stat.ttest_rel(means1['value'], means2['value'])"
   ]
  },
  {
   "cell_type": "code",
   "execution_count": 42,
   "metadata": {},
   "outputs": [
    {
     "data": {
      "text/plain": [
       "Ttest_relResult(statistic=0.3211468590891247, pvalue=0.7785528619529751)"
      ]
     },
     "execution_count": 42,
     "metadata": {},
     "output_type": "execute_result"
    }
   ],
   "source": [
    "# Wake: LL vs LD\n",
    "means1 = all_means[(all_means['State']=='q')&(all_means['Light']=='LL')]\n",
    "means2 = all_means[(all_means['State']=='q')&(all_means['Light']=='LD')]\n",
    "stat.ttest_rel(means1['value'], means2['value'])"
   ]
  },
  {
   "cell_type": "code",
   "execution_count": 44,
   "metadata": {},
   "outputs": [
    {
     "data": {
      "text/plain": [
       "Ttest_relResult(statistic=-1.626695637860787, pvalue=0.164730281893125)"
      ]
     },
     "execution_count": 44,
     "metadata": {},
     "output_type": "execute_result"
    }
   ],
   "source": [
    "# LL vs LD overall\n",
    "means1 = all_means[(all_means['Light']=='LL')]\n",
    "means2 = all_means[(all_means['Light']=='LD')]\n",
    "stat.ttest_rel(means1['value'], means2['value'])"
   ]
  },
  {
   "cell_type": "code",
   "execution_count": 43,
   "metadata": {},
   "outputs": [
    {
     "data": {
      "text/plain": [
       "Ttest_relResult(statistic=4.289391208684602, pvalue=0.007793580321724434)"
      ]
     },
     "execution_count": 43,
     "metadata": {},
     "output_type": "execute_result"
    }
   ],
   "source": [
    "# All wake vs all sleep\n",
    "means1 = all_means[(all_means['State']=='q')]\n",
    "means2 = all_means[(all_means['State']=='s')]\n",
    "stat.ttest_rel(means1['value'], means2['value'])"
   ]
  },
  {
   "cell_type": "code",
   "execution_count": null,
   "metadata": {},
   "outputs": [],
   "source": []
  },
  {
   "cell_type": "code",
   "execution_count": null,
   "metadata": {},
   "outputs": [],
   "source": []
  },
  {
   "cell_type": "code",
   "execution_count": null,
   "metadata": {},
   "outputs": [],
   "source": []
  }
 ],
 "metadata": {
  "kernelspec": {
   "display_name": "Python 3",
   "language": "python",
   "name": "python3"
  },
  "language_info": {
   "codemirror_mode": {
    "name": "ipython",
    "version": 3
   },
   "file_extension": ".py",
   "mimetype": "text/x-python",
   "name": "python",
   "nbconvert_exporter": "python",
   "pygments_lexer": "ipython3",
   "version": "3.7.4"
  },
  "toc": {
   "base_numbering": 1,
   "nav_menu": {},
   "number_sections": true,
   "sideBar": true,
   "skip_h1_title": false,
   "title_cell": "Table of Contents",
   "title_sidebar": "Contents",
   "toc_cell": false,
   "toc_position": {
    "height": "calc(100% - 180px)",
    "left": "10px",
    "top": "150px",
    "width": "320.391px"
   },
   "toc_section_display": true,
   "toc_window_display": true
  }
 },
 "nbformat": 4,
 "nbformat_minor": 1
}
