{
 "cells": [
  {
   "cell_type": "markdown",
   "metadata": {},
   "source": [
    "# Setup"
   ]
  },
  {
   "cell_type": "code",
   "execution_count": 1,
   "metadata": {},
   "outputs": [],
   "source": [
    "%matplotlib inline\n",
    "\n",
    "import numpy as np\n",
    "import scipy.signal as sig\n",
    "import scipy.stats as stat\n",
    "import matplotlib.pyplot as plt\n",
    "import seaborn as sns\n",
    "import os\n",
    "import h5py\n",
    "import pandas as pd\n",
    "\n",
    "from pandas import DataFrame,Series,read_table"
   ]
  },
  {
   "cell_type": "code",
   "execution_count": 2,
   "metadata": {},
   "outputs": [],
   "source": [
    "savePlots = False    # whether or not to save plots\n",
    "saveData = True # whether or not to save csv files\n",
    "\n",
    "saveAsPath = './'\n"
   ]
  },
  {
   "cell_type": "code",
   "execution_count": 3,
   "metadata": {},
   "outputs": [],
   "source": [
    "path = '/Users/svcanavan/Dropbox/Coding in progress/00_BudgieSleep/Data_copies/'\n",
    "\n",
    "birdPaths =    ['/Volumes/data/svcanavan/Documents/00_BudgieSleep/01_BudgieSleep_ScoredData/01_BudgieFemale_green1/00_Baseline_night/',\n",
    "                '/Volumes/data/svcanavan/Documents/00_BudgieSleep/01_BudgieSleep_ScoredData/02_BudgieMale_yellow1/00_Baseline_night/',\n",
    "                '/Volumes/data/svcanavan/Documents/00_BudgieSleep/01_BudgieSleep_ScoredData/03_BudgieFemale_white1/00_Baseline_night/',\n",
    "                '/Volumes/data/svcanavan/Documents/00_BudgieSleep/01_BudgieSleep_ScoredData/04_BudgieMale_yellow2/00_Baseline_night/',\n",
    "                '/Volumes/data/svcanavan/Documents/00_BudgieSleep/01_BudgieSleep_ScoredData/05_BudgieFemale_green2/00_Baseline_night/']\n",
    "\n",
    "arfFilePaths =  ['EEG 2 scored/',\n",
    "                 'EEG 3 scored/',\n",
    "                 'EEG 3 scored/',\n",
    "                 'EEG 4 scored/',\n",
    "                 'EEG 4 scored/']\n",
    "\n",
    "### load BEST EEG channels - as determined during manual scoring ####\n",
    "channelsToLoadEEG = [['5 LEEGf-LEEGp', '6 LEEGm-LEEGp'],\n",
    "                     ['5 LEEGf-LEEGm', '4 LEEGf-Fgr'],\n",
    "                     ['4LEEGf-LEEGp', '9REEGm-REEGp'],\n",
    "                     ['9REEGf-REEGp', '6LEEGm-LEEGf'],\n",
    "                     ['4LEEGf-LEEGp','7REEGf-REEGp']]\n",
    "\n",
    "channelsToLoadEOG = [['1 LEOG-Fgr', '2 REOG-Fgr'],\n",
    "                     ['2 LEOG-Fgr', '3 REOG-Fgr'],\n",
    "                     ['2LEOG-Fgr', '3REOG-Fgr'],\n",
    "                     ['2LEOG-Fgr', '3REOG-Fgr'],\n",
    "                     ['2LEOG-Fgr', '3REOG-Fgr']]\n",
    "\n",
    "birds_LL = [1,2,3]\n",
    "nBirds_LL = len(birds_LL)\n",
    "\n",
    "LL_FilePaths = ['/Volumes/data/svcanavan/Documents/00_BudgieSleep/01_BudgieSleep_ScoredData/02_BudgieMale_yellow1/',\n",
    "                '/Volumes/data/svcanavan/Documents/00_BudgieSleep/01_BudgieSleep_ScoredData/03_BudgieFemale_white1/',\n",
    "                '/Volumes/data/svcanavan/Documents/00_BudgieSleep/01_BudgieSleep_ScoredData/04_BudgieMale_yellow2/']\n",
    "\n",
    "LL_arfFilePaths = ['01_Constant_light/EEG 2 preprocessed/']\n",
    "\n",
    "lightsOffSec = np.array([7947, 9675, 9861 + 8*3600, 9873, 13467])  # lights off times in seconds from beginning of file\n",
    "lightsOnSec = np.array([46449, 48168, 48375+ 8*3600, 48381, 52005]) # Bird 3 gets 8 hours added b/c file starts at 8:00 instead of 16:00\n",
    "\n",
    "epochLength = 3\n",
    "sr = 200\n",
    "scalingFactor = (2**15)*0.195       # scaling/conversion factor from amplitude to uV (when recording arf from jrecord)\n",
    "\n",
    "stages = ['w','d','u','i','s','r'] # wake, drowsy, unihem sleep, intermediate sleep, SWS, REM\n",
    "stagesSleep =    ['u','i','s','r']\n",
    "\n",
    "stagesVideo = ['m','q','d','s','u'] # moving wake, quiet wake, drowsy, sleep, unclear\n",
    "\n",
    "## Path to scores formatted as CSVs\n",
    "formatted_scores_path = '/Volumes/data/svcanavan/Documents/00_BudgieSleep/01_BudgieSleep_ScoredData/formatted_scores/'\n"
   ]
  },
  {
   "cell_type": "markdown",
   "metadata": {},
   "source": [
    "Calculate general variables"
   ]
  },
  {
   "cell_type": "code",
   "execution_count": 4,
   "metadata": {},
   "outputs": [],
   "source": [
    "lightsOffEp = lightsOffSec / epochLength\n",
    "lightsOnEp = lightsOnSec / epochLength\n",
    "\n",
    "nBirds = len(birdPaths)\n",
    "birds = np.arange(0, nBirds)\n",
    "\n",
    "epochLengthPts = epochLength*sr\n",
    "\n",
    "nStages = len(stagesSleep)"
   ]
  },
  {
   "cell_type": "markdown",
   "metadata": {},
   "source": [
    "# Read in manual & video scores: DIRECTLY FROM ARF FILES"
   ]
  },
  {
   "cell_type": "markdown",
   "metadata": {},
   "source": [
    "## LD"
   ]
  },
  {
   "cell_type": "code",
   "execution_count": 5,
   "metadata": {},
   "outputs": [],
   "source": [
    "# LD\n",
    "\n",
    "AllScores = {}\n",
    "\n",
    "for b in range(nBirds):\n",
    "\n",
    "    arf_path = birdPaths[b] + arfFilePaths[b]\n",
    "\n",
    "    # init\n",
    "    all_scores_array = np.array([], dtype='str')\n",
    "    all_video_scores_array = np.array([], dtype='str')\n",
    "    all_datetime_array = np.array([], dtype='datetime64')\n",
    "    all_video_datetime_array = np.array([], dtype='datetime64')\n",
    "\n",
    "    # go through each arf file in order\n",
    "    for file in os.listdir(arf_path):\n",
    "        if file.endswith('.arf'):\n",
    "            # open arf file\n",
    "            arffile = h5py.File(arf_path+file, 'r')\n",
    "\n",
    "            # Get datetime from file name\n",
    "            date = file.split('_')[2]\n",
    "            if b == 0:      # fill in known time for first bird\n",
    "                if date == '2014-10-17':\n",
    "                    hours = '17'\n",
    "                    minutes = '32'\n",
    "                else:\n",
    "                    hours = '08'\n",
    "                    minutes = '30'\n",
    "            else:\n",
    "                time = file.split('_')[3]\n",
    "                hours = time.split('-')[0]\n",
    "                minutes = time.split('-')[1]\n",
    "            datetime_start = np.datetime64(date + 'T' + hours + ':' + minutes + ':06')    # assume 6-s delay in starting recording\n",
    "\n",
    "            # Get channel names, find the manual scoring channels\n",
    "            arf_channels = list(arffile['.'].keys())\n",
    "            scores_channel = [x for x in arf_channels if 'Manual' in x][0]\n",
    "            video_scores_channel = [x for x in arf_channels if 'Video' in x][0]\n",
    "\n",
    "            ### SCORES ###\n",
    "\n",
    "            # Get scores\n",
    "            arf_scores = arffile['.'][scores_channel].value['name'].astype('str')   # Manual\n",
    "            all_scores_array = np.append(all_scores_array, arf_scores)\n",
    "\n",
    "            arf_video_scores = arffile['.'][video_scores_channel].value['name'].astype('str')   # Video\n",
    "            all_video_scores_array = np.append(all_video_scores_array, arf_video_scores)\n",
    "\n",
    "            ### TIMES ###\n",
    "\n",
    "            # Get start times of each epoch in datetime format\n",
    "            arf_starttimes_s = arffile['.'][scores_channel].value['start']     # Manual\n",
    "            arf_datetimes = datetime_start + arf_starttimes_s.astype('timedelta64[s]')\n",
    "            all_datetime_array = np.append(all_datetime_array, arf_datetimes)\n",
    "\n",
    "            arf_video_starttimes_s = arffile['.'][video_scores_channel].value['start']     # Video\n",
    "            arf_video_datetimes = datetime_start + arf_video_starttimes_s.astype('timedelta64[s]')\n",
    "            all_video_datetime_array = np.append(all_video_datetime_array, arf_video_datetimes)\n",
    "\n",
    "        # Save in dateframe, in dict under bird number\n",
    "        BirdScores  = DataFrame(all_scores_array, index=all_datetime_array, columns=['Label'])\n",
    "        videoScores = DataFrame(all_video_scores_array, index=all_video_datetime_array, columns=['Video Label'])\n",
    "        BirdScores = videoScores.join(BirdScores)\n",
    "\n",
    "        data_name = 'Bird ' + str(b+1)\n",
    "        AllScores[data_name] = BirdScores"
   ]
  },
  {
   "cell_type": "markdown",
   "metadata": {},
   "source": [
    "## LL"
   ]
  },
  {
   "cell_type": "code",
   "execution_count": 6,
   "metadata": {},
   "outputs": [],
   "source": [
    "# LL\n",
    "\n",
    "for b in [0]:\n",
    "\n",
    "    arf_path = LL_FilePaths[b] + LL_arfFilePaths[b]\n",
    "\n",
    "    # init\n",
    "    all_scores_array = np.array([], dtype='str')\n",
    "    all_video_scores_array = np.array([], dtype='str')\n",
    "    all_datetime_array = np.array([], dtype='datetime64')\n",
    "    all_video_datetime_array = np.array([], dtype='datetime64')\n",
    "\n",
    "    # go through each arf file in order\n",
    "    for file in os.listdir(arf_path):\n",
    "        if file.endswith('.arf'):\n",
    "            # open arf file\n",
    "            arffile = h5py.File(arf_path+file, 'r')\n",
    "\n",
    "            # Get datetime from file name\n",
    "            date = file.split('_')[2]\n",
    "            time = file.split('_')[3]\n",
    "            hours = time.split('-')[0]\n",
    "            minutes = time.split('-')[1]\n",
    "            datetime_start = np.datetime64(date + 'T' + hours + ':' + minutes + ':06')    # assume 6-s delay in starting recording\n",
    "\n",
    "            # Get channel names, find the manual scoring channels\n",
    "            arf_channels = list(arffile['.'].keys())\n",
    "            scores_channel = [x for x in arf_channels if 'Manual' in x][0]\n",
    "            video_scores_channel = [x for x in arf_channels if 'Video' in x][0]\n",
    "\n",
    "            ### SCORES ###\n",
    "\n",
    "            # Get scores\n",
    "            arf_scores = arffile['.'][scores_channel].value['name'].astype('str')   # Manual\n",
    "            all_scores_array = np.append(all_scores_array, arf_scores)\n",
    "\n",
    "            arf_video_scores = arffile['.'][video_scores_channel].value['name'].astype('str')   # Video\n",
    "            all_video_scores_array = np.append(all_video_scores_array, arf_video_scores)\n",
    "\n",
    "            ### TIMES ###\n",
    "\n",
    "            # Get start times of each epoch in datetime format\n",
    "            arf_starttimes_s = arffile['.'][scores_channel].value['start']     # Manual\n",
    "            arf_datetimes = datetime_start + arf_starttimes_s.astype('timedelta64[s]')\n",
    "            all_datetime_array = np.append(all_datetime_array, arf_datetimes)\n",
    "\n",
    "            arf_video_starttimes_s = arffile['.'][video_scores_channel].value['start']     # Video\n",
    "            arf_video_datetimes = datetime_start + arf_video_starttimes_s.astype('timedelta64[s]')\n",
    "            all_video_datetime_array = np.append(all_video_datetime_array, arf_video_datetimes)\n",
    "\n",
    "        # Save in dateframe, in dict under bird number\n",
    "        BirdScores  = DataFrame(all_scores_array, index=all_datetime_array, columns=['Label'])\n",
    "        videoScores = DataFrame(all_video_scores_array, index=all_video_datetime_array, columns=['Video Label'])\n",
    "        BirdScores = videoScores.join(BirdScores)\n",
    "\n",
    "        data_name = 'Bird ' + str(b+2) + '_LL'\n",
    "        AllScores[data_name] = BirdScores"
   ]
  },
  {
   "cell_type": "markdown",
   "metadata": {},
   "source": [
    "#### Convert score labels to numbers: \n",
    "* mark any 'moving' video-labels as -1"
   ]
  },
  {
   "cell_type": "code",
   "execution_count": 7,
   "metadata": {},
   "outputs": [],
   "source": [
    "# LD #\n",
    "for b_num in birds:\n",
    "\n",
    "    b_name = 'Bird ' + str(b_num+1)\n",
    "    Scores = AllScores[b_name]\n",
    "    # replace nan's with empty string\n",
    "    Scores.fillna('', inplace=True)\n",
    "\n",
    "    Label_num = -1 * np.ones_like(Scores['Label'])\n",
    "    for st in range(len(stages)):\n",
    "        stage_inds = [x for x in range(len(Scores['Label'])) if stages[st] in Scores['Label'].iloc[x]]\n",
    "        Label_num[stage_inds] = st\n",
    "\n",
    "    # Unihemispheric labels\n",
    "    stage_inds = [x for x in range(len(Scores['Label']))\n",
    "                  if ('l' in Scores['Label'].iloc[x])|('g' in Scores['Label'].iloc[x])]\n",
    "    Label_num[stage_inds] = 2\n",
    "\n",
    "    # Save to dataframe\n",
    "    AllScores[b_name]['Label (#)'] = Label_num"
   ]
  },
  {
   "cell_type": "markdown",
   "metadata": {},
   "source": [
    "#### Convert datetimes to s, ep, Zeitgeber time"
   ]
  },
  {
   "cell_type": "code",
   "execution_count": 8,
   "metadata": {},
   "outputs": [],
   "source": [
    "# LD #\n",
    "\n",
    "lightsOffDatetime = np.array([], dtype='datetime64')\n",
    "lightsOnDatetime = np.array([], dtype='datetime64')\n",
    "\n",
    "for b_num in birds:\n",
    "\n",
    "    b_name = 'Bird ' + str(b_num+1)\n",
    "    Scores = AllScores[b_name]\n",
    "    startDatetime = Scores.index.values[0]\n",
    "\n",
    "    # Calc lights off & on using datetime formats\n",
    "    lightsOffTimedelta = lightsOffSec[b_num].astype('timedelta64[s]')\n",
    "    lightsOffDatetime = np.append(lightsOffDatetime, startDatetime + lightsOffTimedelta)\n",
    "    lightsOnTimedelta = lightsOnSec[b_num].astype('timedelta64[s]')\n",
    "    lightsOnDatetime = np.append(lightsOnDatetime, startDatetime + lightsOnTimedelta)\n",
    "\n",
    "    # Convert to seconds & hours from start of recording\n",
    "    timedelta_ns = Scores.index.values - startDatetime\n",
    "    timedelta_s  = timedelta_ns.astype('timedelta64[s]')\n",
    "\n",
    "    time_s = timedelta_s.astype('int')\n",
    "    time_hr = time_s/3600\n",
    "\n",
    "    AllScores[b_name]['Time (s)'] = time_s\n",
    "    AllScores[b_name]['Time (h)'] = time_hr\n",
    "\n",
    "    # Convert to Zeitgeber time\n",
    "    time_Zeit_s = time_s - lightsOnSec[b_num]\n",
    "    time_Zeit_hr = time_Zeit_s/3600\n",
    "    time_Zeir_ep = (time_Zeit_s/3).astype('int')\n",
    "\n",
    "    AllScores[b_name]['Zeitgeber time (s)'] = time_Zeit_s\n",
    "    AllScores[b_name]['Zeitgeber time (h)'] = time_Zeit_hr\n",
    "    AllScores[b_name]['Zeitgeber time (ep)'] = time_Zeir_ep\n",
    "\n",
    "    # Convert to epoch number\n",
    "    ind_epoch = (time_s/3).astype('int')\n",
    "\n",
    "    AllScores[b_name]['Epoch #'] = ind_epoch"
   ]
  },
  {
   "cell_type": "markdown",
   "metadata": {},
   "source": [
    "#### Calculate lights off in Zeitgeber time (s and hrs)\n",
    "Lights on is 0 "
   ]
  },
  {
   "cell_type": "code",
   "execution_count": 9,
   "metadata": {},
   "outputs": [],
   "source": [
    "lightsOffZeit_s = lightsOffSec - lightsOnSec\n",
    "lightsOffZeit_hr = lightsOffZeit_s / 3600"
   ]
  },
  {
   "cell_type": "markdown",
   "metadata": {},
   "source": [
    "# Save to csv"
   ]
  },
  {
   "cell_type": "code",
   "execution_count": 10,
   "metadata": {},
   "outputs": [],
   "source": [
    "for b_num in birds:\n",
    "    b_name = 'Bird ' + str(b_num+1)\n",
    "    scores = AllScores[b_name]\n",
    "    scores.to_csv(saveAsPath + 'All_scores_' + b_name + '.csv')"
   ]
  },
  {
   "cell_type": "code",
   "execution_count": 11,
   "metadata": {},
   "outputs": [],
   "source": [
    "## LL\n",
    "b_name = 'Bird 2'\n",
    "scores = AllScores['Bird 2_LL']\n",
    "scores.to_csv(saveAsPath + 'All_scores_' + b_name + 'LL.csv')"
   ]
  },
  {
   "cell_type": "markdown",
   "metadata": {
    "collapsed": true
   },
   "source": [
    "# LL: calculate TST"
   ]
  },
  {
   "cell_type": "code",
   "execution_count": 12,
   "metadata": {},
   "outputs": [],
   "source": [
    "scores = AllScores['Bird 2_LL']"
   ]
  },
  {
   "cell_type": "code",
   "execution_count": 13,
   "metadata": {},
   "outputs": [
    {
     "data": {
      "text/plain": [
       "m    17478\n",
       "s     4190\n",
       "d     3640\n",
       "q     2742\n",
       "u      738\n",
       "Name: Video Label, dtype: int64"
      ]
     },
     "execution_count": 13,
     "metadata": {},
     "output_type": "execute_result"
    }
   ],
   "source": [
    "scores['Video Label'].value_counts()"
   ]
  },
  {
   "cell_type": "markdown",
   "metadata": {},
   "source": [
    "## TST as % of recording time"
   ]
  },
  {
   "cell_type": "code",
   "execution_count": 14,
   "metadata": {},
   "outputs": [],
   "source": [
    "TST_ep = len(scores[scores['Video Label']=='s'])"
   ]
  },
  {
   "cell_type": "code",
   "execution_count": 15,
   "metadata": {},
   "outputs": [
    {
     "data": {
      "text/plain": [
       "0.14554675559260802"
      ]
     },
     "execution_count": 15,
     "metadata": {},
     "output_type": "execute_result"
    }
   ],
   "source": [
    "TST_ep / len(scores)"
   ]
  },
  {
   "cell_type": "markdown",
   "metadata": {},
   "source": [
    "## TST, including epochs marked \"unclear\""
   ]
  },
  {
   "cell_type": "code",
   "execution_count": 16,
   "metadata": {},
   "outputs": [],
   "source": [
    "TST_w_unclear_ep = len(scores[(scores['Video Label']=='s')|(scores['Video Label']=='u')])"
   ]
  },
  {
   "cell_type": "code",
   "execution_count": 17,
   "metadata": {},
   "outputs": [
    {
     "data": {
      "text/plain": [
       "0.17118243712658052"
      ]
     },
     "execution_count": 17,
     "metadata": {},
     "output_type": "execute_result"
    }
   ],
   "source": [
    "TST_w_unclear_ep / len(scores)"
   ]
  },
  {
   "cell_type": "code",
   "execution_count": null,
   "metadata": {},
   "outputs": [],
   "source": []
  }
 ],
 "metadata": {
  "kernelspec": {
   "display_name": "Python 3",
   "language": "python",
   "name": "python3"
  },
  "language_info": {
   "codemirror_mode": {
    "name": "ipython",
    "version": 3
   },
   "file_extension": ".py",
   "mimetype": "text/x-python",
   "name": "python",
   "nbconvert_exporter": "python",
   "pygments_lexer": "ipython3",
   "version": "3.7.4"
  },
  "toc": {
   "base_numbering": 1,
   "nav_menu": {},
   "number_sections": true,
   "sideBar": true,
   "skip_h1_title": false,
   "title_cell": "Table of Contents",
   "title_sidebar": "Contents",
   "toc_cell": false,
   "toc_position": {
    "height": "calc(100% - 180px)",
    "left": "10px",
    "top": "150px",
    "width": "332px"
   },
   "toc_section_display": true,
   "toc_window_display": true
  }
 },
 "nbformat": 4,
 "nbformat_minor": 1
}
