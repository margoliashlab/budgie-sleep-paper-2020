{
 "cells": [
  {
   "cell_type": "markdown",
   "metadata": {},
   "source": [
    "# Setup"
   ]
  },
  {
   "cell_type": "code",
   "execution_count": 29,
   "metadata": {},
   "outputs": [],
   "source": [
    "%matplotlib inline\n",
    "\n",
    "import numpy as np\n",
    "import scipy.signal as sig\n",
    "import scipy.stats as stat\n",
    "import matplotlib.pyplot as plt\n",
    "import seaborn as sns\n",
    "import os\n",
    "import h5py\n",
    "import datetime\n",
    "import pandas as pd\n",
    "\n",
    "from pandas import DataFrame,Series,read_table"
   ]
  },
  {
   "cell_type": "markdown",
   "metadata": {},
   "source": [
    "General info"
   ]
  },
  {
   "cell_type": "code",
   "execution_count": 30,
   "metadata": {},
   "outputs": [],
   "source": [
    "savePlots = True    # whether or not to save plots\n",
    "saveData = True # whether or not to save csv files\n",
    "\n",
    "saveAsPath = './Fig 09/'\n",
    "if not os.path.exists(saveAsPath):\n",
    "    os.mkdir(saveAsPath)\n",
    "saveAsName = 'Fig9b_'"
   ]
  },
  {
   "cell_type": "code",
   "execution_count": 31,
   "metadata": {},
   "outputs": [],
   "source": [
    "#path = '/Users/svcanavan/Dropbox/Coding in progress/00_BudgieSleep/Data_copies/'\n",
    "\n",
    "birdPaths =    ['../data_copies/01_PreprocessedData/01_BudgieFemale_green1/00_Baseline_night/',\n",
    "                '../data_copies/01_PreprocessedData/02_BudgieMale_yellow1/00_Baseline_night/',\n",
    "                '../data_copies/01_PreprocessedData/03_BudgieFemale_white1/00_Baseline_night/',\n",
    "                '../data_copies/01_PreprocessedData/04_BudgieMale_yellow2/00_Baseline_night/',\n",
    "                '../data_copies/01_PreprocessedData/05_BudgieFemale_green2/00_Baseline_night/']\n",
    "\n",
    "arfFilePaths =  ['EEG 2 scored/',\n",
    "                 'EEG 3 scored/',\n",
    "                 'EEG 3 scored/',\n",
    "                 'EEG 4 scored/',\n",
    "                 'EEG 4 scored/']\n",
    "\n",
    "### load BEST EEG channels - as determined during manual scoring ####\n",
    "channelsToLoadEEG_best = [['6 LEEGm-LEEGp', '5 LEEGf-LEEGp'], #, '9 REEGp-LEEGp'], # extra channel to represent R hemisphere\n",
    "                     ['5 LEEGf-LEEGm', '4 LEEGf-Fgr'], #, '9 REEGf-REEGm'], # extra channel to represent R hemisphere\n",
    "                     ['9REEGm-REEGp', '4LEEGf-LEEGp'], \n",
    "                     ['6LEEGm-LEEGf', '9REEGf-REEGp'], \n",
    "                     ['7REEGf-REEGp', '4LEEGf-LEEGp']]\n",
    "\n",
    "\n",
    "### load ALL of EEG channels ####\n",
    "channelsToLoadEEG = [['4 LEEGf-Fgr', '5 LEEGf-LEEGp', '6 LEEGm-LEEGp', '7 LEEGp-Fgr', '8 REEGp-Fgr','9 REEGp-LEEGp'],\n",
    "                     ['4 LEEGf-Fgr','5 LEEGf-LEEGm', '6 LEEGm-LEEGp', '7 REEGf-Fgr', '8 REEGm-Fgr', '9 REEGf-REEGm'],\n",
    "                     ['4LEEGf-LEEGp', '5LEEGf-LEEGm', '6LEEGm-LEEGp', '7REEGf-REEGp', '8REEGf-REEGm', '9REEGm-REEGp'],\n",
    "                     ['4LEEGf-LEEGp', '5LEEGm-LEEGp', '6LEEGm-LEEGf', '7REEGf-Fgr', '8REEGf-REEGm','9REEGf-REEGp',],\n",
    "                     ['4LEEGf-LEEGp', '5LEEGf-LEEGm', '6LEEGm-LEEGp', '7REEGf-REEGp', '8REEGf-REEGm', '9REEGm-REEGp']]\n",
    "\n",
    "\n",
    "channelsToLoadEOG = [['1 LEOG-Fgr', '2 REOG-Fgr'],\n",
    "                     ['2 LEOG-Fgr', '3 REOG-Fgr'],\n",
    "                     ['2LEOG-Fgr', '3REOG-Fgr'],\n",
    "                     ['2LEOG-Fgr', '3REOG-Fgr'],\n",
    "                     ['2LEOG-Fgr', '3REOG-Fgr']]\n",
    "\n",
    "birds_LL = [1,2,3]\n",
    "nBirds_LL = len(birds_LL)\n",
    "\n",
    "birdPaths_LL = ['../data_copies/01_PreprocessedData/02_BudgieMale_yellow1/01_Constant_light/',\n",
    "                '../data_copies/01_PreprocessedData/03_BudgieFemale_white1/01_Constant_light/',\n",
    "                '../data_copies/01_PreprocessedData/04_BudgieMale_yellow2/01_Constant_light/',]\n",
    "\n",
    "arfFilePaths_LL =  ['EEG 2 preprocessed/',\n",
    "                    'EEG 2 preprocessed/',\n",
    "                    'EEG 2 preprocessed/']\n",
    "\n",
    "lightsOffSec = np.array([7947, 9675, 9861 + 8*3600, 9873, 13467])  # lights off times in seconds from beginning of file\n",
    "lightsOnSec = np.array([46449, 48168, 48375+ 8*3600, 48381, 52005]) # Bird 3 gets 8 hours added b/c file starts at 8:00 instead of 16:00\n",
    "\n",
    "epochLength = 3\n",
    "sr = 200\n",
    "scalingFactor = (2**15)*0.195       # scaling/conversion factor from amplitude to uV (when recording arf from jrecord)\n",
    "\n",
    "stages = ['w','d','u','i','s','r'] # wake, drowsy, unihem sleep, intermediate sleep, SWS, REM\n",
    "stagesSleep =    ['u','i','s','r']\n",
    "\n",
    "stagesVideo = ['m','q','d','s','u'] # moving wake, quiet wake, drowsy, sleep, unclear\n",
    "\n",
    "## Path to scores formatted as CSVs\n",
    "formatted_scores_path = '../formatted_scores/'\n",
    "\n",
    "## Path to detect SW ands EM events: use folder w/ EMs and EM artifacts detected during non-sleep\n",
    "events_path = '../data_copies/SWs_EMs_and_EMartifacts/'"
   ]
  },
  {
   "cell_type": "code",
   "execution_count": 32,
   "metadata": {},
   "outputs": [
    {
     "data": {
      "image/png": "[encoded data removed]",
      "text/plain": [
       "<Figure size 432x72 with 1 Axes>"
      ]
     },
     "metadata": {
      "needs_background": "light"
     },
     "output_type": "display_data"
    }
   ],
   "source": [
    "colors_PSG = sns.color_palette(np.array([[234,103,99],\n",
    "[218,142,60],\n",
    "[174,174,62],\n",
    "[97,188,101],\n",
    "[140,133,232],\n",
    "[225,113,190]])\n",
    "/255)\n",
    "\n",
    "sns.palplot(colors_PSG)\n",
    "\n",
    "# colorpalette from iWantHue"
   ]
  },
  {
   "cell_type": "code",
   "execution_count": 33,
   "metadata": {},
   "outputs": [
    {
     "data": {
      "image/png": "[encoded data removed]",
      "text/plain": [
       "<Figure size 504x72 with 1 Axes>"
      ]
     },
     "metadata": {
      "needs_background": "light"
     },
     "output_type": "display_data"
    }
   ],
   "source": [
    "# video scores\n",
    "colors_video = sns.color_palette(np.array([[244,133,129],\n",
    "                                           [255,153,120],\n",
    "                                            [248,172,90],\n",
    "                                            [204,204,92],\n",
    "                                            [204,204,92],\n",
    "                                            [124, 203, 204],\n",
    "                                            [200, 200, 200]])\n",
    "                                            /(255))\n",
    "\n",
    "sns.palplot(colors_video)"
   ]
  },
  {
   "cell_type": "markdown",
   "metadata": {},
   "source": [
    "## for this notebook: set stages and colors to correspond to video scores"
   ]
  },
  {
   "cell_type": "code",
   "execution_count": 34,
   "metadata": {},
   "outputs": [],
   "source": [
    "colors = colors_video\n",
    "stages = stagesVideo"
   ]
  },
  {
   "cell_type": "code",
   "execution_count": 35,
   "metadata": {},
   "outputs": [
    {
     "data": {
      "image/png": "[encoded data removed]",
      "text/plain": [
       "<Figure size 360x72 with 1 Axes>"
      ]
     },
     "metadata": {
      "needs_background": "light"
     },
     "output_type": "display_data"
    }
   ],
   "source": [
    "colors_birds = [np.repeat(.4, 3),\n",
    "                np.repeat(.5, 3),\n",
    "                np.repeat(.6, 3),\n",
    "                np.repeat(.7, 3),\n",
    "                np.repeat(.8, 3)]\n",
    "\n",
    "sns.palplot(colors_birds)\n"
   ]
  },
  {
   "cell_type": "markdown",
   "metadata": {},
   "source": [
    "Plot-specific info"
   ]
  },
  {
   "cell_type": "code",
   "execution_count": 36,
   "metadata": {},
   "outputs": [],
   "source": [
    "sns.set_context(\"notebook\", font_scale=1.5)\n",
    "sns.set_style(\"white\")\n",
    "axis_label_fontsize = 24\n",
    "\n",
    "# Markers for legends of EEG scoring colors\n",
    "legendMarkersEEG = []\n",
    "for stage in range(len(stages)):\n",
    "    legendMarkersEEG.append(plt.Line2D([0],[0], color=colors[stage], marker='o', linestyle='', alpha=0.7))  "
   ]
  },
  {
   "cell_type": "markdown",
   "metadata": {},
   "source": [
    "Calculate general variables"
   ]
  },
  {
   "cell_type": "code",
   "execution_count": 37,
   "metadata": {},
   "outputs": [],
   "source": [
    "lightsOffEp = lightsOffSec / epochLength\n",
    "lightsOnEp = lightsOnSec / epochLength\n",
    "\n",
    "nBirds = len(birdPaths)\n",
    "\n",
    "epochLengthPts = epochLength*sr\n",
    "\n",
    "nStages = len(stagesSleep)"
   ]
  },
  {
   "cell_type": "markdown",
   "metadata": {},
   "source": [
    "## Read in files"
   ]
  },
  {
   "cell_type": "code",
   "execution_count": 38,
   "metadata": {},
   "outputs": [],
   "source": [
    "birds = ['1', '2', '3', '4', '5', '2LL', '3LL', '4LL']"
   ]
  },
  {
   "cell_type": "markdown",
   "metadata": {},
   "source": [
    "### Load formatted scores"
   ]
  },
  {
   "cell_type": "code",
   "execution_count": 39,
   "metadata": {},
   "outputs": [],
   "source": [
    "AllScores = {}\n",
    "for b in birds:\n",
    "    bird_name = 'Bird ' + b\n",
    "    file = formatted_scores_path + 'All_scores_' + bird_name + '.csv'\n",
    "    data = pd.read_csv(file, index_col=0)\n",
    "    AllScores[b] = data"
   ]
  },
  {
   "cell_type": "markdown",
   "metadata": {},
   "source": [
    "### Convert video labels to numbers"
   ]
  },
  {
   "cell_type": "code",
   "execution_count": 40,
   "metadata": {},
   "outputs": [],
   "source": [
    "for b in birds:\n",
    "\n",
    "    #b_num = int(b_name[5]) - 1\n",
    "    Scores = AllScores[b]\n",
    "\n",
    "    Label_num = -1 * np.ones_like(Scores['Video Label'])\n",
    "    for st in range(len(stagesVideo)):\n",
    "        stage_inds = [x for x in range(len(Scores['Video Label'])) if stagesVideo[st] in Scores['Video Label'].iloc[x]]\n",
    "        Label_num[stage_inds] = st\n",
    "\n",
    "    # Preening/singing labels\n",
    "    stage_inds = [x for x in range(len(Scores['Video Label']))\n",
    "                  if ('p' in Scores['Video Label'].iloc[x])|('si' in Scores['Video Label'].iloc[x])]\n",
    "    Label_num[stage_inds] = 0\n",
    "    \n",
    "    # Unihem labels\n",
    "    stage_inds = [x for x in range(len(Scores['Video Label'])) \n",
    "                  if ('r' in Scores['Video Label'].iloc[x])|\n",
    "                     ('l' in Scores['Video Label'].iloc[x])] # Consolidate both L and R unihem sleep\n",
    "    Label_num[stage_inds] = 4\n",
    "\n",
    "    # Save to dataframe\n",
    "    AllScores[b]['Video Label (#)'] = Label_num"
   ]
  },
  {
   "cell_type": "markdown",
   "metadata": {},
   "source": [
    "## Calculate lights off in Zeitgeber time (s and hrs)\n",
    "Lights on is 0 "
   ]
  },
  {
   "cell_type": "code",
   "execution_count": 41,
   "metadata": {},
   "outputs": [],
   "source": [
    "lightsOffDatetime = np.array([], dtype='datetime64')\n",
    "lightsOnDatetime = np.array([], dtype='datetime64')\n",
    "\n",
    "for b in birds:    \n",
    "    b_num = int(b[0]) - 1\n",
    "    \n",
    "    Scores = AllScores[b]\n",
    "    startDatetime = np.datetime64(Scores.index.values[0])\n",
    "\n",
    "    # Calc lights off & on using datetime formats\n",
    "    lightsOffTimedelta = lightsOffSec[b_num].astype('timedelta64[s]')\n",
    "    lightsOffDatetime = np.append(lightsOffDatetime, startDatetime + lightsOffTimedelta)\n",
    "    lightsOnTimedelta = lightsOnSec[b_num].astype('timedelta64[s]')\n",
    "    lightsOnDatetime = np.append(lightsOnDatetime, startDatetime + lightsOnTimedelta)"
   ]
  },
  {
   "cell_type": "code",
   "execution_count": 42,
   "metadata": {},
   "outputs": [],
   "source": [
    "lightsOffZeit_s = lightsOffSec - lightsOnSec\n",
    "lightsOffZeit_hr = lightsOffZeit_s / 3600"
   ]
  },
  {
   "cell_type": "code",
   "execution_count": 43,
   "metadata": {},
   "outputs": [],
   "source": [
    "figsize = (6,6)\n",
    "axis_label_fontsize = 24\n",
    "smaller_label_fontsize = 20\n",
    "\n",
    "# Line formatting\n",
    "linewidth = 5\n",
    "linealpha = .7\n",
    "marker = 'o'\n",
    "markersize = 10\n",
    "err_capsize = 3\n",
    "err_capthick = 3\n",
    "elinewidth = 3\n",
    "\n",
    "# Bar formatting\n",
    "bar_linewidth = 4"
   ]
  },
  {
   "cell_type": "markdown",
   "metadata": {},
   "source": [
    "# Entire 24 hrs"
   ]
  },
  {
   "cell_type": "code",
   "execution_count": 44,
   "metadata": {},
   "outputs": [],
   "source": [
    "stageProportions_all = {}\n",
    "\n",
    "for b in birds:\n",
    "\n",
    "    stageProportions = DataFrame([], columns=range(len(stages)))\n",
    "\n",
    "    #b_name = 'Bird ' + str(b) \n",
    "    Scores = AllScores[b]\n",
    "\n",
    "    bn_scores = Scores\n",
    "    bn_stage_frequencies = bn_scores['Video Label (#)'].value_counts(normalize=True,sort=False)\n",
    "                \n",
    "    stageProportions = stageProportions.append(bn_stage_frequencies, ignore_index=True)\n",
    "    \n",
    "    # Replace NaNs with 0\n",
    "    stageProportions = stageProportions.fillna(0)\n",
    "    \n",
    "    # Add to dictionary\n",
    "    stageProportions_all[b] = stageProportions\n",
    "    "
   ]
  },
  {
   "cell_type": "code",
   "execution_count": 45,
   "metadata": {},
   "outputs": [
    {
     "data": {
      "text/plain": [
       "{'1':           0         1         2    3         4         5         6\n",
       " 0  0.257395  0.113925  0.142513  0.0  0.013762  0.448287  0.024119,\n",
       " '2':          0         1         2    3         4         5         6\n",
       " 0  0.24396  0.235779  0.055977  0.0  0.020957  0.366776  0.076551,\n",
       " '3':           0         1         2    3         4         5        6\n",
       " 0  0.096727  0.121068  0.225434  0.0  0.058793  0.487118  0.01086,\n",
       " '4':          0         1         2    3         4         5         6\n",
       " 0  0.20769  0.064977  0.142399  0.0  0.003242  0.529996  0.051696,\n",
       " '5':          0         1         2    3         4         5         6        -1\n",
       " 0  0.15446  0.128002  0.269111  0.0  0.039007  0.397393  0.011991  0.000035,\n",
       " '2LL':           0         1         2    3    4         5         6\n",
       " 0  0.607128  0.095248  0.126442  0.0  0.0  0.145547  0.025636,\n",
       " '3LL':           0         1         2    3    4         5    6\n",
       " 0  0.189528  0.138111  0.413009  0.0  0.0  0.259351  0.0,\n",
       " '4LL':           0         1         2    3         4         5    6\n",
       " 0  0.290974  0.113666  0.205246  0.0  0.000453  0.389661  0.0}"
      ]
     },
     "execution_count": 45,
     "metadata": {},
     "output_type": "execute_result"
    }
   ],
   "source": [
    "stageProportions_all"
   ]
  },
  {
   "cell_type": "markdown",
   "metadata": {},
   "source": [
    "### Organize proportions by stage"
   ]
  },
  {
   "cell_type": "code",
   "execution_count": 46,
   "metadata": {},
   "outputs": [],
   "source": [
    "stageProportions_by_stage = {}\n",
    "\n",
    "stage_labels = stageProportions_all[birds[0]].columns.values\n",
    "\n",
    "for st in stage_labels:\n",
    "    stageProportions_stage = DataFrame([])\n",
    "    \n",
    "    for b in birds:\n",
    "        stageProportions_bird = stageProportions_all[b]\n",
    "        stageProportions_stage[b] = stageProportions_bird[st]\n",
    "        \n",
    "    stageProportions_by_stage[st] = stageProportions_stage"
   ]
  },
  {
   "cell_type": "markdown",
   "metadata": {},
   "source": [
    "## Bar graphs: Plot each stage"
   ]
  },
  {
   "cell_type": "markdown",
   "metadata": {},
   "source": [
    "### FIGURE 7B"
   ]
  },
  {
   "cell_type": "code",
   "execution_count": 72,
   "metadata": {},
   "outputs": [],
   "source": [
    "birds_LD_only = ['1', '5']\n",
    "birds_LD = ['2', '3', '4']\n",
    "birds_LL = ['2LL', '3LL', '4LL']"
   ]
  },
  {
   "cell_type": "code",
   "execution_count": 48,
   "metadata": {},
   "outputs": [
    {
     "data": {
      "image/png": "[encoded data removed]",
      "text/plain": [
       "<Figure size 864x324 with 4 Axes>"
      ]
     },
     "metadata": {},
     "output_type": "display_data"
    }
   ],
   "source": [
    "stages_to_plot = [0,1,2,5]\n",
    "stage_names = ['Active wake', 'Quiet wake', 'Drowsy', '', 'Uni', 'Sleep']\n",
    "\n",
    "plt.figure(figsize=(12,4.5))\n",
    "\n",
    "for i, st in enumerate(stages_to_plot):\n",
    "   # stage_color = colors[i]\n",
    "    plt.subplot(1, len(stages_to_plot), i+1)\n",
    "\n",
    "    # Lines color coded by bird\n",
    "    for b in birds_LD:\n",
    "        #b_name = 'Bird ' + str(b+1)\n",
    "        b_num = int(b[0]) - 1\n",
    "        tmp_LD = stageProportions_by_stage[st][b]*100\n",
    "        tmp_LL = stageProportions_by_stage[st][b + 'LL']*100\n",
    "        plt.plot([0,1], [tmp_LD, tmp_LL], color=colors_birds[b_num], alpha=linealpha, lw=4)\n",
    "        \n",
    "    # Scatter plot of each bird\n",
    "    plt.scatter(np.repeat(0, len(birds_LD)), stageProportions_by_stage[st][birds_LD].values*100,\n",
    "                10*markersize, color=colors[st], alpha=linealpha)\n",
    "    #plt.scatter(np.repeat(-.25, len(birds_LD_only)), stageProportions_by_stage[st][birds_LD_only].values*100, color=colors[st], alpha=.7)\n",
    "    plt.scatter(np.repeat(1, len(birds_LL)), stageProportions_by_stage[st][birds_LL].values*100,\n",
    "                10*markersize, color=colors[st], alpha=linealpha)\n",
    "\n",
    "    # Bar graph of mean\n",
    "    LD_mean = np.nanmean(stageProportions_by_stage[st][birds_LD].values)*100\n",
    "    LL_mean = np.nanmean(stageProportions_by_stage[st][birds_LL].values)*100\n",
    "\n",
    "    plt.bar([0,1],[LD_mean, LL_mean], width=1, color='none', edgecolor=colors[st], linewidth=4)\n",
    "\n",
    "\n",
    "    plt.xlim(-.7, 1.7)\n",
    "    plt.xticks([0,1], ['LD', 'LL'],fontsize=16)\n",
    "    plt.title(stage_names[st], color=colors[st], fontsize=20, fontweight='bold')\n",
    "\n",
    "    if i==0:\n",
    "        plt.ylabel('% of time', fontsize=axis_label_fontsize)  # y label only on leftmost plot\n",
    "    else:\n",
    "        plt.yticks([])\n",
    "\n",
    "    plt.ylim(0,70)\n",
    "    sns.despine()\n",
    "\n",
    "fig = plt.gcf()\n",
    "fig.text(0.5, -.05, 'Light condition', ha='center', fontsize=axis_label_fontsize)\n",
    "\n",
    "\n",
    "if savePlots:\n",
    "        plt.savefig(saveAsPath + saveAsName + \"bargraph.pdf\")\n"
   ]
  },
  {
   "cell_type": "markdown",
   "metadata": {},
   "source": [
    "# STATS"
   ]
  },
  {
   "cell_type": "markdown",
   "metadata": {},
   "source": [
    "## save to csv"
   ]
  },
  {
   "cell_type": "code",
   "execution_count": 109,
   "metadata": {},
   "outputs": [
    {
     "data": {
      "text/html": [
       "<div>\n",
       "<style scoped>\n",
       "    .dataframe tbody tr th:only-of-type {\n",
       "        vertical-align: middle;\n",
       "    }\n",
       "\n",
       "    .dataframe tbody tr th {\n",
       "        vertical-align: top;\n",
       "    }\n",
       "\n",
       "    .dataframe thead th {\n",
       "        text-align: right;\n",
       "    }\n",
       "</style>\n",
       "<table border=\"1\" class=\"dataframe\">\n",
       "  <thead>\n",
       "    <tr style=\"text-align: right;\">\n",
       "      <th></th>\n",
       "      <th>0</th>\n",
       "      <th>1</th>\n",
       "      <th>2</th>\n",
       "      <th>3</th>\n",
       "      <th>4</th>\n",
       "      <th>5</th>\n",
       "      <th>6</th>\n",
       "    </tr>\n",
       "  </thead>\n",
       "  <tbody>\n",
       "    <tr>\n",
       "      <td>0</td>\n",
       "      <td>0.15446</td>\n",
       "      <td>0.128002</td>\n",
       "      <td>0.269111</td>\n",
       "      <td>0.0</td>\n",
       "      <td>0.039007</td>\n",
       "      <td>0.397393</td>\n",
       "      <td>0.011991</td>\n",
       "    </tr>\n",
       "  </tbody>\n",
       "</table>\n",
       "</div>"
      ],
      "text/plain": [
       "         0         1         2    3         4         5         6\n",
       "0  0.15446  0.128002  0.269111  0.0  0.039007  0.397393  0.011991"
      ]
     },
     "execution_count": 109,
     "metadata": {},
     "output_type": "execute_result"
    }
   ],
   "source": [
    "stageProportions[np.arange(7)]"
   ]
  },
  {
   "cell_type": "code",
   "execution_count": 101,
   "metadata": {},
   "outputs": [
    {
     "data": {
      "text/plain": [
       "array([[1.54460208e-01, 1.28002231e-01, 2.69111444e-01, 0.00000000e+00,\n",
       "        3.90072158e-02, 3.97392547e-01, 1.19914944e-02, 3.48589954e-05]])"
      ]
     },
     "execution_count": 101,
     "metadata": {},
     "output_type": "execute_result"
    }
   ],
   "source": [
    "stageProportions[0:len(stages)].values"
   ]
  },
  {
   "cell_type": "code",
   "execution_count": 113,
   "metadata": {},
   "outputs": [],
   "source": [
    "# note: all unihem sleep has been combined into one column\n",
    "# - so column 'l' will be empty, and 'g' will contain all unihem data not just the right side\n",
    "\n",
    "if saveData:\n",
    "    stageProp_all = pd.DataFrame([], index=stages)\n",
    "    for bird in np.sort(np.append(birds_LD, birds_LD_only)):        \n",
    "        stageProportions = stageProportions_all[bird]\n",
    "        stageProp_all['Bird ' + bird] = stageProportions[np.arange(len(stages))].values[0]\n",
    "    stageProp_all.to_csv(saveAsPath + saveAsName + 'stage_proportions_LD.csv')\n",
    "    \n",
    "    stageProp_all = pd.DataFrame([], index=stages)\n",
    "    for bird in birds_LL:        \n",
    "        stageProportions = stageProportions_all[bird]\n",
    "        stageProp_all['Bird ' + bird] = stageProportions[np.arange(len(stages))].values[0]\n",
    "    stageProp_all.to_csv(saveAsPath + saveAsName + 'stage_proportions_LL.csv')\n",
    "    "
   ]
  },
  {
   "cell_type": "markdown",
   "metadata": {},
   "source": [
    "## Stats: active wake"
   ]
  },
  {
   "cell_type": "code",
   "execution_count": 49,
   "metadata": {},
   "outputs": [
    {
     "data": {
      "text/html": [
       "<div>\n",
       "<style scoped>\n",
       "    .dataframe tbody tr th:only-of-type {\n",
       "        vertical-align: middle;\n",
       "    }\n",
       "\n",
       "    .dataframe tbody tr th {\n",
       "        vertical-align: top;\n",
       "    }\n",
       "\n",
       "    .dataframe thead th {\n",
       "        text-align: right;\n",
       "    }\n",
       "</style>\n",
       "<table border=\"1\" class=\"dataframe\">\n",
       "  <thead>\n",
       "    <tr style=\"text-align: right;\">\n",
       "      <th></th>\n",
       "      <th>2</th>\n",
       "      <th>3</th>\n",
       "      <th>4</th>\n",
       "    </tr>\n",
       "  </thead>\n",
       "  <tbody>\n",
       "    <tr>\n",
       "      <td>0</td>\n",
       "      <td>0.24396</td>\n",
       "      <td>0.096727</td>\n",
       "      <td>0.20769</td>\n",
       "    </tr>\n",
       "  </tbody>\n",
       "</table>\n",
       "</div>"
      ],
      "text/plain": [
       "         2         3        4\n",
       "0  0.24396  0.096727  0.20769"
      ]
     },
     "execution_count": 49,
     "metadata": {},
     "output_type": "execute_result"
    }
   ],
   "source": [
    "data = stageProportions_by_stage[0]\n",
    "dataLD = data[birds_LD]\n",
    "dataLL = data[birds_LL]\n",
    "dataLD"
   ]
  },
  {
   "cell_type": "code",
   "execution_count": 50,
   "metadata": {},
   "outputs": [
    {
     "data": {
      "text/html": [
       "<div>\n",
       "<style scoped>\n",
       "    .dataframe tbody tr th:only-of-type {\n",
       "        vertical-align: middle;\n",
       "    }\n",
       "\n",
       "    .dataframe tbody tr th {\n",
       "        vertical-align: top;\n",
       "    }\n",
       "\n",
       "    .dataframe thead th {\n",
       "        text-align: right;\n",
       "    }\n",
       "</style>\n",
       "<table border=\"1\" class=\"dataframe\">\n",
       "  <thead>\n",
       "    <tr style=\"text-align: right;\">\n",
       "      <th></th>\n",
       "      <th>2LL</th>\n",
       "      <th>3LL</th>\n",
       "      <th>4LL</th>\n",
       "    </tr>\n",
       "  </thead>\n",
       "  <tbody>\n",
       "    <tr>\n",
       "      <td>0</td>\n",
       "      <td>0.607128</td>\n",
       "      <td>0.189528</td>\n",
       "      <td>0.290974</td>\n",
       "    </tr>\n",
       "  </tbody>\n",
       "</table>\n",
       "</div>"
      ],
      "text/plain": [
       "        2LL       3LL       4LL\n",
       "0  0.607128  0.189528  0.290974"
      ]
     },
     "execution_count": 50,
     "metadata": {},
     "output_type": "execute_result"
    }
   ],
   "source": [
    "dataLL"
   ]
  },
  {
   "cell_type": "code",
   "execution_count": 51,
   "metadata": {},
   "outputs": [
    {
     "name": "stdout",
     "output_type": "stream",
     "text": [
      "mean LD: 18.28 %\n",
      "\t +/- 4.43 %\n",
      "mean LL: 36.25 %\n",
      "\t +/- 12.57 %\n"
     ]
    }
   ],
   "source": [
    "print('mean LD:', np.round(dataLD.mean(axis=1).values[0]*100, decimals=2), '%')\n",
    "print('\\t +/-', np.round((dataLD.std(axis=1).values[0]*100)/np.sqrt(len(birds_LD)), decimals=2), '%')\n",
    "\n",
    "print('mean LL:', np.round(dataLL.mean(axis=1).values[0]*100, decimals=2), '%')\n",
    "print('\\t +/-', np.round((dataLL.std(axis=1).values[0]*100)/np.sqrt(len(birds_LL)), decimals=2), '%')\n"
   ]
  },
  {
   "cell_type": "code",
   "execution_count": 52,
   "metadata": {},
   "outputs": [
    {
     "data": {
      "text/plain": [
       "array([[0.24396018, 0.09672708, 0.20768989]])"
      ]
     },
     "execution_count": 52,
     "metadata": {},
     "output_type": "execute_result"
    }
   ],
   "source": [
    "dataLD.values"
   ]
  },
  {
   "cell_type": "code",
   "execution_count": 53,
   "metadata": {},
   "outputs": [
    {
     "data": {
      "text/plain": [
       "Ttest_relResult(statistic=-1.9591524521528245, pvalue=0.18917742032202786)"
      ]
     },
     "execution_count": 53,
     "metadata": {},
     "output_type": "execute_result"
    }
   ],
   "source": [
    "stat.ttest_rel(dataLD.values[0], dataLL.values[0], axis=0)"
   ]
  },
  {
   "cell_type": "markdown",
   "metadata": {},
   "source": [
    "## Stats: quiet wake"
   ]
  },
  {
   "cell_type": "code",
   "execution_count": 54,
   "metadata": {},
   "outputs": [
    {
     "data": {
      "text/html": [
       "<div>\n",
       "<style scoped>\n",
       "    .dataframe tbody tr th:only-of-type {\n",
       "        vertical-align: middle;\n",
       "    }\n",
       "\n",
       "    .dataframe tbody tr th {\n",
       "        vertical-align: top;\n",
       "    }\n",
       "\n",
       "    .dataframe thead th {\n",
       "        text-align: right;\n",
       "    }\n",
       "</style>\n",
       "<table border=\"1\" class=\"dataframe\">\n",
       "  <thead>\n",
       "    <tr style=\"text-align: right;\">\n",
       "      <th></th>\n",
       "      <th>2</th>\n",
       "      <th>3</th>\n",
       "      <th>4</th>\n",
       "    </tr>\n",
       "  </thead>\n",
       "  <tbody>\n",
       "    <tr>\n",
       "      <td>0</td>\n",
       "      <td>0.235779</td>\n",
       "      <td>0.121068</td>\n",
       "      <td>0.064977</td>\n",
       "    </tr>\n",
       "  </tbody>\n",
       "</table>\n",
       "</div>"
      ],
      "text/plain": [
       "          2         3         4\n",
       "0  0.235779  0.121068  0.064977"
      ]
     },
     "execution_count": 54,
     "metadata": {},
     "output_type": "execute_result"
    }
   ],
   "source": [
    "data = stageProportions_by_stage[1]\n",
    "dataLD = data[birds_LD]\n",
    "dataLL = data[birds_LL]\n",
    "dataLD"
   ]
  },
  {
   "cell_type": "code",
   "execution_count": 55,
   "metadata": {},
   "outputs": [
    {
     "data": {
      "text/html": [
       "<div>\n",
       "<style scoped>\n",
       "    .dataframe tbody tr th:only-of-type {\n",
       "        vertical-align: middle;\n",
       "    }\n",
       "\n",
       "    .dataframe tbody tr th {\n",
       "        vertical-align: top;\n",
       "    }\n",
       "\n",
       "    .dataframe thead th {\n",
       "        text-align: right;\n",
       "    }\n",
       "</style>\n",
       "<table border=\"1\" class=\"dataframe\">\n",
       "  <thead>\n",
       "    <tr style=\"text-align: right;\">\n",
       "      <th></th>\n",
       "      <th>2LL</th>\n",
       "      <th>3LL</th>\n",
       "      <th>4LL</th>\n",
       "    </tr>\n",
       "  </thead>\n",
       "  <tbody>\n",
       "    <tr>\n",
       "      <td>0</td>\n",
       "      <td>0.095248</td>\n",
       "      <td>0.138111</td>\n",
       "      <td>0.113666</td>\n",
       "    </tr>\n",
       "  </tbody>\n",
       "</table>\n",
       "</div>"
      ],
      "text/plain": [
       "        2LL       3LL       4LL\n",
       "0  0.095248  0.138111  0.113666"
      ]
     },
     "execution_count": 55,
     "metadata": {},
     "output_type": "execute_result"
    }
   ],
   "source": [
    "dataLL"
   ]
  },
  {
   "cell_type": "code",
   "execution_count": 56,
   "metadata": {},
   "outputs": [
    {
     "name": "stdout",
     "output_type": "stream",
     "text": [
      "mean LD: 14.06 %\n",
      "\t +/- 5.03 %\n",
      "mean LL: 11.57 %\n",
      "\t +/- 1.24 %\n"
     ]
    }
   ],
   "source": [
    "print('mean LD:', np.round(dataLD.mean(axis=1).values[0]*100, decimals=2), '%')\n",
    "print('\\t +/-', np.round((dataLD.std(axis=1).values[0]*100)/np.sqrt(len(birds_LD)), decimals=2), '%')\n",
    "\n",
    "print('mean LL:', np.round(dataLL.mean(axis=1).values[0]*100, decimals=2), '%')\n",
    "print('\\t +/-', np.round((dataLL.std(axis=1).values[0]*100)/np.sqrt(len(birds_LL)), decimals=2), '%')\n"
   ]
  },
  {
   "cell_type": "code",
   "execution_count": 57,
   "metadata": {},
   "outputs": [
    {
     "data": {
      "text/plain": [
       "array([[0.23577943, 0.121068  , 0.06497717]])"
      ]
     },
     "execution_count": 57,
     "metadata": {},
     "output_type": "execute_result"
    }
   ],
   "source": [
    "dataLD.values"
   ]
  },
  {
   "cell_type": "code",
   "execution_count": 58,
   "metadata": {},
   "outputs": [
    {
     "data": {
      "text/plain": [
       "Ttest_relResult(statistic=0.42608784222800633, pvalue=0.711519493240347)"
      ]
     },
     "execution_count": 58,
     "metadata": {},
     "output_type": "execute_result"
    }
   ],
   "source": [
    "stat.ttest_rel(dataLD.values[0], dataLL.values[0])"
   ]
  },
  {
   "cell_type": "markdown",
   "metadata": {},
   "source": [
    "## Stats: drowsy"
   ]
  },
  {
   "cell_type": "code",
   "execution_count": 59,
   "metadata": {},
   "outputs": [
    {
     "data": {
      "text/html": [
       "<div>\n",
       "<style scoped>\n",
       "    .dataframe tbody tr th:only-of-type {\n",
       "        vertical-align: middle;\n",
       "    }\n",
       "\n",
       "    .dataframe tbody tr th {\n",
       "        vertical-align: top;\n",
       "    }\n",
       "\n",
       "    .dataframe thead th {\n",
       "        text-align: right;\n",
       "    }\n",
       "</style>\n",
       "<table border=\"1\" class=\"dataframe\">\n",
       "  <thead>\n",
       "    <tr style=\"text-align: right;\">\n",
       "      <th></th>\n",
       "      <th>2</th>\n",
       "      <th>3</th>\n",
       "      <th>4</th>\n",
       "    </tr>\n",
       "  </thead>\n",
       "  <tbody>\n",
       "    <tr>\n",
       "      <td>0</td>\n",
       "      <td>0.055977</td>\n",
       "      <td>0.225434</td>\n",
       "      <td>0.142399</td>\n",
       "    </tr>\n",
       "  </tbody>\n",
       "</table>\n",
       "</div>"
      ],
      "text/plain": [
       "          2         3         4\n",
       "0  0.055977  0.225434  0.142399"
      ]
     },
     "execution_count": 59,
     "metadata": {},
     "output_type": "execute_result"
    }
   ],
   "source": [
    "data = stageProportions_by_stage[2]\n",
    "dataLD = data[birds_LD]\n",
    "dataLL = data[birds_LL]\n",
    "dataLD"
   ]
  },
  {
   "cell_type": "code",
   "execution_count": 60,
   "metadata": {},
   "outputs": [
    {
     "data": {
      "text/html": [
       "<div>\n",
       "<style scoped>\n",
       "    .dataframe tbody tr th:only-of-type {\n",
       "        vertical-align: middle;\n",
       "    }\n",
       "\n",
       "    .dataframe tbody tr th {\n",
       "        vertical-align: top;\n",
       "    }\n",
       "\n",
       "    .dataframe thead th {\n",
       "        text-align: right;\n",
       "    }\n",
       "</style>\n",
       "<table border=\"1\" class=\"dataframe\">\n",
       "  <thead>\n",
       "    <tr style=\"text-align: right;\">\n",
       "      <th></th>\n",
       "      <th>2LL</th>\n",
       "      <th>3LL</th>\n",
       "      <th>4LL</th>\n",
       "    </tr>\n",
       "  </thead>\n",
       "  <tbody>\n",
       "    <tr>\n",
       "      <td>0</td>\n",
       "      <td>0.126442</td>\n",
       "      <td>0.413009</td>\n",
       "      <td>0.205246</td>\n",
       "    </tr>\n",
       "  </tbody>\n",
       "</table>\n",
       "</div>"
      ],
      "text/plain": [
       "        2LL       3LL       4LL\n",
       "0  0.126442  0.413009  0.205246"
      ]
     },
     "execution_count": 60,
     "metadata": {},
     "output_type": "execute_result"
    }
   ],
   "source": [
    "dataLL"
   ]
  },
  {
   "cell_type": "code",
   "execution_count": 61,
   "metadata": {},
   "outputs": [
    {
     "name": "stdout",
     "output_type": "stream",
     "text": [
      "mean LD: 14.13 %\n",
      "\t +/- 4.89 %\n",
      "mean LL: 24.82 %\n",
      "\t +/- 8.55 %\n"
     ]
    }
   ],
   "source": [
    "print('mean LD:', np.round(dataLD.mean(axis=1).values[0]*100, decimals=2), '%')\n",
    "print('\\t +/-', np.round((dataLD.std(axis=1).values[0]*100)/np.sqrt(len(birds_LD)), decimals=2), '%')\n",
    "\n",
    "print('mean LL:', np.round(dataLL.mean(axis=1).values[0]*100, decimals=2), '%')\n",
    "print('\\t +/-', np.round((dataLL.std(axis=1).values[0]*100)/np.sqrt(len(birds_LL)), decimals=2), '%')\n"
   ]
  },
  {
   "cell_type": "code",
   "execution_count": 62,
   "metadata": {},
   "outputs": [
    {
     "data": {
      "text/plain": [
       "array([[0.05597716, 0.22543439, 0.142399  ]])"
      ]
     },
     "execution_count": 62,
     "metadata": {},
     "output_type": "execute_result"
    }
   ],
   "source": [
    "dataLD.values"
   ]
  },
  {
   "cell_type": "code",
   "execution_count": 63,
   "metadata": {},
   "outputs": [
    {
     "data": {
      "text/plain": [
       "Ttest_relResult(statistic=-2.649785809353938, pvalue=0.11778457547805099)"
      ]
     },
     "execution_count": 63,
     "metadata": {},
     "output_type": "execute_result"
    }
   ],
   "source": [
    "stat.ttest_rel(dataLD.values[0], dataLL.values[0])"
   ]
  },
  {
   "cell_type": "markdown",
   "metadata": {},
   "source": [
    "## Stats: sleep"
   ]
  },
  {
   "cell_type": "code",
   "execution_count": 64,
   "metadata": {},
   "outputs": [
    {
     "data": {
      "text/html": [
       "<div>\n",
       "<style scoped>\n",
       "    .dataframe tbody tr th:only-of-type {\n",
       "        vertical-align: middle;\n",
       "    }\n",
       "\n",
       "    .dataframe tbody tr th {\n",
       "        vertical-align: top;\n",
       "    }\n",
       "\n",
       "    .dataframe thead th {\n",
       "        text-align: right;\n",
       "    }\n",
       "</style>\n",
       "<table border=\"1\" class=\"dataframe\">\n",
       "  <thead>\n",
       "    <tr style=\"text-align: right;\">\n",
       "      <th></th>\n",
       "      <th>2</th>\n",
       "      <th>3</th>\n",
       "      <th>4</th>\n",
       "    </tr>\n",
       "  </thead>\n",
       "  <tbody>\n",
       "    <tr>\n",
       "      <td>0</td>\n",
       "      <td>0.366776</td>\n",
       "      <td>0.487118</td>\n",
       "      <td>0.529996</td>\n",
       "    </tr>\n",
       "  </tbody>\n",
       "</table>\n",
       "</div>"
      ],
      "text/plain": [
       "          2         3         4\n",
       "0  0.366776  0.487118  0.529996"
      ]
     },
     "execution_count": 64,
     "metadata": {},
     "output_type": "execute_result"
    }
   ],
   "source": [
    "data = stageProportions_by_stage[5]\n",
    "dataLD = data[birds_LD]\n",
    "dataLL = data[birds_LL]\n",
    "dataLD"
   ]
  },
  {
   "cell_type": "code",
   "execution_count": 65,
   "metadata": {},
   "outputs": [
    {
     "data": {
      "text/html": [
       "<div>\n",
       "<style scoped>\n",
       "    .dataframe tbody tr th:only-of-type {\n",
       "        vertical-align: middle;\n",
       "    }\n",
       "\n",
       "    .dataframe tbody tr th {\n",
       "        vertical-align: top;\n",
       "    }\n",
       "\n",
       "    .dataframe thead th {\n",
       "        text-align: right;\n",
       "    }\n",
       "</style>\n",
       "<table border=\"1\" class=\"dataframe\">\n",
       "  <thead>\n",
       "    <tr style=\"text-align: right;\">\n",
       "      <th></th>\n",
       "      <th>2LL</th>\n",
       "      <th>3LL</th>\n",
       "      <th>4LL</th>\n",
       "    </tr>\n",
       "  </thead>\n",
       "  <tbody>\n",
       "    <tr>\n",
       "      <td>0</td>\n",
       "      <td>0.145547</td>\n",
       "      <td>0.259351</td>\n",
       "      <td>0.389661</td>\n",
       "    </tr>\n",
       "  </tbody>\n",
       "</table>\n",
       "</div>"
      ],
      "text/plain": [
       "        2LL       3LL       4LL\n",
       "0  0.145547  0.259351  0.389661"
      ]
     },
     "execution_count": 65,
     "metadata": {},
     "output_type": "execute_result"
    }
   ],
   "source": [
    "dataLL"
   ]
  },
  {
   "cell_type": "code",
   "execution_count": 66,
   "metadata": {},
   "outputs": [
    {
     "name": "stdout",
     "output_type": "stream",
     "text": [
      "mean LD: 46.13 %\n",
      "\t +/- 4.89 %\n",
      "mean LL: 26.49 %\n",
      "\t +/- 7.05 %\n"
     ]
    }
   ],
   "source": [
    "print('mean LD:', np.round(dataLD.mean(axis=1).values[0]*100, decimals=2), '%')\n",
    "print('\\t +/-', np.round((dataLD.std(axis=1).values[0]*100)/np.sqrt(len(birds_LD)), decimals=2), '%')\n",
    "\n",
    "print('mean LL:', np.round(dataLL.mean(axis=1).values[0]*100, decimals=2), '%')\n",
    "print('\\t +/-', np.round((dataLL.std(axis=1).values[0]*100)/np.sqrt(len(birds_LL)), decimals=2), '%')\n"
   ]
  },
  {
   "cell_type": "code",
   "execution_count": 67,
   "metadata": {},
   "outputs": [
    {
     "data": {
      "text/plain": [
       "array([[0.36677574, 0.48711803, 0.52999617]])"
      ]
     },
     "execution_count": 67,
     "metadata": {},
     "output_type": "execute_result"
    }
   ],
   "source": [
    "dataLD.values"
   ]
  },
  {
   "cell_type": "code",
   "execution_count": 68,
   "metadata": {},
   "outputs": [
    {
     "data": {
      "text/plain": [
       "Ttest_relResult(statistic=6.986471908134235, pvalue=0.01987843532737398)"
      ]
     },
     "execution_count": 68,
     "metadata": {},
     "output_type": "execute_result"
    }
   ],
   "source": [
    "stat.ttest_rel(dataLD.values[0], dataLL.values[0])"
   ]
  },
  {
   "cell_type": "code",
   "execution_count": null,
   "metadata": {},
   "outputs": [],
   "source": []
  }
 ],
 "metadata": {
  "kernelspec": {
   "display_name": "Python 3",
   "language": "python",
   "name": "python3"
  },
  "language_info": {
   "codemirror_mode": {
    "name": "ipython",
    "version": 3
   },
   "file_extension": ".py",
   "mimetype": "text/x-python",
   "name": "python",
   "nbconvert_exporter": "python",
   "pygments_lexer": "ipython3",
   "version": "3.7.4"
  },
  "toc": {
   "base_numbering": 1,
   "nav_menu": {},
   "number_sections": true,
   "sideBar": true,
   "skip_h1_title": false,
   "title_cell": "Table of Contents",
   "title_sidebar": "Contents",
   "toc_cell": false,
   "toc_position": {
    "height": "calc(100% - 180px)",
    "left": "10px",
    "top": "150px",
    "width": "259.391px"
   },
   "toc_section_display": true,
   "toc_window_display": true
  }
 },
 "nbformat": 4,
 "nbformat_minor": 1
}
