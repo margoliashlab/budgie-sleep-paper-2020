{
 "cells": [
  {
   "cell_type": "markdown",
   "metadata": {},
   "source": [
    "# Setup"
   ]
  },
  {
   "cell_type": "code",
   "execution_count": 1,
   "metadata": {},
   "outputs": [],
   "source": [
    "%matplotlib inline\n",
    "\n",
    "import numpy as np\n",
    "import scipy.signal as sig\n",
    "import scipy.stats as stat\n",
    "import matplotlib.pyplot as plt\n",
    "import seaborn as sns\n",
    "import os\n",
    "import h5py\n",
    "import datetime\n",
    "import pandas as pd\n",
    "\n",
    "from pandas import DataFrame,Series,read_table"
   ]
  },
  {
   "cell_type": "markdown",
   "metadata": {},
   "source": [
    "General info"
   ]
  },
  {
   "cell_type": "code",
   "execution_count": 2,
   "metadata": {},
   "outputs": [],
   "source": [
    "savePlots = True    # whether or not to save plots\n",
    "saveData = True # whether or not to save csv files\n",
    "\n",
    "saveAsPath = './Fig 02/'\n",
    "if not os.path.exists(saveAsPath):\n",
    "    os.mkdir(saveAsPath)\n",
    "saveAsName = ''"
   ]
  },
  {
   "cell_type": "code",
   "execution_count": 3,
   "metadata": {},
   "outputs": [],
   "source": [
    "#path = '/Users/svcanavan/Dropbox/Coding in progress/00_BudgieSleep/Data_copies/'\n",
    "\n",
    "birdPaths =    ['../data_copies/01_PreprocessedData/01_BudgieFemale_green1/00_Baseline_night/',\n",
    "                '../data_copies/01_PreprocessedData/02_BudgieMale_yellow1/00_Baseline_night/',\n",
    "                '../data_copies/01_PreprocessedData/03_BudgieFemale_white1/00_Baseline_night/',\n",
    "                '../data_copies/01_PreprocessedData/04_BudgieMale_yellow2/00_Baseline_night/',\n",
    "                '../data_copies/01_PreprocessedData/05_BudgieFemale_green2/00_Baseline_night/']\n",
    "\n",
    "arfFilePaths =  ['EEG 2 scored/',\n",
    "                 'EEG 3 scored/',\n",
    "                 'EEG 3 scored/',\n",
    "                 'EEG 4 scored/',\n",
    "                 'EEG 4 scored/']\n",
    "\n",
    "### load BEST EEG channels - as determined during manual scoring ####\n",
    "channelsToLoadEEG_best = [['6 LEEGm-LEEGp', '5 LEEGf-LEEGp'], #, '9 REEGp-LEEGp'], # extra channel to represent R hemisphere\n",
    "                     ['5 LEEGf-LEEGm', '4 LEEGf-Fgr'], #, '9 REEGf-REEGm'], # extra channel to represent R hemisphere\n",
    "                     ['9REEGm-REEGp', '4LEEGf-LEEGp'], \n",
    "                     ['6LEEGm-LEEGf', '9REEGf-REEGp'], \n",
    "                     ['7REEGf-REEGp', '4LEEGf-LEEGp']]\n",
    "\n",
    "\n",
    "### load ALL of EEG channels ####\n",
    "channelsToLoadEEG = [['4 LEEGf-Fgr', '5 LEEGf-LEEGp', '6 LEEGm-LEEGp', '7 LEEGp-Fgr', '8 REEGp-Fgr','9 REEGp-LEEGp'],\n",
    "                     ['4 LEEGf-Fgr','5 LEEGf-LEEGm', '6 LEEGm-LEEGp', '7 REEGf-Fgr', '8 REEGm-Fgr', '9 REEGf-REEGm'],\n",
    "                     ['4LEEGf-LEEGp', '5LEEGf-LEEGm', '6LEEGm-LEEGp', '7REEGf-REEGp', '8REEGf-REEGm', '9REEGm-REEGp'],\n",
    "                     ['4LEEGf-LEEGp', '5LEEGm-LEEGp', '6LEEGm-LEEGf', '7REEGf-Fgr', '8REEGf-REEGm','9REEGf-REEGp',],\n",
    "                     ['4LEEGf-LEEGp', '5LEEGf-LEEGm', '6LEEGm-LEEGp', '7REEGf-REEGp', '8REEGf-REEGm', '9REEGm-REEGp']]\n",
    "\n",
    "\n",
    "channelsToLoadEOG = [['1 LEOG-Fgr', '2 REOG-Fgr'],\n",
    "                     ['2 LEOG-Fgr', '3 REOG-Fgr'],\n",
    "                     ['2LEOG-Fgr', '3REOG-Fgr'],\n",
    "                     ['2LEOG-Fgr', '3REOG-Fgr'],\n",
    "                     ['2LEOG-Fgr', '3REOG-Fgr']]\n",
    "\n",
    "birds_LL = [1,2,3]\n",
    "nBirds_LL = len(birds_LL)\n",
    "\n",
    "birdPaths_LL = ['../data_copies/01_PreprocessedData/02_BudgieMale_yellow1/01_Constant_light/',\n",
    "                '../data_copies/01_PreprocessedData/03_BudgieFemale_white1/01_Constant_light/',\n",
    "                '../data_copies/01_PreprocessedData/04_BudgieMale_yellow2/01_Constant_light/',]\n",
    "\n",
    "arfFilePaths_LL =  ['EEG 2 preprocessed/',\n",
    "                    'EEG 2 preprocessed/',\n",
    "                    'EEG 2 preprocessed/']\n",
    "\n",
    "lightsOffSec = np.array([7947, 9675, 9861 + 8*3600, 9873, 13467])  # lights off times in seconds from beginning of file\n",
    "lightsOnSec = np.array([46449, 48168, 48375+ 8*3600, 48381, 52005]) # Bird 3 gets 8 hours added b/c file starts at 8:00 instead of 16:00\n",
    "\n",
    "epochLength = 3\n",
    "sr = 200\n",
    "scalingFactor = (2**15)*0.195       # scaling/conversion factor from amplitude to uV (when recording arf from jrecord)\n",
    "\n",
    "stages = ['w','d','u','i','s','r'] # wake, drowsy, unihem sleep, intermediate sleep, SWS, REM\n",
    "stagesSleep =    ['u','i','s','r']\n",
    "\n",
    "stagesVideo = ['m','q','d','s','u'] # moving wake, quiet wake, drowsy, sleep, unclear\n",
    "\n",
    "## Path to scores formatted as CSVs\n",
    "formatted_scores_path = '../formatted_scores/'\n",
    "\n",
    "## Path to detect SW ands EM events: use folder w/ EMs and EM artifacts detected during non-sleep\n",
    "events_path = '../data_copies/SWs_EMs_and_EMartifacts/'"
   ]
  },
  {
   "cell_type": "code",
   "execution_count": 4,
   "metadata": {},
   "outputs": [
    {
     "data": {
      "image/png": "[encoded data removed]",
      "text/plain": [
       "<Figure size 432x72 with 1 Axes>"
      ]
     },
     "metadata": {
      "needs_background": "light"
     },
     "output_type": "display_data"
    }
   ],
   "source": [
    "colors = sns.color_palette(np.array([[234,103,99],\n",
    "[218,142,60],\n",
    "[174,174,62],\n",
    "[97,188,101],\n",
    "[140,133,232],\n",
    "[225,113,190]])\n",
    "/255)\n",
    "\n",
    "sns.palplot(colors)\n",
    "\n",
    "# colorpalette from iWantHue"
   ]
  },
  {
   "cell_type": "code",
   "execution_count": 5,
   "metadata": {},
   "outputs": [
    {
     "data": {
      "image/png": "[encoded data removed]",
      "text/plain": [
       "<Figure size 360x72 with 1 Axes>"
      ]
     },
     "metadata": {
      "needs_background": "light"
     },
     "output_type": "display_data"
    }
   ],
   "source": [
    "colors_birds = [np.repeat(.4, 3),\n",
    "                np.repeat(.5, 3),\n",
    "                np.repeat(.6, 3),\n",
    "                np.repeat(.7, 3),\n",
    "                np.repeat(.8, 3)]\n",
    "\n",
    "sns.palplot(colors_birds)\n"
   ]
  },
  {
   "cell_type": "markdown",
   "metadata": {},
   "source": [
    "Plot-specific info"
   ]
  },
  {
   "cell_type": "code",
   "execution_count": 6,
   "metadata": {},
   "outputs": [],
   "source": [
    "sns.set_context(\"notebook\", font_scale=1.5)\n",
    "sns.set_style(\"white\")\n",
    "axis_label_fontsize = 24\n",
    "\n",
    "# Markers for legends of EEG scoring colors\n",
    "legendMarkersEEG = []\n",
    "for stage in range(len(stages)):\n",
    "    legendMarkersEEG.append(plt.Line2D([0],[0], color=colors[stage], marker='o', linestyle='', alpha=0.7))  "
   ]
  },
  {
   "cell_type": "markdown",
   "metadata": {},
   "source": [
    "Calculate general variables"
   ]
  },
  {
   "cell_type": "code",
   "execution_count": 7,
   "metadata": {},
   "outputs": [],
   "source": [
    "lightsOffEp = lightsOffSec / epochLength\n",
    "lightsOnEp = lightsOnSec / epochLength\n",
    "\n",
    "nBirds = len(birdPaths)\n",
    "\n",
    "epochLengthPts = epochLength*sr\n",
    "\n",
    "nStages = len(stagesSleep)"
   ]
  },
  {
   "cell_type": "markdown",
   "metadata": {},
   "source": [
    "## Read in files"
   ]
  },
  {
   "cell_type": "markdown",
   "metadata": {},
   "source": [
    "### Load formatted scores"
   ]
  },
  {
   "cell_type": "code",
   "execution_count": 8,
   "metadata": {},
   "outputs": [],
   "source": [
    "AllScores = {}\n",
    "for b in range(nBirds):\n",
    "    bird_name = 'Bird ' + str(b+1)\n",
    "    file = formatted_scores_path + 'All_scores_' + bird_name + '.csv'\n",
    "    data = pd.read_csv(file, index_col=0)\n",
    "    AllScores[bird_name] = data"
   ]
  },
  {
   "cell_type": "markdown",
   "metadata": {},
   "source": [
    "## Calculate lights off in Zeitgeber time (s and hrs)\n",
    "Lights on is 0 "
   ]
  },
  {
   "cell_type": "code",
   "execution_count": 9,
   "metadata": {},
   "outputs": [],
   "source": [
    "lightsOffDatetime = np.array([], dtype='datetime64')\n",
    "lightsOnDatetime = np.array([], dtype='datetime64')\n",
    "\n",
    "for b_num in range(nBirds):\n",
    "    b_name = 'Bird ' + str(b_num+1)\n",
    "    Scores = AllScores[b_name]\n",
    "    startDatetime = np.datetime64(Scores.index.values[0])\n",
    "\n",
    "    # Calc lights off & on using datetime formats\n",
    "    lightsOffTimedelta = lightsOffSec[b_num].astype('timedelta64[s]')\n",
    "    lightsOffDatetime = np.append(lightsOffDatetime, startDatetime + lightsOffTimedelta)\n",
    "    lightsOnTimedelta = lightsOnSec[b_num].astype('timedelta64[s]')\n",
    "    lightsOnDatetime = np.append(lightsOnDatetime, startDatetime + lightsOnTimedelta)"
   ]
  },
  {
   "cell_type": "code",
   "execution_count": 10,
   "metadata": {},
   "outputs": [],
   "source": [
    "lightsOffZeit_s = lightsOffSec - lightsOnSec\n",
    "lightsOffZeit_hr = lightsOffZeit_s / 3600"
   ]
  },
  {
   "cell_type": "markdown",
   "metadata": {},
   "source": [
    "# NIGHTTIME SLEEP"
   ]
  },
  {
   "cell_type": "code",
   "execution_count": 11,
   "metadata": {},
   "outputs": [],
   "source": [
    "AllStageProportions_by_stage = {}"
   ]
  },
  {
   "cell_type": "markdown",
   "metadata": {},
   "source": [
    "## Nighttime sleep: Make table (both % of time and %TST)"
   ]
  },
  {
   "cell_type": "code",
   "execution_count": 12,
   "metadata": {},
   "outputs": [],
   "source": [
    "stageProportions_night_all = {}\n",
    "\n",
    "for b in range(nBirds):\n",
    "\n",
    "    stageProportions = DataFrame([], columns=range(len(stages)))\n",
    "\n",
    "    b_name = 'Bird ' + str(b+1)\n",
    "    Scores = AllScores[b_name]\n",
    "\n",
    "    start = str(lightsOffDatetime[b]).replace('T', ' ')\n",
    "    end = str(lightsOnDatetime[b]).replace('T', ' ')\n",
    "\n",
    "    bn_scores = Scores[start:end]\n",
    "    bn_stage_frequencies = bn_scores['Label (#)'].value_counts(normalize=True,sort=False)\n",
    "                \n",
    "    stageProportions = stageProportions.append(bn_stage_frequencies, ignore_index=True)\n",
    "    \n",
    "    # Replace NaNs with 0\n",
    "    stageProportions = stageProportions.fillna(0)\n",
    "    \n",
    "    # Calc TST and sleep stages as % TST\n",
    "    \n",
    "    stageProportions['TST'] = stageProportions[[2,3,4,5]].sum(axis=1)\n",
    "\n",
    "    stageProportions['U (% TST)'] = stageProportions[2]/stageProportions['TST']\n",
    "    stageProportions['I (% TST)'] = stageProportions[3]/stageProportions['TST']\n",
    "    stageProportions['S (% TST)'] = stageProportions[4]/stageProportions['TST']\n",
    "    stageProportions['R (% TST)'] = stageProportions[5]/stageProportions['TST']\n",
    "\n",
    "    # Add to dictionary\n",
    "    stageProportions_night_all[b] = stageProportions\n",
    "    "
   ]
  },
  {
   "cell_type": "markdown",
   "metadata": {},
   "source": [
    "## Organize proportions by stage (instead of by bird)"
   ]
  },
  {
   "cell_type": "code",
   "execution_count": 13,
   "metadata": {},
   "outputs": [],
   "source": [
    "stageProportions_by_stage = {}\n",
    "\n",
    "stage_labels = stageProportions_night_all[0].columns.values\n",
    "\n",
    "for st in stage_labels:\n",
    "    stageProportions_stage = DataFrame([])\n",
    "    \n",
    "    for b in range(nBirds):\n",
    "        stageProportions_bird = stageProportions_night_all[b]\n",
    "        stageProportions_stage['Bird ' + str(b+1)] = stageProportions_bird[st]\n",
    "        \n",
    "    stageProportions_by_stage[st] = stageProportions_stage"
   ]
  },
  {
   "cell_type": "code",
   "execution_count": 14,
   "metadata": {},
   "outputs": [],
   "source": [
    "# Save to dict\n",
    "AllStageProportions_by_stage['night'] = stageProportions_by_stage"
   ]
  },
  {
   "cell_type": "markdown",
   "metadata": {},
   "source": [
    "## Find means and SDs"
   ]
  },
  {
   "cell_type": "code",
   "execution_count": 15,
   "metadata": {},
   "outputs": [],
   "source": [
    "Means = DataFrame([])\n",
    "SDs = DataFrame([])\n",
    "\n",
    "for st in stage_labels:\n",
    "    tmp_mean = stageProportions_by_stage[st].mean(axis=1)\n",
    "    tmp_sd = stageProportions_by_stage[st].std(axis=1)\n",
    "    \n",
    "    Means[st] = tmp_mean\n",
    "    SDs[st] = tmp_sd\n",
    "    "
   ]
  },
  {
   "cell_type": "code",
   "execution_count": 16,
   "metadata": {},
   "outputs": [
    {
     "data": {
      "text/html": [
       "<div>\n",
       "<style scoped>\n",
       "    .dataframe tbody tr th:only-of-type {\n",
       "        vertical-align: middle;\n",
       "    }\n",
       "\n",
       "    .dataframe tbody tr th {\n",
       "        vertical-align: top;\n",
       "    }\n",
       "\n",
       "    .dataframe thead th {\n",
       "        text-align: right;\n",
       "    }\n",
       "</style>\n",
       "<table border=\"1\" class=\"dataframe\">\n",
       "  <thead>\n",
       "    <tr style=\"text-align: right;\">\n",
       "      <th></th>\n",
       "      <th>0</th>\n",
       "      <th>1</th>\n",
       "      <th>2</th>\n",
       "      <th>3</th>\n",
       "      <th>4</th>\n",
       "      <th>5</th>\n",
       "      <th>TST</th>\n",
       "      <th>U (% TST)</th>\n",
       "      <th>I (% TST)</th>\n",
       "      <th>S (% TST)</th>\n",
       "      <th>R (% TST)</th>\n",
       "    </tr>\n",
       "  </thead>\n",
       "  <tbody>\n",
       "    <tr>\n",
       "      <td>0</td>\n",
       "      <td>11.975591</td>\n",
       "      <td>5.090544</td>\n",
       "      <td>0.02338</td>\n",
       "      <td>42.241249</td>\n",
       "      <td>15.704202</td>\n",
       "      <td>24.963475</td>\n",
       "      <td>82.932306</td>\n",
       "      <td>0.027828</td>\n",
       "      <td>50.437188</td>\n",
       "      <td>18.856059</td>\n",
       "      <td>30.678924</td>\n",
       "    </tr>\n",
       "  </tbody>\n",
       "</table>\n",
       "</div>"
      ],
      "text/plain": [
       "           0         1        2          3          4          5        TST  \\\n",
       "0  11.975591  5.090544  0.02338  42.241249  15.704202  24.963475  82.932306   \n",
       "\n",
       "   U (% TST)  I (% TST)  S (% TST)  R (% TST)  \n",
       "0   0.027828  50.437188  18.856059  30.678924  "
      ]
     },
     "execution_count": 16,
     "metadata": {},
     "output_type": "execute_result"
    }
   ],
   "source": [
    "Means*100"
   ]
  },
  {
   "cell_type": "code",
   "execution_count": 17,
   "metadata": {},
   "outputs": [
    {
     "data": {
      "text/html": [
       "<div>\n",
       "<style scoped>\n",
       "    .dataframe tbody tr th:only-of-type {\n",
       "        vertical-align: middle;\n",
       "    }\n",
       "\n",
       "    .dataframe tbody tr th {\n",
       "        vertical-align: top;\n",
       "    }\n",
       "\n",
       "    .dataframe thead th {\n",
       "        text-align: right;\n",
       "    }\n",
       "</style>\n",
       "<table border=\"1\" class=\"dataframe\">\n",
       "  <thead>\n",
       "    <tr style=\"text-align: right;\">\n",
       "      <th></th>\n",
       "      <th>0</th>\n",
       "      <th>1</th>\n",
       "      <th>2</th>\n",
       "      <th>3</th>\n",
       "      <th>4</th>\n",
       "      <th>5</th>\n",
       "      <th>TST</th>\n",
       "      <th>U (% TST)</th>\n",
       "      <th>I (% TST)</th>\n",
       "      <th>S (% TST)</th>\n",
       "      <th>R (% TST)</th>\n",
       "    </tr>\n",
       "  </thead>\n",
       "  <tbody>\n",
       "    <tr>\n",
       "      <td>0</td>\n",
       "      <td>6.335167</td>\n",
       "      <td>1.621297</td>\n",
       "      <td>0.019095</td>\n",
       "      <td>11.19485</td>\n",
       "      <td>5.097742</td>\n",
       "      <td>7.939584</td>\n",
       "      <td>6.87754</td>\n",
       "      <td>0.023303</td>\n",
       "      <td>10.214977</td>\n",
       "      <td>5.646341</td>\n",
       "      <td>11.521843</td>\n",
       "    </tr>\n",
       "  </tbody>\n",
       "</table>\n",
       "</div>"
      ],
      "text/plain": [
       "          0         1         2         3         4         5      TST  \\\n",
       "0  6.335167  1.621297  0.019095  11.19485  5.097742  7.939584  6.87754   \n",
       "\n",
       "   U (% TST)  I (% TST)  S (% TST)  R (% TST)  \n",
       "0   0.023303  10.214977   5.646341  11.521843  "
      ]
     },
     "execution_count": 17,
     "metadata": {},
     "output_type": "execute_result"
    }
   ],
   "source": [
    "SDs*100"
   ]
  },
  {
   "cell_type": "markdown",
   "metadata": {
    "collapsed": true
   },
   "source": [
    "## Bar graphs: Plot each stage"
   ]
  },
  {
   "cell_type": "code",
   "execution_count": 18,
   "metadata": {},
   "outputs": [],
   "source": [
    "figsize = (6,6)\n",
    "axis_label_fontsize = 24\n",
    "smaller_label_fontsize = 20\n",
    "\n",
    "# Line formatting\n",
    "linewidth = 5\n",
    "linealpha = .7\n",
    "marker = 'o'\n",
    "markersize = 10\n",
    "err_capsize = 3\n",
    "err_capthick = 3\n",
    "elinewidth = 3\n",
    "\n",
    "# Bar formatting\n",
    "bar_linewidth = 4"
   ]
  },
  {
   "cell_type": "markdown",
   "metadata": {},
   "source": [
    "### FIGURE 2E"
   ]
  },
  {
   "cell_type": "code",
   "execution_count": 19,
   "metadata": {},
   "outputs": [
    {
     "data": {
      "image/png": "[encoded data removed]",
      "text/plain": [
       "<Figure size 432x432 with 1 Axes>"
      ]
     },
     "metadata": {},
     "output_type": "display_data"
    }
   ],
   "source": [
    "plt.figure(figsize=figsize)\n",
    "stages_to_plot = ['U (% TST)', 'I (% TST)', 'S (% TST)', 'R (% TST)']\n",
    "\n",
    "\n",
    "# Line plot of each bird\n",
    "for bird in range(nBirds):\n",
    "    bird_stage_proportions = np.ndarray.flatten(stageProportions_night_all[bird][stages_to_plot].values)\n",
    "    plt.plot([1,2,3,4], bird_stage_proportions*100,\n",
    "             color=colors_birds[bird]) \n",
    "    \n",
    "num=1\n",
    "for st in stages_to_plot:\n",
    "\n",
    "    \n",
    "    # Dots for each point - color by stage\n",
    "    plt.plot(num, stageProportions_by_stage[st]*100,\n",
    "             marker=marker, markersize=markersize,\n",
    "             color=colors[2:6][num-1], alpha=linealpha)\n",
    "    \n",
    "    # Bar graph of mean\n",
    "    plt.bar(num, Means[st]*100, width=1, color='none', edgecolor=colors[2:6][num-1], linewidth=bar_linewidth)\n",
    "    \n",
    "    num=num+1\n",
    "    \n",
    "plt.ylim(-.05, 70)\n",
    "plt.xlim(.2,4.8)\n",
    "plt.ylabel('% of total sleep time', fontsize=axis_label_fontsize)\n",
    "plt.xticks([1, 2, 3, 4], ['Uni', 'IS', 'SWS', 'REM'],fontsize=axis_label_fontsize)\n",
    "ax = plt.gca()\n",
    "[t.set_color(i) for (i,t) in zip(colors[2:6],ax.xaxis.get_ticklabels())]\n",
    "\n",
    "plt.title('Nighttime sleep', fontsize=axis_label_fontsize)\n",
    "sns.despine()\n",
    "    \n",
    "if savePlots:\n",
    "        plt.savefig(saveAsPath + saveAsName + \"Fig2e_Nighttime_percentTST.pdf\")"
   ]
  },
  {
   "cell_type": "code",
   "execution_count": 20,
   "metadata": {},
   "outputs": [
    {
     "data": {
      "text/html": [
       "<div>\n",
       "<style scoped>\n",
       "    .dataframe tbody tr th:only-of-type {\n",
       "        vertical-align: middle;\n",
       "    }\n",
       "\n",
       "    .dataframe tbody tr th {\n",
       "        vertical-align: top;\n",
       "    }\n",
       "\n",
       "    .dataframe thead th {\n",
       "        text-align: right;\n",
       "    }\n",
       "</style>\n",
       "<table border=\"1\" class=\"dataframe\">\n",
       "  <thead>\n",
       "    <tr style=\"text-align: right;\">\n",
       "      <th></th>\n",
       "      <th>U (% TST)</th>\n",
       "      <th>I (% TST)</th>\n",
       "      <th>S (% TST)</th>\n",
       "      <th>R (% TST)</th>\n",
       "    </tr>\n",
       "  </thead>\n",
       "  <tbody>\n",
       "    <tr>\n",
       "      <td>0</td>\n",
       "      <td>0.027828</td>\n",
       "      <td>50.437188</td>\n",
       "      <td>18.856059</td>\n",
       "      <td>30.678924</td>\n",
       "    </tr>\n",
       "  </tbody>\n",
       "</table>\n",
       "</div>"
      ],
      "text/plain": [
       "   U (% TST)  I (% TST)  S (% TST)  R (% TST)\n",
       "0   0.027828  50.437188  18.856059  30.678924"
      ]
     },
     "execution_count": 20,
     "metadata": {},
     "output_type": "execute_result"
    }
   ],
   "source": [
    "Means[['U (% TST)', 'I (% TST)', 'S (% TST)', 'R (% TST)']]*100"
   ]
  },
  {
   "cell_type": "code",
   "execution_count": 21,
   "metadata": {},
   "outputs": [
    {
     "data": {
      "text/html": [
       "<div>\n",
       "<style scoped>\n",
       "    .dataframe tbody tr th:only-of-type {\n",
       "        vertical-align: middle;\n",
       "    }\n",
       "\n",
       "    .dataframe tbody tr th {\n",
       "        vertical-align: top;\n",
       "    }\n",
       "\n",
       "    .dataframe thead th {\n",
       "        text-align: right;\n",
       "    }\n",
       "</style>\n",
       "<table border=\"1\" class=\"dataframe\">\n",
       "  <thead>\n",
       "    <tr style=\"text-align: right;\">\n",
       "      <th></th>\n",
       "      <th>U (% TST)</th>\n",
       "      <th>I (% TST)</th>\n",
       "      <th>S (% TST)</th>\n",
       "      <th>R (% TST)</th>\n",
       "    </tr>\n",
       "  </thead>\n",
       "  <tbody>\n",
       "    <tr>\n",
       "      <td>0</td>\n",
       "      <td>0.023303</td>\n",
       "      <td>10.214977</td>\n",
       "      <td>5.646341</td>\n",
       "      <td>11.521843</td>\n",
       "    </tr>\n",
       "  </tbody>\n",
       "</table>\n",
       "</div>"
      ],
      "text/plain": [
       "   U (% TST)  I (% TST)  S (% TST)  R (% TST)\n",
       "0   0.023303  10.214977   5.646341  11.521843"
      ]
     },
     "execution_count": 21,
     "metadata": {},
     "output_type": "execute_result"
    }
   ],
   "source": [
    "SDs[['U (% TST)', 'I (% TST)', 'S (% TST)', 'R (% TST)']]*100"
   ]
  },
  {
   "cell_type": "code",
   "execution_count": 22,
   "metadata": {},
   "outputs": [
    {
     "data": {
      "image/png": "[encoded data removed]",
      "text/plain": [
       "<Figure size 432x432 with 1 Axes>"
      ]
     },
     "metadata": {},
     "output_type": "display_data"
    }
   ],
   "source": [
    "plt.figure(figsize=figsize)\n",
    "\n",
    "stages_to_plot = [0,1,2,3,4,5]\n",
    "\n",
    "\n",
    "# Line plot of each bird\n",
    "for bird in range(nBirds):\n",
    "    bird_stage_proportions = np.ndarray.flatten(stageProportions_night_all[bird][stages_to_plot].values)\n",
    "    plt.plot([1,2,3,4,5,6], bird_stage_proportions*100,\n",
    "             color=colors_birds[bird]) \n",
    "\n",
    "num=1\n",
    "for st in stages_to_plot:\n",
    "    # Line plot of each bird\n",
    "    plt.plot(num, stageProportions_by_stage[st]*100,\n",
    "             marker=marker, markersize=markersize,\n",
    "             color=colors[num-1], alpha=linealpha)\n",
    "    \n",
    "    # Bar graph of mean\n",
    "    plt.bar(num, Means[st]*100, width=1, color='none', edgecolor=colors[num-1], linewidth=bar_linewidth)\n",
    "    \n",
    "    num=num+1\n",
    "    \n",
    "plt.ylim(-.05, 80)\n",
    "plt.xlim(.2, 6.8)\n",
    "plt.ylabel('% of Time', fontsize=axis_label_fontsize)\n",
    "plt.xticks([1, 2, 3, 4, 5, 6], ['Wake', 'Drowsy', 'Uni', 'IS', 'SWS', 'REM'],\n",
    "           fontsize=axis_label_fontsize,rotation=45)\n",
    "\n",
    "ax = plt.gca()\n",
    "[t.set_color(i) for (i,t) in zip(colors,ax.xaxis.get_ticklabels())]\n",
    "\n",
    "plt.title('Nighttime', fontsize=axis_label_fontsize)\n",
    "sns.despine()\n",
    "    \n",
    "if savePlots:\n",
    "        plt.savefig(saveAsPath + saveAsName + \"Fig2e-g_Nighttime_percentTime.pdf\")"
   ]
  },
  {
   "cell_type": "code",
   "execution_count": 23,
   "metadata": {},
   "outputs": [
    {
     "data": {
      "text/html": [
       "<div>\n",
       "<style scoped>\n",
       "    .dataframe tbody tr th:only-of-type {\n",
       "        vertical-align: middle;\n",
       "    }\n",
       "\n",
       "    .dataframe tbody tr th {\n",
       "        vertical-align: top;\n",
       "    }\n",
       "\n",
       "    .dataframe thead th {\n",
       "        text-align: right;\n",
       "    }\n",
       "</style>\n",
       "<table border=\"1\" class=\"dataframe\">\n",
       "  <thead>\n",
       "    <tr style=\"text-align: right;\">\n",
       "      <th></th>\n",
       "      <th>0</th>\n",
       "      <th>1</th>\n",
       "      <th>2</th>\n",
       "      <th>3</th>\n",
       "      <th>4</th>\n",
       "      <th>5</th>\n",
       "    </tr>\n",
       "  </thead>\n",
       "  <tbody>\n",
       "    <tr>\n",
       "      <td>0</td>\n",
       "      <td>11.975591</td>\n",
       "      <td>5.090544</td>\n",
       "      <td>0.02338</td>\n",
       "      <td>42.241249</td>\n",
       "      <td>15.704202</td>\n",
       "      <td>24.963475</td>\n",
       "    </tr>\n",
       "  </tbody>\n",
       "</table>\n",
       "</div>"
      ],
      "text/plain": [
       "           0         1        2          3          4          5\n",
       "0  11.975591  5.090544  0.02338  42.241249  15.704202  24.963475"
      ]
     },
     "execution_count": 23,
     "metadata": {},
     "output_type": "execute_result"
    }
   ],
   "source": [
    "Means[[0,1,2,3,4,5]]*100"
   ]
  },
  {
   "cell_type": "code",
   "execution_count": 24,
   "metadata": {},
   "outputs": [
    {
     "data": {
      "text/html": [
       "<div>\n",
       "<style scoped>\n",
       "    .dataframe tbody tr th:only-of-type {\n",
       "        vertical-align: middle;\n",
       "    }\n",
       "\n",
       "    .dataframe tbody tr th {\n",
       "        vertical-align: top;\n",
       "    }\n",
       "\n",
       "    .dataframe thead th {\n",
       "        text-align: right;\n",
       "    }\n",
       "</style>\n",
       "<table border=\"1\" class=\"dataframe\">\n",
       "  <thead>\n",
       "    <tr style=\"text-align: right;\">\n",
       "      <th></th>\n",
       "      <th>0</th>\n",
       "      <th>1</th>\n",
       "      <th>2</th>\n",
       "      <th>3</th>\n",
       "      <th>4</th>\n",
       "      <th>5</th>\n",
       "    </tr>\n",
       "  </thead>\n",
       "  <tbody>\n",
       "    <tr>\n",
       "      <td>0</td>\n",
       "      <td>6.335167</td>\n",
       "      <td>1.621297</td>\n",
       "      <td>0.019095</td>\n",
       "      <td>11.19485</td>\n",
       "      <td>5.097742</td>\n",
       "      <td>7.939584</td>\n",
       "    </tr>\n",
       "  </tbody>\n",
       "</table>\n",
       "</div>"
      ],
      "text/plain": [
       "          0         1         2         3         4         5\n",
       "0  6.335167  1.621297  0.019095  11.19485  5.097742  7.939584"
      ]
     },
     "execution_count": 24,
     "metadata": {},
     "output_type": "execute_result"
    }
   ],
   "source": [
    "SDs[[0,1,2,3,4,5]]*100"
   ]
  },
  {
   "cell_type": "code",
   "execution_count": 25,
   "metadata": {},
   "outputs": [
    {
     "data": {
      "text/plain": [
       "0    82.932306\n",
       "Name: TST, dtype: float64"
      ]
     },
     "execution_count": 25,
     "metadata": {},
     "output_type": "execute_result"
    }
   ],
   "source": [
    "Means['TST']*100"
   ]
  },
  {
   "cell_type": "code",
   "execution_count": 26,
   "metadata": {},
   "outputs": [
    {
     "data": {
      "text/plain": [
       "0    6.87754\n",
       "Name: TST, dtype: float64"
      ]
     },
     "execution_count": 26,
     "metadata": {},
     "output_type": "execute_result"
    }
   ],
   "source": [
    "SDs['TST']*100"
   ]
  },
  {
   "cell_type": "markdown",
   "metadata": {},
   "source": [
    "# DAYTIME SLEEP"
   ]
  },
  {
   "cell_type": "code",
   "execution_count": 27,
   "metadata": {},
   "outputs": [],
   "source": [
    "stageProportions_day_all = {}\n",
    "\n",
    "for b in range(nBirds):\n",
    "\n",
    "    stageProportions = DataFrame([], columns=range(len(stages)))\n",
    "\n",
    "    b_name = 'Bird ' + str(b+1) \n",
    "    Scores = AllScores[b_name]\n",
    "\n",
    "    first_start_ep = 0\n",
    "    first_end_ep   = int(lightsOffEp[b])\n",
    "    second_start_ep = int(lightsOnEp[b])\n",
    "\n",
    "    bn_scores = Scores[first_start_ep:first_end_ep].append(Scores[second_start_ep::])\n",
    "    bn_stage_frequencies = bn_scores['Label (#)'].value_counts(normalize=True,sort=False)\n",
    "                \n",
    "    stageProportions = stageProportions.append(bn_stage_frequencies, ignore_index=True)\n",
    "    \n",
    "    # Replace NaNs with 0\n",
    "    stageProportions = stageProportions.fillna(0)\n",
    "    \n",
    "    # Calc TST and sleep stages as % TST\n",
    "    \n",
    "    stageProportions['TST'] = stageProportions[[2,3,4,5]].sum(axis=1)\n",
    "\n",
    "    stageProportions['U (% TST)'] = stageProportions[2]/stageProportions['TST']\n",
    "    stageProportions['I (% TST)'] = stageProportions[3]/stageProportions['TST']\n",
    "    stageProportions['S (% TST)'] = stageProportions[4]/stageProportions['TST']\n",
    "    stageProportions['R (% TST)'] = stageProportions[5]/stageProportions['TST']\n",
    "\n",
    "    # Add to dictionary\n",
    "    stageProportions_day_all[b] = stageProportions\n",
    "    "
   ]
  },
  {
   "cell_type": "markdown",
   "metadata": {},
   "source": [
    "### Organize proportions by stage"
   ]
  },
  {
   "cell_type": "code",
   "execution_count": 28,
   "metadata": {},
   "outputs": [],
   "source": [
    "stageProportions_by_stage = {}\n",
    "\n",
    "stage_labels = stageProportions_day_all[0].columns.values\n",
    "\n",
    "for st in stage_labels:\n",
    "    stageProportions_stage = DataFrame([])\n",
    "    \n",
    "    for b in range(nBirds):\n",
    "        stageProportions_bird = stageProportions_day_all[b]\n",
    "        stageProportions_stage['Bird ' + str(b+1)] = stageProportions_bird.get(st, default=0)\n",
    "        \n",
    "    stageProportions_by_stage[st] = stageProportions_stage"
   ]
  },
  {
   "cell_type": "code",
   "execution_count": 29,
   "metadata": {},
   "outputs": [],
   "source": [
    "# save to dict\n",
    "AllStageProportions_by_stage['day'] = stageProportions_by_stage"
   ]
  },
  {
   "cell_type": "markdown",
   "metadata": {},
   "source": [
    "## Find means and SDs"
   ]
  },
  {
   "cell_type": "code",
   "execution_count": 30,
   "metadata": {},
   "outputs": [],
   "source": [
    "Means = DataFrame([])\n",
    "SDs = DataFrame([])\n",
    "\n",
    "for st in stage_labels:\n",
    "    tmp_mean = stageProportions_by_stage[st].mean(axis=1)\n",
    "    tmp_sd = stageProportions_by_stage[st].std(axis=1)\n",
    "    \n",
    "    Means[st] = tmp_mean\n",
    "    SDs[st] = tmp_sd\n",
    "    "
   ]
  },
  {
   "cell_type": "markdown",
   "metadata": {},
   "source": [
    "## Bar graphs: Plot each stage"
   ]
  },
  {
   "cell_type": "markdown",
   "metadata": {},
   "source": [
    "### FIGURE 2F"
   ]
  },
  {
   "cell_type": "code",
   "execution_count": 31,
   "metadata": {},
   "outputs": [
    {
     "data": {
      "image/png": "[encoded data removed]",
      "text/plain": [
       "<Figure size 432x432 with 1 Axes>"
      ]
     },
     "metadata": {},
     "output_type": "display_data"
    }
   ],
   "source": [
    "plt.figure(figsize=figsize)\n",
    "stages_to_plot = ['U (% TST)', 'I (% TST)', 'S (% TST)', 'R (% TST)']\n",
    "\n",
    "\n",
    "# Line plot of each bird\n",
    "for bird in range(nBirds):\n",
    "    bird_stage_proportions = np.ndarray.flatten(stageProportions_day_all[bird][stages_to_plot].values)\n",
    "    plt.plot([1,2,3,4], bird_stage_proportions*100,\n",
    "             color=colors_birds[bird]) \n",
    "    \n",
    "num=1\n",
    "for st in stages_to_plot:\n",
    "    # Line plot of each bird\n",
    "    plt.plot(num, stageProportions_by_stage[st]*100,\n",
    "             marker=marker, markersize=markersize,\n",
    "             color=colors[2:6][num-1], alpha=linealpha)\n",
    "    \n",
    "    # Bar graph of mean\n",
    "    plt.bar(num, Means[st]*100, width=1, color='none', edgecolor=colors[2:6][num-1], linewidth=bar_linewidth)\n",
    "    \n",
    "    num=num+1\n",
    "    \n",
    "plt.ylim(-.05, 70)\n",
    "plt.xlim(0.2,4.8)\n",
    "plt.ylabel('% of TST', fontsize=axis_label_fontsize)\n",
    "plt.xticks([1, 2, 3, 4], ['Uni', 'IS', 'SWS', 'REM'],fontsize=axis_label_fontsize)\n",
    "ax = plt.gca()\n",
    "[t.set_color(i) for (i,t) in zip(colors[2:6],ax.xaxis.get_ticklabels())]\n",
    "\n",
    "plt.title('Daytime sleep', fontsize=axis_label_fontsize)\n",
    "sns.despine()\n",
    "    \n",
    "if savePlots:\n",
    "        plt.savefig(saveAsPath + saveAsName + \"Fig2f_Daytime_percentTST.pdf\")"
   ]
  },
  {
   "cell_type": "code",
   "execution_count": 32,
   "metadata": {},
   "outputs": [
    {
     "data": {
      "text/html": [
       "<div>\n",
       "<style scoped>\n",
       "    .dataframe tbody tr th:only-of-type {\n",
       "        vertical-align: middle;\n",
       "    }\n",
       "\n",
       "    .dataframe tbody tr th {\n",
       "        vertical-align: top;\n",
       "    }\n",
       "\n",
       "    .dataframe thead th {\n",
       "        text-align: right;\n",
       "    }\n",
       "</style>\n",
       "<table border=\"1\" class=\"dataframe\">\n",
       "  <thead>\n",
       "    <tr style=\"text-align: right;\">\n",
       "      <th></th>\n",
       "      <th>U (% TST)</th>\n",
       "      <th>I (% TST)</th>\n",
       "      <th>S (% TST)</th>\n",
       "      <th>R (% TST)</th>\n",
       "    </tr>\n",
       "  </thead>\n",
       "  <tbody>\n",
       "    <tr>\n",
       "      <td>0</td>\n",
       "      <td>29.326954</td>\n",
       "      <td>51.65589</td>\n",
       "      <td>13.004512</td>\n",
       "      <td>6.012644</td>\n",
       "    </tr>\n",
       "  </tbody>\n",
       "</table>\n",
       "</div>"
      ],
      "text/plain": [
       "   U (% TST)  I (% TST)  S (% TST)  R (% TST)\n",
       "0  29.326954   51.65589  13.004512   6.012644"
      ]
     },
     "execution_count": 32,
     "metadata": {},
     "output_type": "execute_result"
    }
   ],
   "source": [
    "Means[['U (% TST)', 'I (% TST)', 'S (% TST)', 'R (% TST)']]*100"
   ]
  },
  {
   "cell_type": "code",
   "execution_count": 33,
   "metadata": {},
   "outputs": [
    {
     "data": {
      "text/html": [
       "<div>\n",
       "<style scoped>\n",
       "    .dataframe tbody tr th:only-of-type {\n",
       "        vertical-align: middle;\n",
       "    }\n",
       "\n",
       "    .dataframe tbody tr th {\n",
       "        vertical-align: top;\n",
       "    }\n",
       "\n",
       "    .dataframe thead th {\n",
       "        text-align: right;\n",
       "    }\n",
       "</style>\n",
       "<table border=\"1\" class=\"dataframe\">\n",
       "  <thead>\n",
       "    <tr style=\"text-align: right;\">\n",
       "      <th></th>\n",
       "      <th>U (% TST)</th>\n",
       "      <th>I (% TST)</th>\n",
       "      <th>S (% TST)</th>\n",
       "      <th>R (% TST)</th>\n",
       "    </tr>\n",
       "  </thead>\n",
       "  <tbody>\n",
       "    <tr>\n",
       "      <td>0</td>\n",
       "      <td>21.875308</td>\n",
       "      <td>6.841728</td>\n",
       "      <td>10.397065</td>\n",
       "      <td>6.957563</td>\n",
       "    </tr>\n",
       "  </tbody>\n",
       "</table>\n",
       "</div>"
      ],
      "text/plain": [
       "   U (% TST)  I (% TST)  S (% TST)  R (% TST)\n",
       "0  21.875308   6.841728  10.397065   6.957563"
      ]
     },
     "execution_count": 33,
     "metadata": {},
     "output_type": "execute_result"
    }
   ],
   "source": [
    "SDs[['U (% TST)', 'I (% TST)', 'S (% TST)', 'R (% TST)']]*100"
   ]
  },
  {
   "cell_type": "code",
   "execution_count": 34,
   "metadata": {},
   "outputs": [
    {
     "data": {
      "image/png": "[encoded data removed]",
      "text/plain": [
       "<Figure size 432x432 with 1 Axes>"
      ]
     },
     "metadata": {},
     "output_type": "display_data"
    }
   ],
   "source": [
    "plt.figure(figsize=figsize)\n",
    "\n",
    "stages_to_plot = [0,1,2,3,4,5]\n",
    "\n",
    "# Line plot of each bird\n",
    "for bird in range(nBirds):\n",
    "    bird_stage_proportions = np.ndarray.flatten(stageProportions_day_all[bird][stages_to_plot].values)\n",
    "    plt.plot([1,2,3,4,5,6], bird_stage_proportions*100,\n",
    "             color=colors_birds[bird]) \n",
    "\n",
    "num=1\n",
    "for st in stages_to_plot:\n",
    "    # Line plot of each bird\n",
    "    plt.plot(num, stageProportions_by_stage[st]*100,\n",
    "             marker=marker, markersize=markersize,\n",
    "             color=colors[num-1], alpha=linealpha)\n",
    "    \n",
    "    # Bar graph of mean\n",
    "    plt.bar(num, Means[st]*100, width=1, color='none', edgecolor=colors[num-1], linewidth=bar_linewidth)\n",
    "    \n",
    "    num=num+1\n",
    "    \n",
    "plt.ylim(-.05, 80)\n",
    "plt.xlim(.2, 6.8)\n",
    "plt.ylabel('% of recording time', fontsize=axis_label_fontsize)\n",
    "plt.xticks([1, 2, 3, 4, 5, 6], ['Wake', 'Drowsy', 'Uni', 'IS', 'SWS', 'REM'], fontsize=axis_label_fontsize,rotation=45)\n",
    "\n",
    "ax = plt.gca()\n",
    "[t.set_color(i) for (i,t) in zip(colors,ax.xaxis.get_ticklabels())]\n",
    "\n",
    "plt.title('Daytime', fontsize=axis_label_fontsize)\n",
    "sns.despine()\n",
    "    \n",
    "if savePlots:\n",
    "        plt.savefig(saveAsPath + saveAsName + \"Fig2e-g_Daytime_percentTime.pdf\")"
   ]
  },
  {
   "cell_type": "code",
   "execution_count": 35,
   "metadata": {},
   "outputs": [
    {
     "data": {
      "text/html": [
       "<div>\n",
       "<style scoped>\n",
       "    .dataframe tbody tr th:only-of-type {\n",
       "        vertical-align: middle;\n",
       "    }\n",
       "\n",
       "    .dataframe tbody tr th {\n",
       "        vertical-align: top;\n",
       "    }\n",
       "\n",
       "    .dataframe thead th {\n",
       "        text-align: right;\n",
       "    }\n",
       "</style>\n",
       "<table border=\"1\" class=\"dataframe\">\n",
       "  <thead>\n",
       "    <tr style=\"text-align: right;\">\n",
       "      <th></th>\n",
       "      <th>0</th>\n",
       "      <th>1</th>\n",
       "      <th>2</th>\n",
       "      <th>3</th>\n",
       "      <th>4</th>\n",
       "      <th>5</th>\n",
       "    </tr>\n",
       "  </thead>\n",
       "  <tbody>\n",
       "    <tr>\n",
       "      <td>0</td>\n",
       "      <td>49.816772</td>\n",
       "      <td>32.797475</td>\n",
       "      <td>3.271364</td>\n",
       "      <td>9.316661</td>\n",
       "      <td>3.116272</td>\n",
       "      <td>1.667476</td>\n",
       "    </tr>\n",
       "  </tbody>\n",
       "</table>\n",
       "</div>"
      ],
      "text/plain": [
       "           0          1         2         3         4         5\n",
       "0  49.816772  32.797475  3.271364  9.316661  3.116272  1.667476"
      ]
     },
     "execution_count": 35,
     "metadata": {},
     "output_type": "execute_result"
    }
   ],
   "source": [
    "Means[[0,1,2,3,4,5]]*100"
   ]
  },
  {
   "cell_type": "code",
   "execution_count": 36,
   "metadata": {},
   "outputs": [
    {
     "data": {
      "text/html": [
       "<div>\n",
       "<style scoped>\n",
       "    .dataframe tbody tr th:only-of-type {\n",
       "        vertical-align: middle;\n",
       "    }\n",
       "\n",
       "    .dataframe tbody tr th {\n",
       "        vertical-align: top;\n",
       "    }\n",
       "\n",
       "    .dataframe thead th {\n",
       "        text-align: right;\n",
       "    }\n",
       "</style>\n",
       "<table border=\"1\" class=\"dataframe\">\n",
       "  <thead>\n",
       "    <tr style=\"text-align: right;\">\n",
       "      <th></th>\n",
       "      <th>0</th>\n",
       "      <th>1</th>\n",
       "      <th>2</th>\n",
       "      <th>3</th>\n",
       "      <th>4</th>\n",
       "      <th>5</th>\n",
       "    </tr>\n",
       "  </thead>\n",
       "  <tbody>\n",
       "    <tr>\n",
       "      <td>0</td>\n",
       "      <td>15.285227</td>\n",
       "      <td>14.76548</td>\n",
       "      <td>2.347364</td>\n",
       "      <td>7.29495</td>\n",
       "      <td>3.807308</td>\n",
       "      <td>2.444664</td>\n",
       "    </tr>\n",
       "  </tbody>\n",
       "</table>\n",
       "</div>"
      ],
      "text/plain": [
       "           0         1         2        3         4         5\n",
       "0  15.285227  14.76548  2.347364  7.29495  3.807308  2.444664"
      ]
     },
     "execution_count": 36,
     "metadata": {},
     "output_type": "execute_result"
    }
   ],
   "source": [
    "SDs[[0,1,2,3,4,5]]*100"
   ]
  },
  {
   "cell_type": "code",
   "execution_count": 37,
   "metadata": {},
   "outputs": [
    {
     "data": {
      "text/plain": [
       "0    17.371773\n",
       "Name: TST, dtype: float64"
      ]
     },
     "execution_count": 37,
     "metadata": {},
     "output_type": "execute_result"
    }
   ],
   "source": [
    "Means['TST']*100"
   ]
  },
  {
   "cell_type": "code",
   "execution_count": 38,
   "metadata": {},
   "outputs": [
    {
     "data": {
      "text/plain": [
       "0    11.887459\n",
       "Name: TST, dtype: float64"
      ]
     },
     "execution_count": 38,
     "metadata": {},
     "output_type": "execute_result"
    }
   ],
   "source": [
    "SDs['TST']*100"
   ]
  },
  {
   "cell_type": "markdown",
   "metadata": {},
   "source": [
    "## STATS: NIGHTTIME TST vs DAYTIME"
   ]
  },
  {
   "cell_type": "code",
   "execution_count": 39,
   "metadata": {},
   "outputs": [
    {
     "data": {
      "text/html": [
       "<div>\n",
       "<style scoped>\n",
       "    .dataframe tbody tr th:only-of-type {\n",
       "        vertical-align: middle;\n",
       "    }\n",
       "\n",
       "    .dataframe tbody tr th {\n",
       "        vertical-align: top;\n",
       "    }\n",
       "\n",
       "    .dataframe thead th {\n",
       "        text-align: right;\n",
       "    }\n",
       "</style>\n",
       "<table border=\"1\" class=\"dataframe\">\n",
       "  <thead>\n",
       "    <tr style=\"text-align: right;\">\n",
       "      <th></th>\n",
       "      <th>Bird 1</th>\n",
       "      <th>Bird 2</th>\n",
       "      <th>Bird 3</th>\n",
       "      <th>Bird 4</th>\n",
       "      <th>Bird 5</th>\n",
       "    </tr>\n",
       "  </thead>\n",
       "  <tbody>\n",
       "    <tr>\n",
       "      <td>0</td>\n",
       "      <td>0.210026</td>\n",
       "      <td>0.087323</td>\n",
       "      <td>0.133997</td>\n",
       "      <td>0.363763</td>\n",
       "      <td>0.07348</td>\n",
       "    </tr>\n",
       "  </tbody>\n",
       "</table>\n",
       "</div>"
      ],
      "text/plain": [
       "     Bird 1    Bird 2    Bird 3    Bird 4   Bird 5\n",
       "0  0.210026  0.087323  0.133997  0.363763  0.07348"
      ]
     },
     "execution_count": 39,
     "metadata": {},
     "output_type": "execute_result"
    }
   ],
   "source": [
    "AllStageProportions_by_stage['day']['TST']"
   ]
  },
  {
   "cell_type": "code",
   "execution_count": 40,
   "metadata": {},
   "outputs": [
    {
     "data": {
      "text/html": [
       "<div>\n",
       "<style scoped>\n",
       "    .dataframe tbody tr th:only-of-type {\n",
       "        vertical-align: middle;\n",
       "    }\n",
       "\n",
       "    .dataframe tbody tr th {\n",
       "        vertical-align: top;\n",
       "    }\n",
       "\n",
       "    .dataframe thead th {\n",
       "        text-align: right;\n",
       "    }\n",
       "</style>\n",
       "<table border=\"1\" class=\"dataframe\">\n",
       "  <thead>\n",
       "    <tr style=\"text-align: right;\">\n",
       "      <th></th>\n",
       "      <th>Bird 1</th>\n",
       "      <th>Bird 2</th>\n",
       "      <th>Bird 3</th>\n",
       "      <th>Bird 4</th>\n",
       "      <th>Bird 5</th>\n",
       "    </tr>\n",
       "  </thead>\n",
       "  <tbody>\n",
       "    <tr>\n",
       "      <td>0</td>\n",
       "      <td>0.769854</td>\n",
       "      <td>0.79242</td>\n",
       "      <td>0.942492</td>\n",
       "      <td>0.797755</td>\n",
       "      <td>0.844093</td>\n",
       "    </tr>\n",
       "  </tbody>\n",
       "</table>\n",
       "</div>"
      ],
      "text/plain": [
       "     Bird 1   Bird 2    Bird 3    Bird 4    Bird 5\n",
       "0  0.769854  0.79242  0.942492  0.797755  0.844093"
      ]
     },
     "execution_count": 40,
     "metadata": {},
     "output_type": "execute_result"
    }
   ],
   "source": [
    "AllStageProportions_by_stage['night']['TST']"
   ]
  },
  {
   "cell_type": "code",
   "execution_count": 41,
   "metadata": {},
   "outputs": [
    {
     "data": {
      "text/plain": [
       "Ttest_relResult(statistic=9.39764065279464, pvalue=0.0007144691741019303)"
      ]
     },
     "execution_count": 41,
     "metadata": {},
     "output_type": "execute_result"
    }
   ],
   "source": [
    "stat.ttest_rel(AllStageProportions_by_stage['night']['TST'].iloc[0].values,\n",
    "               AllStageProportions_by_stage['day']['TST'].iloc[0].values)"
   ]
  },
  {
   "cell_type": "markdown",
   "metadata": {},
   "source": [
    "## STATS: Compare day vs night"
   ]
  },
  {
   "cell_type": "code",
   "execution_count": 42,
   "metadata": {},
   "outputs": [
    {
     "name": "stdout",
     "output_type": "stream",
     "text": [
      "DAY - NIGHT\n",
      "0 ____________________________\n",
      "\t Ttest_relResult(statistic=6.24701212854557, pvalue=0.003347248832131518)\n",
      "DAY - NIGHT\n",
      "1 ____________________________\n",
      "\t Ttest_relResult(statistic=3.965278232533587, pvalue=0.016604127562052068)\n",
      "DAY - NIGHT\n",
      "2 ____________________________\n",
      "\t Ttest_relResult(statistic=3.110754285606991, pvalue=0.035845713070929944)\n",
      "DAY - NIGHT\n",
      "3 ____________________________\n",
      "\t Ttest_relResult(statistic=-4.678713179601741, pvalue=0.009456763091659328)\n",
      "DAY - NIGHT\n",
      "4 ____________________________\n",
      "\t Ttest_relResult(statistic=-6.541935669500883, pvalue=0.002821829235490779)\n",
      "DAY - NIGHT\n",
      "5 ____________________________\n",
      "\t Ttest_relResult(statistic=-6.030600884714473, pvalue=0.0038107860678242176)\n",
      "DAY - NIGHT\n",
      "TST ____________________________\n",
      "\t Ttest_relResult(statistic=-9.39764065279464, pvalue=0.0007144691741019303)\n",
      "DAY - NIGHT\n",
      "U (% TST) ____________________________\n",
      "\t Ttest_relResult(statistic=2.9977026656411843, pvalue=0.04003257321678277)\n",
      "DAY - NIGHT\n",
      "I (% TST) ____________________________\n",
      "\t Ttest_relResult(statistic=0.17915415191523976, pvalue=0.8665253447552455)\n",
      "DAY - NIGHT\n",
      "S (% TST) ____________________________\n",
      "\t Ttest_relResult(statistic=-1.7264598679049727, pvalue=0.1593410359740539)\n",
      "DAY - NIGHT\n",
      "R (% TST) ____________________________\n",
      "\t Ttest_relResult(statistic=-4.4194322605129255, pvalue=0.011515965248533974)\n"
     ]
    }
   ],
   "source": [
    "for stage in [0, 1, 2, 3, 4, 5, 'TST', 'U (% TST)', 'I (% TST)', 'S (% TST)', 'R (% TST)']:\n",
    "    print('DAY - NIGHT')\n",
    "    print(stage, '____________________________')\n",
    "    print('\\t', stat.ttest_rel(AllStageProportions_by_stage['day'][stage].iloc[0].values,\n",
    "                               AllStageProportions_by_stage['night'][stage].iloc[0].values))"
   ]
  },
  {
   "cell_type": "markdown",
   "metadata": {},
   "source": [
    "# Entire 24 hrs"
   ]
  },
  {
   "cell_type": "code",
   "execution_count": 43,
   "metadata": {},
   "outputs": [],
   "source": [
    "stageProportions_all = {}\n",
    "\n",
    "for b in range(nBirds):\n",
    "\n",
    "    stageProportions = DataFrame([], columns=range(len(stages)))\n",
    "\n",
    "    b_name = 'Bird ' + str(b+1) \n",
    "    Scores = AllScores[b_name]\n",
    "\n",
    "    bn_scores = Scores\n",
    "    bn_stage_frequencies = bn_scores['Label (#)'].value_counts(normalize=True,sort=False)\n",
    "                \n",
    "    stageProportions = stageProportions.append(bn_stage_frequencies, ignore_index=True)\n",
    "    \n",
    "    # Replace NaNs with 0\n",
    "    stageProportions = stageProportions.fillna(0)\n",
    "    \n",
    "    # Calc TST and sleep stages as % TST\n",
    "    \n",
    "    stageProportions['TST'] = stageProportions[[2,3,4,5]].sum(axis=1)\n",
    "\n",
    "    stageProportions['U (% TST)'] = stageProportions[2]/stageProportions['TST']\n",
    "    stageProportions['I (% TST)'] = stageProportions[3]/stageProportions['TST']\n",
    "    stageProportions['S (% TST)'] = stageProportions[4]/stageProportions['TST']\n",
    "    stageProportions['R (% TST)'] = stageProportions[5]/stageProportions['TST']\n",
    "\n",
    "    # Add to dictionary\n",
    "    stageProportions_all[b] = stageProportions\n",
    "    "
   ]
  },
  {
   "cell_type": "markdown",
   "metadata": {},
   "source": [
    "### Organize proportions by stage"
   ]
  },
  {
   "cell_type": "code",
   "execution_count": 44,
   "metadata": {},
   "outputs": [],
   "source": [
    "stageProportions_by_stage = {}\n",
    "\n",
    "stage_labels = stageProportions_all[0].columns.values\n",
    "\n",
    "for st in stage_labels:\n",
    "    stageProportions_stage = DataFrame([])\n",
    "    \n",
    "    for b in range(nBirds):\n",
    "        stageProportions_bird = stageProportions_all[b]\n",
    "        stageProportions_stage['Bird ' + str(b+1)] = stageProportions_bird[st]\n",
    "        \n",
    "    stageProportions_by_stage[st] = stageProportions_stage"
   ]
  },
  {
   "cell_type": "markdown",
   "metadata": {},
   "source": [
    "## Find means and SDs"
   ]
  },
  {
   "cell_type": "code",
   "execution_count": 45,
   "metadata": {},
   "outputs": [],
   "source": [
    "Means = DataFrame([])\n",
    "SDs = DataFrame([])\n",
    "\n",
    "for st in stage_labels:\n",
    "    tmp_mean = stageProportions_by_stage[st].mean(axis=1)\n",
    "    tmp_sd = stageProportions_by_stage[st].std(axis=1)\n",
    "    \n",
    "    Means[st] = tmp_mean\n",
    "    SDs[st] = tmp_sd\n",
    "    "
   ]
  },
  {
   "cell_type": "markdown",
   "metadata": {},
   "source": [
    "## Bar graphs: Plot each stage"
   ]
  },
  {
   "cell_type": "code",
   "execution_count": 46,
   "metadata": {},
   "outputs": [
    {
     "data": {
      "image/png": "[encoded data removed]",
      "text/plain": [
       "<Figure size 432x432 with 1 Axes>"
      ]
     },
     "metadata": {},
     "output_type": "display_data"
    }
   ],
   "source": [
    "plt.figure(figsize=figsize)\n",
    "stages_to_plot = ['U (% TST)', 'I (% TST)', 'S (% TST)', 'R (% TST)']\n",
    "\n",
    "# Line plot of each bird\n",
    "for bird in range(nBirds):\n",
    "    bird_stage_proportions = np.ndarray.flatten(stageProportions_all[bird][stages_to_plot].values)\n",
    "    plt.plot([1,2,3,4], bird_stage_proportions*100,\n",
    "             color=colors_birds[bird]) \n",
    "\n",
    "num=1\n",
    "for st in stages_to_plot:\n",
    "    # Line plot of each bird\n",
    "    plt.plot(num, stageProportions_by_stage[st]*100,\n",
    "             marker=marker, markersize=markersize,\n",
    "             color=colors[2:6][num-1], alpha=linealpha)\n",
    "    \n",
    "    # Bar graph of mean\n",
    "    plt.bar(num, Means[st]*100, width=1, color='none', edgecolor=colors[2:6][num-1], linewidth=bar_linewidth)\n",
    "    \n",
    "    num=num+1\n",
    "    \n",
    "plt.ylim(-.05, 70)\n",
    "plt.xlim(.2,4.8)\n",
    "plt.ylabel('% of total sleep time', fontsize=axis_label_fontsize)\n",
    "plt.xticks([1, 2, 3, 4], ['Uni', 'IS', 'SWS', 'REM'],fontsize=axis_label_fontsize)\n",
    "ax = plt.gca()\n",
    "[t.set_color(i) for (i,t) in zip(colors[2:6],ax.xaxis.get_ticklabels())]\n",
    "\n",
    "plt.title('24-hr sleep', fontsize=axis_label_fontsize)\n",
    "sns.despine()\n",
    "    \n",
    "if savePlots:\n",
    "        plt.savefig(saveAsPath + saveAsName + \"Fig2e-g_24hrs_percentTST.pdf\")"
   ]
  },
  {
   "cell_type": "code",
   "execution_count": 47,
   "metadata": {},
   "outputs": [
    {
     "data": {
      "text/html": [
       "<div>\n",
       "<style scoped>\n",
       "    .dataframe tbody tr th:only-of-type {\n",
       "        vertical-align: middle;\n",
       "    }\n",
       "\n",
       "    .dataframe tbody tr th {\n",
       "        vertical-align: top;\n",
       "    }\n",
       "\n",
       "    .dataframe thead th {\n",
       "        text-align: right;\n",
       "    }\n",
       "</style>\n",
       "<table border=\"1\" class=\"dataframe\">\n",
       "  <thead>\n",
       "    <tr style=\"text-align: right;\">\n",
       "      <th></th>\n",
       "      <th>U (% TST)</th>\n",
       "      <th>I (% TST)</th>\n",
       "      <th>S (% TST)</th>\n",
       "      <th>R (% TST)</th>\n",
       "    </tr>\n",
       "  </thead>\n",
       "  <tbody>\n",
       "    <tr>\n",
       "      <td>0</td>\n",
       "      <td>3.829494</td>\n",
       "      <td>51.480847</td>\n",
       "      <td>18.179835</td>\n",
       "      <td>26.509824</td>\n",
       "    </tr>\n",
       "  </tbody>\n",
       "</table>\n",
       "</div>"
      ],
      "text/plain": [
       "   U (% TST)  I (% TST)  S (% TST)  R (% TST)\n",
       "0   3.829494  51.480847  18.179835  26.509824"
      ]
     },
     "execution_count": 47,
     "metadata": {},
     "output_type": "execute_result"
    }
   ],
   "source": [
    "Means[['U (% TST)', 'I (% TST)', 'S (% TST)', 'R (% TST)']]*100"
   ]
  },
  {
   "cell_type": "code",
   "execution_count": 48,
   "metadata": {},
   "outputs": [
    {
     "data": {
      "text/html": [
       "<div>\n",
       "<style scoped>\n",
       "    .dataframe tbody tr th:only-of-type {\n",
       "        vertical-align: middle;\n",
       "    }\n",
       "\n",
       "    .dataframe tbody tr th {\n",
       "        vertical-align: top;\n",
       "    }\n",
       "\n",
       "    .dataframe thead th {\n",
       "        text-align: right;\n",
       "    }\n",
       "</style>\n",
       "<table border=\"1\" class=\"dataframe\">\n",
       "  <thead>\n",
       "    <tr style=\"text-align: right;\">\n",
       "      <th></th>\n",
       "      <th>U (% TST)</th>\n",
       "      <th>I (% TST)</th>\n",
       "      <th>S (% TST)</th>\n",
       "      <th>R (% TST)</th>\n",
       "    </tr>\n",
       "  </thead>\n",
       "  <tbody>\n",
       "    <tr>\n",
       "      <td>0</td>\n",
       "      <td>2.43216</td>\n",
       "      <td>7.459951</td>\n",
       "      <td>5.816198</td>\n",
       "      <td>8.973995</td>\n",
       "    </tr>\n",
       "  </tbody>\n",
       "</table>\n",
       "</div>"
      ],
      "text/plain": [
       "   U (% TST)  I (% TST)  S (% TST)  R (% TST)\n",
       "0    2.43216   7.459951   5.816198   8.973995"
      ]
     },
     "execution_count": 48,
     "metadata": {},
     "output_type": "execute_result"
    }
   ],
   "source": [
    "SDs[['U (% TST)', 'I (% TST)', 'S (% TST)', 'R (% TST)']]*100"
   ]
  },
  {
   "cell_type": "markdown",
   "metadata": {},
   "source": [
    "### FIGURE 2G"
   ]
  },
  {
   "cell_type": "code",
   "execution_count": 49,
   "metadata": {},
   "outputs": [
    {
     "data": {
      "image/png": "[encoded data removed]",
      "text/plain": [
       "<Figure size 432x432 with 1 Axes>"
      ]
     },
     "metadata": {},
     "output_type": "display_data"
    }
   ],
   "source": [
    "plt.figure(figsize=figsize)\n",
    "\n",
    "stages_to_plot = [0,1,2,3,4,5]\n",
    "\n",
    "\n",
    "# Line plot of each bird\n",
    "for bird in range(nBirds):\n",
    "    bird_stage_proportions = np.ndarray.flatten(stageProportions_all[bird][stages_to_plot].values)\n",
    "    plt.plot([1,2,3,4,5,6], bird_stage_proportions*100,\n",
    "             color=colors_birds[bird]) \n",
    "\n",
    "num=1\n",
    "for st in stages_to_plot:\n",
    "    # Line plot of each bird\n",
    "    plt.plot(num, stageProportions_by_stage[st]*100,\n",
    "             marker=marker, markersize=markersize,\n",
    "             color=colors[num-1], alpha=linealpha)\n",
    "    \n",
    "    # Bar graph of mean\n",
    "    plt.bar(num, Means[st]*100, width=1, color='none', edgecolor=colors[num-1], linewidth=bar_linewidth)\n",
    "    \n",
    "    num=num+1\n",
    "    \n",
    "plt.ylim(-.05, 50)\n",
    "plt.xlim(.2, 6.8)\n",
    "plt.ylabel('% of recording time', fontsize=axis_label_fontsize)\n",
    "plt.xticks([1, 2, 3, 4, 5, 6], ['Wake', 'Drowsy', 'Uni', 'IS', 'SWS', 'REM'], fontsize=axis_label_fontsize,rotation=45)\n",
    "\n",
    "ax = plt.gca()\n",
    "[t.set_color(i) for (i,t) in zip(colors,ax.xaxis.get_ticklabels())]\n",
    "\n",
    "plt.title('24 hrs', fontsize=axis_label_fontsize)\n",
    "sns.despine()\n",
    "    \n",
    "if savePlots:\n",
    "        plt.savefig(saveAsPath + saveAsName + \"Fig2g_24hrs_percentTime.pdf\")"
   ]
  },
  {
   "cell_type": "code",
   "execution_count": 50,
   "metadata": {},
   "outputs": [
    {
     "data": {
      "text/html": [
       "<div>\n",
       "<style scoped>\n",
       "    .dataframe tbody tr th:only-of-type {\n",
       "        vertical-align: middle;\n",
       "    }\n",
       "\n",
       "    .dataframe tbody tr th {\n",
       "        vertical-align: top;\n",
       "    }\n",
       "\n",
       "    .dataframe thead th {\n",
       "        text-align: right;\n",
       "    }\n",
       "</style>\n",
       "<table border=\"1\" class=\"dataframe\">\n",
       "  <thead>\n",
       "    <tr style=\"text-align: right;\">\n",
       "      <th></th>\n",
       "      <th>0</th>\n",
       "      <th>1</th>\n",
       "      <th>2</th>\n",
       "      <th>3</th>\n",
       "      <th>4</th>\n",
       "      <th>5</th>\n",
       "    </tr>\n",
       "  </thead>\n",
       "  <tbody>\n",
       "    <tr>\n",
       "      <td>0</td>\n",
       "      <td>32.553588</td>\n",
       "      <td>20.08662</td>\n",
       "      <td>1.766526</td>\n",
       "      <td>24.423608</td>\n",
       "      <td>8.903956</td>\n",
       "      <td>12.257252</td>\n",
       "    </tr>\n",
       "  </tbody>\n",
       "</table>\n",
       "</div>"
      ],
      "text/plain": [
       "           0         1         2          3         4          5\n",
       "0  32.553588  20.08662  1.766526  24.423608  8.903956  12.257252"
      ]
     },
     "execution_count": 50,
     "metadata": {},
     "output_type": "execute_result"
    }
   ],
   "source": [
    "Means[[0,1,2,3,4,5]]*100"
   ]
  },
  {
   "cell_type": "code",
   "execution_count": 51,
   "metadata": {},
   "outputs": [
    {
     "data": {
      "text/html": [
       "<div>\n",
       "<style scoped>\n",
       "    .dataframe tbody tr th:only-of-type {\n",
       "        vertical-align: middle;\n",
       "    }\n",
       "\n",
       "    .dataframe tbody tr th {\n",
       "        vertical-align: top;\n",
       "    }\n",
       "\n",
       "    .dataframe thead th {\n",
       "        text-align: right;\n",
       "    }\n",
       "</style>\n",
       "<table border=\"1\" class=\"dataframe\">\n",
       "  <thead>\n",
       "    <tr style=\"text-align: right;\">\n",
       "      <th></th>\n",
       "      <th>0</th>\n",
       "      <th>1</th>\n",
       "      <th>2</th>\n",
       "      <th>3</th>\n",
       "      <th>4</th>\n",
       "      <th>5</th>\n",
       "    </tr>\n",
       "  </thead>\n",
       "  <tbody>\n",
       "    <tr>\n",
       "      <td>0</td>\n",
       "      <td>10.435087</td>\n",
       "      <td>7.561011</td>\n",
       "      <td>1.214415</td>\n",
       "      <td>5.293127</td>\n",
       "      <td>3.953845</td>\n",
       "      <td>3.549138</td>\n",
       "    </tr>\n",
       "  </tbody>\n",
       "</table>\n",
       "</div>"
      ],
      "text/plain": [
       "           0         1         2         3         4         5\n",
       "0  10.435087  7.561011  1.214415  5.293127  3.953845  3.549138"
      ]
     },
     "execution_count": 51,
     "metadata": {},
     "output_type": "execute_result"
    }
   ],
   "source": [
    "SDs[[0,1,2,3,4,5]]*100"
   ]
  },
  {
   "cell_type": "code",
   "execution_count": 52,
   "metadata": {},
   "outputs": [
    {
     "data": {
      "text/plain": [
       "0    47.351343\n",
       "Name: TST, dtype: float64"
      ]
     },
     "execution_count": 52,
     "metadata": {},
     "output_type": "execute_result"
    }
   ],
   "source": [
    "Means['TST']*100"
   ]
  },
  {
   "cell_type": "code",
   "execution_count": 53,
   "metadata": {},
   "outputs": [
    {
     "data": {
      "text/plain": [
       "0    6.679177\n",
       "Name: TST, dtype: float64"
      ]
     },
     "execution_count": 53,
     "metadata": {},
     "output_type": "execute_result"
    }
   ],
   "source": [
    "SDs['TST']*100"
   ]
  },
  {
   "cell_type": "code",
   "execution_count": 54,
   "metadata": {},
   "outputs": [
    {
     "data": {
      "text/html": [
       "<div>\n",
       "<style scoped>\n",
       "    .dataframe tbody tr th:only-of-type {\n",
       "        vertical-align: middle;\n",
       "    }\n",
       "\n",
       "    .dataframe tbody tr th {\n",
       "        vertical-align: top;\n",
       "    }\n",
       "\n",
       "    .dataframe thead th {\n",
       "        text-align: right;\n",
       "    }\n",
       "</style>\n",
       "<table border=\"1\" class=\"dataframe\">\n",
       "  <thead>\n",
       "    <tr style=\"text-align: right;\">\n",
       "      <th></th>\n",
       "      <th>Bird 1</th>\n",
       "      <th>Bird 2</th>\n",
       "      <th>Bird 3</th>\n",
       "      <th>Bird 4</th>\n",
       "      <th>Bird 5</th>\n",
       "    </tr>\n",
       "  </thead>\n",
       "  <tbody>\n",
       "    <tr>\n",
       "      <td>0</td>\n",
       "      <td>0.46478</td>\n",
       "      <td>0.402284</td>\n",
       "      <td>0.523929</td>\n",
       "      <td>0.557988</td>\n",
       "      <td>0.418587</td>\n",
       "    </tr>\n",
       "  </tbody>\n",
       "</table>\n",
       "</div>"
      ],
      "text/plain": [
       "    Bird 1    Bird 2    Bird 3    Bird 4    Bird 5\n",
       "0  0.46478  0.402284  0.523929  0.557988  0.418587"
      ]
     },
     "execution_count": 54,
     "metadata": {},
     "output_type": "execute_result"
    }
   ],
   "source": [
    "stageProportions_by_stage['TST']"
   ]
  },
  {
   "cell_type": "markdown",
   "metadata": {},
   "source": [
    "# Save to csv"
   ]
  },
  {
   "cell_type": "code",
   "execution_count": 82,
   "metadata": {},
   "outputs": [],
   "source": [
    "if saveData:\n",
    "    fig = 'Fig2e'\n",
    "    stageProportions = pd.DataFrame([])\n",
    "    for bird in range(nBirds):\n",
    "        tmp = stageProportions_night_all[bird] # nighttime\n",
    "        stageProportions = stageProportions.append(tmp, sort=False)\n",
    "    stageProportions.to_csv(saveAsPath + saveAsName + fig + '.csv')\n",
    "        \n",
    "if saveData:\n",
    "    fig = 'Fig2f'\n",
    "    stageProportions = pd.DataFrame([])\n",
    "    for bird in range(nBirds):\n",
    "        tmp = stageProportions_day_all[bird] # daytime\n",
    "        stageProportions = stageProportions.append(tmp, sort=False)\n",
    "    stageProportions.to_csv(saveAsPath + saveAsName + fig + '.csv')\n",
    "    \n",
    "if saveData:\n",
    "    fig = 'Fig2g'\n",
    "    stageProportions = pd.DataFrame([])\n",
    "    for bird in range(nBirds):\n",
    "        tmp = stageProportions_all[bird] # all\n",
    "        stageProportions = stageProportions.append(tmp, sort=False)\n",
    "    stageProportions.to_csv(saveAsPath + saveAsName + fig + '.csv')\n",
    "        \n",
    "        "
   ]
  },
  {
   "cell_type": "code",
   "execution_count": null,
   "metadata": {},
   "outputs": [],
   "source": []
  }
 ],
 "metadata": {
  "kernelspec": {
   "display_name": "Python 3",
   "language": "python",
   "name": "python3"
  },
  "language_info": {
   "codemirror_mode": {
    "name": "ipython",
    "version": 3
   },
   "file_extension": ".py",
   "mimetype": "text/x-python",
   "name": "python",
   "nbconvert_exporter": "python",
   "pygments_lexer": "ipython3",
   "version": "3.7.4"
  },
  "toc": {
   "base_numbering": 1,
   "nav_menu": {},
   "number_sections": true,
   "sideBar": true,
   "skip_h1_title": false,
   "title_cell": "Table of Contents",
   "title_sidebar": "Contents",
   "toc_cell": false,
   "toc_position": {
    "height": "calc(100% - 180px)",
    "left": "10px",
    "top": "150px",
    "width": "259.391px"
   },
   "toc_section_display": true,
   "toc_window_display": true
  }
 },
 "nbformat": 4,
 "nbformat_minor": 1
}
