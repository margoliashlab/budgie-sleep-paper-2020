{
 "cells": [
  {
   "cell_type": "markdown",
   "metadata": {},
   "source": [
    "# Setup"
   ]
  },
  {
   "cell_type": "code",
   "execution_count": 5,
   "metadata": {
    "collapsed": true
   },
   "outputs": [],
   "source": [
    "# Set threshold for when motion is detected in a pixel\n",
    "thres = 0.1\n",
    "\n",
    "path = '../data_copies/01_PreprocessedData/01_BudgieFemale_green1/00_Baseline_night/Video/'\n"
   ]
  },
  {
   "cell_type": "code",
   "execution_count": 2,
   "metadata": {
    "collapsed": true
   },
   "outputs": [],
   "source": [
    "import skimage.color\n",
    "import imageio\n",
    "import numpy as np\n",
    "import csv\n",
    "import os"
   ]
  },
  {
   "cell_type": "markdown",
   "metadata": {},
   "source": [
    "# motion_detect function"
   ]
  },
  {
   "cell_type": "code",
   "execution_count": 3,
   "metadata": {
    "collapsed": true
   },
   "outputs": [],
   "source": [
    "def motion_detect(file, thres=0.1):\n",
    "    '''\n",
    "    file = path/file.avi to motion detect\n",
    "    thres = proportion (from 0 to 1) of amount of change for a pixel to be counted as motion\n",
    "    '''    \n",
    "    output_filename = file[:-4] + '_motion_detect_thres' + str(thres) + '.csv'\n",
    "\n",
    "    # Open writable CSV file\n",
    "    with open(output_filename, 'w') as csvfile:\n",
    "        # CSV writer object\n",
    "        writer = csv.writer(csvfile, quoting=csv.QUOTE_NONNUMERIC)\n",
    "        # header row\n",
    "        writer.writerow([\"timestamp (ms)\", \"Frame #\", \"Motion (# pixels)\"])\n",
    "\n",
    "        # Create a reader object for the video\n",
    "        vid = imageio.get_reader(file,  'ffmpeg')\n",
    "\n",
    "        # Get frames per second\n",
    "        fps = vid.get_meta_data()['fps']\n",
    "\n",
    "        # Iterate through each frame\n",
    "        nums = range(vid.get_length() - 2)\n",
    "        for num in nums:\n",
    "            # Current frame\n",
    "            image = vid.get_data(num)\n",
    "\n",
    "            # Next frame\n",
    "            image_next = vid.get_next_data()\n",
    "\n",
    "            # Transform to greyscale\n",
    "            image_grey = skimage.color.rgb2gray(image)\n",
    "            image_next_grey = skimage.color.rgb2gray(image_next)\n",
    "\n",
    "            # Calculate motion\n",
    "            motion = np.abs(image_next_grey - image_grey)\n",
    "            moved  = motion>thres\n",
    "            nPixels_moved = moved.sum()\n",
    "\n",
    "            timestamp = 1000* (num+1)/fps\n",
    "\n",
    "            writer.writerow([timestamp, num+1, nPixels_moved])"
   ]
  },
  {
   "cell_type": "markdown",
   "metadata": {},
   "source": [
    "# Run on all video files (set file type)"
   ]
  },
  {
   "cell_type": "code",
   "execution_count": 6,
   "metadata": {},
   "outputs": [
    {
     "name": "stdout",
     "output_type": "stream",
     "text": [
      "BudgieFemale_green1_2014-10-17-quicktime.mov\n"
     ]
    }
   ],
   "source": [
    "for filename in os.listdir(path):\n",
    "    if \".mov\" in filename.lower(): # .mov files only for Bird 1, else .avi\n",
    "        print(filename)\n",
    "        file = path + filename\n",
    "        motion_detect(file, thres)"
   ]
  },
  {
   "cell_type": "code",
   "execution_count": null,
   "metadata": {
    "collapsed": true
   },
   "outputs": [],
   "source": []
  }
 ],
 "metadata": {
  "kernelspec": {
   "display_name": "Python 3",
   "language": "python",
   "name": "python3"
  },
  "language_info": {
   "codemirror_mode": {
    "name": "ipython",
    "version": 3
   },
   "file_extension": ".py",
   "mimetype": "text/x-python",
   "name": "python",
   "nbconvert_exporter": "python",
   "pygments_lexer": "ipython3",
   "version": "3.7.4"
  },
  "toc": {
   "base_numbering": 1,
   "nav_menu": {},
   "number_sections": true,
   "sideBar": true,
   "skip_h1_title": false,
   "title_cell": "Table of Contents",
   "title_sidebar": "Contents",
   "toc_cell": false,
   "toc_position": {},
   "toc_section_display": true,
   "toc_window_display": true
  }
 },
 "nbformat": 4,
 "nbformat_minor": 1
}
