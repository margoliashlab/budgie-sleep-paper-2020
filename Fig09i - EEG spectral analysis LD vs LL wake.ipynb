{
 "cells": [
  {
   "cell_type": "markdown",
   "metadata": {},
   "source": [
    "# Setup"
   ]
  },
  {
   "cell_type": "code",
   "execution_count": 36,
   "metadata": {},
   "outputs": [],
   "source": [
    "%matplotlib inline\n",
    "\n",
    "import numpy as np\n",
    "import scipy.signal as sig\n",
    "import scipy.stats as stat\n",
    "import matplotlib.pyplot as plt\n",
    "import seaborn as sns\n",
    "import os\n",
    "import h5py\n",
    "import resin\n",
    "import sklearn.cluster\n",
    "#import bark\n",
    "\n",
    "import pandas as pd\n",
    "from pandas import DataFrame,Series,read_table\n",
    "\n",
    "from mpl_toolkits.mplot3d import Axes3D"
   ]
  },
  {
   "cell_type": "markdown",
   "metadata": {},
   "source": [
    "## Saving parameters"
   ]
  },
  {
   "cell_type": "code",
   "execution_count": 37,
   "metadata": {},
   "outputs": [],
   "source": [
    "birds = ['2', '2LL', '3', '3LL', '4', '4LL']\n",
    "\n",
    "savePlots = True    # whether or not to save plots\n",
    "saveData = True # whether or not to save csv files\n",
    "\n",
    "saveAsPath = './Fig 09/'\n",
    "if not os.path.exists(saveAsPath):\n",
    "    os.mkdir(saveAsPath)\n",
    "\n",
    "saveAsName = 'Fig9i_'"
   ]
  },
  {
   "cell_type": "code",
   "execution_count": 38,
   "metadata": {},
   "outputs": [],
   "source": [
    "scores_path = '../formatted_scores/'\n",
    "\n",
    "# Path to CSVs with epoch-by-epoch variables\n",
    "var_path = './Epoch-by-epoch_variables_quietwake/' #'../data_copies/Epoch_variables/'\n"
   ]
  },
  {
   "cell_type": "markdown",
   "metadata": {},
   "source": [
    "## Paths"
   ]
  },
  {
   "cell_type": "code",
   "execution_count": 39,
   "metadata": {},
   "outputs": [],
   "source": [
    "birdPaths =    ['../data_copies/01_PreprocessedData/01_BudgieFemale_green1/00_Baseline_night/',\n",
    "                '../data_copies/01_PreprocessedData/02_BudgieMale_yellow1/00_Baseline_night/',\n",
    "                '../data_copies/01_PreprocessedData/03_BudgieFemale_white1/00_Baseline_night/',\n",
    "                '../data_copies/01_PreprocessedData/04_BudgieMale_yellow2/00_Baseline_night/',\n",
    "                '../data_copies/01_PreprocessedData/05_BudgieFemale_green2/00_Baseline_night/']\n",
    "\n",
    "arfFilePaths =  ['EEG 2 scored/',\n",
    "                 'EEG 3 scored/',\n",
    "                 'EEG 3 scored/',\n",
    "                 'EEG 4 scored/',\n",
    "                 'EEG 4 scored/']\n",
    "\n",
    "### load BEST EEG channels - as determined during manual scoring ####\n",
    "channelsToLoadEEG_best = [['5 LEEGf-LEEGp', '6 LEEGm-LEEGp'],\n",
    "                     ['5 LEEGf-LEEGm'], #, '4 LEEGf-Fgr'] this channel seems to have too much artifact\n",
    "                     ['6LEEGm-LEEGp', '9REEGm-REEGp'],\n",
    "                     ['9REEGf-REEGp', '6LEEGm-LEEGf'],\n",
    "                     ['4LEEGf-LEEGp','7REEGf-REEGp']]\n",
    "\n",
    "\n",
    "### load ALL of EEG channels ####\n",
    "channelsToLoadEEG = [['4 LEEGf-Fgr', '5 LEEGf-LEEGp', '6 LEEGm-LEEGp', '7 LEEGp-Fgr', '8 REEGp-Fgr','9 REEGp-LEEGp'],\n",
    "                     ['4 LEEGf-Fgr','5 LEEGf-LEEGm', '6 LEEGm-LEEGp', '7 REEGf-Fgr', '8 REEGm-Fgr', '9 REEGf-REEGm'],\n",
    "                     ['4LEEGf-LEEGp', '5LEEGf-LEEGm', '6LEEGm-LEEGp', '7REEGf-REEGp', '8REEGf-REEGm', '9REEGm-REEGp'],\n",
    "                     ['4LEEGf-LEEGp', '5LEEGm-LEEGp', '6LEEGm-LEEGf', '7REEGf-Fgr', '8REEGf-REEGm','9REEGf-REEGp',],\n",
    "                     ['4LEEGf-LEEGp', '5LEEGf-LEEGm', '6LEEGm-LEEGp', '7REEGf-REEGp', '8REEGf-REEGm', '9REEGm-REEGp']]\n",
    "\n",
    "\n",
    "channelsToLoadEOG = [['1 LEOG-Fgr', '2 REOG-Fgr'],\n",
    "                     ['2 LEOG-Fgr', '3 REOG-Fgr'],\n",
    "                     ['2LEOG-Fgr', '3REOG-Fgr'],\n",
    "                     ['2LEOG-Fgr', '3REOG-Fgr'],\n",
    "                     ['2LEOG-Fgr', '3REOG-Fgr']]\n",
    "\n",
    "birds_LL = [1,2,3]\n",
    "nBirds_LL = len(birds_LL)\n",
    "\n",
    "birdPaths_LL = ['../data_copies/01_PreprocessedData/02_BudgieMale_yellow1/01_Constant_light/',\n",
    "                '../data_copies/01_PreprocessedData/03_BudgieFemale_white1/01_Constant_light/',\n",
    "                '../data_copies/01_PreprocessedData/04_BudgieMale_yellow2/01_Constant_light/',]\n",
    "\n",
    "arfFilePaths_LL =  ['EEG 2 preprocessed/',\n",
    "                    'EEG 2 preprocessed/',\n",
    "                    'EEG 2 preprocessed/']\n",
    "\n",
    "lightsOffSec = np.array([7947, 9675, 9861 + 8*3600, 9873, 13467])  # lights off times in seconds from beginning of file\n",
    "lightsOnSec = np.array([46449, 48168, 48375+ 8*3600, 48381, 52005]) # Bird 3 gets 8 hours added b/c file starts at 8:00 instead of 16:00\n",
    "\n",
    "epochLength = 3\n",
    "sr = 200\n",
    "scalingFactor = (2**15)*0.195       # scaling/conversion factor from amplitude to uV (when recording arf from jrecord)\n",
    "\n",
    "stages = ['w','d','u','i','s','r'] # wake, drowsy, unihem sleep, intermediate sleep, SWS, REM\n",
    "stagesSleep =    ['u','i','s','r']\n",
    "\n",
    "stagesVideo = ['m','q','d','s','u'] # moving wake, quiet wake, drowsy, sleep, unclear\n",
    "\n",
    "## Path to scores formatted as CSVs\n",
    "formatted_scores_path = '../formatted_scores/'\n",
    "\n",
    "## Path to detect SW ands EM events\n",
    "events_path = '../data_copies/SWs_EMs_and_EMartifacts/1s-epochs/'"
   ]
  },
  {
   "cell_type": "markdown",
   "metadata": {},
   "source": [
    "## General info"
   ]
  },
  {
   "cell_type": "code",
   "execution_count": 40,
   "metadata": {},
   "outputs": [],
   "source": [
    "epochLength = 3\n",
    "sr = 200\n",
    "scalingFactor = (2**15)*0.195       # scaling/conversion factor from amplitude to uV (when recording arf from jrecord)\n",
    "\n",
    "stages = ['w','d','u','i','s','r'] # wake, drowsy, unihem sleep, intermediate sleep, SWS, REM\n",
    "stagesSleep =    ['u','i','s','r']\n",
    "\n",
    "stagesVideo = ['m','q','d','l','g','s','u'] # moving wake, quiet wake, drowsy, left uni, right uni, sleep, unclear"
   ]
  },
  {
   "cell_type": "code",
   "execution_count": 41,
   "metadata": {},
   "outputs": [],
   "source": [
    "# Calculate general variables\n",
    "lightsOffEp = lightsOffSec / epochLength\n",
    "lightsOnEp = lightsOnSec / epochLength\n",
    "\n",
    "epochLengthPts = epochLength*sr\n",
    "\n",
    "nStages = len(stagesSleep)"
   ]
  },
  {
   "cell_type": "markdown",
   "metadata": {},
   "source": [
    "## Colors"
   ]
  },
  {
   "cell_type": "code",
   "execution_count": 42,
   "metadata": {},
   "outputs": [
    {
     "data": {
      "image/png": "[encoded data removed]",
      "text/plain": [
       "<Figure size 432x72 with 1 Axes>"
      ]
     },
     "metadata": {
      "needs_background": "light"
     },
     "output_type": "display_data"
    }
   ],
   "source": [
    "colors = sns.color_palette(np.array([[234,103,99],\n",
    "[218,142,60],\n",
    "[174,174,62],\n",
    "[97,188,101],\n",
    "[140,133,232],\n",
    "[225,113,190]])\n",
    "/255)\n",
    "\n",
    "sns.palplot(colors)\n",
    "\n",
    "# colorpalette from iWantHue"
   ]
  },
  {
   "cell_type": "code",
   "execution_count": 43,
   "metadata": {},
   "outputs": [
    {
     "data": {
      "image/png": "[encoded data removed]",
      "text/plain": [
       "<Figure size 504x72 with 1 Axes>"
      ]
     },
     "metadata": {
      "needs_background": "light"
     },
     "output_type": "display_data"
    }
   ],
   "source": [
    "colors_video = sns.color_palette(np.array([[244,133,129],\n",
    "                                           [255,153,120],\n",
    "                                            [248,172,90],\n",
    "                                            [204,204,92],\n",
    "                                            [204,204,92],\n",
    "                                            [124, 203, 204],\n",
    "                                            [200, 200, 200]])\n",
    "                                            /(255))\n",
    "\n",
    "sns.palplot(colors_video)"
   ]
  },
  {
   "cell_type": "code",
   "execution_count": 44,
   "metadata": {},
   "outputs": [
    {
     "data": {
      "image/png": "[encoded data removed]",
      "text/plain": [
       "<Figure size 360x72 with 1 Axes>"
      ]
     },
     "metadata": {
      "needs_background": "light"
     },
     "output_type": "display_data"
    }
   ],
   "source": [
    "colors_birds = [np.repeat(.4, 3),\n",
    "                np.repeat(.5, 3),\n",
    "                np.repeat(.6, 3),\n",
    "                np.repeat(.7, 3),\n",
    "                np.repeat(.8, 3)]\n",
    "\n",
    "sns.palplot(colors_birds)\n"
   ]
  },
  {
   "cell_type": "code",
   "execution_count": 45,
   "metadata": {},
   "outputs": [
    {
     "data": {
      "image/png": "[encoded data removed]",
      "text/plain": [
       "<Figure size 144x72 with 1 Axes>"
      ]
     },
     "metadata": {
      "needs_background": "light"
     },
     "output_type": "display_data"
    }
   ],
   "source": [
    "LD_color=[0, 102/255, 1]\n",
    "LL_color=[1, 99/255, 99/255]\n",
    "\n",
    "sns.palplot([LD_color, LL_color])"
   ]
  },
  {
   "cell_type": "markdown",
   "metadata": {},
   "source": [
    "## Plot formatting"
   ]
  },
  {
   "cell_type": "code",
   "execution_count": 46,
   "metadata": {},
   "outputs": [],
   "source": [
    "sns.set_context(\"notebook\", font_scale=1.5)\n",
    "sns.set_style(\"white\")\n",
    "\n",
    "# Markers for legends of EEG scoring colors\n",
    "legendMarkersEEG = []\n",
    "for stage in range(len(stages)):\n",
    "    legendMarkersEEG.append(plt.Line2D([0],[0], color=colors[stage], marker='o', linestyle='', alpha=0.7)) \n",
    "    \n",
    "# Markers for legends of video scoring colors\n",
    "legendMarkersVideo = []\n",
    "for stage in range(len(stagesVideo)):\n",
    "    legendMarkersVideo.append(plt.Line2D([0],[0], color=colors_video[stage], marker='o', linestyle='', alpha=0.7))  "
   ]
  },
  {
   "cell_type": "code",
   "execution_count": 47,
   "metadata": {},
   "outputs": [],
   "source": [
    "figsize = (9,10)\n",
    "figsize_smaller = (6,8)\n",
    "axis_label_fontsize = 24\n",
    "\n",
    "# Dot formatting\n",
    "alpha_main = 0.2\n",
    "alpha_darker = 0.3\n",
    "\n",
    "\n",
    "# Line formatting\n",
    "linewidth = 5\n",
    "linealpha = .7\n",
    "marker = 'o'\n",
    "markersize = 10\n",
    "err_capsize = 3\n",
    "err_capthick = 3\n",
    "elinewidth = 3\n",
    "\n",
    "# Bar formatting\n",
    "bar_linewidth = 4"
   ]
  },
  {
   "cell_type": "markdown",
   "metadata": {},
   "source": [
    "# Load data"
   ]
  },
  {
   "cell_type": "markdown",
   "metadata": {},
   "source": [
    "## Scores"
   ]
  },
  {
   "cell_type": "code",
   "execution_count": 48,
   "metadata": {},
   "outputs": [],
   "source": [
    "AllScores = {}\n",
    "for b in birds:\n",
    "    scores_file = 'All_scores_Bird {}.csv'.format(b)\n",
    "    AllScores['Bird ' + b] = pd.read_table(scores_path + scores_file, sep=',', index_col=0)"
   ]
  },
  {
   "cell_type": "markdown",
   "metadata": {},
   "source": [
    "## Per-epoch variables"
   ]
  },
  {
   "cell_type": "code",
   "execution_count": 49,
   "metadata": {},
   "outputs": [],
   "source": [
    "SleepVariables_raw = {}\n",
    "\n",
    "for file in os.listdir(var_path):\n",
    "    if file.endswith('.csv'):\n",
    "        data = pd.read_csv(var_path + file, index_col=0)\n",
    "        ch = file.split('_')[0].split('.')[0]   # get name of channel from filename\n",
    "        \n",
    "        SleepVariables_raw[ch] = data"
   ]
  },
  {
   "cell_type": "code",
   "execution_count": 50,
   "metadata": {},
   "outputs": [],
   "source": [
    "EEGchannels = np.sort(list(SleepVariables_raw.keys()))\n"
   ]
  },
  {
   "cell_type": "markdown",
   "metadata": {},
   "source": [
    "# Remove artifacts based on max amp"
   ]
  },
  {
   "cell_type": "code",
   "execution_count": 51,
   "metadata": {},
   "outputs": [],
   "source": [
    "AllEpochs = pd.DataFrame([]) # init --> get number of epochs\n",
    "\n",
    "nEpochs = pd.Series([])\n",
    "\n",
    "for ch in EEGchannels:\n",
    "    nEpochs.loc[ch] = len(SleepVariables_raw[ch])\n",
    "        \n",
    "AllEpochs['nEpochs'] = nEpochs"
   ]
  },
  {
   "cell_type": "code",
   "execution_count": 52,
   "metadata": {},
   "outputs": [],
   "source": [
    "channel_artifact_thres = {\n",
    "    'Bird 2: 4 LEEGf-Fgr' : 504.72536588215985,\n",
    "    'Bird 2: 5 LEEGf-LEEGm' : 260.6034616921849,\n",
    "    'Bird 2: 6 LEEGm-LEEGp' : 248.599520730528,\n",
    "    'Bird 2: 7 REEGf-Fgr' : 524.3624990659733,\n",
    "    'Bird 2: 8 REEGm-Fgr' : 563.8844002322004,\n",
    "    'Bird 2: 9 REEGf-REEGm': 415.4251751631489,\n",
    "    'Bird 2LL: 4 LEEGf-Fgr' : 4406.433842845319,\n",
    "    'Bird 2LL: 5 LEEGf-LEEGm' : 366.25538004536395,\n",
    "    'Bird 2LL: 6 LEEGm-LEEGp' : 362.7644075778204,\n",
    "    'Bird 2LL: 7 REEGf-Fgr' : 4384.478343375354,\n",
    "    'Bird 2LL: 8 REEGm-Fgr' : 4411.889950231094,\n",
    "    'Bird 2LL: 9 REEGf-REEGm' : 610.215352151259,\n",
    "    'Bird 3: 4LEEGf-LEEGp' : 434.3907547931754,\n",
    "    'Bird 3: 5LEEGf-LEEGm' : 570.3830657447792,\n",
    "    'Bird 3: 6LEEGm-LEEGp' : 431.8025000446411,\n",
    "    'Bird 3: 7REEGf-REEGp' : 682.6618564103704,\n",
    "    'Bird 3: 8REEGf-REEGm' : 630.2331039533059,\n",
    "    'Bird 3: 9REEGm-REEGp' : 565.1595695127436,\n",
    "    'Bird 3LL: 4LEEGf-LEEGp' : 499.4068691714165,\n",
    "    'Bird 3LL: 5LEEGf-LEEGm' : 542.0150907203132,\n",
    "    'Bird 3LL: 6LEEGm-LEEGp' : 340.2319650694524,\n",
    "    'Bird 3LL: 7REEGf-REEGp' : 320.15491558954704,\n",
    "    'Bird 3LL: 8REEGf-REEGm' : 432.7719387388962,\n",
    "    'Bird 3LL: 9REEGm-REEGp' : 336.2021306395864,\n",
    "    'Bird 4: 4LEEGf-LEEGp' : 326.9907988688425,\n",
    "    'Bird 4: 5LEEGm-LEEGp' : 229.17181995825953,\n",
    "    'Bird 4: 6LEEGm-LEEGf' : 305.3846764062442,\n",
    "    'Bird 4: 7REEGf-Fgr' : 236.09867154982518,\n",
    "    'Bird 4: 8REEGf-REEGm' : 4358.523887351811,\n",
    "    'Bird 4: 9REEGf-REEGp' : 390.99383856831656,\n",
    "    'Bird 4LL: 4LEEGf-LEEGp' : 173.0596647759594,\n",
    "    'Bird 4LL: 5LEEGm-LEEGp' : 170.26483511120819,\n",
    "    'Bird 4LL: 7REEGf-Fgr' : 214.83376105957555,\n",
    "    'Bird 4LL: 8REEGf-REEGm' : 1373.1455172252208,\n",
    "    'Bird 4LL: 6LEEGm-LEEGf' : 171.49782939690607,\n",
    "    'Bird 4LL: 9REEGf-REEGp' : 160.2987283133437}"
   ]
  },
  {
   "cell_type": "code",
   "execution_count": 53,
   "metadata": {},
   "outputs": [],
   "source": [
    "EEGchannels = list(channel_artifact_thres.keys())"
   ]
  },
  {
   "cell_type": "code",
   "execution_count": 55,
   "metadata": {},
   "outputs": [],
   "source": [
    "nEpochs_remaining = pd.Series([])\n",
    "for ch in EEGchannels:\n",
    "    ChannelVariables = SleepVariables_raw[ch].copy()\n",
    "    \n",
    "    # pull out only sleep rows\n",
    "    sleep_data = ChannelVariables[ChannelVariables[\"is quietwake\"]==1]\n",
    "    amp_thres = channel_artifact_thres[ch]\n",
    "    \n",
    "    # remove epochs with a max amplitude exceeding the threshold\n",
    "    sleep_data = sleep_data[np.abs(sleep_data['max amp']) < amp_thres]\n",
    "    \n",
    "    SleepVariables_raw[ch] = sleep_data\n",
    "    \n",
    "    # Calc number of epochs remaining\n",
    "    nEpochs_remaining.loc[ch] = len(sleep_data)\n",
    "        \n",
    "AllEpochs['nEpochs w/o max amp'] = nEpochs_remaining\n",
    "\n",
    "# Dump EEG data so it's not staying in memory\n",
    "EEGdataAll = None"
   ]
  },
  {
   "cell_type": "markdown",
   "metadata": {},
   "source": [
    "## Remove EM artifacts"
   ]
  },
  {
   "cell_type": "markdown",
   "metadata": {},
   "source": [
    "# Load SWs and EMs - 1s epochs\n",
    "SWs_and_EMs = {}\n",
    "\n",
    "for file in os.listdir(events_path):\n",
    "    if file.endswith('SW-EM-per-epoch.csv'):\n",
    "        data = pd.read_csv(events_path + file, index_col=0)\n",
    "        ch = file.split('_')[1].split('.')[0]   # get name of channel from filename\n",
    "        \n",
    "        if 'LL' in ch:\n",
    "            data['is sleep'] = data['Video Label (#)']==5\n",
    "        else:\n",
    "            data['is sleep'] = data['Label (#)']>2\n",
    "            \n",
    "        data['Epoch'] = data.index\n",
    "        \n",
    "        SWs_and_EMs[ch] = data\n",
    "            "
   ]
  },
  {
   "cell_type": "markdown",
   "metadata": {},
   "source": [
    "# merge SWs/EMs with spectral variables\n",
    "\n",
    "EEGchannels = np.sort(list(SleepVariables_raw.keys()))\n",
    "\n",
    "for ch in EEGchannels:\n",
    "\n",
    "    bird = ch.split(':')[0]\n",
    "\n",
    "    ChannelVariables = SleepVariables_raw[ch].copy()\n",
    "\n",
    "    sleep_SW_EM = SWs_and_EMs[bird].copy().fillna(0) # replace NaNs with 0\n",
    "    #sleep_SW_EM = sleep_SW_EM[sleep_SW_EM[\"is quietwake\"]==1]\n",
    "\n",
    "    ch_columns = [x for x in sleep_SW_EM.columns if ch[-9:] in x]\n",
    "    ch_columns = np.append([ch_columns], ['SW s', 'SW s all ch', 'EM s', 'EM med', 'EM mean'])\n",
    "    ch_SW_EM = sleep_SW_EM[ch_columns]\n",
    "\n",
    "    BirdVariables = ChannelVariables.merge(ch_SW_EM, left_index=True, right_index=True)\n",
    "\n",
    "    SleepVariables_raw[ch] = BirdVariables"
   ]
  },
  {
   "cell_type": "markdown",
   "metadata": {},
   "source": [
    "EM_artifact_thres = 1\n",
    "\n",
    "nEpochs_remaining = pd.Series([])\n",
    "for ch in EEGchannels:\n",
    "\n",
    "    ChannelVariables = SleepVariables_raw[ch].copy()\n",
    "\n",
    "    EM_artifact_col = [x for x in ChannelVariables.columns if 'EM artifact s' in x]\n",
    "    \n",
    "    if len(EM_artifact_col) > 0:\n",
    "\n",
    "        data = ChannelVariables[ChannelVariables[EM_artifact_col[0]] <= EM_artifact_thres]\n",
    "\n",
    "        SleepVariables_raw[ch] = data\n",
    "\n",
    "        nEpochs_remaining.loc[ch] = len(data)\n",
    "        \n",
    "        \n",
    "        \n",
    "AllEpochs['nEpochs w/o EM artifacts'] = nEpochs_remaining"
   ]
  },
  {
   "cell_type": "code",
   "execution_count": null,
   "metadata": {},
   "outputs": [],
   "source": []
  },
  {
   "cell_type": "markdown",
   "metadata": {},
   "source": [
    "### pull out sleep data only and z-score SleepVariables"
   ]
  },
  {
   "cell_type": "code",
   "execution_count": 56,
   "metadata": {},
   "outputs": [],
   "source": [
    "dont_z_score = ['Epoch', 'sleep scores', 'video scores', 'is quietwake', 'nPeaks',\n",
    "               'Delta', 'DeltaLog', 'GammaDeltaRatio', 'SD', 'diffDeltaLog', 'diffGammaDeltaRatio']\n",
    "\n",
    "SleepVariables = {}\n",
    "\n",
    "for ch in EEGchannels:\n",
    "    b = int(ch[5]) - 1\n",
    "    \n",
    "    raw_data = SleepVariables_raw[ch].copy()\n",
    "    \n",
    "    # get quiet wake data only\n",
    "    sleep_data = raw_data[raw_data['is quietwake'] == 1] \n",
    "    \n",
    "    # get nighttime data only\n",
    "    #sleep_data = sleep_data[(sleep_data['Epoch']>lightsOffEp[b]) &\n",
    "    #                       (sleep_data['Epoch']<lightsOnEp[b])]\n",
    "    \n",
    "    tmp_data = sleep_data.copy()\n",
    "    \n",
    "    for variable in dont_z_score:\n",
    "        if variable in sleep_data.columns.values:\n",
    "            tmp_data = tmp_data.drop(variable, axis=1) # don't zscore these things\n",
    "    \n",
    "    # Zscore\n",
    "    #tmp_data = tmp_data.fillna(0) # fill in any NaNs with 0\n",
    "    for col in tmp_data.columns.values:\n",
    "        col_data = tmp_data[col]\n",
    "        col_data[~np.isnan(col_data)] = stat.zscore(col_data[~np.isnan(col_data)])\n",
    "        \n",
    "        tmp_data[col] = col_data\n",
    "        \n",
    "    # Add back in non-z-scored variables e.g.g Epoch # and manual scores\n",
    "    \n",
    "    for variable in dont_z_score:\n",
    "        if variable in sleep_data.columns.values:\n",
    "            tmp_data[variable] = sleep_data[variable]\n",
    "    \n",
    "    SleepVariables[ch] = tmp_data\n",
    "        "
   ]
  },
  {
   "cell_type": "code",
   "execution_count": null,
   "metadata": {},
   "outputs": [],
   "source": []
  },
  {
   "cell_type": "code",
   "execution_count": null,
   "metadata": {},
   "outputs": [],
   "source": []
  },
  {
   "cell_type": "code",
   "execution_count": 57,
   "metadata": {},
   "outputs": [
    {
     "name": "stdout",
     "output_type": "stream",
     "text": [
      "mean % epochs removed by max amp cutoff\n",
      "5.5511200612546485 %  +/- 2.4618945133549106\n"
     ]
    }
   ],
   "source": [
    "EEGchannels_to_use = ['Bird 2: 5 LEEGf-LEEGm',   'Bird 2: 6 LEEGm-LEEGp',   'Bird 2: 9 REEGf-REEGm',\n",
    "                      'Bird 2LL: 5 LEEGf-LEEGm', 'Bird 2LL: 6 LEEGm-LEEGp', 'Bird 2LL: 9 REEGf-REEGm',\n",
    "                      'Bird 3: 4LEEGf-LEEGp',   'Bird 3: 5LEEGf-LEEGm',   'Bird 3: 6LEEGm-LEEGp', 'Bird 3: 7REEGf-REEGp','Bird 3: 9REEGm-REEGp',\n",
    "                      'Bird 3LL: 4LEEGf-LEEGp', 'Bird 3LL: 5LEEGf-LEEGm', 'Bird 3LL: 6LEEGm-LEEGp','Bird 3LL: 7REEGf-REEGp','Bird 3LL: 9REEGm-REEGp',\n",
    "                      'Bird 4: 5LEEGm-LEEGp', 'Bird 4: 6LEEGm-LEEGf', 'Bird 4: 9REEGf-REEGp','Bird 4: 7REEGf-Fgr','Bird 4: 9REEGf-REEGp',\n",
    "                      'Bird 4LL: 5LEEGm-LEEGp', 'Bird 4LL: 6LEEGm-LEEGf', 'Bird 4LL: 9REEGf-REEGp','Bird 4LL: 7REEGf-Fgr','Bird 4LL: 9REEGf-REEGp']\n",
    "\n",
    "AllEpochs_to_use = AllEpochs.loc[EEGchannels_to_use]\n",
    "print('mean % epochs removed by max amp cutoff')\n",
    "perc_ep_rm = 100*((AllEpochs_to_use['nEpochs'] - AllEpochs_to_use['nEpochs w/o max amp'])/AllEpochs_to_use['nEpochs'])\n",
    "print(np.mean(perc_ep_rm), '%  +/-', np.std(perc_ep_rm))"
   ]
  },
  {
   "cell_type": "markdown",
   "metadata": {},
   "source": [
    "AllEpochs_to_use = AllEpochs.loc[EEGchannels_to_use]\n",
    "print('mean % epochs removed by EM artifact cutoff')\n",
    "perc_ep_rm = 100*((AllEpochs_to_use['nEpochs w/o max amp'] - AllEpochs_to_use['nEpochs w/o EM artifacts'])/AllEpochs_to_use['nEpochs'])\n",
    "print(np.mean(perc_ep_rm), '%  +/-', np.std(perc_ep_rm))"
   ]
  },
  {
   "cell_type": "markdown",
   "metadata": {},
   "source": [
    "# Plot"
   ]
  },
  {
   "cell_type": "markdown",
   "metadata": {},
   "source": [
    "## get channels that were good through both LD and LL"
   ]
  },
  {
   "cell_type": "code",
   "execution_count": 58,
   "metadata": {},
   "outputs": [],
   "source": [
    "# LL: channels that were still good\n",
    "channelsToLoadEEG_LL = [['5 LEEGf-LEEGm', '6 LEEGm-LEEGp', '9 REEGf-REEGm'], # BIRD 2 bad ch: '4 LEEGf-Fgr', '7 REEGf-Fgr', '8 REEGm-Fgr',\n",
    "                        ['4LEEGf-LEEGp', '5LEEGf-LEEGm', '6LEEGm-LEEGp', '7REEGf-REEGp','9REEGm-REEGp'], # take out channel '8REEGf-REEGm' -- drastic change in quiet wake nPeaks from LD to LL\n",
    "                        ['4LEEGf-LEEGp', '5LEEGm-LEEGp', '6LEEGm-LEEGf', '7REEGf-Fgr','9REEGf-REEGp']] # BIRD 4 bad ch: '8REEGf-REEGm'\n"
   ]
  },
  {
   "cell_type": "markdown",
   "metadata": {},
   "source": [
    "## Format plots"
   ]
  },
  {
   "cell_type": "code",
   "execution_count": 59,
   "metadata": {},
   "outputs": [],
   "source": [
    "sns.set_palette(colors_video)"
   ]
  },
  {
   "cell_type": "code",
   "execution_count": 60,
   "metadata": {},
   "outputs": [],
   "source": [
    "legendMarkers = []\n",
    "\n",
    "color = 'b'\n",
    "legendMarkers.append(plt.Line2D([0],[0], color=color, alpha=linealpha, lw=linewidth/2)) \n",
    "\n",
    "color = 'r'\n",
    "legendMarkers.append(plt.Line2D([0],[0], color=color, alpha=linealpha, lw=linewidth/2)) \n",
    "\n",
    "    "
   ]
  },
  {
   "cell_type": "code",
   "execution_count": 61,
   "metadata": {},
   "outputs": [],
   "source": [
    "BirdChannels = {}"
   ]
  },
  {
   "cell_type": "markdown",
   "metadata": {},
   "source": [
    "### Bird 2"
   ]
  },
  {
   "cell_type": "code",
   "execution_count": 62,
   "metadata": {},
   "outputs": [],
   "source": [
    "bird = 'Bird 2'\n",
    "b = int(bird[5]) - 1\n",
    "bird_channels_all = channelsToLoadEEG_LL[b - 1]\n",
    "BirdChannels[bird] = bird_channels_all"
   ]
  },
  {
   "cell_type": "markdown",
   "metadata": {},
   "source": [
    "### Bird 3"
   ]
  },
  {
   "cell_type": "code",
   "execution_count": 63,
   "metadata": {},
   "outputs": [],
   "source": [
    "bird = 'Bird 3'\n",
    "b = int(bird[5]) - 1\n",
    "bird_channels_all = channelsToLoadEEG_LL[b-1]\n",
    "BirdChannels[bird] = bird_channels_all\n"
   ]
  },
  {
   "cell_type": "markdown",
   "metadata": {},
   "source": [
    "### Bird 4"
   ]
  },
  {
   "cell_type": "code",
   "execution_count": 64,
   "metadata": {},
   "outputs": [],
   "source": [
    "bird = 'Bird 4'\n",
    "b = int(bird[5]) - 1\n",
    "bird_channels_all = channelsToLoadEEG_LL[b-1]\n",
    "BirdChannels[bird] = bird_channels_all\n"
   ]
  },
  {
   "cell_type": "code",
   "execution_count": 65,
   "metadata": {},
   "outputs": [
    {
     "data": {
      "text/plain": [
       "array(['Bird 2: 4 LEEGf-Fgr', 'Bird 2: 5 LEEGf-LEEGm',\n",
       "       'Bird 2: 6 LEEGm-LEEGp', 'Bird 2: 7 REEGf-Fgr',\n",
       "       'Bird 2: 8 REEGm-Fgr', 'Bird 2: 9 REEGf-REEGm',\n",
       "       'Bird 2LL: 4 LEEGf-Fgr', 'Bird 2LL: 5 LEEGf-LEEGm',\n",
       "       'Bird 2LL: 6 LEEGm-LEEGp', 'Bird 2LL: 7 REEGf-Fgr',\n",
       "       'Bird 2LL: 8 REEGm-Fgr', 'Bird 2LL: 9 REEGf-REEGm',\n",
       "       'Bird 3: 4LEEGf-LEEGp', 'Bird 3: 5LEEGf-LEEGm',\n",
       "       'Bird 3: 6LEEGm-LEEGp', 'Bird 3: 7REEGf-REEGp',\n",
       "       'Bird 3: 8REEGf-REEGm', 'Bird 3: 9REEGm-REEGp',\n",
       "       'Bird 3LL: 4LEEGf-LEEGp', 'Bird 3LL: 5LEEGf-LEEGm',\n",
       "       'Bird 3LL: 6LEEGm-LEEGp', 'Bird 3LL: 7REEGf-REEGp',\n",
       "       'Bird 3LL: 8REEGf-REEGm', 'Bird 3LL: 9REEGm-REEGp',\n",
       "       'Bird 4: 4LEEGf-LEEGp', 'Bird 4: 5LEEGm-LEEGp',\n",
       "       'Bird 4: 6LEEGm-LEEGf', 'Bird 4: 7REEGf-Fgr',\n",
       "       'Bird 4: 8REEGf-REEGm', 'Bird 4: 9REEGf-REEGp',\n",
       "       'Bird 4LL: 4LEEGf-LEEGp', 'Bird 4LL: 5LEEGm-LEEGp',\n",
       "       'Bird 4LL: 6LEEGm-LEEGf', 'Bird 4LL: 7REEGf-Fgr',\n",
       "       'Bird 4LL: 8REEGf-REEGm', 'Bird 4LL: 9REEGf-REEGp'], dtype='<U23')"
      ]
     },
     "execution_count": 65,
     "metadata": {},
     "output_type": "execute_result"
    }
   ],
   "source": [
    "np.sort(list(SleepVariables.keys()))"
   ]
  },
  {
   "cell_type": "markdown",
   "metadata": {
    "collapsed": true
   },
   "source": [
    "## Histograms: one variable, all birds"
   ]
  },
  {
   "cell_type": "markdown",
   "metadata": {},
   "source": [
    "### nPeaks"
   ]
  },
  {
   "cell_type": "code",
   "execution_count": 66,
   "metadata": {},
   "outputs": [
    {
     "data": {
      "image/png": "[encoded data removed]",
      "text/plain": [
       "<Figure size 1080x216 with 3 Axes>"
      ]
     },
     "metadata": {},
     "output_type": "display_data"
    },
    {
     "data": {
      "image/png": "[encoded data removed]",
      "text/plain": [
       "<Figure size 1080x216 with 5 Axes>"
      ]
     },
     "metadata": {},
     "output_type": "display_data"
    },
    {
     "data": {
      "image/png": "[encoded data removed]",
      "text/plain": [
       "<Figure size 1080x216 with 5 Axes>"
      ]
     },
     "metadata": {},
     "output_type": "display_data"
    }
   ],
   "source": [
    "var = 'nPeaks'\n",
    "x_range = (50, 150)\n",
    "\n",
    "for bird in ['Bird 2', 'Bird 3', 'Bird 4']:\n",
    "    b = int(bird[5]) - 1\n",
    "    bird_channels_all = channelsToLoadEEG[b]\n",
    "    bird_channels = BirdChannels[bird]\n",
    "\n",
    "    plt.figure(figsize=(15,3))\n",
    "\n",
    "    for n, ch_name in enumerate(bird_channels):\n",
    "        plt.subplot(1, len(bird_channels), n+1)\n",
    "\n",
    "        for LDorLL in ['', 'LL']:\n",
    "\n",
    "            ch_to_plot = bird + LDorLL + ': ' + ch_name\n",
    "\n",
    "            ch_variables = SleepVariables[ch_to_plot]\n",
    "            ch_variables_sleep = ch_variables[ch_variables['is quietwake']==1]\n",
    "\n",
    "            if LDorLL == 'LL':\n",
    "                color = 'r'\n",
    "            else:\n",
    "                color = 'b'\n",
    "\n",
    "            plt.hist(ch_variables[var], color=color, density=True, bins=200,\n",
    "                     histtype='step', lw=linewidth/2, alpha=linealpha,\n",
    "                     range=x_range)\n",
    "\n",
    "            plt.xlabel(ch_name)\n",
    "            plt.xlim(x_range)\n",
    "            #plt.ylim(0,2)\n",
    "\n",
    "    plt.legend(legendMarkers,['LD','LL'])\n",
    "\n",
    "    plt.suptitle(bird + \": \" + var)\n",
    "    plt.tight_layout()\n",
    "    plt.savefig(saveAsPath + saveAsName + var + '_histograms.pdf')\n"
   ]
  },
  {
   "cell_type": "markdown",
   "metadata": {},
   "source": [
    "#### make bar graph"
   ]
  },
  {
   "cell_type": "code",
   "execution_count": 67,
   "metadata": {},
   "outputs": [
    {
     "data": {
      "text/plain": [
       "array([27, 27, 27, 40, 40, 40])"
      ]
     },
     "execution_count": 67,
     "metadata": {},
     "output_type": "execute_result"
    }
   ],
   "source": [
    "np.repeat([27,40], 3)"
   ]
  },
  {
   "cell_type": "code",
   "execution_count": 68,
   "metadata": {},
   "outputs": [
    {
     "name": "stdout",
     "output_type": "stream",
     "text": [
      "Bird 2\n",
      "Ttest_relResult(statistic=-0.046358035834036526, pvalue=0.9672375159705642)\n",
      "Bird 3\n",
      "Ttest_relResult(statistic=0.8057320419428361, pvalue=0.4655680929002805)\n",
      "Bird 4\n",
      "Ttest_relResult(statistic=2.4738727373688967, pvalue=0.06866079791065702)\n"
     ]
    },
    {
     "data": {
      "image/png": "[encoded data removed]",
      "text/plain": [
       "<Figure size 504x216 with 3 Axes>"
      ]
     },
     "metadata": {},
     "output_type": "display_data"
    }
   ],
   "source": [
    "var = 'nPeaks'\n",
    "#y_range = ([30, 40], [27, 40], [27, 36])\n",
    "y_range = ([27,40], [27,40], [27,40])\n",
    "plt.figure(figsize=(7,3))\n",
    "\n",
    "All_LD_means = {}\n",
    "All_LL_means = {}\n",
    "\n",
    "for bird in ['Bird 2', 'Bird 3', 'Bird 4']:\n",
    "    b = int(bird[5]) - 1\n",
    "    bird_channels_all = channelsToLoadEEG[b]\n",
    "    bird_channels = BirdChannels[bird]\n",
    "    plt.subplot(1, len(birds_LL), b)\n",
    "\n",
    "    bird_LD_means = []\n",
    "    bird_LL_means = []\n",
    "    for n, ch_name in enumerate(bird_channels):\n",
    "        \n",
    "\n",
    "        for LDorLL in ['', 'LL']:\n",
    "\n",
    "            ch_to_plot = bird + LDorLL + ': ' + ch_name\n",
    "\n",
    "            ch_variables = SleepVariables[ch_to_plot]\n",
    "            ch_variables_sleep = ch_variables[ch_variables['is quietwake']==1]\n",
    "\n",
    "            if LDorLL == 'LL':\n",
    "                color = LL_color\n",
    "                x_pos = 1\n",
    "                LL_mean = np.nanmean(ch_variables[var])/epochLength ### nPeaks only: plot as nPeaks/s\n",
    "                bird_LL_means.append(LL_mean)\n",
    "            else:\n",
    "                color = LD_color\n",
    "                x_pos = 0\n",
    "                LD_mean = np.nanmean(ch_variables[var])/epochLength\n",
    "                bird_LD_means.append(LD_mean)\n",
    "\n",
    "            plt.scatter(x_pos, np.nanmean(ch_variables[var])/epochLength, color=color)\n",
    "            \n",
    "        # line plot\n",
    "        plt.plot([0, 1], [LD_mean, LL_mean], color=colors_birds[b+1])\n",
    "\n",
    "    # bar plot of MEDIANS across channels\n",
    "    plt.bar([0, 1], [np.median(bird_LD_means), np.median(bird_LL_means)], \n",
    "            width=1, color='none', edgecolor=[LD_color, LL_color], linewidth=4)\n",
    "    \n",
    "    #plt.legend(legendMarkers,['LD','LL'])\n",
    "    plt.xticks([0, 1], ['LD', 'LL'])\n",
    "\n",
    "    if b !=1:\n",
    "        plt.yticks([])\n",
    "    plt.xlim(-1, 2)\n",
    "        \n",
    "    plt.ylim(y_range[b-1])\n",
    "    sns.despine()\n",
    "\n",
    "    plt.title(bird)\n",
    "    print(bird)\n",
    "    print(stat.ttest_rel(bird_LD_means, bird_LL_means))\n",
    "    All_LD_means[bird] = bird_LD_means\n",
    "    All_LL_means[bird] = bird_LL_means    \n",
    "    \n",
    "plt.suptitle(\"Quiet wake: \" + var)\n",
    "plt.tight_layout()\n",
    "#plt.savefig(saveAsPath + saveAsName + var + '_barplots.pdf')\n"
   ]
  },
  {
   "cell_type": "code",
   "execution_count": 72,
   "metadata": {},
   "outputs": [],
   "source": [
    "# Median across channels\n",
    "LD_grandmean = []\n",
    "LL_grandmean = []\n",
    "for bird in All_LD_means.keys():\n",
    "    LD_grandmean.append(np.median(All_LD_means[bird]))\n",
    "    LL_grandmean.append(np.median(All_LL_means[bird]))"
   ]
  },
  {
   "cell_type": "code",
   "execution_count": 73,
   "metadata": {},
   "outputs": [
    {
     "data": {
      "text/plain": [
       "[32.50367946253874, 32.60616329556285, 33.75741478530323]"
      ]
     },
     "execution_count": 73,
     "metadata": {},
     "output_type": "execute_result"
    }
   ],
   "source": [
    "LD_grandmean"
   ]
  },
  {
   "cell_type": "code",
   "execution_count": 74,
   "metadata": {},
   "outputs": [
    {
     "data": {
      "text/plain": [
       "[33.188392050587176, 32.303570894964885, 33.664621228723796]"
      ]
     },
     "execution_count": 74,
     "metadata": {},
     "output_type": "execute_result"
    }
   ],
   "source": [
    "LL_grandmean"
   ]
  },
  {
   "cell_type": "markdown",
   "metadata": {},
   "source": [
    "#### FIGURE 9I: bar graph w/ mean line"
   ]
  },
  {
   "cell_type": "code",
   "execution_count": 75,
   "metadata": {},
   "outputs": [
    {
     "name": "stdout",
     "output_type": "stream",
     "text": [
      "Bird 2\n",
      "Ttest_relResult(statistic=-0.046358035834036526, pvalue=0.9672375159705642)\n",
      "Bird 3\n",
      "Ttest_relResult(statistic=0.8057320419428361, pvalue=0.4655680929002805)\n",
      "Bird 4\n",
      "Ttest_relResult(statistic=2.4738727373688967, pvalue=0.06866079791065702)\n"
     ]
    },
    {
     "data": {
      "image/png": "[encoded data removed]",
      "text/plain": [
       "<Figure size 504x288 with 3 Axes>"
      ]
     },
     "metadata": {},
     "output_type": "display_data"
    }
   ],
   "source": [
    "var = 'nPeaks'\n",
    "#y_range = ([30, 40], [27, 40], [27, 36])\n",
    "y_range = ([27,40], [27,40], [27,40])\n",
    "plt.figure(figsize=(7,4))\n",
    "\n",
    "All_LD_means = {}\n",
    "All_LL_means = {}\n",
    "\n",
    "for bird in ['Bird 2', 'Bird 3', 'Bird 4']:\n",
    "    b = int(bird[5]) - 1\n",
    "    bird_channels_all = channelsToLoadEEG[b]\n",
    "    bird_channels = BirdChannels[bird]\n",
    "    plt.subplot(1, len(birds_LL), b)\n",
    "\n",
    "    bird_LD_means = []\n",
    "    bird_LL_means = []\n",
    "    for n, ch_name in enumerate(bird_channels):\n",
    "        \n",
    "\n",
    "        for LDorLL in ['', 'LL']:\n",
    "\n",
    "            ch_to_plot = bird + LDorLL + ': ' + ch_name\n",
    "\n",
    "            ch_variables = SleepVariables[ch_to_plot]\n",
    "            ch_variables_sleep = ch_variables[ch_variables['is quietwake']==1]\n",
    "\n",
    "            if LDorLL == 'LL':\n",
    "                color = LL_color\n",
    "                x_pos = 1\n",
    "                LL_mean = np.nanmean(ch_variables[var])/epochLength ### nPeaks only: plot as nPeaks/s\n",
    "                bird_LL_means.append(LL_mean)\n",
    "            else:\n",
    "                color = LD_color\n",
    "                x_pos = 0\n",
    "                LD_mean = np.nanmean(ch_variables[var])/epochLength\n",
    "                bird_LD_means.append(LD_mean)\n",
    "\n",
    "            plt.scatter(x_pos, np.nanmean(ch_variables[var])/epochLength, color=color)\n",
    "            \n",
    "        # line plot\n",
    "        plt.plot([0, 1], [LD_mean, LL_mean], color=colors_birds[b+1])\n",
    "\n",
    "    # bar plot of MEDIANS across channels\n",
    "    plt.bar([0, 1], [np.median(bird_LD_means), np.median(bird_LL_means)], \n",
    "            width=1, color='none', edgecolor=[LD_color, LL_color], linewidth=4)\n",
    "    \n",
    "    #plt.legend(legendMarkers,['LD','LL'])\n",
    "    plt.xticks([0, 1], ['LD', 'LL'])\n",
    "\n",
    "    if b !=1:\n",
    "        plt.yticks([])\n",
    "    plt.xlim(-1, 2)\n",
    "        \n",
    "    plt.ylim(y_range[b-1])\n",
    "    sns.despine()\n",
    "\n",
    "    plt.title(bird, color=colors_birds[b+1])\n",
    "    print(bird)\n",
    "    print(stat.ttest_rel(bird_LD_means, bird_LL_means))\n",
    "    All_LD_means[bird] = bird_LD_means\n",
    "    All_LL_means[bird] = bird_LL_means    \n",
    "    \n",
    "    plt.axhline(np.mean(LD_grandmean), linestyle='--', color=LD_color, alpha=.7)\n",
    "    plt.axhline(np.mean(LL_grandmean), linestyle='--', color=LL_color, alpha=.7)\n",
    "    \n",
    "    \n",
    "plt.suptitle(\"Quiet wake: \" + var)\n",
    "plt.tight_layout()\n",
    "\n",
    "if savePlots:\n",
    "    plt.savefig(saveAsPath + saveAsName + var + '_barplots.pdf')\n"
   ]
  },
  {
   "cell_type": "code",
   "execution_count": null,
   "metadata": {},
   "outputs": [],
   "source": []
  },
  {
   "cell_type": "code",
   "execution_count": 76,
   "metadata": {},
   "outputs": [],
   "source": [
    "all_ch_means = pd.DataFrame([])\n",
    "for bird in All_LD_means.keys():\n",
    "    tmp = pd.DataFrame(All_LD_means[bird], columns=['value'])\n",
    "    tmp['Light'] = 'LD'\n",
    "    tmp['Bird'] = bird[5]\n",
    "    tmp['Channel'] = BirdChannels[bird]\n",
    "    all_ch_means = all_ch_means.append(tmp, sort=False)\n",
    "    \n",
    "for bird in All_LD_means.keys():\n",
    "    tmp = pd.DataFrame(All_LL_means[bird], columns=['value'])\n",
    "    tmp['Light'] = 'LL'\n",
    "    tmp['Bird'] = bird[5]\n",
    "    tmp['Channel'] = BirdChannels[bird]\n",
    "    all_ch_means = all_ch_means.append(tmp)"
   ]
  },
  {
   "cell_type": "markdown",
   "metadata": {},
   "source": [
    "## save to csv"
   ]
  },
  {
   "cell_type": "code",
   "execution_count": 77,
   "metadata": {},
   "outputs": [],
   "source": [
    "if saveData:\n",
    "    all_ch_means.to_csv(saveAsPath + saveAsName + var + '_wake.csv')"
   ]
  },
  {
   "cell_type": "code",
   "execution_count": null,
   "metadata": {},
   "outputs": [],
   "source": []
  }
 ],
 "metadata": {
  "kernelspec": {
   "display_name": "Python 3",
   "language": "python",
   "name": "python3"
  },
  "language_info": {
   "codemirror_mode": {
    "name": "ipython",
    "version": 3
   },
   "file_extension": ".py",
   "mimetype": "text/x-python",
   "name": "python",
   "nbconvert_exporter": "python",
   "pygments_lexer": "ipython3",
   "version": "3.7.4"
  },
  "toc": {
   "base_numbering": 1,
   "nav_menu": {},
   "number_sections": true,
   "sideBar": true,
   "skip_h1_title": false,
   "title_cell": "Table of Contents",
   "title_sidebar": "Contents",
   "toc_cell": false,
   "toc_position": {
    "height": "calc(100% - 180px)",
    "left": "10px",
    "top": "150px",
    "width": "320.391px"
   },
   "toc_section_display": true,
   "toc_window_display": true
  }
 },
 "nbformat": 4,
 "nbformat_minor": 1
}
