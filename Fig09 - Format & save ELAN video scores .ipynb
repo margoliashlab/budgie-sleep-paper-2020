{
 "cells": [
  {
   "cell_type": "markdown",
   "metadata": {},
   "source": [
    "# Setup"
   ]
  },
  {
   "cell_type": "code",
   "execution_count": 1,
   "metadata": {},
   "outputs": [],
   "source": [
    "%matplotlib inline\n",
    "\n",
    "import numpy as np\n",
    "import scipy.signal as sig\n",
    "import scipy.stats as stat\n",
    "import matplotlib.pyplot as plt\n",
    "import seaborn as sns\n",
    "import os\n",
    "import h5py\n",
    "import pandas as pd\n",
    "\n",
    "from pandas import DataFrame,Series,read_table"
   ]
  },
  {
   "cell_type": "code",
   "execution_count": 2,
   "metadata": {},
   "outputs": [],
   "source": [
    "savePlots = False    # whether or not to save plots\n",
    "saveData = False # whether or not to save csv files\n",
    "\n",
    "saveAsPath = '../formatted_scores/'\n"
   ]
  },
  {
   "cell_type": "code",
   "execution_count": 3,
   "metadata": {},
   "outputs": [],
   "source": [
    "birdPaths =    ['../data_copies/01_PreprocessedData/01_BudgieFemale_green1/00_Baseline_night/',\n",
    "                '../data_copies/01_PreprocessedData/02_BudgieMale_yellow1/00_Baseline_night/',\n",
    "                '../data_copies/01_PreprocessedData/03_BudgieFemale_white1/00_Baseline_night/',\n",
    "                '../data_copies/01_PreprocessedData/04_BudgieMale_yellow2/00_Baseline_night/',\n",
    "                '../data_copies/01_PreprocessedData/05_BudgieFemale_green2/00_Baseline_night/']\n",
    "\n",
    "arfFilePaths =  ['EEG 2 scored/',\n",
    "                 'EEG 3 scored/',\n",
    "                 'EEG 3 scored/',\n",
    "                 'EEG 4 scored/',\n",
    "                 'EEG 4 scored/']\n",
    "\n",
    "### load BEST EEG channels - as determined during manual scoring ####\n",
    "channelsToLoadEEG_best = [['5 LEEGf-LEEGp', '6 LEEGm-LEEGp'],\n",
    "                     ['5 LEEGf-LEEGm'], #, '4 LEEGf-Fgr'] this channel seems to have too much artifact\n",
    "                     ['6LEEGm-LEEGp', '9REEGm-REEGp'],\n",
    "                     ['9REEGf-REEGp', '6LEEGm-LEEGf'],\n",
    "                     ['4LEEGf-LEEGp','7REEGf-REEGp']]\n",
    "\n",
    "\n",
    "### load ALL of EEG channels ####\n",
    "channelsToLoadEEG = [['4 LEEGf-Fgr', '5 LEEGf-LEEGp', '6 LEEGm-LEEGp', '7 LEEGp-Fgr', '8 REEGp-Fgr','9 REEGp-LEEGp'],\n",
    "                     ['4 LEEGf-Fgr','5 LEEGf-LEEGm', '6 LEEGm-LEEGp', '7 REEGf-Fgr', '8 REEGm-Fgr', '9 REEGf-REEGm'],\n",
    "                     ['4LEEGf-LEEGp', '5LEEGf-LEEGm', '6LEEGm-LEEGp', '7REEGf-REEGp', '8REEGf-REEGm', '9REEGm-REEGp'],\n",
    "                     ['4LEEGf-LEEGp', '5LEEGm-LEEGp', '6LEEGm-LEEGf', '7REEGf-Fgr', '8REEGf-REEGm','9REEGf-REEGp',],\n",
    "                     ['4LEEGf-LEEGp', '5LEEGf-LEEGm', '6LEEGm-LEEGp', '7REEGf-REEGp', '8REEGf-REEGm', '9REEGm-REEGp']]\n",
    "\n",
    "\n",
    "channelsToLoadEOG = [['1 LEOG-Fgr', '2 REOG-Fgr'],\n",
    "                     ['2 LEOG-Fgr', '3 REOG-Fgr'],\n",
    "                     ['2LEOG-Fgr', '3REOG-Fgr'],\n",
    "                     ['2LEOG-Fgr', '3REOG-Fgr'],\n",
    "                     ['2LEOG-Fgr', '3REOG-Fgr']]\n",
    "\n",
    "birds_LL = [1,2,3]\n",
    "nBirds_LL = len(birds_LL)\n",
    "\n",
    "birdPaths_LL = ['../data_copies/01_PreprocessedData/02_BudgieMale_yellow1/01_Constant_light/',\n",
    "                '../data_copies/01_PreprocessedData/03_BudgieFemale_white1/01_Constant_light/',\n",
    "                '../data_copies/01_PreprocessedData/04_BudgieMale_yellow2/01_Constant_light/',]\n",
    "\n",
    "arfFilePaths_LL =  ['EEG 2 preprocessed/',\n",
    "                    'EEG 2 preprocessed/',\n",
    "                    'EEG 2 preprocessed/']\n",
    "\n",
    "lightsOffSec = np.array([7947, 9675, 9861 + 8*3600, 9873, 13467])  # lights off times in seconds from beginning of file\n",
    "lightsOnSec = np.array([46449, 48168, 48375+ 8*3600, 48381, 52005]) # Bird 3 gets 8 hours added b/c file starts at 8:00 instead of 16:00\n",
    "\n",
    "epochLength = 3\n",
    "sr = 200\n",
    "scalingFactor = (2**15)*0.195       # scaling/conversion factor from amplitude to uV (when recording arf from jrecord)\n",
    "\n",
    "stages = ['w','d','u','i','s','r'] # wake, drowsy, unihem sleep, intermediate sleep, SWS, REM\n",
    "stagesSleep =    ['u','i','s','r']\n",
    "\n",
    "stagesVideo = ['m','q','d','s','u'] # moving wake, quiet wake, drowsy, sleep, unclear\n",
    "\n",
    "## Path to scores formatted as CSVs\n",
    "formatted_scores_path = '../formatted_scores/'\n"
   ]
  },
  {
   "cell_type": "markdown",
   "metadata": {},
   "source": [
    "Calculate general variables"
   ]
  },
  {
   "cell_type": "code",
   "execution_count": 4,
   "metadata": {},
   "outputs": [],
   "source": [
    "lightsOffEp = lightsOffSec / epochLength\n",
    "lightsOnEp = lightsOnSec / epochLength\n",
    "\n",
    "nBirds = len(birdPaths)\n",
    "birds = np.arange(0, nBirds)\n",
    "\n",
    "epochLengthPts = epochLength*sr\n",
    "\n",
    "nStages = len(stagesSleep)"
   ]
  },
  {
   "cell_type": "markdown",
   "metadata": {},
   "source": [
    "# Read in manual & video scores: DIRECTLY FROM ARF FILES"
   ]
  },
  {
   "cell_type": "markdown",
   "metadata": {},
   "source": [
    "## LL"
   ]
  },
  {
   "cell_type": "code",
   "execution_count": 5,
   "metadata": {},
   "outputs": [
    {
     "data": {
      "text/plain": [
       "['../data_copies/01_PreprocessedData/02_BudgieMale_yellow1/01_Constant_light/',\n",
       " '../data_copies/01_PreprocessedData/03_BudgieFemale_white1/01_Constant_light/',\n",
       " '../data_copies/01_PreprocessedData/04_BudgieMale_yellow2/01_Constant_light/']"
      ]
     },
     "execution_count": 5,
     "metadata": {},
     "output_type": "execute_result"
    }
   ],
   "source": [
    "birdPaths_LL"
   ]
  },
  {
   "cell_type": "code",
   "execution_count": 19,
   "metadata": {},
   "outputs": [],
   "source": [
    "# LL\n",
    "\n",
    "AllScores = {}\n",
    "\n",
    "for b in [1,2]:\n",
    "\n",
    "    video_scores_path = birdPaths_LL[b] + 'Video/'\n",
    "\n",
    "    # init\n",
    "    all_scores_array = np.array([], dtype='str')\n",
    "    all_video_scores_array = np.array([], dtype='str')\n",
    "    all_datetime_array = np.array([], dtype='datetime64')\n",
    "    all_video_datetime_array = np.array([], dtype='datetime64')\n",
    "\n",
    "    # go through each arf file in order\n",
    "    for file in list(np.sort(os.listdir(video_scores_path))):\n",
    "        if file.endswith('epochs.csv'):\n",
    "            # open csv file\n",
    "            raw_scores = pd.read_csv(video_scores_path + file)\n",
    "\n",
    "            # Get datetime from file name\n",
    "            date = file.split('_')[2]\n",
    "            time = file.split('_')[3]\n",
    "            hours = time.split('-')[0]\n",
    "            minutes = time.split('-')[1]\n",
    "            datetime_start = np.datetime64(date + 'T' + hours + ':' + minutes + ':06')    # assume 6-s delay in starting recording\n",
    "\n",
    "            ### SCORES ###\n",
    "\n",
    "            # Get scores\n",
    "\n",
    "            arf_video_scores = raw_scores['Label']   # Video\n",
    "            all_video_scores_array = np.append(all_video_scores_array, arf_video_scores)\n",
    "\n",
    "            ### TIMES ###\n",
    "\n",
    "            # Get start times of each epoch in datetime format\n",
    "\n",
    "            arf_video_starttimes_s = raw_scores['Start (s)']     # Video\n",
    "            arf_video_datetimes = datetime_start + arf_video_starttimes_s.astype('timedelta64[s]')\n",
    "            all_video_datetime_array = np.append(all_video_datetime_array, arf_video_datetimes)\n",
    "\n",
    "        # Save in dateframe, in dict under bird number\n",
    "        #BirdScores  = DataFrame(all_scores_array, index=all_datetime_array, columns=['Label'])\n",
    "        videoScores = DataFrame(all_video_scores_array, index=all_video_datetime_array, columns=['Video Label'])\n",
    "        BirdScores = videoScores   #.join(BirdScores)\n",
    "\n",
    "        data_name = 'Bird ' + str(b+2) + '_LL'\n",
    "        AllScores[data_name] = BirdScores"
   ]
  },
  {
   "cell_type": "code",
   "execution_count": 20,
   "metadata": {},
   "outputs": [
    {
     "data": {
      "text/plain": [
       "['Bird 3_LL', 'Bird 4_LL']"
      ]
     },
     "execution_count": 20,
     "metadata": {},
     "output_type": "execute_result"
    }
   ],
   "source": [
    "data_names = list(AllScores.keys())\n",
    "data_names"
   ]
  },
  {
   "cell_type": "code",
   "execution_count": 21,
   "metadata": {},
   "outputs": [
    {
     "data": {
      "text/plain": [
       "{'Bird 3_LL':                     Video Label\n",
       " 2014-12-25 16:00:06           d\n",
       " 2014-12-25 16:00:09           s\n",
       " 2014-12-25 16:00:12           d\n",
       " 2014-12-25 16:00:15           d\n",
       " 2014-12-25 16:00:18           q\n",
       " ...                         ...\n",
       " 2014-12-26 15:59:45           d\n",
       " 2014-12-26 15:59:48           s\n",
       " 2014-12-26 15:59:51           s\n",
       " 2014-12-26 15:59:54           m\n",
       " 2014-12-26 15:59:57           q\n",
       " \n",
       " [28687 rows x 1 columns], 'Bird 4_LL':                     Video Label\n",
       " 2015-02-17 17:10:06           d\n",
       " 2015-02-17 17:10:09           d\n",
       " 2015-02-17 17:10:12           d\n",
       " 2015-02-17 17:10:15           d\n",
       " 2015-02-17 17:10:18           d\n",
       " ...                         ...\n",
       " 2015-02-18 17:10:51           s\n",
       " 2015-02-18 17:10:54           s\n",
       " 2015-02-18 17:10:57           s\n",
       " 2015-02-18 17:11:00           s\n",
       " 2015-02-18 17:11:03           s\n",
       " \n",
       " [28707 rows x 1 columns]}"
      ]
     },
     "execution_count": 21,
     "metadata": {},
     "output_type": "execute_result"
    }
   ],
   "source": [
    "AllScores"
   ]
  },
  {
   "cell_type": "markdown",
   "metadata": {},
   "source": [
    "#### Convert datetimes to s, ep, Zeitgeber time"
   ]
  },
  {
   "cell_type": "code",
   "execution_count": 22,
   "metadata": {},
   "outputs": [],
   "source": [
    "# LD #\n",
    "\n",
    "lightsOffDatetime = np.array([], dtype='datetime64')\n",
    "lightsOnDatetime = np.array([], dtype='datetime64')\n",
    "\n",
    "for b_name in data_names:\n",
    "    b_num = int(b_name[5]) - 1\n",
    "\n",
    "    Scores = AllScores[b_name]\n",
    "    startDatetime = Scores.index.values[0]\n",
    "\n",
    "    # Calc lights off & on using datetime formats\n",
    "    lightsOffTimedelta = lightsOffSec[b_num].astype('timedelta64[s]')\n",
    "    lightsOffDatetime = np.append(lightsOffDatetime, startDatetime + lightsOffTimedelta)\n",
    "    lightsOnTimedelta = lightsOnSec[b_num].astype('timedelta64[s]')\n",
    "    lightsOnDatetime = np.append(lightsOnDatetime, startDatetime + lightsOnTimedelta)\n",
    "\n",
    "    # Convert to seconds & hours from start of recording\n",
    "    timedelta_ns = Scores.index.values - startDatetime\n",
    "    timedelta_s  = timedelta_ns.astype('timedelta64[s]')\n",
    "\n",
    "    time_s = timedelta_s.astype('int')\n",
    "    time_hr = time_s/3600\n",
    "\n",
    "    AllScores[b_name]['Time (s)'] = time_s\n",
    "    AllScores[b_name]['Time (h)'] = time_hr\n",
    "\n",
    "    # Convert to Zeitgeber time\n",
    "    time_Zeit_s = time_s - lightsOnSec[b_num]\n",
    "    time_Zeit_hr = time_Zeit_s/3600\n",
    "    time_Zeir_ep = (time_Zeit_s/3).astype('int')\n",
    "\n",
    "    AllScores[b_name]['Zeitgeber time (s)'] = time_Zeit_s\n",
    "    AllScores[b_name]['Zeitgeber time (h)'] = time_Zeit_hr\n",
    "    AllScores[b_name]['Zeitgeber time (ep)'] = time_Zeir_ep\n",
    "\n",
    "    # Convert to epoch number\n",
    "    ind_epoch = (time_s/3).astype('int')\n",
    "\n",
    "    AllScores[b_name]['Epoch #'] = ind_epoch"
   ]
  },
  {
   "cell_type": "code",
   "execution_count": 23,
   "metadata": {},
   "outputs": [
    {
     "data": {
      "text/plain": [
       "{'Bird 3_LL':                     Video Label  Time (s)   Time (h)  Zeitgeber time (s)  \\\n",
       " 2014-12-25 16:00:06           d         0   0.000000              -77175   \n",
       " 2014-12-25 16:00:09           s         3   0.000833              -77172   \n",
       " 2014-12-25 16:00:12           d         6   0.001667              -77169   \n",
       " 2014-12-25 16:00:15           d         9   0.002500              -77166   \n",
       " 2014-12-25 16:00:18           q        12   0.003333              -77163   \n",
       " ...                         ...       ...        ...                 ...   \n",
       " 2014-12-26 15:59:45           d     86379  23.994167                9204   \n",
       " 2014-12-26 15:59:48           s     86382  23.995000                9207   \n",
       " 2014-12-26 15:59:51           s     86385  23.995833                9210   \n",
       " 2014-12-26 15:59:54           m     86388  23.996667                9213   \n",
       " 2014-12-26 15:59:57           q     86391  23.997500                9216   \n",
       " \n",
       "                      Zeitgeber time (h)  Zeitgeber time (ep)  Epoch #  \n",
       " 2014-12-25 16:00:06          -21.437500               -25725        0  \n",
       " 2014-12-25 16:00:09          -21.436667               -25724        1  \n",
       " 2014-12-25 16:00:12          -21.435833               -25723        2  \n",
       " 2014-12-25 16:00:15          -21.435000               -25722        3  \n",
       " 2014-12-25 16:00:18          -21.434167               -25721        4  \n",
       " ...                                 ...                  ...      ...  \n",
       " 2014-12-26 15:59:45            2.556667                 3068    28793  \n",
       " 2014-12-26 15:59:48            2.557500                 3069    28794  \n",
       " 2014-12-26 15:59:51            2.558333                 3070    28795  \n",
       " 2014-12-26 15:59:54            2.559167                 3071    28796  \n",
       " 2014-12-26 15:59:57            2.560000                 3072    28797  \n",
       " \n",
       " [28687 rows x 7 columns],\n",
       " 'Bird 4_LL':                     Video Label  Time (s)   Time (h)  Zeitgeber time (s)  \\\n",
       " 2015-02-17 17:10:06           d         0   0.000000              -48381   \n",
       " 2015-02-17 17:10:09           d         3   0.000833              -48378   \n",
       " 2015-02-17 17:10:12           d         6   0.001667              -48375   \n",
       " 2015-02-17 17:10:15           d         9   0.002500              -48372   \n",
       " 2015-02-17 17:10:18           d        12   0.003333              -48369   \n",
       " ...                         ...       ...        ...                 ...   \n",
       " 2015-02-18 17:10:51           s     86445  24.012500               38064   \n",
       " 2015-02-18 17:10:54           s     86448  24.013333               38067   \n",
       " 2015-02-18 17:10:57           s     86451  24.014167               38070   \n",
       " 2015-02-18 17:11:00           s     86454  24.015000               38073   \n",
       " 2015-02-18 17:11:03           s     86457  24.015833               38076   \n",
       " \n",
       "                      Zeitgeber time (h)  Zeitgeber time (ep)  Epoch #  \n",
       " 2015-02-17 17:10:06          -13.439167               -16127        0  \n",
       " 2015-02-17 17:10:09          -13.438333               -16126        1  \n",
       " 2015-02-17 17:10:12          -13.437500               -16125        2  \n",
       " 2015-02-17 17:10:15          -13.436667               -16124        3  \n",
       " 2015-02-17 17:10:18          -13.435833               -16123        4  \n",
       " ...                                 ...                  ...      ...  \n",
       " 2015-02-18 17:10:51           10.573333                12688    28815  \n",
       " 2015-02-18 17:10:54           10.574167                12689    28816  \n",
       " 2015-02-18 17:10:57           10.575000                12690    28817  \n",
       " 2015-02-18 17:11:00           10.575833                12691    28818  \n",
       " 2015-02-18 17:11:03           10.576667                12692    28819  \n",
       " \n",
       " [28707 rows x 7 columns]}"
      ]
     },
     "execution_count": 23,
     "metadata": {},
     "output_type": "execute_result"
    }
   ],
   "source": [
    "AllScores"
   ]
  },
  {
   "cell_type": "markdown",
   "metadata": {},
   "source": [
    "#### Calculate lights off in Zeitgeber time (s and hrs)\n",
    "Lights on is 0 "
   ]
  },
  {
   "cell_type": "code",
   "execution_count": 24,
   "metadata": {},
   "outputs": [],
   "source": [
    "lightsOffZeit_s = lightsOffSec - lightsOnSec\n",
    "lightsOffZeit_hr = lightsOffZeit_s / 3600"
   ]
  },
  {
   "cell_type": "markdown",
   "metadata": {},
   "source": [
    "# Save to csv"
   ]
  },
  {
   "cell_type": "code",
   "execution_count": 25,
   "metadata": {},
   "outputs": [],
   "source": [
    "for b in [1,2]: \n",
    "    b_name = 'Bird ' + str(b+2)\n",
    "    data_name = b_name + '_LL'\n",
    "    scores = AllScores[data_name]\n",
    "    if saveData:\n",
    "        scores.to_csv(saveAsPath + 'All_scores_' + b_name + 'LL.csv')"
   ]
  },
  {
   "cell_type": "code",
   "execution_count": null,
   "metadata": {},
   "outputs": [],
   "source": []
  }
 ],
 "metadata": {
  "kernelspec": {
   "display_name": "Python 3",
   "language": "python",
   "name": "python3"
  },
  "language_info": {
   "codemirror_mode": {
    "name": "ipython",
    "version": 3
   },
   "file_extension": ".py",
   "mimetype": "text/x-python",
   "name": "python",
   "nbconvert_exporter": "python",
   "pygments_lexer": "ipython3",
   "version": "3.7.4"
  },
  "toc": {
   "base_numbering": 1,
   "nav_menu": {},
   "number_sections": true,
   "sideBar": true,
   "skip_h1_title": false,
   "title_cell": "Table of Contents",
   "title_sidebar": "Contents",
   "toc_cell": false,
   "toc_position": {
    "height": "calc(100% - 180px)",
    "left": "10px",
    "top": "150px",
    "width": "332px"
   },
   "toc_section_display": true,
   "toc_window_display": true
  }
 },
 "nbformat": 4,
 "nbformat_minor": 1
}
