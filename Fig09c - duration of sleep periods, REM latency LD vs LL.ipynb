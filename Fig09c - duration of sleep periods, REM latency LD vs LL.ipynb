{
 "cells": [
  {
   "cell_type": "markdown",
   "metadata": {},
   "source": [
    "# Setup"
   ]
  },
  {
   "cell_type": "code",
   "execution_count": 1,
   "metadata": {},
   "outputs": [],
   "source": [
    "%matplotlib inline\n",
    "\n",
    "import numpy as np\n",
    "import scipy.signal as sig\n",
    "import scipy.stats as stat\n",
    "import matplotlib.pyplot as plt\n",
    "import seaborn as sns\n",
    "import os\n",
    "import h5py\n",
    "import datetime\n",
    "\n",
    "import pandas as pd"
   ]
  },
  {
   "cell_type": "markdown",
   "metadata": {},
   "source": [
    "General info"
   ]
  },
  {
   "cell_type": "code",
   "execution_count": 33,
   "metadata": {},
   "outputs": [],
   "source": [
    "savePlots = True    # whether or not to save plots\n",
    "saveData = True # whether or not to save csv files\n",
    "\n",
    "saveAsPath = './Fig 09/'\n",
    "if not os.path.exists(saveAsPath):\n",
    "    os.mkdir(saveAsPath)\n",
    "\n",
    "saveAsName = 'Fig9c_'"
   ]
  },
  {
   "cell_type": "code",
   "execution_count": 3,
   "metadata": {},
   "outputs": [],
   "source": [
    "#path = '/Users/svcanavan/Dropbox/Coding in progress/00_BudgieSleep/Data_copies/'\n",
    "\n",
    "birdPaths =    ['../data_copies/01_PreprocessedData/01_BudgieFemale_green1/00_Baseline_night/',\n",
    "                '../data_copies/01_PreprocessedData/02_BudgieMale_yellow1/00_Baseline_night/',\n",
    "                '../data_copies/01_PreprocessedData/03_BudgieFemale_white1/00_Baseline_night/',\n",
    "                '../data_copies/01_PreprocessedData/04_BudgieMale_yellow2/00_Baseline_night/',\n",
    "                '../data_copies/01_PreprocessedData/05_BudgieFemale_green2/00_Baseline_night/']\n",
    "\n",
    "arfFilePaths =  ['EEG 2 scored/',\n",
    "                 'EEG 3 scored/',\n",
    "                 'EEG 3 scored/',\n",
    "                 'EEG 4 scored/',\n",
    "                 'EEG 4 scored/']\n",
    "\n",
    "### load BEST EEG channels - as determined during manual scoring ####\n",
    "channelsToLoadEEG_best = [['6 LEEGm-LEEGp', '5 LEEGf-LEEGp'], #, '9 REEGp-LEEGp'], # extra channel to represent R hemisphere\n",
    "                     ['5 LEEGf-LEEGm', '4 LEEGf-Fgr'], #, '9 REEGf-REEGm'], # extra channel to represent R hemisphere\n",
    "                     ['9REEGm-REEGp', '4LEEGf-LEEGp'], \n",
    "                     ['6LEEGm-LEEGf', '9REEGf-REEGp'], \n",
    "                     ['7REEGf-REEGp', '4LEEGf-LEEGp']]\n",
    "\n",
    "\n",
    "### load ALL of EEG channels ####\n",
    "channelsToLoadEEG = [['4 LEEGf-Fgr', '5 LEEGf-LEEGp', '6 LEEGm-LEEGp', '7 LEEGp-Fgr', '8 REEGp-Fgr','9 REEGp-LEEGp'],\n",
    "                     ['4 LEEGf-Fgr','5 LEEGf-LEEGm', '6 LEEGm-LEEGp', '7 REEGf-Fgr', '8 REEGm-Fgr', '9 REEGf-REEGm'],\n",
    "                     ['4LEEGf-LEEGp', '5LEEGf-LEEGm', '6LEEGm-LEEGp', '7REEGf-REEGp', '8REEGf-REEGm', '9REEGm-REEGp'],\n",
    "                     ['4LEEGf-LEEGp', '5LEEGm-LEEGp', '6LEEGm-LEEGf', '7REEGf-Fgr', '8REEGf-REEGm','9REEGf-REEGp',],\n",
    "                     ['4LEEGf-LEEGp', '5LEEGf-LEEGm', '6LEEGm-LEEGp', '7REEGf-REEGp', '8REEGf-REEGm', '9REEGm-REEGp']]\n",
    "\n",
    "\n",
    "channelsToLoadEOG = [['1 LEOG-Fgr', '2 REOG-Fgr'],\n",
    "                     ['2 LEOG-Fgr', '3 REOG-Fgr'],\n",
    "                     ['2LEOG-Fgr', '3REOG-Fgr'],\n",
    "                     ['2LEOG-Fgr', '3REOG-Fgr'],\n",
    "                     ['2LEOG-Fgr', '3REOG-Fgr']]\n",
    "\n",
    "birds_LL = [1,2,3]\n",
    "nBirds_LL = len(birds_LL)\n",
    "\n",
    "birdPaths_LL = ['../data_copies/01_PreprocessedData/02_BudgieMale_yellow1/01_Constant_light/',\n",
    "                '../data_copies/01_PreprocessedData/03_BudgieFemale_white1/01_Constant_light/',\n",
    "                '../data_copies/01_PreprocessedData/04_BudgieMale_yellow2/01_Constant_light/',]\n",
    "\n",
    "arfFilePaths_LL =  ['EEG 2 preprocessed/',\n",
    "                    'EEG 2 preprocessed/',\n",
    "                    'EEG 2 preprocessed/']\n",
    "\n",
    "lightsOffSec = np.array([7947, 9675, 9861 + 8*3600, 9873, 13467])  # lights off times in seconds from beginning of file\n",
    "lightsOnSec = np.array([46449, 48168, 48375+ 8*3600, 48381, 52005]) # Bird 3 gets 8 hours added b/c file starts at 8:00 instead of 16:00\n",
    "\n",
    "epochLength = 3\n",
    "sr = 200\n",
    "scalingFactor = (2**15)*0.195       # scaling/conversion factor from amplitude to uV (when recording arf from jrecord)\n",
    "\n",
    "stages = ['w','d','u','i','s','r'] # wake, drowsy, unihem sleep, intermediate sleep, SWS, REM\n",
    "stagesSleep =    ['u','i','s','r']\n",
    "\n",
    "stagesVideo = ['m','q','d','s','u'] # moving wake, quiet wake, drowsy, sleep, unclear\n",
    "\n",
    "## Path to scores formatted as CSVs\n",
    "formatted_scores_path = '../formatted_scores/'\n",
    "\n",
    "## Path to detect SW ands EM events: use folder w/ EMs and EM artifacts detected during non-sleep\n",
    "events_path = '../data_copies/SWs_EMs_and_EMartifacts/'"
   ]
  },
  {
   "cell_type": "markdown",
   "metadata": {},
   "source": [
    "colorpalette from iWantHue"
   ]
  },
  {
   "cell_type": "code",
   "execution_count": 4,
   "metadata": {},
   "outputs": [
    {
     "data": {
      "image/png": "[encoded data removed]",
      "text/plain": [
       "<Figure size 432x72 with 1 Axes>"
      ]
     },
     "metadata": {
      "needs_background": "light"
     },
     "output_type": "display_data"
    }
   ],
   "source": [
    "# PSG scores\n",
    "colors = sns.color_palette(np.array([[234,103,99],\n",
    "[218,142,60],\n",
    "[174,174,62],\n",
    "[97,188,101],\n",
    "[140,133,232],\n",
    "[225,113,190]])\n",
    "/255)\n",
    "\n",
    "sns.palplot(colors)\n",
    "\n",
    "# colorpalette from iWantHue"
   ]
  },
  {
   "cell_type": "code",
   "execution_count": 5,
   "metadata": {},
   "outputs": [
    {
     "data": {
      "image/png": "[encoded data removed]",
      "text/plain": [
       "<Figure size 504x72 with 1 Axes>"
      ]
     },
     "metadata": {
      "needs_background": "light"
     },
     "output_type": "display_data"
    }
   ],
   "source": [
    "# video scores\n",
    "colors_video = sns.color_palette(np.array([[244,133,129],\n",
    "                                           [255,153,120],\n",
    "                                            [248,172,90],\n",
    "                                            [204,204,92],\n",
    "                                            [204,204,92],\n",
    "                                            [124, 203, 204],\n",
    "                                            [200, 200, 200]])\n",
    "                                            /(255))\n",
    "\n",
    "sns.palplot(colors_video)"
   ]
  },
  {
   "cell_type": "code",
   "execution_count": 6,
   "metadata": {},
   "outputs": [
    {
     "data": {
      "image/png": "[encoded data removed]",
      "text/plain": [
       "<Figure size 360x72 with 1 Axes>"
      ]
     },
     "metadata": {
      "needs_background": "light"
     },
     "output_type": "display_data"
    }
   ],
   "source": [
    "colors_birds = [np.repeat(.4, 3),\n",
    "                np.repeat(.5, 3),\n",
    "                np.repeat(.6, 3),\n",
    "                np.repeat(.7, 3),\n",
    "                np.repeat(.8, 3)]\n",
    "\n",
    "sns.palplot(colors_birds)\n"
   ]
  },
  {
   "cell_type": "code",
   "execution_count": 7,
   "metadata": {},
   "outputs": [
    {
     "data": {
      "image/png": "[encoded data removed]",
      "text/plain": [
       "<Figure size 144x72 with 1 Axes>"
      ]
     },
     "metadata": {
      "needs_background": "light"
     },
     "output_type": "display_data"
    }
   ],
   "source": [
    "LD_color=[0, 102/255, 1]\n",
    "LL_color=[1, 99/255, 99/255]\n",
    "\n",
    "sns.palplot([LD_color, LL_color])"
   ]
  },
  {
   "cell_type": "markdown",
   "metadata": {},
   "source": [
    "Plot-specific info"
   ]
  },
  {
   "cell_type": "code",
   "execution_count": 8,
   "metadata": {},
   "outputs": [],
   "source": [
    "sns.set_context(\"notebook\", font_scale=1.5)\n",
    "sns.set_style(\"white\")\n",
    "\n",
    "# Markers for legends of EEG scoring colors\n",
    "legendMarkersEEG = []\n",
    "for stage in range(len(stages)):\n",
    "    legendMarkersEEG.append(plt.Line2D([0],[0], color=colors[stage], marker='o', linestyle='', alpha=0.7))  "
   ]
  },
  {
   "cell_type": "markdown",
   "metadata": {},
   "source": [
    "Calculate general variables"
   ]
  },
  {
   "cell_type": "code",
   "execution_count": 9,
   "metadata": {},
   "outputs": [],
   "source": [
    "lightsOffEp = lightsOffSec / epochLength\n",
    "lightsOnEp = lightsOnSec / epochLength\n",
    "\n",
    "nBirds = len(birdPaths)\n",
    "\n",
    "epochLengthPts = epochLength*sr\n",
    "\n",
    "nStages = len(stagesSleep)\n",
    "\n",
    "## Calculate lights off in Zeitgeber time (s and hrs)\n",
    "## Lights on is 0 \n",
    "\n",
    "lightsOffZeit_s = lightsOffSec - lightsOnSec\n",
    "lightsOffZeit_hr = lightsOffZeit_s / 3600"
   ]
  },
  {
   "cell_type": "markdown",
   "metadata": {},
   "source": [
    "Plot formatting"
   ]
  },
  {
   "cell_type": "code",
   "execution_count": 10,
   "metadata": {},
   "outputs": [],
   "source": [
    "figsize = (8,6)\n",
    "axis_label_fontsize = 24\n",
    "\n",
    "# Line formatting\n",
    "linewidth = 5\n",
    "linealpha = .7\n",
    "marker = 'o'\n",
    "markersize = 10\n",
    "err_capsize = 3\n",
    "err_capthick = 3\n",
    "elinewidth = 3\n",
    "\n",
    "# Bar formatting\n",
    "bar_linewidth = 4"
   ]
  },
  {
   "cell_type": "markdown",
   "metadata": {},
   "source": [
    "# Load data"
   ]
  },
  {
   "cell_type": "markdown",
   "metadata": {},
   "source": [
    "## Read in files"
   ]
  },
  {
   "cell_type": "code",
   "execution_count": 11,
   "metadata": {},
   "outputs": [],
   "source": [
    "AllScores = {}\n",
    "for b in range(nBirds):\n",
    "    bird_name = 'Bird ' + str(b+1)\n",
    "    file = formatted_scores_path + 'All_scores_' + bird_name + '.csv'\n",
    "    data = pd.read_csv(file, index_col=0)\n",
    "    \n",
    "    # if any epochs missing, mark as unclear\n",
    "    date_index = pd.date_range(data.index.values[0], end=data.index.values[-1], freq='3s')\n",
    "    data_reindexed = data.reindex(date_index.astype('str'))\n",
    "    data_reindexed['Video Label'].fillna('u', inplace=True)\n",
    "    \n",
    "    # interpolate Time-related columns\n",
    "    time_columns = ['Time (s)', 'Time (h)', 'Zeitgeber time (s)', 'Zeitgeber time (h)', \n",
    "                    'Zeitgeber time (ep)', 'Epoch #']\n",
    "    data_interpolated = data_reindexed.copy()\n",
    "    data_interpolated[time_columns] = data_reindexed[time_columns].interpolate()\n",
    "    \n",
    "    AllScores[bird_name] = data_interpolated"
   ]
  },
  {
   "cell_type": "code",
   "execution_count": 12,
   "metadata": {},
   "outputs": [],
   "source": [
    "# LL\n",
    "for b in [1,2,3]:\n",
    "    bird_name = 'Bird ' + str(b+1)\n",
    "    file = formatted_scores_path + 'All_scores_' + bird_name + 'LL.csv'\n",
    "    data = pd.read_csv(file, index_col=0)\n",
    "    AllScores[bird_name + 'LL'] = data"
   ]
  },
  {
   "cell_type": "markdown",
   "metadata": {},
   "source": [
    "## Convert video labels to numbers"
   ]
  },
  {
   "cell_type": "code",
   "execution_count": 13,
   "metadata": {},
   "outputs": [],
   "source": [
    "birds = list(AllScores.keys())"
   ]
  },
  {
   "cell_type": "code",
   "execution_count": 14,
   "metadata": {},
   "outputs": [],
   "source": [
    "# LD #\n",
    "for b_name in birds:\n",
    "\n",
    "    b_num = int(b_name[5]) - 1\n",
    "    Scores = AllScores[b_name]\n",
    "\n",
    "    Label_num = -1 * np.ones_like(Scores['Video Label'])\n",
    "    for st in range(len(stagesVideo)):\n",
    "        stage_inds = [x for x in range(len(Scores['Video Label'])) if stagesVideo[st] in Scores['Video Label'].iloc[x]]\n",
    "        Label_num[stage_inds] = st\n",
    "\n",
    "    # Preening/singing labels\n",
    "    stage_inds = [x for x in range(len(Scores['Video Label']))\n",
    "                  if ('p' in Scores['Video Label'].iloc[x])|('si' in Scores['Video Label'].iloc[x])]\n",
    "    Label_num[stage_inds] = 0\n",
    "    \n",
    "    # Unihem labels\n",
    "    stage_inds = [x for x in range(len(Scores['Video Label'])) \n",
    "                  if ('r' in Scores['Video Label'].iloc[x])]\n",
    "    Label_num[stage_inds] = 4\n",
    "\n",
    "    # Save to dataframe\n",
    "    AllScores[b_name]['Video Label (#)'] = Label_num"
   ]
  },
  {
   "cell_type": "code",
   "execution_count": 15,
   "metadata": {},
   "outputs": [
    {
     "data": {
      "text/plain": [
       "['m', 'q', 'd', 'l', 'g', 's', 'u']"
      ]
     },
     "execution_count": 15,
     "metadata": {},
     "output_type": "execute_result"
    }
   ],
   "source": [
    "stagesVideo"
   ]
  },
  {
   "cell_type": "markdown",
   "metadata": {},
   "source": [
    "# Get lengths of sleep episodes - based on video recording only"
   ]
  },
  {
   "cell_type": "markdown",
   "metadata": {},
   "source": [
    "## Merge continuous epochs of the same stage, same length & start time"
   ]
  },
  {
   "cell_type": "code",
   "execution_count": 16,
   "metadata": {},
   "outputs": [],
   "source": [
    "ScoresMerged = {}\n",
    "\n",
    "for bird in birds:\n",
    "\n",
    "    scores = AllScores[bird]\n",
    "    \n",
    "    # add a \"stop\" column\n",
    "    scores['Stop (s)'] = scores['Time (s)'] + epochLength\n",
    "    \n",
    "    original_end_s = scores['Stop (s)'].iloc[-1]\n",
    "        \n",
    "    # add a column to keep track of consecutive epochs of the same stage\n",
    "    scores['episode #'] = (scores['Video Label'] != scores['Video Label'].shift(1)).astype(int).cumsum()\n",
    "        # don't worry about the gaps where the video recording restarted\n",
    "        # if the behavior is the same before and after the gap, count it as a continuous episode\n",
    "        # if you want to split episodes where the gap occurs, add:\n",
    "        #     (scores['Stop (s)'] == scores['Time (s)'].shift(-1))\n",
    "    \n",
    "    # combine all epochs of the same episode # and use the values from the first epoch of that episode\n",
    "    merged_scores = scores.groupby(scores['episode #']).aggregate('first')\n",
    "    \n",
    "    # calculate length of each episode\n",
    "    lengths = merged_scores['Time (s)'].shift(-1) - merged_scores['Time (s)']\n",
    "    lengths.iloc[-1] = original_end_s - merged_scores['Time (s)'].iloc[-1]\n",
    "    \n",
    "    merged_scores['Length (s)'] = lengths\n",
    "    \n",
    "    ScoresMerged[bird] = merged_scores"
   ]
  },
  {
   "cell_type": "markdown",
   "metadata": {},
   "source": [
    "### Check lengths"
   ]
  },
  {
   "cell_type": "code",
   "execution_count": 17,
   "metadata": {},
   "outputs": [],
   "source": [
    "bird = 'Bird 4'"
   ]
  },
  {
   "cell_type": "code",
   "execution_count": 18,
   "metadata": {},
   "outputs": [
    {
     "name": "stdout",
     "output_type": "stream",
     "text": [
      "23.998333333333335\n",
      "23.998333333333335\n",
      "23.988333333333333\n"
     ]
    }
   ],
   "source": [
    "print(len(AllScores[bird]) * epochLength/3600) # original\n",
    "\n",
    "print(ScoresMerged[bird]['Length (s)'].sum()/3600) # merged\n",
    "\n",
    "print(ScoresMerged[bird]['Length (s)'].sum()/3600 - 36/3600) \n",
    "# merged, but subtract 6 seconds \n",
    "# for each of the 6 gaps where the video restarted\n"
   ]
  },
  {
   "cell_type": "code",
   "execution_count": 19,
   "metadata": {},
   "outputs": [
    {
     "name": "stdout",
     "output_type": "stream",
     "text": [
      "23.9225\n",
      "24.016666666666666\n",
      "24.008333333333333\n"
     ]
    }
   ],
   "source": [
    "print(len(AllScores[bird + 'LL']) * epochLength/3600) # original\n",
    "\n",
    "print(ScoresMerged[bird + 'LL']['Length (s)'].sum()/3600) # merged\n",
    "\n",
    "print(ScoresMerged[bird + 'LL']['Length (s)'].sum()/3600 - 30/3600) \n",
    "# merged, but subtract 6 seconds for each of the 5 gaps where the video restarted"
   ]
  },
  {
   "cell_type": "markdown",
   "metadata": {},
   "source": [
    "# Total numbers of continuous episodes of each stage"
   ]
  },
  {
   "cell_type": "code",
   "execution_count": 20,
   "metadata": {},
   "outputs": [],
   "source": [
    "SleepDurationStats = pd.DataFrame([])"
   ]
  },
  {
   "cell_type": "code",
   "execution_count": 21,
   "metadata": {},
   "outputs": [
    {
     "data": {
      "text/plain": [
       "Bird 1      1077\n",
       "Bird 2       180\n",
       "Bird 3       319\n",
       "Bird 4       465\n",
       "Bird 5       198\n",
       "Bird 2LL     547\n",
       "Bird 3LL    1471\n",
       "Bird 4LL     892\n",
       "dtype: int64"
      ]
     },
     "execution_count": 21,
     "metadata": {},
     "output_type": "execute_result"
    }
   ],
   "source": [
    "n_sleep_pds = pd.Series([])\n",
    "for bird in birds:\n",
    "    n_episodes = ScoresMerged[bird]['Video Label (#)'].value_counts()\n",
    "    #print(bird, '\\t', n_episodes[5])\n",
    "    n_sleep_pds.loc[bird] = n_episodes[5]\n",
    "    \n",
    "SleepDurationStats['# sleep pds'] = n_sleep_pds\n",
    "\n",
    "n_sleep_pds"
   ]
  },
  {
   "cell_type": "markdown",
   "metadata": {
    "collapsed": true
   },
   "source": [
    "# Overall average lengths"
   ]
  },
  {
   "cell_type": "code",
   "execution_count": 22,
   "metadata": {},
   "outputs": [
    {
     "data": {
      "text/plain": [
       "Bird 1       35.206128\n",
       "Bird 2      175.600000\n",
       "Bird 3      122.332288\n",
       "Bird 4       98.090323\n",
       "Bird 5      172.727273\n",
       "Bird 2LL     22.990859\n",
       "Bird 3LL     15.385452\n",
       "Bird 4LL     37.987668\n",
       "dtype: float64"
      ]
     },
     "execution_count": 22,
     "metadata": {},
     "output_type": "execute_result"
    }
   ],
   "source": [
    "sleep_durations = pd.Series([])\n",
    "sleep_durations_SD = pd.Series([])\n",
    "\n",
    "for n,bird in enumerate(birds):\n",
    "    scores = ScoresMerged[bird]\n",
    "    avg_lengths = scores.groupby('Video Label (#)')['Length (s)'].mean()\n",
    "    sd_lengths  = scores.groupby('Video Label (#)')['Length (s)'].std()\n",
    "    \n",
    "    sleep_durations.loc[bird] = avg_lengths[5]\n",
    "    sleep_durations_SD.loc[bird] = sd_lengths[5]\n",
    "    \n",
    "    SleepDurationStats['sleep pd duration mean'] = sleep_durations\n",
    "    SleepDurationStats['sleep pd duration SD'] = sleep_durations_SD\n",
    "\n",
    "sleep_durations"
   ]
  },
  {
   "cell_type": "markdown",
   "metadata": {},
   "source": [
    "# REM latency"
   ]
  },
  {
   "cell_type": "code",
   "execution_count": 23,
   "metadata": {},
   "outputs": [],
   "source": [
    "REM_Latencies = {}\n",
    "for bird in birds:\n",
    "    if 'LL' not in bird:\n",
    "        REM_latencies_bird = []\n",
    "        \n",
    "        scores = AllScores[bird]\n",
    "        \n",
    "        # Go through each sleep episode, see if there is REM, and calculate the latency\n",
    "        for episode_num in np.unique(scores['episode #']):\n",
    "            episode_epochs = scores[scores['episode #']==episode_num]\n",
    "            \n",
    "            if episode_epochs.iloc[0]['Video Label (#)']==5: # sleep episodes only\n",
    "                REM_epoch_inds = episode_epochs['Label (#)']==5\n",
    "                if any(REM_epoch_inds):  # find REM epochs\n",
    "                    episode_start_s = episode_epochs.iloc[0]['Time (s)']\n",
    "                    REM_start_s = episode_epochs[REM_epoch_inds].iloc[0]['Time (s)']\n",
    "                    REM_latency = REM_start_s - episode_start_s\n",
    "                    REM_latencies_bird.append(REM_latency)\n",
    "                    \n",
    "        REM_Latencies[bird] = REM_latencies_bird\n"
   ]
  },
  {
   "cell_type": "code",
   "execution_count": 24,
   "metadata": {},
   "outputs": [
    {
     "data": {
      "text/plain": [
       "Bird 1    13.720137\n",
       "Bird 2    24.633333\n",
       "Bird 3    77.911765\n",
       "Bird 4    26.724490\n",
       "Bird 5    56.542373\n",
       "dtype: float64"
      ]
     },
     "execution_count": 24,
     "metadata": {},
     "output_type": "execute_result"
    },
    {
     "data": {
      "image/png": "[encoded data removed]",
      "text/plain": [
       "<Figure size 1080x216 with 5 Axes>"
      ]
     },
     "metadata": {},
     "output_type": "display_data"
    }
   ],
   "source": [
    "mean_REM_latencies = pd.Series([])\n",
    "sd_REM_latencies   = pd.Series([])\n",
    "\n",
    "plt.figure(figsize=(15,3))\n",
    "for n, bird in enumerate(birds):\n",
    "    if 'LL' not in bird:\n",
    "        plt.subplot(1,5,n+1)\n",
    "        plt.hist(REM_Latencies[bird], range=(0,200), bins=50, histtype='step', color=colors[5])\n",
    "        plt.xlabel('REM latency (s)')\n",
    "                \n",
    "        mean_REM_latencies.loc[bird] = np.mean(REM_Latencies[bird])\n",
    "        sd_REM_latencies.loc[bird]   = np.std(REM_Latencies[bird])\n",
    "        \n",
    "SleepDurationStats['REM latencies mean'] = mean_REM_latencies\n",
    "SleepDurationStats['REM latencies SD']   = sd_REM_latencies\n",
    "\n",
    "mean_REM_latencies"
   ]
  },
  {
   "cell_type": "markdown",
   "metadata": {},
   "source": [
    "# FIGURE 9C: Sleep durations vs REM latencies"
   ]
  },
  {
   "cell_type": "code",
   "execution_count": 25,
   "metadata": {},
   "outputs": [
    {
     "data": {
      "image/png": "[encoded data removed]",
      "text/plain": [
       "<Figure size 288x324 with 1 Axes>"
      ]
     },
     "metadata": {},
     "output_type": "display_data"
    }
   ],
   "source": [
    "plot_colors = [LD_color, colors[5], LL_color]\n",
    "\n",
    "axis_color = [.8,.8,.8]\n",
    "with plt.rc_context({'axes.edgecolor': 'k'}):  # set color of plot outline\n",
    "\n",
    "    plt.figure(figsize=(4,4.5))\n",
    "    \n",
    "    # Bar graph of means\n",
    "    sleep_pd_durations = SleepDurationStats['sleep pd duration mean'][['Bird 1', 'Bird 2','Bird 3','Bird 4','Bird 5']].values\n",
    "    REM_latencies = SleepDurationStats['REM latencies mean'][['Bird 1', 'Bird 2','Bird 3','Bird 4','Bird 5']].values\n",
    "    sleep_pd_durations_LL = SleepDurationStats['sleep pd duration mean'][['Bird 2LL','Bird 3LL','Bird 4LL']].values\n",
    "    \n",
    "    \n",
    "    plt.bar([0], np.mean(sleep_pd_durations),    width=.75, color='none', edgecolor=plot_colors[0], linewidth=4, alpha=linealpha)\n",
    "    plt.bar([1], np.mean(sleep_pd_durations_LL), width=.75, color='none', edgecolor=plot_colors[2], linewidth=4, alpha=linealpha)\n",
    "\n",
    "    # Line plot of each bird\n",
    "    for bird in ['Bird 2', 'Bird 3', 'Bird 4']: # LL birds\n",
    "        stats_LD = SleepDurationStats.loc[bird]\n",
    "        stats_LL = SleepDurationStats.loc[bird + 'LL']\n",
    "\n",
    "        plt.plot([0, 1],\n",
    "                [stats_LD['sleep pd duration mean'],\n",
    "                 stats_LL['sleep pd duration mean']],\n",
    "                 alpha=linealpha, color=colors_birds[int(bird[5])-1],\n",
    "                 lw=linewidth/1.5)\n",
    "\n",
    "    for bird in ['Bird 1', 'Bird 5']: # LD-only birds\n",
    "        stats_LD = SleepDurationStats.loc[bird]\n",
    "\n",
    "    # Scatter plot of each plot in corresponding color\n",
    "    plt.scatter(np.repeat(0,5), sleep_pd_durations,\n",
    "                5*markersize, color=plot_colors[0], alpha=linealpha)\n",
    "    plt.scatter(np.repeat(1,3), sleep_pd_durations_LL,\n",
    "                5*markersize, color=plot_colors[2], alpha=linealpha)\n",
    "    \n",
    "    plt.xlim(-.7, 1.7)\n",
    "    plt.ylim(0, 180)\n",
    "    plt.xticks([0,1], [(\"LD mean\\n sleep pd\\n duration\"), \n",
    "                         ('LL mean\\n sleep pd\\n duration')], fontsize=14)\n",
    "    for ticklabel, tickcolor in zip(plt.gca().get_xticklabels(), [plot_colors[0], plot_colors[2]]):\n",
    "        ticklabel.set_color(tickcolor)\n",
    "\n",
    "    plt.ylabel('seconds', fontsize=axis_label_fontsize)  # y label only on leftmost plot\n",
    "\n",
    "    sns.despine()\n",
    "    plt.tight_layout()\n",
    "\n",
    "if savePlots:\n",
    "        plt.savefig(saveAsPath + saveAsName + \"sleep_pd_durations_1_LLvLD.pdf\")"
   ]
  },
  {
   "cell_type": "code",
   "execution_count": 26,
   "metadata": {},
   "outputs": [
    {
     "data": {
      "image/png": "[encoded data removed]",
      "text/plain": [
       "<Figure size 288x324 with 1 Axes>"
      ]
     },
     "metadata": {},
     "output_type": "display_data"
    }
   ],
   "source": [
    "plot_colors = [LD_color, colors[5], LL_color]\n",
    "\n",
    "axis_color = [.8,.8,.8]\n",
    "with plt.rc_context({'axes.edgecolor': 'k'}):  # set color of plot outline\n",
    "\n",
    "    plt.figure(figsize=(4,4.5))\n",
    "    \n",
    "    # Bar graph of means\n",
    "    sleep_pd_durations = SleepDurationStats['sleep pd duration mean'][['Bird 1', 'Bird 2','Bird 3','Bird 4','Bird 5']].values\n",
    "    REM_latencies = SleepDurationStats['REM latencies mean'][['Bird 1', 'Bird 2','Bird 3','Bird 4','Bird 5']].values\n",
    "    sleep_pd_durations_LL = SleepDurationStats['sleep pd duration mean'][['Bird 2LL','Bird 3LL','Bird 4LL']].values\n",
    "    \n",
    "    \n",
    "    plt.bar([0], np.mean(sleep_pd_durations),    width=.75, color='none', edgecolor=plot_colors[0], linewidth=4, alpha=linealpha)\n",
    "    plt.bar([1], np.mean(REM_latencies), width=.75, color='none', edgecolor=plot_colors[1], linewidth=4, alpha=linealpha)\n",
    "\n",
    "    # Line plot of each bird\n",
    "    for bird in ['Bird 2', 'Bird 3', 'Bird 4']: # LL birds\n",
    "        stats_LD = SleepDurationStats.loc[bird]\n",
    "        stats_LL = SleepDurationStats.loc[bird + 'LL']\n",
    "\n",
    "        plt.plot([0, 1],\n",
    "                [stats_LD['sleep pd duration mean'],\n",
    "                 stats_LD['REM latencies mean']],\n",
    "                 alpha=linealpha, color=colors_birds[int(bird[5])-1],\n",
    "                 lw=linewidth/1.5)\n",
    "\n",
    "    for bird in ['Bird 1', 'Bird 5']: # LD-only birds\n",
    "        stats_LD = SleepDurationStats.loc[bird]\n",
    "\n",
    "        plt.plot([0, 1],\n",
    "                [stats_LD['sleep pd duration mean'],\n",
    "                 stats_LD['REM latencies mean']], alpha=linealpha, color=colors_birds[int(bird[5])-1],\n",
    "                 lw=linewidth/1.5)\n",
    "        \n",
    "    # Scatter plot of each plot in corresponding color\n",
    "    plt.scatter(np.repeat(0,5), sleep_pd_durations,\n",
    "                5*markersize, color=plot_colors[0], alpha=linealpha)\n",
    "    plt.scatter(np.repeat(1,5), REM_latencies,\n",
    "                5*markersize, color=plot_colors[1], alpha=linealpha)\n",
    "    \n",
    "    plt.xlim(-.7, 1.7)\n",
    "    plt.ylim(0, 180)\n",
    "    plt.xticks([0,1], [(\"LD mean\\n sleep pd\\n duration\"), \n",
    "                         ('LD\\n REM latency')], fontsize=14)\n",
    "    for ticklabel, tickcolor in zip(plt.gca().get_xticklabels(), plot_colors[0:2]):\n",
    "        ticklabel.set_color(tickcolor)\n",
    "\n",
    "    plt.ylabel('seconds', fontsize=axis_label_fontsize)  # y label only on leftmost plot\n",
    "\n",
    "    sns.despine()\n",
    "    plt.tight_layout()\n",
    "\n",
    "if savePlots:\n",
    "        plt.savefig(saveAsPath + saveAsName + \"sleep_pd_durations_2_LD_vs_REM_latency.pdf\")"
   ]
  },
  {
   "cell_type": "code",
   "execution_count": 27,
   "metadata": {},
   "outputs": [
    {
     "data": {
      "image/png": "[encoded data removed]",
      "text/plain": [
       "<Figure size 288x324 with 1 Axes>"
      ]
     },
     "metadata": {},
     "output_type": "display_data"
    }
   ],
   "source": [
    "plot_colors = [LD_color, colors[5], LL_color]\n",
    "\n",
    "axis_color = [.8,.8,.8]\n",
    "with plt.rc_context({'axes.edgecolor': 'k'}):  # set color of plot outline\n",
    "\n",
    "    plt.figure(figsize=(4,4.5))\n",
    "    \n",
    "    # Bar graph of means\n",
    "    sleep_pd_durations = SleepDurationStats['sleep pd duration mean'][['Bird 1', 'Bird 2','Bird 3','Bird 4','Bird 5']].values\n",
    "    REM_latencies = SleepDurationStats['REM latencies mean'][['Bird 1', 'Bird 2','Bird 3','Bird 4','Bird 5']].values\n",
    "    sleep_pd_durations_LL = SleepDurationStats['sleep pd duration mean'][['Bird 2LL','Bird 3LL','Bird 4LL']].values\n",
    "    \n",
    "    \n",
    "    plt.bar([0], np.mean(sleep_pd_durations_LL), width=.75, color='none', edgecolor=plot_colors[2], linewidth=4, alpha=linealpha)\n",
    "    plt.bar([1], np.mean(REM_latencies), width=.75, color='none', edgecolor=plot_colors[1], linewidth=4, alpha=linealpha)\n",
    "\n",
    "    # Line plot of each bird\n",
    "    for bird in ['Bird 2', 'Bird 3', 'Bird 4']: # LL birds\n",
    "        stats_LD = SleepDurationStats.loc[bird]\n",
    "        stats_LL = SleepDurationStats.loc[bird + 'LL']\n",
    "\n",
    "        plt.plot([0, 1],\n",
    "                [stats_LL['sleep pd duration mean'],\n",
    "                 stats_LD['REM latencies mean']],\n",
    "                 alpha=linealpha, color=colors_birds[int(bird[5])-1],\n",
    "                 lw=linewidth/1.5)\n",
    "\n",
    "    for bird in ['Bird 1', 'Bird 5']: # LD-only birds\n",
    "        stats_LD = SleepDurationStats.loc[bird]\n",
    "\n",
    "    # Scatter plot of each plot in corresponding color\n",
    "    plt.scatter(np.repeat(0,3), sleep_pd_durations_LL,\n",
    "                5*markersize, color=plot_colors[2], alpha=linealpha)\n",
    "    plt.scatter(np.repeat(1,5), REM_latencies,\n",
    "                5*markersize, color=plot_colors[1], alpha=linealpha)\n",
    "    \n",
    "    plt.xlim(-.7, 1.7)\n",
    "    plt.ylim(0, 180)\n",
    "    plt.xticks([0,1], [(\"LL mean\\n sleep pd\\n duration\"), \n",
    "                         ('LD\\n REM latency')], fontsize=14)\n",
    "    for ticklabel, tickcolor in zip(plt.gca().get_xticklabels(), [plot_colors[2], plot_colors[1]]):\n",
    "        ticklabel.set_color(tickcolor)\n",
    "\n",
    "    plt.ylabel('seconds', fontsize=axis_label_fontsize)  # y label only on leftmost plot\n",
    "\n",
    "    sns.despine()\n",
    "    plt.tight_layout()\n",
    "\n",
    "if savePlots:\n",
    "        plt.savefig(saveAsPath + saveAsName + \"sleep_pd_durations_3_LL_vs_REM_latency.pdf\")"
   ]
  },
  {
   "cell_type": "markdown",
   "metadata": {},
   "source": [
    "## STATS: Fig 9c"
   ]
  },
  {
   "cell_type": "code",
   "execution_count": 28,
   "metadata": {},
   "outputs": [
    {
     "name": "stdout",
     "output_type": "stream",
     "text": [
      "LD sleep pd durations vs REM latencies (n = 5)\n"
     ]
    },
    {
     "data": {
      "text/plain": [
       "Ttest_relResult(statistic=3.432434435344276, pvalue=0.02647650834925131)"
      ]
     },
     "execution_count": 28,
     "metadata": {},
     "output_type": "execute_result"
    }
   ],
   "source": [
    "# all birds\n",
    "sleep_pd_durations = SleepDurationStats['sleep pd duration mean'][['Bird 1', 'Bird 2','Bird 3','Bird 4','Bird 5']].values\n",
    "REM_latencies = SleepDurationStats['REM latencies mean'][['Bird 1', 'Bird 2','Bird 3','Bird 4','Bird 5']].values\n",
    "\n",
    "print('LD sleep pd durations vs REM latencies (n = 5)')\n",
    "stat.ttest_rel(sleep_pd_durations, REM_latencies)"
   ]
  },
  {
   "cell_type": "code",
   "execution_count": 29,
   "metadata": {},
   "outputs": [
    {
     "name": "stdout",
     "output_type": "stream",
     "text": [
      "LD sleep pd durations vs REM latencies (n = 3)\n"
     ]
    },
    {
     "data": {
      "text/plain": [
       "Ttest_relResult(statistic=2.7800031631652744, pvalue=0.10869942237770128)"
      ]
     },
     "execution_count": 29,
     "metadata": {},
     "output_type": "execute_result"
    }
   ],
   "source": [
    "# include only birds with both LL and LD\n",
    "sleep_pd_durations = SleepDurationStats['sleep pd duration mean'][['Bird 2','Bird 3','Bird 4']].values\n",
    "REM_latencies = SleepDurationStats['REM latencies mean'][['Bird 2','Bird 3','Bird 4']].values\n",
    "sleep_pd_durations_LL = SleepDurationStats['sleep pd duration mean'][['Bird 2LL','Bird 3LL','Bird 4LL']].values\n",
    "\n",
    "print('LD sleep pd durations vs REM latencies (n = 3)')\n",
    "stat.ttest_rel(sleep_pd_durations, REM_latencies)"
   ]
  },
  {
   "cell_type": "code",
   "execution_count": 30,
   "metadata": {},
   "outputs": [
    {
     "name": "stdout",
     "output_type": "stream",
     "text": [
      "LD sleep pd durations vs LL sleep pd durations (n = 3)\n"
     ]
    },
    {
     "data": {
      "text/plain": [
       "Ttest_relResult(statistic=3.9899899697451406, pvalue=0.057453989745415206)"
      ]
     },
     "execution_count": 30,
     "metadata": {},
     "output_type": "execute_result"
    }
   ],
   "source": [
    "print('LD sleep pd durations vs LL sleep pd durations (n = 3)')\n",
    "stat.ttest_rel(sleep_pd_durations, sleep_pd_durations_LL)"
   ]
  },
  {
   "cell_type": "code",
   "execution_count": 31,
   "metadata": {},
   "outputs": [
    {
     "name": "stdout",
     "output_type": "stream",
     "text": [
      "LL sleep pd durations vs REM latency (n = 3)\n"
     ]
    },
    {
     "data": {
      "text/plain": [
       "Ttest_relResult(statistic=-0.7750838319680784, pvalue=0.519383184949745)"
      ]
     },
     "execution_count": 31,
     "metadata": {},
     "output_type": "execute_result"
    }
   ],
   "source": [
    "print('LL sleep pd durations vs REM latency (n = 3)')\n",
    "stat.ttest_rel(sleep_pd_durations_LL, REM_latencies)"
   ]
  },
  {
   "cell_type": "markdown",
   "metadata": {},
   "source": [
    "# save to csv"
   ]
  },
  {
   "cell_type": "code",
   "execution_count": 34,
   "metadata": {},
   "outputs": [],
   "source": [
    "if saveData:\n",
    "    SleepDurationStats.to_csv(saveAsPath + saveAsName + 'sleep_durations_REM_latencies.csv')\n",
    "        "
   ]
  },
  {
   "cell_type": "code",
   "execution_count": null,
   "metadata": {},
   "outputs": [],
   "source": []
  }
 ],
 "metadata": {
  "kernelspec": {
   "display_name": "Python 3",
   "language": "python",
   "name": "python3"
  },
  "language_info": {
   "codemirror_mode": {
    "name": "ipython",
    "version": 3
   },
   "file_extension": ".py",
   "mimetype": "text/x-python",
   "name": "python",
   "nbconvert_exporter": "python",
   "pygments_lexer": "ipython3",
   "version": "3.7.4"
  },
  "toc": {
   "base_numbering": 1,
   "nav_menu": {},
   "number_sections": true,
   "sideBar": true,
   "skip_h1_title": false,
   "title_cell": "Table of Contents",
   "title_sidebar": "Contents",
   "toc_cell": false,
   "toc_position": {
    "height": "calc(100% - 180px)",
    "left": "10px",
    "top": "150px",
    "width": "269.391px"
   },
   "toc_section_display": true,
   "toc_window_display": true
  }
 },
 "nbformat": 4,
 "nbformat_minor": 1
}
