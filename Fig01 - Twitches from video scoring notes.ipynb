{
 "cells": [
  {
   "cell_type": "markdown",
   "metadata": {
    "collapsed": true
   },
   "source": [
    "# Setup"
   ]
  },
  {
   "cell_type": "code",
   "execution_count": 1,
   "metadata": {},
   "outputs": [],
   "source": [
    "import numpy as np\n",
    "import pandas as pd\n",
    "import seaborn as sns\n",
    "import matplotlib.pyplot as plt\n",
    "import os\n",
    "import datetime\n",
    "import h5py\n",
    "import scipy.stats as stat\n",
    "\n",
    "%matplotlib inline"
   ]
  },
  {
   "cell_type": "code",
   "execution_count": 2,
   "metadata": {},
   "outputs": [],
   "source": [
    "savePlots = True    # whether or not to save plots\n",
    "saveData  = True\n",
    "\n",
    "saveAsPath = './Fig 01/'\n",
    "if not os.path.exists(saveAsPath):\n",
    "    os.mkdir(saveAsPath)\n",
    "saveAsName = 'Twitches_from_notes_'"
   ]
  },
  {
   "cell_type": "markdown",
   "metadata": {},
   "source": [
    "## paths for data files"
   ]
  },
  {
   "cell_type": "code",
   "execution_count": 3,
   "metadata": {},
   "outputs": [],
   "source": [
    "birdPaths =    ['../data_copies/01_PreprocessedData/01_BudgieFemale_green1/00_Baseline_night/',\n",
    "                '../data_copies/01_PreprocessedData/02_BudgieMale_yellow1/00_Baseline_night/',\n",
    "                '../data_copies/01_PreprocessedData/03_BudgieFemale_white1/00_Baseline_night/',\n",
    "                '../data_copies/01_PreprocessedData/04_BudgieMale_yellow2/00_Baseline_night/',\n",
    "                '../data_copies/01_PreprocessedData/05_BudgieFemale_green2/00_Baseline_night/']\n",
    "\n",
    "arfFilePaths =  ['EEG 2 scored/',\n",
    "                 'EEG 3 scored/',\n",
    "                 'EEG 3 scored/',\n",
    "                 'EEG 4 scored/',\n",
    "                 'EEG 4 scored/']\n",
    "\n",
    "### load BEST EEG channels - as determined during manual scoring ####\n",
    "channelsToLoadEEG_best = [['5 LEEGf-LEEGp', '6 LEEGm-LEEGp'],\n",
    "                     ['5 LEEGf-LEEGm'], #, '4 LEEGf-Fgr'] this channel seems to have too much artifact\n",
    "                     ['6LEEGm-LEEGp', '9REEGm-REEGp'],\n",
    "                     ['9REEGf-REEGp', '6LEEGm-LEEGf'],\n",
    "                     ['4LEEGf-LEEGp','7REEGf-REEGp']]\n",
    "\n",
    "\n",
    "### load ALL of EEG channels ####\n",
    "channelsToLoadEEG = [['4 LEEGf-Fgr', '5 LEEGf-LEEGp', '6 LEEGm-LEEGp', '7 LEEGp-Fgr', '8 REEGp-Fgr','9 REEGp-LEEGp'],\n",
    "                     ['4 LEEGf-Fgr','5 LEEGf-LEEGm', '6 LEEGm-LEEGp', '7 REEGf-Fgr', '8 REEGm-Fgr', '9 REEGf-REEGm'],\n",
    "                     ['4LEEGf-LEEGp', '5LEEGf-LEEGm', '6LEEGm-LEEGp', '7REEGf-REEGp', '8REEGf-REEGm', '9REEGm-REEGp'],\n",
    "                     ['4LEEGf-LEEGp', '5LEEGm-LEEGp', '6LEEGm-LEEGf', '7REEGf-Fgr', '8REEGf-REEGm','9REEGf-REEGp',],\n",
    "                     ['4LEEGf-LEEGp', '5LEEGf-LEEGm', '6LEEGm-LEEGp', '7REEGf-REEGp', '8REEGf-REEGm', '9REEGm-REEGp']]\n",
    "\n",
    "\n",
    "channelsToLoadEOG = [['1 LEOG-Fgr', '2 REOG-Fgr'],\n",
    "                     ['2 LEOG-Fgr', '3 REOG-Fgr'],\n",
    "                     ['2LEOG-Fgr', '3REOG-Fgr'],\n",
    "                     ['2LEOG-Fgr', '3REOG-Fgr'],\n",
    "                     ['2LEOG-Fgr', '3REOG-Fgr']]\n",
    "\n",
    "birds_LL = [1,2,3]\n",
    "nBirds_LL = len(birds_LL)\n",
    "\n",
    "birdPaths_LL = ['../data_copies/01_PreprocessedData/02_BudgieMale_yellow1/01_Constant_light/',\n",
    "                '../data_copies/01_PreprocessedData/03_BudgieFemale_white1/01_Constant_light/',\n",
    "                '../data_copies/01_PreprocessedData/04_BudgieMale_yellow2/01_Constant_light/',]\n",
    "\n",
    "arfFilePaths_LL =  ['EEG 2 preprocessed/',\n",
    "                    'EEG 2 preprocessed/',\n",
    "                    'EEG 2 preprocessed/']\n",
    "\n",
    "lightsOffSec = np.array([7947, 9675, 9861 + 8*3600, 9873, 13467])  # lights off times in seconds from beginning of file\n",
    "lightsOnSec = np.array([46449, 48168, 48375+ 8*3600, 48381, 52005]) # Bird 3 gets 8 hours added b/c file starts at 8:00 instead of 16:00\n",
    "\n",
    "epochLength = 3\n",
    "sr = 200\n",
    "scalingFactor = (2**15)*0.195       # scaling/conversion factor from amplitude to uV (when recording arf from jrecord)\n",
    "\n",
    "stages = ['w','d','u','i','s','r'] # wake, drowsy, unihem sleep, intermediate sleep, SWS, REM\n",
    "stagesSleep =    ['u','i','s','r']\n",
    "\n",
    "stagesVideo = ['m','q','d','s','u'] # moving wake, quiet wake, drowsy, sleep, unclear\n",
    "\n",
    "## Path to scores formatted as CSVs\n",
    "formatted_scores_path = '../formatted_scores/'\n"
   ]
  },
  {
   "cell_type": "markdown",
   "metadata": {},
   "source": [
    "## Formatting"
   ]
  },
  {
   "cell_type": "code",
   "execution_count": 4,
   "metadata": {},
   "outputs": [
    {
     "data": {
      "image/png": "[encoded data removed]",
      "text/plain": [
       "<Figure size 432x72 with 1 Axes>"
      ]
     },
     "metadata": {
      "needs_background": "light"
     },
     "output_type": "display_data"
    }
   ],
   "source": [
    "colors = sns.color_palette(np.array([[234,103,99],\n",
    "[218,142,60],\n",
    "[174,174,62],\n",
    "[97,188,101],\n",
    "[140,133,232],\n",
    "[225,113,190]])\n",
    "/255)\n",
    "\n",
    "sns.palplot(colors)\n",
    "\n",
    "# colorpalette from iWantHue"
   ]
  },
  {
   "cell_type": "code",
   "execution_count": 5,
   "metadata": {},
   "outputs": [],
   "source": [
    "sns.set_context(\"notebook\", font_scale=1)\n",
    "sns.set_style(\"white\")\n",
    "\n",
    "# Markers for legends of EEG scoring colors\n",
    "legendMarkersEEG = []\n",
    "for stage in range(len(stages)):\n",
    "    legendMarkersEEG.append(plt.Line2D([0],[0], color=colors[stage], marker='o', linestyle='', alpha=0.7))  "
   ]
  },
  {
   "cell_type": "code",
   "execution_count": 6,
   "metadata": {},
   "outputs": [],
   "source": [
    "# Plot formatting\n",
    "axis_label_fontsize=24\n"
   ]
  },
  {
   "cell_type": "code",
   "execution_count": 7,
   "metadata": {},
   "outputs": [],
   "source": [
    "lightsOffEp = lightsOffSec / epochLength\n",
    "lightsOnEp = lightsOnSec / epochLength\n",
    "\n",
    "birds = ['Bird 1', 'Bird 2', 'Bird 3', 'Bird 4', 'Bird 5']\n",
    "\n",
    "epochLengthPts = epochLength*sr\n",
    "\n",
    "nStages = len(stagesSleep)"
   ]
  },
  {
   "cell_type": "markdown",
   "metadata": {},
   "source": [
    "### color for each bird"
   ]
  },
  {
   "cell_type": "code",
   "execution_count": 8,
   "metadata": {},
   "outputs": [
    {
     "data": {
      "image/png": "[encoded data removed]",
      "text/plain": [
       "<Figure size 360x72 with 1 Axes>"
      ]
     },
     "metadata": {},
     "output_type": "display_data"
    }
   ],
   "source": [
    "colors_birds = [np.repeat(.4, 3),\n",
    "                np.repeat(.5, 3),\n",
    "                np.repeat(.6, 3),\n",
    "                np.repeat(.7, 3),\n",
    "                np.repeat(.8, 3)]\n",
    "\n",
    "sns.palplot(colors_birds)"
   ]
  },
  {
   "cell_type": "markdown",
   "metadata": {},
   "source": [
    "# Load scores data from pre-formatted csv"
   ]
  },
  {
   "cell_type": "code",
   "execution_count": 9,
   "metadata": {},
   "outputs": [],
   "source": [
    "AllScores = {}\n",
    "for b_name in birds:\n",
    "    scores_file = formatted_scores_path + 'All_scores_' + b_name + '.csv'\n",
    "    scores = pd.read_csv(scores_file, index_col=0)\n",
    "    AllScores[b_name] = scores"
   ]
  },
  {
   "cell_type": "markdown",
   "metadata": {},
   "source": [
    "## Get lights on/off times"
   ]
  },
  {
   "cell_type": "code",
   "execution_count": 10,
   "metadata": {},
   "outputs": [],
   "source": [
    "lightsOffDatetime = np.array([], dtype='datetime64')\n",
    "lightsOnDatetime = np.array([], dtype='datetime64')\n",
    "\n",
    "for b_num, b_name in enumerate(birds):\n",
    "\n",
    "    # Calc lights off & on using datetime formats\n",
    "    data = AllScores[b_name]\n",
    "    startDatetime = np.datetime64(data.index[0])\n",
    "    lightsOffTimedelta = lightsOffSec[b_num].astype('timedelta64[s]')\n",
    "    lightsOffDatetime = np.append(lightsOffDatetime, startDatetime + lightsOffTimedelta)\n",
    "    lightsOnTimedelta = lightsOnSec[b_num].astype('timedelta64[s]')\n",
    "    lightsOnDatetime = np.append(lightsOnDatetime, startDatetime + lightsOnTimedelta)\n",
    "\n",
    "# Get time of day for lights on and off\n",
    "lightsOffTime = lightsOffDatetime.astype('datetime64[s]') - lightsOffDatetime.astype('datetime64[D]')\n",
    "lightsOnTime  = lightsOnDatetime.astype('datetime64[s]')  - lightsOnDatetime.astype('datetime64[D]')"
   ]
  },
  {
   "cell_type": "markdown",
   "metadata": {},
   "source": [
    "# Define functions"
   ]
  },
  {
   "cell_type": "markdown",
   "metadata": {},
   "source": [
    "## loadExcelNotes"
   ]
  },
  {
   "cell_type": "code",
   "execution_count": 11,
   "metadata": {},
   "outputs": [],
   "source": [
    "def loadExcelNotes(bird_num):\n",
    "    bird_name = 'Bird ' + str(bird_num+1)\n",
    "    video_file = birdPaths[bird_num] + video_excel_files[bird_num]\n",
    "    scores = AllScores[bird_name]\n",
    "    nSheets = all_nSheets[bird_num]\n",
    "\n",
    "    # Get sheet names\n",
    "    excel_file = pd.ExcelFile(video_file)\n",
    "    sheet_names = excel_file.sheet_names \n",
    "\n",
    "    # Go through all sheets and read data\n",
    "    Notes = pd.DataFrame([], columns=['Time', 'Notes', 'Recording time'])\n",
    "    for s in range(nSheets):\n",
    "        video_data = pd.read_excel(video_file, sheet_names[s], skiprows=[0,1,3])\n",
    "\n",
    "        datetime_columns = [x for x in video_data.columns if 'TIME' in x]\n",
    "        notes_columns = [x for x in video_data.columns if 'Unnamed' in x]\n",
    "        rec_time_columns = [x for x in video_data.columns if 'HOURS' in x]\n",
    "\n",
    "        for n, col in enumerate(datetime_columns):\n",
    "            tmp_notes = video_data[notes_columns[n]]\n",
    "            tmp_datetimes = video_data[col]\n",
    "            tmp_rec_times = video_data[rec_time_columns[n]]\n",
    "            tmp_df = pd.DataFrame({'Time': tmp_datetimes, 'Notes': tmp_notes, 'Recording time': tmp_rec_times})\n",
    "            Notes = Notes.append(tmp_df)\n",
    "            \n",
    "    ### Convert time of day to datetime ###\n",
    "    # Get days of recording\n",
    "    start_datetime = np.datetime64(scores.index.values[0]) - np.timedelta64(6, 's')\n",
    "\n",
    "    start_day = start_datetime.astype('datetime64[D]')\n",
    "    second_day = start_day + np.timedelta64(1, 'D')\n",
    "\n",
    "    # Find midnight\n",
    "\n",
    "    video_data_times = Notes['Time'].values\n",
    "    ind_midnight = np.where(video_data_times.astype('str') == '1900-01-01 00:00:00')[0][0]\n",
    "\n",
    "    datetimes = np.zeros_like(Notes['Time'].values)\n",
    "\n",
    "    # have to do this in a for-loop because the native datetime formats won't \n",
    "    # convert to each other in this instance unless it's one by one\n",
    "    for n, t in enumerate(Notes['Time'].values):   \n",
    "        if not (str(t)=='nan')|(str(t)=='NaT'):\n",
    "            if type(t) == datetime.datetime:\n",
    "                time_of_day = pd.Timedelta(str(t.time()))\n",
    "            elif type(t) == datetime.time:\n",
    "                time_of_day = pd.Timedelta(str(t))\n",
    "            elif type(t) == pd._libs.tslibs.timestamps.Timestamp:\n",
    "                time_of_day = pd.Timedelta(str(t.time()))\n",
    "            else:\n",
    "                print('time format not recognized:', n, t)\n",
    "                time_of_day = str(t)\n",
    "\n",
    "\n",
    "        if n < ind_midnight:\n",
    "            datetimes[n] = time_of_day + start_day\n",
    "        else:\n",
    "            datetimes[n] = time_of_day + second_day\n",
    "\n",
    "    Notes['Datetime'] = datetimes\n",
    "    \n",
    "    ### Drop rows without a note ###\n",
    "\n",
    "    Notes = Notes.dropna()\n",
    "\n",
    "    # Reindex\n",
    "    Notes = Notes.reset_index()\n",
    "\n",
    "    ### Add columns for Score and Score datetimes ###\n",
    "\n",
    "    arf_datetimes = scores.index.values.astype('datetime64')\n",
    "\n",
    "    excel_datetimes = Notes['Datetime'].values.astype('datetime64[s]')\n",
    "\n",
    "    ### Align excel-derived datetimes with arf-derived datetimes ###\n",
    "\n",
    "    score_datetimes = list(np.zeros(len(excel_datetimes)))\n",
    "    scores_column   = list(np.zeros(len(excel_datetimes)))\n",
    "\n",
    "    for n, timestamp in enumerate(excel_datetimes):\n",
    "        ind = np.where(arf_datetimes >= timestamp)[0]\n",
    "\n",
    "        if ind.size > 0:\n",
    "            ind = ind[0]\n",
    "            score_datetimes[n] = arf_datetimes[ind]\n",
    "            scores_column[n] = scores['Label'].iloc[ind]\n",
    "\n",
    "    # Add to dataframe\n",
    "    Notes['Score datetimes'] = score_datetimes\n",
    "    Notes['Score'] = scores_column\n",
    "    \n",
    "    return(Notes)"
   ]
  },
  {
   "cell_type": "markdown",
   "metadata": {},
   "source": [
    "## assignArrowNotes"
   ]
  },
  {
   "cell_type": "code",
   "execution_count": 12,
   "metadata": {},
   "outputs": [],
   "source": [
    "def assignArrowNotes(bird_num):\n",
    "    bird_name = 'Bird ' + str(bird_num+1)\n",
    "    #print(bird_name)\n",
    "    Notes = AllNotes[bird_name].copy()\n",
    "\n",
    "    arrowshaft_inds = np.where((Notes['Notes']=='|') | (Notes['Notes']=='v'))[0]\n",
    "\n",
    "    if arrowshaft_inds.size > 0:\n",
    "        for n, ind in enumerate(arrowshaft_inds):\n",
    "            index_Notes = Notes.index[ind]\n",
    "            if index_Notes-1 in Notes.index:\n",
    "                # Change note to the one above the arrow\n",
    "                new_note = Notes['Notes'].loc[index_Notes-1]\n",
    "                #print(new_note)\n",
    "                Notes['Notes'][index_Notes] = new_note\n",
    "            else:\n",
    "                print('error: no note prior to the arrow?')\n",
    "                \n",
    "    return(Notes)"
   ]
  },
  {
   "cell_type": "markdown",
   "metadata": {},
   "source": [
    "## categorizeNotes"
   ]
  },
  {
   "cell_type": "code",
   "execution_count": 13,
   "metadata": {},
   "outputs": [],
   "source": [
    "def categorizeNotes(bird_num):\n",
    "    \n",
    "    bird_name = 'Bird ' + str(bird_num+1)\n",
    "    sleep_Notes = AllSleep_Notes[bird_name]\n",
    "\n",
    "    ## Get a list of all unique notes\n",
    "    unique_notes = np.unique(sleep_Notes['Notes'])\n",
    "\n",
    "    ## Categorize notes (e.g. small twitches, large twitches, head droop, beak moving, etc)\n",
    "\n",
    "    labels_twitching = [x for x in unique_notes if ('twitch' in x)|('ttwich' in x)|('twtich' in x)]\n",
    "    labels_eye_movements = [x for x in unique_notes if ('eye movement' in x)|('eye movemetns' in x)|('eyes moving' in x)]\n",
    "    labels_beak_movement = [x for x in unique_notes if ('beak moving' in x)|('beak movement' in x)|('call' in x)|('moving beak' in x)|('chewing' in x)|('yawn' in x)]\n",
    "    labels_drooping = [x for x in unique_notes if ('moved' in x)|('tilt' in x)|('droop' in x)|('dropping' in x)]\n",
    "    labels_shifting = [x for x in unique_notes if ('shift' in x)|('changed position' in x)|('changing position' in x)|('change in position' in x)|('moving' in x)|('movement' in x)|('raising head' in x)|('flexing head' in x)]\n",
    "    labels_fluffing = [x for x in unique_notes if ('fluffing' in x)|('ruffling' in x)|('ruflling' in x)|('fluffling' in x)|('puffing' in x)]\n",
    "    labels_eye_openings  = [x for x in unique_notes if ('eye briefly opened' in x)|('eyes briefly opened' in x)|('eye opened briefly' in x)|('brief eye opening' in x)|('closing' in x)]\n",
    "\n",
    "    category = []\n",
    "\n",
    "    for n,note in enumerate(sleep_Notes['Notes'].values):\n",
    "        if note in labels_eye_movements:\n",
    "            category.append('Eye movement')\n",
    "        elif note in labels_beak_movement:\n",
    "            category.append('Beak movement')\n",
    "        elif note in labels_twitching:\n",
    "            category.append('Twitch')\n",
    "        elif note in labels_drooping:\n",
    "            category.append('Drooping')\n",
    "        elif note in labels_shifting:\n",
    "            category.append('Shifting')\n",
    "        elif note in labels_fluffing:\n",
    "            category.append('Fluffing')\n",
    "        elif note in labels_eye_openings:\n",
    "            category.append('Brief eye openings')\n",
    "        else:\n",
    "            category.append('Unclassified: ' + note)\n",
    "\n",
    "    sleep_Notes['Category'] = category\n",
    "    \n",
    "    return(sleep_Notes)"
   ]
  },
  {
   "cell_type": "markdown",
   "metadata": {},
   "source": [
    "## summaryDataframe"
   ]
  },
  {
   "cell_type": "code",
   "execution_count": 14,
   "metadata": {},
   "outputs": [],
   "source": [
    "def summaryDataframe(category):\n",
    "    ## Create a summary dataframe of number of category events by stage\n",
    "\n",
    "    allCategory_by_Stage = pd.DataFrame([], index=stage_abbr)\n",
    "\n",
    "    for bird_num, bird_name in enumerate(birds):\n",
    "        bird_name = 'Bird ' + str(bird_num+1)\n",
    "        sleep_Notes = AllSleep_Notes[bird_name]\n",
    "        category_Notes = sleep_Notes[sleep_Notes['Category']==category]\n",
    "\n",
    "        if category_Notes.size > 0:\n",
    "            category_Stages = category_Notes['Score'].value_counts(sort=False)\n",
    "            allCategory_by_Stage[bird_name] = category_Stages\n",
    "\n",
    "    allCategory_by_Stage = allCategory_by_Stage.sort_index().fillna(0)\n",
    "    totals = allCategory_by_Stage.sum()\n",
    "    \n",
    "    return(allCategory_by_Stage)"
   ]
  },
  {
   "cell_type": "markdown",
   "metadata": {},
   "source": [
    "## plotEventsByStage"
   ]
  },
  {
   "cell_type": "code",
   "execution_count": 15,
   "metadata": {},
   "outputs": [],
   "source": [
    "def plotEventsByStage(category, summary_dataframe):\n",
    "    \n",
    "    plt.figure(figsize=(8,4.5))\n",
    "    \n",
    "    # First plot the summary bars for each stage\n",
    "    for n,st in enumerate(stage_abbr):\n",
    "        stage_color = colors_to_plot[n]\n",
    "\n",
    "        average = summary_dataframe.loc[st].mean()\n",
    "        plt.bar(n, average, width=1, color='none', edgecolor=stage_color, linewidth=4)\n",
    "    \n",
    "    # Then plot a line linking all the datapoints for each individual bird\n",
    "    birds_to_plot = summary_dataframe.columns\n",
    "    for bird in birds_to_plot:\n",
    "        bird_num = int(bird[5]) - 1\n",
    "        bird_color = colors_birds[bird_num]\n",
    "        plt.plot(range(len(stage_abbr)), summary_dataframe[bird].loc[stage_abbr],\n",
    "                 '-o', color=bird_color, alpha=.7)\n",
    "            \n",
    "    # xlabels\n",
    "    plt.xticks(np.arange(0,n+1), stage_names, fontsize=20, fontweight='bold');\n",
    "    ax = plt.gca()\n",
    "    for xtick, color in zip(ax.get_xticklabels(), colors_to_plot):\n",
    "        xtick.set_color(color)\n",
    "\n",
    "    # other formatting\n",
    "    plt.xlim(-0.7, n+.7)\n",
    "    plt.ylim(-0.02*summary_dataframe.max().max(), 1.1*summary_dataframe.max().max())\n",
    "    \n",
    "    plt.ylabel('Number of events', fontsize=16)\n",
    "    \n",
    "    plt.title(category + \" | n = \" + str(len(summary_dataframe.columns)) + ' birds',\n",
    "             fontsize=20)"
   ]
  },
  {
   "cell_type": "markdown",
   "metadata": {},
   "source": [
    "# Run functions"
   ]
  },
  {
   "cell_type": "markdown",
   "metadata": {},
   "source": [
    "## Load data and categorize"
   ]
  },
  {
   "cell_type": "markdown",
   "metadata": {},
   "source": [
    "### Sheet names for each bird"
   ]
  },
  {
   "cell_type": "code",
   "execution_count": 40,
   "metadata": {},
   "outputs": [],
   "source": [
    "video_excel_files = ['Excel final scores/BudgieFemale_green1_VideoScoring.xlsx',\n",
    "                     'BudgieMale_yellow1_VideoScoring.xlsx',\n",
    "                     'BudgieFemale_white1_VideoScoring.xlsx',\n",
    "                     'BudgieMale_yellow2_VideoScoring.xlsx',\n",
    "                     'BudgieFemale_green2_VideoScoring.xlsx']\n",
    "all_nSheets = [1, 2, 1, 1, 1]"
   ]
  },
  {
   "cell_type": "markdown",
   "metadata": {},
   "source": [
    "### Columns to import: datetime + notes from video, datetime + scores from stages"
   ]
  },
  {
   "cell_type": "code",
   "execution_count": 41,
   "metadata": {},
   "outputs": [],
   "source": [
    "AllNotes = {}\n",
    "\n",
    "for b_num, b_name in enumerate(birds):\n",
    "    Notes = loadExcelNotes(b_num)\n",
    "    AllNotes[b_name] = Notes"
   ]
  },
  {
   "cell_type": "markdown",
   "metadata": {},
   "source": [
    "### Assign \"arrow\" notes ( | and v) to a label"
   ]
  },
  {
   "cell_type": "code",
   "execution_count": 42,
   "metadata": {},
   "outputs": [
    {
     "name": "stderr",
     "output_type": "stream",
     "text": [
      "/Users/svcanavan/anaconda3/lib/python3.7/site-packages/ipykernel_launcher.py:15: SettingWithCopyWarning: \n",
      "A value is trying to be set on a copy of a slice from a DataFrame\n",
      "\n",
      "See the caveats in the documentation: http://pandas.pydata.org/pandas-docs/stable/user_guide/indexing.html#returning-a-view-versus-a-copy\n",
      "  from ipykernel import kernelapp as app\n"
     ]
    }
   ],
   "source": [
    "AllSleep_Notes = {}\n",
    "\n",
    "for b_num, b_name in enumerate(birds):\n",
    "    Notes = assignArrowNotes(b_num)\n",
    "    AllNotes[b_name] = Notes\n",
    "    \n",
    "    Notes = AllNotes[b_name].copy()\n",
    "    \n",
    "    AllSleep_Notes[b_name] = Notes\n",
    "    "
   ]
  },
  {
   "cell_type": "markdown",
   "metadata": {},
   "source": [
    "### Categorize notes "
   ]
  },
  {
   "cell_type": "code",
   "execution_count": 43,
   "metadata": {},
   "outputs": [
    {
     "name": "stdout",
     "output_type": "stream",
     "text": [
      "###### Bird 1 ######\n",
      "Twitch                                                                  360\n",
      "Beak movement                                                           206\n",
      "Eye movement                                                             54\n",
      "Unclassified: grooming                                                   31\n",
      "Shifting                                                                 28\n",
      "                                                                       ... \n",
      "Unclassified: perching, pecking                                           1\n",
      "Unclassified: returned to perch                                           1\n",
      "Unclassified: possbile unihem sleep - L eye closed more consistantly      1\n",
      "Unclassified: pecking at mirror, turning around                           1\n",
      "Unclassified: R eye open                                                  1\n",
      "Name: Category, Length: 70, dtype: int64\n",
      "###### Bird 2 ######\n",
      "Twitch                                                            695\n",
      "Unclassified: grooming                                             32\n",
      "Shifting                                                           25\n",
      "Eye movement                                                        8\n",
      "Unclassified: eating                                                7\n",
      "Drooping                                                            6\n",
      "Unclassified: exploring                                             5\n",
      "Unclassified: looking around                                        3\n",
      "Beak movement                                                       2\n",
      "Unclassified: LIGHTS OFF                                            2\n",
      "Unclassified: flexing wings                                         2\n",
      "Unclassified:                                                       2\n",
      "Unclassified: interacting w/ mirror                                 2\n",
      "Unclassified: recording ended                                       2\n",
      "Unclassified: grooming, look around                                 1\n",
      "Unclassified: video stopped briefly                                 1\n",
      "Unclassified: on perch, looking around                              1\n",
      "Unclassified: cage door open?                                       1\n",
      "Unclassified: stretching wings                                      1\n",
      "Fluffing                                                            1\n",
      "Unclassified: getting back down                                     1\n",
      "Unclassified: cage door closed                                      1\n",
      "Unclassified: probably asleep but head turned away from camera      1\n",
      "Unclassified: pecking at mirror                                     1\n",
      "Unclassified: VIDEO + EEG starts                                    1\n",
      "Unclassified: exploring wall                                        1\n",
      "Unclassified: climbing down                                         1\n",
      "Unclassified: 20-00 recording started                               1\n",
      "Unclassified: head out of view of camera                            1\n",
      "Unclassified: drinking water                                        1\n",
      "Unclassified: climbing around cage                                  1\n",
      "Unclassified: LIGHTSON                                              1\n",
      "Unclassified: cleaning this bird's cage                             1\n",
      "Unclassified: flying to other side of cage                          1\n",
      "Unclassified: cant' see eye - may be drowsy                         1\n",
      "Unclassified: on wall next to camera - can't see eyes               1\n",
      "Unclassified: drinking?                                             1\n",
      "Unclassified: climbing up                                           1\n",
      "Unclassified: climbing on sleeping wall                             1\n",
      "Unclassified: looking around, stretching                            1\n",
      "Unclassified: climbing up sleeping wall                             1\n",
      "Unclassified: climbing up wall to sleeping position                 1\n",
      "Unclassified: wings flapping                                        1\n",
      "Unclassified: climbing onto sleeping wall                           1\n",
      "Unclassified: recording starting up                                 1\n",
      "Name: Category, dtype: int64\n",
      "###### Bird 3 ######\n",
      "Twitch                                           1015\n",
      "Unclassified: eating                                6\n",
      "Shifting                                            6\n",
      "Unclassified: back to perch                         3\n",
      "Drooping                                            2\n",
      "Unclassified:                                       2\n",
      "Unclassified: down wall                             2\n",
      "Unclassified: climbing up wall                      2\n",
      "Unclassified: looking around                        2\n",
      "Eye movement                                        2\n",
      "Beak movement                                       2\n",
      "Unclassified: climbing wall                         1\n",
      "Unclassified: left eye closed, right eye open       1\n",
      "Unclassified: grooming                              1\n",
      "Unclassified: LIGHTS OFF                            1\n",
      "Unclassified: climbing down                         1\n",
      "Unclassified: camera out of focus                   1\n",
      "Unclassified: out of sight of camera                1\n",
      "Unclassified: vocalizing?                           1\n",
      "Unclassified: at food dish                          1\n",
      "Unclassified: LIGHTS ON                             1\n",
      "Name: Category, dtype: int64\n",
      "###### Bird 4 ######\n",
      "Twitch                                    80\n",
      "Unclassified: grooming                    18\n",
      "Unclassified: climbing across ceiling     16\n",
      "Brief eye openings                        12\n",
      "Drooping                                  10\n",
      "Shifting                                  10\n",
      "Unclassified: eating                       9\n",
      "Unclassified: can't see bird's eye         7\n",
      "Beak movement                              6\n",
      "Unclassified: drinking                     5\n",
      "Unclassified: back to mirror               4\n",
      "Unclassified: interacting with mirror      4\n",
      "Unclassified: can't see eye                3\n",
      "Unclassified: looking around               2\n",
      "Unclassified: back to perch                2\n",
      "Unclassified: climbing on wall             2\n",
      "Unclassified: exploring                    2\n",
      "Unclassified: end of recording             1\n",
      "Unclassified: LIGHTS ON                    1\n",
      "Unclassified:                              1\n",
      "Unclassified: slowly looking around        1\n",
      "Eye movement                               1\n",
      "Unclassified: back to food dish            1\n",
      "Unclassified: playing with keys            1\n",
      "Unclassified: jumping down                 1\n",
      "Unclassified: climbing across wall         1\n",
      "Unclassified: can't see eyes very well     1\n",
      "Unclassified: LIGHTS OFF                   1\n",
      "Unclassified: left eye not visible         1\n",
      "Unclassified: eating millet seed           1\n",
      "Name: Category, dtype: int64\n",
      "###### Bird 5 ######\n",
      "Twitch                                                51\n",
      "Drooping                                               5\n",
      "Unclassified: interacting with mirror                  4\n",
      "Unclassified: eating                                   4\n",
      "Unclassified: exploring                                3\n",
      "Fluffing                                               3\n",
      "Unclassified: interacting w/ mirror                    3\n",
      "Beak movement                                          2\n",
      "Unclassified: looking around                           2\n",
      "Unclassified: scratching                               2\n",
      "Shifting                                               2\n",
      "Unclassified: stretching                               2\n",
      "Unclassified: LIGHTS ON                                1\n",
      "Unclassified: looking at mirror                        1\n",
      "Unclassified: end of recording                         1\n",
      "Unclassified: eye                                      1\n",
      "Unclassified: cannot see eye                           1\n",
      "Unclassified: LIGHTS OFF                               1\n",
      "Unclassified: END OF RECORDING                         1\n",
      "Unclassified: cannot see                               1\n",
      "Unclassified: grooming                                 1\n",
      "Unclassified: left eye closed, can't see right eye     1\n",
      "Name: Category, dtype: int64\n"
     ]
    }
   ],
   "source": [
    "for b_num, b_name in enumerate(birds):\n",
    "    sleep_Notes = categorizeNotes(b_num)\n",
    "    AllSleep_Notes[b_name] = sleep_Notes\n",
    "    \n",
    "    print('###### ' + b_name + ' ######')\n",
    "    print(sleep_Notes['Category'].value_counts())"
   ]
  },
  {
   "cell_type": "code",
   "execution_count": null,
   "metadata": {},
   "outputs": [],
   "source": []
  },
  {
   "cell_type": "markdown",
   "metadata": {},
   "source": [
    "### Plots formatting"
   ]
  },
  {
   "cell_type": "code",
   "execution_count": 44,
   "metadata": {},
   "outputs": [],
   "source": [
    "# Set names and colors for each stage\n",
    "stage_names = ['wake', 'drowsy', 'US', 'SWS', 'IS', 'REM'] \n",
    "stage_abbr  = ['w', 'd', 'u', 's', 'i', 'r']   # this also sets the order in which the bars are plotted\n",
    "color_inds  = [0, 1, 2, 4, 3, 5]\n",
    "colors_to_plot = []\n",
    "for ind in color_inds:\n",
    "    colors_to_plot.append(colors[ind])"
   ]
  },
  {
   "cell_type": "markdown",
   "metadata": {},
   "source": [
    "## Summary bar graphs: all birds"
   ]
  },
  {
   "cell_type": "code",
   "execution_count": 45,
   "metadata": {},
   "outputs": [],
   "source": [
    "categories = ['Eye movement', 'Beak movement', 'Drooping']\n"
   ]
  },
  {
   "cell_type": "code",
   "execution_count": 46,
   "metadata": {},
   "outputs": [
    {
     "data": {
      "image/png": "[encoded data removed]",
      "text/plain": [
       "<Figure size 576x324 with 1 Axes>"
      ]
     },
     "metadata": {},
     "output_type": "display_data"
    },
    {
     "data": {
      "image/png": "[encoded data removed]",
      "text/plain": [
       "<Figure size 576x324 with 1 Axes>"
      ]
     },
     "metadata": {},
     "output_type": "display_data"
    },
    {
     "data": {
      "image/png": "[encoded data removed]",
      "text/plain": [
       "<Figure size 576x324 with 1 Axes>"
      ]
     },
     "metadata": {},
     "output_type": "display_data"
    }
   ],
   "source": [
    "summary_Categories_by_Stage = {}\n",
    "for category in categories:\n",
    "    tmpCategory_by_Stage = summaryDataframe(category)\n",
    "    plotEventsByStage(category, tmpCategory_by_Stage)\n",
    "    \n",
    "    # save to dict\n",
    "    summary_Categories_by_Stage[category] = tmpCategory_by_Stage\n",
    "    \n",
    "    if savePlots:\n",
    "        plt.savefig(saveAsPath + saveAsName + '_' + category + '.pdf')"
   ]
  },
  {
   "cell_type": "markdown",
   "metadata": {},
   "source": [
    "### TOTAL: eye movements"
   ]
  },
  {
   "cell_type": "code",
   "execution_count": 47,
   "metadata": {},
   "outputs": [
    {
     "data": {
      "text/html": [
       "<div>\n",
       "<style scoped>\n",
       "    .dataframe tbody tr th:only-of-type {\n",
       "        vertical-align: middle;\n",
       "    }\n",
       "\n",
       "    .dataframe tbody tr th {\n",
       "        vertical-align: top;\n",
       "    }\n",
       "\n",
       "    .dataframe thead th {\n",
       "        text-align: right;\n",
       "    }\n",
       "</style>\n",
       "<table border=\"1\" class=\"dataframe\">\n",
       "  <thead>\n",
       "    <tr style=\"text-align: right;\">\n",
       "      <th></th>\n",
       "      <th>Bird 1</th>\n",
       "      <th>Bird 2</th>\n",
       "      <th>Bird 3</th>\n",
       "      <th>Bird 4</th>\n",
       "    </tr>\n",
       "  </thead>\n",
       "  <tbody>\n",
       "    <tr>\n",
       "      <td>d</td>\n",
       "      <td>3.0</td>\n",
       "      <td>0.0</td>\n",
       "      <td>0.0</td>\n",
       "      <td>1.0</td>\n",
       "    </tr>\n",
       "    <tr>\n",
       "      <td>i</td>\n",
       "      <td>6.0</td>\n",
       "      <td>4.0</td>\n",
       "      <td>1.0</td>\n",
       "      <td>0.0</td>\n",
       "    </tr>\n",
       "    <tr>\n",
       "      <td>r</td>\n",
       "      <td>42.0</td>\n",
       "      <td>1.0</td>\n",
       "      <td>0.0</td>\n",
       "      <td>0.0</td>\n",
       "    </tr>\n",
       "    <tr>\n",
       "      <td>s</td>\n",
       "      <td>3.0</td>\n",
       "      <td>3.0</td>\n",
       "      <td>0.0</td>\n",
       "      <td>0.0</td>\n",
       "    </tr>\n",
       "    <tr>\n",
       "      <td>u</td>\n",
       "      <td>0.0</td>\n",
       "      <td>0.0</td>\n",
       "      <td>0.0</td>\n",
       "      <td>0.0</td>\n",
       "    </tr>\n",
       "    <tr>\n",
       "      <td>w</td>\n",
       "      <td>0.0</td>\n",
       "      <td>0.0</td>\n",
       "      <td>0.0</td>\n",
       "      <td>0.0</td>\n",
       "    </tr>\n",
       "  </tbody>\n",
       "</table>\n",
       "</div>"
      ],
      "text/plain": [
       "   Bird 1  Bird 2  Bird 3  Bird 4\n",
       "d     3.0     0.0     0.0     1.0\n",
       "i     6.0     4.0     1.0     0.0\n",
       "r    42.0     1.0     0.0     0.0\n",
       "s     3.0     3.0     0.0     0.0\n",
       "u     0.0     0.0     0.0     0.0\n",
       "w     0.0     0.0     0.0     0.0"
      ]
     },
     "execution_count": 47,
     "metadata": {},
     "output_type": "execute_result"
    }
   ],
   "source": [
    "summary_Categories_by_Stage['Eye movement']"
   ]
  },
  {
   "cell_type": "code",
   "execution_count": 48,
   "metadata": {},
   "outputs": [
    {
     "data": {
      "text/plain": [
       "Bird 1    54.0\n",
       "Bird 2     8.0\n",
       "Bird 3     1.0\n",
       "Bird 4     1.0\n",
       "dtype: float64"
      ]
     },
     "execution_count": 48,
     "metadata": {},
     "output_type": "execute_result"
    }
   ],
   "source": [
    "summary_Categories_by_Stage['Eye movement'].sum()"
   ]
  },
  {
   "cell_type": "markdown",
   "metadata": {},
   "source": [
    "### TOTAL: head drooping"
   ]
  },
  {
   "cell_type": "code",
   "execution_count": 49,
   "metadata": {},
   "outputs": [
    {
     "data": {
      "text/html": [
       "<div>\n",
       "<style scoped>\n",
       "    .dataframe tbody tr th:only-of-type {\n",
       "        vertical-align: middle;\n",
       "    }\n",
       "\n",
       "    .dataframe tbody tr th {\n",
       "        vertical-align: top;\n",
       "    }\n",
       "\n",
       "    .dataframe thead th {\n",
       "        text-align: right;\n",
       "    }\n",
       "</style>\n",
       "<table border=\"1\" class=\"dataframe\">\n",
       "  <thead>\n",
       "    <tr style=\"text-align: right;\">\n",
       "      <th></th>\n",
       "      <th>Bird 1</th>\n",
       "      <th>Bird 2</th>\n",
       "      <th>Bird 3</th>\n",
       "      <th>Bird 4</th>\n",
       "      <th>Bird 5</th>\n",
       "    </tr>\n",
       "  </thead>\n",
       "  <tbody>\n",
       "    <tr>\n",
       "      <td>d</td>\n",
       "      <td>5.0</td>\n",
       "      <td>4.0</td>\n",
       "      <td>2.0</td>\n",
       "      <td>5.0</td>\n",
       "      <td>0.0</td>\n",
       "    </tr>\n",
       "    <tr>\n",
       "      <td>i</td>\n",
       "      <td>5.0</td>\n",
       "      <td>0.0</td>\n",
       "      <td>0.0</td>\n",
       "      <td>1.0</td>\n",
       "      <td>1.0</td>\n",
       "    </tr>\n",
       "    <tr>\n",
       "      <td>r</td>\n",
       "      <td>9.0</td>\n",
       "      <td>1.0</td>\n",
       "      <td>0.0</td>\n",
       "      <td>2.0</td>\n",
       "      <td>0.0</td>\n",
       "    </tr>\n",
       "    <tr>\n",
       "      <td>s</td>\n",
       "      <td>1.0</td>\n",
       "      <td>0.0</td>\n",
       "      <td>0.0</td>\n",
       "      <td>1.0</td>\n",
       "      <td>0.0</td>\n",
       "    </tr>\n",
       "    <tr>\n",
       "      <td>u</td>\n",
       "      <td>0.0</td>\n",
       "      <td>0.0</td>\n",
       "      <td>0.0</td>\n",
       "      <td>0.0</td>\n",
       "      <td>0.0</td>\n",
       "    </tr>\n",
       "    <tr>\n",
       "      <td>w</td>\n",
       "      <td>0.0</td>\n",
       "      <td>1.0</td>\n",
       "      <td>0.0</td>\n",
       "      <td>1.0</td>\n",
       "      <td>4.0</td>\n",
       "    </tr>\n",
       "  </tbody>\n",
       "</table>\n",
       "</div>"
      ],
      "text/plain": [
       "   Bird 1  Bird 2  Bird 3  Bird 4  Bird 5\n",
       "d     5.0     4.0     2.0     5.0     0.0\n",
       "i     5.0     0.0     0.0     1.0     1.0\n",
       "r     9.0     1.0     0.0     2.0     0.0\n",
       "s     1.0     0.0     0.0     1.0     0.0\n",
       "u     0.0     0.0     0.0     0.0     0.0\n",
       "w     0.0     1.0     0.0     1.0     4.0"
      ]
     },
     "execution_count": 49,
     "metadata": {},
     "output_type": "execute_result"
    }
   ],
   "source": [
    "summary_Categories_by_Stage['Drooping']"
   ]
  },
  {
   "cell_type": "code",
   "execution_count": 50,
   "metadata": {},
   "outputs": [
    {
     "name": "stdout",
     "output_type": "stream",
     "text": [
      "drooping episodes per bird\n"
     ]
    },
    {
     "data": {
      "text/plain": [
       "Bird 1    20.0\n",
       "Bird 2     6.0\n",
       "Bird 3     2.0\n",
       "Bird 4    10.0\n",
       "Bird 5     5.0\n",
       "dtype: float64"
      ]
     },
     "execution_count": 50,
     "metadata": {},
     "output_type": "execute_result"
    }
   ],
   "source": [
    "test = summary_Categories_by_Stage['Drooping']\n",
    "\n",
    "print('drooping episodes per bird')\n",
    "test.sum()"
   ]
  },
  {
   "cell_type": "code",
   "execution_count": 51,
   "metadata": {},
   "outputs": [
    {
     "name": "stdout",
     "output_type": "stream",
     "text": [
      "mean drooping episodes per bird:\n",
      "8.6\n",
      "SEM: 3.1240998703626617\n"
     ]
    }
   ],
   "source": [
    "print('mean drooping episodes per bird:')\n",
    "print(test.sum().mean())\n",
    "print('SEM:', test.sum().std()/np.sqrt(len(test.sum())))"
   ]
  },
  {
   "cell_type": "code",
   "execution_count": null,
   "metadata": {},
   "outputs": [],
   "source": []
  },
  {
   "cell_type": "code",
   "execution_count": 52,
   "metadata": {},
   "outputs": [
    {
     "data": {
      "text/html": [
       "<div>\n",
       "<style scoped>\n",
       "    .dataframe tbody tr th:only-of-type {\n",
       "        vertical-align: middle;\n",
       "    }\n",
       "\n",
       "    .dataframe tbody tr th {\n",
       "        vertical-align: top;\n",
       "    }\n",
       "\n",
       "    .dataframe thead th {\n",
       "        text-align: right;\n",
       "    }\n",
       "</style>\n",
       "<table border=\"1\" class=\"dataframe\">\n",
       "  <thead>\n",
       "    <tr style=\"text-align: right;\">\n",
       "      <th></th>\n",
       "      <th>Bird 1</th>\n",
       "      <th>Bird 2</th>\n",
       "      <th>Bird 3</th>\n",
       "      <th>Bird 4</th>\n",
       "      <th>Bird 5</th>\n",
       "    </tr>\n",
       "  </thead>\n",
       "  <tbody>\n",
       "    <tr>\n",
       "      <td>d</td>\n",
       "      <td>0.25</td>\n",
       "      <td>0.666667</td>\n",
       "      <td>1.0</td>\n",
       "      <td>0.5</td>\n",
       "      <td>0.0</td>\n",
       "    </tr>\n",
       "    <tr>\n",
       "      <td>i</td>\n",
       "      <td>0.25</td>\n",
       "      <td>0.000000</td>\n",
       "      <td>0.0</td>\n",
       "      <td>0.1</td>\n",
       "      <td>0.2</td>\n",
       "    </tr>\n",
       "    <tr>\n",
       "      <td>r</td>\n",
       "      <td>0.45</td>\n",
       "      <td>0.166667</td>\n",
       "      <td>0.0</td>\n",
       "      <td>0.2</td>\n",
       "      <td>0.0</td>\n",
       "    </tr>\n",
       "    <tr>\n",
       "      <td>s</td>\n",
       "      <td>0.05</td>\n",
       "      <td>0.000000</td>\n",
       "      <td>0.0</td>\n",
       "      <td>0.1</td>\n",
       "      <td>0.0</td>\n",
       "    </tr>\n",
       "    <tr>\n",
       "      <td>u</td>\n",
       "      <td>0.00</td>\n",
       "      <td>0.000000</td>\n",
       "      <td>0.0</td>\n",
       "      <td>0.0</td>\n",
       "      <td>0.0</td>\n",
       "    </tr>\n",
       "    <tr>\n",
       "      <td>w</td>\n",
       "      <td>0.00</td>\n",
       "      <td>0.166667</td>\n",
       "      <td>0.0</td>\n",
       "      <td>0.1</td>\n",
       "      <td>0.8</td>\n",
       "    </tr>\n",
       "  </tbody>\n",
       "</table>\n",
       "</div>"
      ],
      "text/plain": [
       "   Bird 1    Bird 2  Bird 3  Bird 4  Bird 5\n",
       "d    0.25  0.666667     1.0     0.5     0.0\n",
       "i    0.25  0.000000     0.0     0.1     0.2\n",
       "r    0.45  0.166667     0.0     0.2     0.0\n",
       "s    0.05  0.000000     0.0     0.1     0.0\n",
       "u    0.00  0.000000     0.0     0.0     0.0\n",
       "w    0.00  0.166667     0.0     0.1     0.8"
      ]
     },
     "execution_count": 52,
     "metadata": {},
     "output_type": "execute_result"
    }
   ],
   "source": [
    "test/test.sum()"
   ]
  },
  {
   "cell_type": "code",
   "execution_count": 53,
   "metadata": {},
   "outputs": [
    {
     "data": {
      "text/plain": [
       "d    0.483333\n",
       "i    0.110000\n",
       "r    0.163333\n",
       "s    0.030000\n",
       "u    0.000000\n",
       "w    0.213333\n",
       "dtype: float64"
      ]
     },
     "execution_count": 53,
     "metadata": {},
     "output_type": "execute_result"
    }
   ],
   "source": [
    "test_perc = test/test.sum()\n",
    "test_perc.mean(axis=1)"
   ]
  },
  {
   "cell_type": "code",
   "execution_count": 54,
   "metadata": {},
   "outputs": [
    {
     "name": "stdout",
     "output_type": "stream",
     "text": [
      "SEMs\n"
     ]
    },
    {
     "data": {
      "text/plain": [
       "d    0.171594\n",
       "i    0.050990\n",
       "r    0.082731\n",
       "s    0.020000\n",
       "u    0.000000\n",
       "w    0.150037\n",
       "dtype: float64"
      ]
     },
     "execution_count": 54,
     "metadata": {},
     "output_type": "execute_result"
    }
   ],
   "source": [
    "print('SEMs')\n",
    "test_perc.std(axis=1)/np.sqrt(len(test.sum()))"
   ]
  },
  {
   "cell_type": "code",
   "execution_count": 55,
   "metadata": {},
   "outputs": [
    {
     "data": {
      "text/html": [
       "<div>\n",
       "<style scoped>\n",
       "    .dataframe tbody tr th:only-of-type {\n",
       "        vertical-align: middle;\n",
       "    }\n",
       "\n",
       "    .dataframe tbody tr th {\n",
       "        vertical-align: top;\n",
       "    }\n",
       "\n",
       "    .dataframe thead th {\n",
       "        text-align: right;\n",
       "    }\n",
       "</style>\n",
       "<table border=\"1\" class=\"dataframe\">\n",
       "  <thead>\n",
       "    <tr style=\"text-align: right;\">\n",
       "      <th></th>\n",
       "      <th>Bird 1</th>\n",
       "      <th>Bird 2</th>\n",
       "      <th>Bird 3</th>\n",
       "      <th>Bird 4</th>\n",
       "      <th>Bird 5</th>\n",
       "    </tr>\n",
       "  </thead>\n",
       "  <tbody>\n",
       "    <tr>\n",
       "      <td>i</td>\n",
       "      <td>5.0</td>\n",
       "      <td>0.0</td>\n",
       "      <td>0.0</td>\n",
       "      <td>1.0</td>\n",
       "      <td>1.0</td>\n",
       "    </tr>\n",
       "    <tr>\n",
       "      <td>s</td>\n",
       "      <td>1.0</td>\n",
       "      <td>0.0</td>\n",
       "      <td>0.0</td>\n",
       "      <td>1.0</td>\n",
       "      <td>0.0</td>\n",
       "    </tr>\n",
       "    <tr>\n",
       "      <td>r</td>\n",
       "      <td>9.0</td>\n",
       "      <td>1.0</td>\n",
       "      <td>0.0</td>\n",
       "      <td>2.0</td>\n",
       "      <td>0.0</td>\n",
       "    </tr>\n",
       "  </tbody>\n",
       "</table>\n",
       "</div>"
      ],
      "text/plain": [
       "   Bird 1  Bird 2  Bird 3  Bird 4  Bird 5\n",
       "i     5.0     0.0     0.0     1.0     1.0\n",
       "s     1.0     0.0     0.0     1.0     0.0\n",
       "r     9.0     1.0     0.0     2.0     0.0"
      ]
     },
     "execution_count": 55,
     "metadata": {},
     "output_type": "execute_result"
    }
   ],
   "source": [
    "# Drooping: sleep only:\n",
    "test = summary_Categories_by_Stage['Drooping'].loc[['i','s','r']]\n",
    "test"
   ]
  },
  {
   "cell_type": "code",
   "execution_count": 56,
   "metadata": {
    "scrolled": true
   },
   "outputs": [
    {
     "data": {
      "text/plain": [
       "i    0.395833\n",
       "s    0.079167\n",
       "r    0.525000\n",
       "dtype: float64"
      ]
     },
     "execution_count": 56,
     "metadata": {},
     "output_type": "execute_result"
    }
   ],
   "source": [
    "test_perc = test/test.sum()\n",
    "test_perc.mean(axis=1)"
   ]
  },
  {
   "cell_type": "code",
   "execution_count": 57,
   "metadata": {
    "scrolled": false
   },
   "outputs": [
    {
     "name": "stdout",
     "output_type": "stream",
     "text": [
      "SEMs\n"
     ]
    },
    {
     "data": {
      "text/plain": [
       "i    0.190941\n",
       "s    0.052836\n",
       "r    0.183938\n",
       "dtype: float64"
      ]
     },
     "execution_count": 57,
     "metadata": {},
     "output_type": "execute_result"
    }
   ],
   "source": [
    "print('SEMs')\n",
    "test_perc.std(axis=1)/np.sqrt(len(test.sum()))"
   ]
  },
  {
   "cell_type": "markdown",
   "metadata": {},
   "source": [
    "### TOTAL: beak movements"
   ]
  },
  {
   "cell_type": "code",
   "execution_count": 58,
   "metadata": {
    "scrolled": true
   },
   "outputs": [
    {
     "data": {
      "text/html": [
       "<div>\n",
       "<style scoped>\n",
       "    .dataframe tbody tr th:only-of-type {\n",
       "        vertical-align: middle;\n",
       "    }\n",
       "\n",
       "    .dataframe tbody tr th {\n",
       "        vertical-align: top;\n",
       "    }\n",
       "\n",
       "    .dataframe thead th {\n",
       "        text-align: right;\n",
       "    }\n",
       "</style>\n",
       "<table border=\"1\" class=\"dataframe\">\n",
       "  <thead>\n",
       "    <tr style=\"text-align: right;\">\n",
       "      <th></th>\n",
       "      <th>Bird 1</th>\n",
       "      <th>Bird 2</th>\n",
       "      <th>Bird 3</th>\n",
       "      <th>Bird 4</th>\n",
       "      <th>Bird 5</th>\n",
       "    </tr>\n",
       "  </thead>\n",
       "  <tbody>\n",
       "    <tr>\n",
       "      <td>d</td>\n",
       "      <td>17.0</td>\n",
       "      <td>0.0</td>\n",
       "      <td>0.0</td>\n",
       "      <td>1.0</td>\n",
       "      <td>0.0</td>\n",
       "    </tr>\n",
       "    <tr>\n",
       "      <td>i</td>\n",
       "      <td>101.0</td>\n",
       "      <td>0.0</td>\n",
       "      <td>0.0</td>\n",
       "      <td>2.0</td>\n",
       "      <td>0.0</td>\n",
       "    </tr>\n",
       "    <tr>\n",
       "      <td>r</td>\n",
       "      <td>37.0</td>\n",
       "      <td>0.0</td>\n",
       "      <td>0.0</td>\n",
       "      <td>0.0</td>\n",
       "      <td>1.0</td>\n",
       "    </tr>\n",
       "    <tr>\n",
       "      <td>s</td>\n",
       "      <td>14.0</td>\n",
       "      <td>0.0</td>\n",
       "      <td>0.0</td>\n",
       "      <td>1.0</td>\n",
       "      <td>0.0</td>\n",
       "    </tr>\n",
       "    <tr>\n",
       "      <td>u</td>\n",
       "      <td>0.0</td>\n",
       "      <td>0.0</td>\n",
       "      <td>0.0</td>\n",
       "      <td>0.0</td>\n",
       "      <td>0.0</td>\n",
       "    </tr>\n",
       "    <tr>\n",
       "      <td>w</td>\n",
       "      <td>36.0</td>\n",
       "      <td>2.0</td>\n",
       "      <td>2.0</td>\n",
       "      <td>2.0</td>\n",
       "      <td>1.0</td>\n",
       "    </tr>\n",
       "  </tbody>\n",
       "</table>\n",
       "</div>"
      ],
      "text/plain": [
       "   Bird 1  Bird 2  Bird 3  Bird 4  Bird 5\n",
       "d    17.0     0.0     0.0     1.0     0.0\n",
       "i   101.0     0.0     0.0     2.0     0.0\n",
       "r    37.0     0.0     0.0     0.0     1.0\n",
       "s    14.0     0.0     0.0     1.0     0.0\n",
       "u     0.0     0.0     0.0     0.0     0.0\n",
       "w    36.0     2.0     2.0     2.0     1.0"
      ]
     },
     "execution_count": 58,
     "metadata": {},
     "output_type": "execute_result"
    }
   ],
   "source": [
    "summary_Categories_by_Stage['Beak movement']"
   ]
  },
  {
   "cell_type": "code",
   "execution_count": 59,
   "metadata": {},
   "outputs": [
    {
     "data": {
      "text/html": [
       "<div>\n",
       "<style scoped>\n",
       "    .dataframe tbody tr th:only-of-type {\n",
       "        vertical-align: middle;\n",
       "    }\n",
       "\n",
       "    .dataframe tbody tr th {\n",
       "        vertical-align: top;\n",
       "    }\n",
       "\n",
       "    .dataframe thead th {\n",
       "        text-align: right;\n",
       "    }\n",
       "</style>\n",
       "<table border=\"1\" class=\"dataframe\">\n",
       "  <thead>\n",
       "    <tr style=\"text-align: right;\">\n",
       "      <th></th>\n",
       "      <th>Bird 1</th>\n",
       "      <th>Bird 2</th>\n",
       "      <th>Bird 3</th>\n",
       "      <th>Bird 4</th>\n",
       "      <th>Bird 5</th>\n",
       "    </tr>\n",
       "  </thead>\n",
       "  <tbody>\n",
       "    <tr>\n",
       "      <td>i</td>\n",
       "      <td>101.0</td>\n",
       "      <td>0.0</td>\n",
       "      <td>0.0</td>\n",
       "      <td>2.0</td>\n",
       "      <td>0.0</td>\n",
       "    </tr>\n",
       "    <tr>\n",
       "      <td>s</td>\n",
       "      <td>14.0</td>\n",
       "      <td>0.0</td>\n",
       "      <td>0.0</td>\n",
       "      <td>1.0</td>\n",
       "      <td>0.0</td>\n",
       "    </tr>\n",
       "    <tr>\n",
       "      <td>r</td>\n",
       "      <td>37.0</td>\n",
       "      <td>0.0</td>\n",
       "      <td>0.0</td>\n",
       "      <td>0.0</td>\n",
       "      <td>1.0</td>\n",
       "    </tr>\n",
       "  </tbody>\n",
       "</table>\n",
       "</div>"
      ],
      "text/plain": [
       "   Bird 1  Bird 2  Bird 3  Bird 4  Bird 5\n",
       "i   101.0     0.0     0.0     2.0     0.0\n",
       "s    14.0     0.0     0.0     1.0     0.0\n",
       "r    37.0     0.0     0.0     0.0     1.0"
      ]
     },
     "execution_count": 59,
     "metadata": {},
     "output_type": "execute_result"
    }
   ],
   "source": [
    "# Drooping: sleep only:\n",
    "test = summary_Categories_by_Stage['Beak movement'].loc[['i','s','r']]\n",
    "test"
   ]
  },
  {
   "cell_type": "code",
   "execution_count": 60,
   "metadata": {
    "scrolled": true
   },
   "outputs": [
    {
     "data": {
      "text/plain": [
       "i    0.443713\n",
       "s    0.141813\n",
       "r    0.414474\n",
       "dtype: float64"
      ]
     },
     "execution_count": 60,
     "metadata": {},
     "output_type": "execute_result"
    }
   ],
   "source": [
    "test_perc = test/test.sum()\n",
    "test_perc.mean(axis=1)"
   ]
  },
  {
   "cell_type": "code",
   "execution_count": 61,
   "metadata": {},
   "outputs": [
    {
     "data": {
      "text/plain": [
       "Bird 1    152.0\n",
       "Bird 2      0.0\n",
       "Bird 3      0.0\n",
       "Bird 4      3.0\n",
       "Bird 5      1.0\n",
       "dtype: float64"
      ]
     },
     "execution_count": 61,
     "metadata": {},
     "output_type": "execute_result"
    }
   ],
   "source": [
    "test.sum()"
   ]
  },
  {
   "cell_type": "markdown",
   "metadata": {},
   "source": [
    "## save to csv"
   ]
  },
  {
   "cell_type": "code",
   "execution_count": 62,
   "metadata": {},
   "outputs": [],
   "source": [
    "if saveData:\n",
    "    for category in categories:\n",
    "        category_by_stage = summary_Categories_by_Stage[category]\n",
    "        category_by_stage.to_csv(saveAsPath + saveAsName + str(category) + '_all.csv')"
   ]
  },
  {
   "cell_type": "markdown",
   "metadata": {},
   "source": [
    "# Look only at beginning of episodes \n",
    "ie don't assign arrows"
   ]
  },
  {
   "cell_type": "code",
   "execution_count": 63,
   "metadata": {},
   "outputs": [],
   "source": [
    "AllNotes = {}\n",
    "\n",
    "for b_num, b_name in enumerate(birds):\n",
    "    Notes = loadExcelNotes(b_num)\n",
    "    AllNotes[b_name] = Notes"
   ]
  },
  {
   "cell_type": "markdown",
   "metadata": {},
   "source": [
    "## Assign \"arrow\" notes ( | and v) to a label"
   ]
  },
  {
   "cell_type": "code",
   "execution_count": 64,
   "metadata": {},
   "outputs": [],
   "source": [
    "AllSleep_Notes = {}\n",
    "\n",
    "for b_num, b_name in enumerate(birds):\n",
    "    #Notes = assignArrowNotes(b_num)\n",
    "    #AllNotes[b_name] = Notes\n",
    "    \n",
    "    Notes = AllNotes[b_name].copy()\n",
    "    \n",
    "    AllSleep_Notes[b_name] = Notes\n",
    "    \n",
    "    # Get only notes during sleep stages\n",
    "    #sleep_Notes = Notes[(Notes['Score'] != 'w') & (Notes['Score'] != ' w')]\n",
    "    #AllSleep_Notes[b_name] = sleep_Notes"
   ]
  },
  {
   "cell_type": "markdown",
   "metadata": {},
   "source": [
    "## Get notes and scores only during nighttime"
   ]
  },
  {
   "cell_type": "markdown",
   "metadata": {},
   "source": [
    "for b_num, b_name in enumerate(birds):    \n",
    "    # scores\n",
    "    bird_scores = AllScores[b_name]\n",
    "    index_datetimes = bird_scores.index.astype('datetime64[ns]')\n",
    "    index_isnight = (index_datetimes >= lightsOffDatetime[b_num]) & (index_datetimes <= lightsOnDatetime[b_num])\n",
    "    AllScores[b_name] = bird_scores[index_isnight]\n",
    "    \n",
    "    # notes\n",
    "    sleep_Notes = AllSleep_Notes[b_name]\n",
    "    index_datetimes = sleep_Notes.index.astype('datetime64[ns]')\n",
    "    index_isnight = (index_datetimes >= lightsOffDatetime[b_num]) & (index_datetimes <= lightsOnDatetime[b_num])\n",
    "    AllSleep_Notes[b_name] = sleep_Notes\n",
    "    "
   ]
  },
  {
   "cell_type": "markdown",
   "metadata": {},
   "source": [
    "## Categorize notes "
   ]
  },
  {
   "cell_type": "code",
   "execution_count": 65,
   "metadata": {},
   "outputs": [
    {
     "name": "stdout",
     "output_type": "stream",
     "text": [
      "###### Bird 1 ######\n",
      "Twitch                                        291\n",
      "Unclassified: |                               165\n",
      "Beak movement                                  85\n",
      "Eye movement                                   54\n",
      "Unclassified: grooming                         31\n",
      "                                             ... \n",
      "Unclassified: LIGHTS ON                         1\n",
      "Unclassified: drinking?                         1\n",
      "Unclassified: L eye drowsy                      1\n",
      "Unclassified: perching, pecking                 1\n",
      "Unclassified: L eye (facing mirror) closed      1\n",
      "Name: Category, Length: 72, dtype: int64\n",
      "###### Bird 2 ######\n",
      "Twitch                                                            669\n",
      "Unclassified: grooming                                             32\n",
      "Unclassified: |                                                    29\n",
      "Shifting                                                           25\n",
      "Unclassified: eating                                                7\n",
      "Drooping                                                            6\n",
      "Unclassified: exploring                                             5\n",
      "Unclassified: looking around                                        3\n",
      "Eye movement                                                        3\n",
      "Unclassified: interacting w/ mirror                                 2\n",
      "Unclassified:                                                       2\n",
      "Unclassified: recording ended                                       2\n",
      "Beak movement                                                       2\n",
      "Unclassified: LIGHTS OFF                                            2\n",
      "Unclassified: flexing wings                                         2\n",
      "Unclassified: v                                                     2\n",
      "Unclassified: probably asleep but head turned away from camera      1\n",
      "Unclassified: cage door closed                                      1\n",
      "Unclassified: exploring wall                                        1\n",
      "Fluffing                                                            1\n",
      "Unclassified: LIGHTSON                                              1\n",
      "Unclassified: climbing onto sleeping wall                           1\n",
      "Unclassified: video stopped briefly                                 1\n",
      "Unclassified: grooming, look around                                 1\n",
      "Unclassified: cage door open?                                       1\n",
      "Unclassified: stretching wings                                      1\n",
      "Unclassified: getting back down                                     1\n",
      "Unclassified: pecking at mirror                                     1\n",
      "Unclassified: VIDEO + EEG starts                                    1\n",
      "Unclassified: on perch, looking around                              1\n",
      "Unclassified: cleaning this bird's cage                             1\n",
      "Unclassified: climbing around cage                                  1\n",
      "Unclassified: flying to other side of cage                          1\n",
      "Unclassified: cant' see eye - may be drowsy                         1\n",
      "Unclassified: on wall next to camera - can't see eyes               1\n",
      "Unclassified: drinking?                                             1\n",
      "Unclassified: climbing up                                           1\n",
      "Unclassified: climbing on sleeping wall                             1\n",
      "Unclassified: looking around, stretching                            1\n",
      "Unclassified: 20-00 recording started                               1\n",
      "Unclassified: climbing up sleeping wall                             1\n",
      "Unclassified: drinking water                                        1\n",
      "Unclassified: climbing up wall to sleeping position                 1\n",
      "Unclassified: wings flapping                                        1\n",
      "Unclassified: climbing down                                         1\n",
      "Unclassified: head out of view of camera                            1\n",
      "Unclassified: recording starting up                                 1\n",
      "Name: Category, dtype: int64\n",
      "###### Bird 3 ######\n",
      "Unclassified: |                                  850\n",
      "Twitch                                           113\n",
      "Unclassified: v                                   52\n",
      "Unclassified: eating                               6\n",
      "Shifting                                           6\n",
      "Unclassified: back to perch                        3\n",
      "Drooping                                           2\n",
      "Unclassified: climbing up wall                     2\n",
      "Unclassified:                                      2\n",
      "Unclassified: down wall                            2\n",
      "Unclassified: looking around                       2\n",
      "Eye movement                                       2\n",
      "Beak movement                                      2\n",
      "Unclassified: left eye closed, right eye open      1\n",
      "Unclassified: grooming                             1\n",
      "Unclassified: LIGHTS OFF                           1\n",
      "Unclassified: climbing down                        1\n",
      "Unclassified: camera out of focus                  1\n",
      "Unclassified: climbing wall                        1\n",
      "Unclassified: vocalizing?                          1\n",
      "Unclassified: out of sight of camera               1\n",
      "Unclassified: at food dish                         1\n",
      "Unclassified: LIGHTS ON                            1\n",
      "Name: Category, dtype: int64\n",
      "###### Bird 4 ######\n",
      "Twitch                                    48\n",
      "Unclassified: |                           30\n",
      "Unclassified: grooming                    18\n",
      "Unclassified: climbing across ceiling     16\n",
      "Brief eye openings                        12\n",
      "Drooping                                  10\n",
      "Shifting                                  10\n",
      "Unclassified: eating                       9\n",
      "Unclassified: can't see bird's eye         7\n",
      "Beak movement                              6\n",
      "Unclassified: drinking                     5\n",
      "Unclassified: back to mirror               4\n",
      "Unclassified: interacting with mirror      4\n",
      "Unclassified: can't see eye                3\n",
      "Unclassified: looking around               2\n",
      "Unclassified: exploring                    2\n",
      "Unclassified: v                            2\n",
      "Unclassified: back to perch                2\n",
      "Unclassified: climbing on wall             2\n",
      "Unclassified: back to food dish            1\n",
      "Unclassified: can't see eyes very well     1\n",
      "Unclassified: climbing across wall         1\n",
      "Unclassified: playing with keys            1\n",
      "Unclassified: slowly looking around        1\n",
      "Eye movement                               1\n",
      "Unclassified: LIGHTS ON                    1\n",
      "Unclassified:                              1\n",
      "Unclassified: end of recording             1\n",
      "Unclassified: jumping down                 1\n",
      "Unclassified: LIGHTS OFF                   1\n",
      "Unclassified: left eye not visible         1\n",
      "Unclassified: eating millet seed           1\n",
      "Name: Category, dtype: int64\n",
      "###### Bird 5 ######\n",
      "Twitch                                                51\n",
      "Drooping                                               5\n",
      "Unclassified: interacting with mirror                  4\n",
      "Unclassified: eating                                   4\n",
      "Unclassified: exploring                                3\n",
      "Fluffing                                               3\n",
      "Unclassified: interacting w/ mirror                    3\n",
      "Beak movement                                          2\n",
      "Unclassified: looking around                           2\n",
      "Unclassified: scratching                               2\n",
      "Shifting                                               2\n",
      "Unclassified: stretching                               2\n",
      "Unclassified: LIGHTS ON                                1\n",
      "Unclassified: looking at mirror                        1\n",
      "Unclassified: end of recording                         1\n",
      "Unclassified: eye                                      1\n",
      "Unclassified: cannot see eye                           1\n",
      "Unclassified: LIGHTS OFF                               1\n",
      "Unclassified: END OF RECORDING                         1\n",
      "Unclassified: cannot see                               1\n",
      "Unclassified: grooming                                 1\n",
      "Unclassified: left eye closed, can't see right eye     1\n",
      "Name: Category, dtype: int64\n"
     ]
    }
   ],
   "source": [
    "for b_num, b_name in enumerate(birds):\n",
    "    sleep_Notes = categorizeNotes(b_num)\n",
    "    AllSleep_Notes[b_name] = sleep_Notes\n",
    "    \n",
    "    print('###### ' + b_name + ' ######')\n",
    "    print(sleep_Notes['Category'].value_counts())"
   ]
  },
  {
   "cell_type": "code",
   "execution_count": null,
   "metadata": {},
   "outputs": [],
   "source": []
  },
  {
   "cell_type": "markdown",
   "metadata": {},
   "source": [
    "## Summary bar graphs: all birds"
   ]
  },
  {
   "cell_type": "code",
   "execution_count": 77,
   "metadata": {},
   "outputs": [],
   "source": [
    "categories = ['Twitch']"
   ]
  },
  {
   "cell_type": "code",
   "execution_count": 78,
   "metadata": {},
   "outputs": [
    {
     "data": {
      "image/png": "[encoded data removed]",
      "text/plain": [
       "<Figure size 576x324 with 1 Axes>"
      ]
     },
     "metadata": {},
     "output_type": "display_data"
    }
   ],
   "source": [
    "summary_Categories_by_Stage = {}\n",
    "for category in categories:\n",
    "    tmpCategory_by_Stage = summaryDataframe(category)\n",
    "    plotEventsByStage(category, tmpCategory_by_Stage)\n",
    "    #plt.legend()\n",
    "    \n",
    "    # save to dict\n",
    "    summary_Categories_by_Stage[category] = tmpCategory_by_Stage\n",
    "    \n",
    "    if savePlots:\n",
    "        plt.savefig(saveAsPath + saveAsName + '_' + category + '-episodes.pdf')"
   ]
  },
  {
   "cell_type": "markdown",
   "metadata": {},
   "source": [
    "### TOTAL: twitches"
   ]
  },
  {
   "cell_type": "code",
   "execution_count": 68,
   "metadata": {},
   "outputs": [
    {
     "data": {
      "text/html": [
       "<div>\n",
       "<style scoped>\n",
       "    .dataframe tbody tr th:only-of-type {\n",
       "        vertical-align: middle;\n",
       "    }\n",
       "\n",
       "    .dataframe tbody tr th {\n",
       "        vertical-align: top;\n",
       "    }\n",
       "\n",
       "    .dataframe thead th {\n",
       "        text-align: right;\n",
       "    }\n",
       "</style>\n",
       "<table border=\"1\" class=\"dataframe\">\n",
       "  <thead>\n",
       "    <tr style=\"text-align: right;\">\n",
       "      <th></th>\n",
       "      <th>Bird 1</th>\n",
       "      <th>Bird 2</th>\n",
       "      <th>Bird 3</th>\n",
       "      <th>Bird 4</th>\n",
       "      <th>Bird 5</th>\n",
       "    </tr>\n",
       "  </thead>\n",
       "  <tbody>\n",
       "    <tr>\n",
       "      <td>d</td>\n",
       "      <td>21.0</td>\n",
       "      <td>17.0</td>\n",
       "      <td>5.0</td>\n",
       "      <td>4.0</td>\n",
       "      <td>6.0</td>\n",
       "    </tr>\n",
       "    <tr>\n",
       "      <td>i</td>\n",
       "      <td>80.0</td>\n",
       "      <td>164.0</td>\n",
       "      <td>53.0</td>\n",
       "      <td>16.0</td>\n",
       "      <td>16.0</td>\n",
       "    </tr>\n",
       "    <tr>\n",
       "      <td>r</td>\n",
       "      <td>141.0</td>\n",
       "      <td>453.0</td>\n",
       "      <td>46.0</td>\n",
       "      <td>17.0</td>\n",
       "      <td>20.0</td>\n",
       "    </tr>\n",
       "    <tr>\n",
       "      <td>s</td>\n",
       "      <td>42.0</td>\n",
       "      <td>26.0</td>\n",
       "      <td>9.0</td>\n",
       "      <td>11.0</td>\n",
       "      <td>8.0</td>\n",
       "    </tr>\n",
       "    <tr>\n",
       "      <td>u</td>\n",
       "      <td>0.0</td>\n",
       "      <td>0.0</td>\n",
       "      <td>0.0</td>\n",
       "      <td>0.0</td>\n",
       "      <td>0.0</td>\n",
       "    </tr>\n",
       "    <tr>\n",
       "      <td>w</td>\n",
       "      <td>7.0</td>\n",
       "      <td>9.0</td>\n",
       "      <td>0.0</td>\n",
       "      <td>0.0</td>\n",
       "      <td>1.0</td>\n",
       "    </tr>\n",
       "  </tbody>\n",
       "</table>\n",
       "</div>"
      ],
      "text/plain": [
       "   Bird 1  Bird 2  Bird 3  Bird 4  Bird 5\n",
       "d    21.0    17.0     5.0     4.0     6.0\n",
       "i    80.0   164.0    53.0    16.0    16.0\n",
       "r   141.0   453.0    46.0    17.0    20.0\n",
       "s    42.0    26.0     9.0    11.0     8.0\n",
       "u     0.0     0.0     0.0     0.0     0.0\n",
       "w     7.0     9.0     0.0     0.0     1.0"
      ]
     },
     "execution_count": 68,
     "metadata": {},
     "output_type": "execute_result"
    }
   ],
   "source": [
    "summary_Categories_by_Stage['Twitch']"
   ]
  },
  {
   "cell_type": "code",
   "execution_count": 69,
   "metadata": {},
   "outputs": [
    {
     "data": {
      "text/html": [
       "<div>\n",
       "<style scoped>\n",
       "    .dataframe tbody tr th:only-of-type {\n",
       "        vertical-align: middle;\n",
       "    }\n",
       "\n",
       "    .dataframe tbody tr th {\n",
       "        vertical-align: top;\n",
       "    }\n",
       "\n",
       "    .dataframe thead th {\n",
       "        text-align: right;\n",
       "    }\n",
       "</style>\n",
       "<table border=\"1\" class=\"dataframe\">\n",
       "  <thead>\n",
       "    <tr style=\"text-align: right;\">\n",
       "      <th></th>\n",
       "      <th>Bird 1</th>\n",
       "      <th>Bird 2</th>\n",
       "      <th>Bird 3</th>\n",
       "      <th>Bird 4</th>\n",
       "      <th>Bird 5</th>\n",
       "    </tr>\n",
       "  </thead>\n",
       "  <tbody>\n",
       "    <tr>\n",
       "      <td>d</td>\n",
       "      <td>0.072165</td>\n",
       "      <td>0.025411</td>\n",
       "      <td>0.044248</td>\n",
       "      <td>0.083333</td>\n",
       "      <td>0.117647</td>\n",
       "    </tr>\n",
       "    <tr>\n",
       "      <td>i</td>\n",
       "      <td>0.274914</td>\n",
       "      <td>0.245142</td>\n",
       "      <td>0.469027</td>\n",
       "      <td>0.333333</td>\n",
       "      <td>0.313725</td>\n",
       "    </tr>\n",
       "    <tr>\n",
       "      <td>r</td>\n",
       "      <td>0.484536</td>\n",
       "      <td>0.677130</td>\n",
       "      <td>0.407080</td>\n",
       "      <td>0.354167</td>\n",
       "      <td>0.392157</td>\n",
       "    </tr>\n",
       "    <tr>\n",
       "      <td>s</td>\n",
       "      <td>0.144330</td>\n",
       "      <td>0.038864</td>\n",
       "      <td>0.079646</td>\n",
       "      <td>0.229167</td>\n",
       "      <td>0.156863</td>\n",
       "    </tr>\n",
       "    <tr>\n",
       "      <td>u</td>\n",
       "      <td>0.000000</td>\n",
       "      <td>0.000000</td>\n",
       "      <td>0.000000</td>\n",
       "      <td>0.000000</td>\n",
       "      <td>0.000000</td>\n",
       "    </tr>\n",
       "    <tr>\n",
       "      <td>w</td>\n",
       "      <td>0.024055</td>\n",
       "      <td>0.013453</td>\n",
       "      <td>0.000000</td>\n",
       "      <td>0.000000</td>\n",
       "      <td>0.019608</td>\n",
       "    </tr>\n",
       "  </tbody>\n",
       "</table>\n",
       "</div>"
      ],
      "text/plain": [
       "     Bird 1    Bird 2    Bird 3    Bird 4    Bird 5\n",
       "d  0.072165  0.025411  0.044248  0.083333  0.117647\n",
       "i  0.274914  0.245142  0.469027  0.333333  0.313725\n",
       "r  0.484536  0.677130  0.407080  0.354167  0.392157\n",
       "s  0.144330  0.038864  0.079646  0.229167  0.156863\n",
       "u  0.000000  0.000000  0.000000  0.000000  0.000000\n",
       "w  0.024055  0.013453  0.000000  0.000000  0.019608"
      ]
     },
     "execution_count": 69,
     "metadata": {},
     "output_type": "execute_result"
    }
   ],
   "source": [
    "# Convert to percentages\n",
    "test = summary_Categories_by_Stage['Twitch']\n",
    "test_perc = test/test.sum(axis=0)\n",
    "test_perc"
   ]
  },
  {
   "cell_type": "code",
   "execution_count": 70,
   "metadata": {
    "scrolled": true
   },
   "outputs": [
    {
     "data": {
      "text/plain": [
       "d    0.068561\n",
       "i    0.327228\n",
       "r    0.463014\n",
       "s    0.129774\n",
       "u    0.000000\n",
       "w    0.011423\n",
       "dtype: float64"
      ]
     },
     "execution_count": 70,
     "metadata": {},
     "output_type": "execute_result"
    }
   ],
   "source": [
    "test_perc.mean(axis=1)"
   ]
  },
  {
   "cell_type": "code",
   "execution_count": 71,
   "metadata": {},
   "outputs": [
    {
     "data": {
      "text/html": [
       "<div>\n",
       "<style scoped>\n",
       "    .dataframe tbody tr th:only-of-type {\n",
       "        vertical-align: middle;\n",
       "    }\n",
       "\n",
       "    .dataframe tbody tr th {\n",
       "        vertical-align: top;\n",
       "    }\n",
       "\n",
       "    .dataframe thead th {\n",
       "        text-align: right;\n",
       "    }\n",
       "</style>\n",
       "<table border=\"1\" class=\"dataframe\">\n",
       "  <thead>\n",
       "    <tr style=\"text-align: right;\">\n",
       "      <th></th>\n",
       "      <th>Bird 1</th>\n",
       "      <th>Bird 2</th>\n",
       "      <th>Bird 3</th>\n",
       "      <th>Bird 4</th>\n",
       "      <th>Bird 5</th>\n",
       "    </tr>\n",
       "  </thead>\n",
       "  <tbody>\n",
       "    <tr>\n",
       "      <td>i</td>\n",
       "      <td>80.0</td>\n",
       "      <td>164.0</td>\n",
       "      <td>53.0</td>\n",
       "      <td>16.0</td>\n",
       "      <td>16.0</td>\n",
       "    </tr>\n",
       "    <tr>\n",
       "      <td>s</td>\n",
       "      <td>42.0</td>\n",
       "      <td>26.0</td>\n",
       "      <td>9.0</td>\n",
       "      <td>11.0</td>\n",
       "      <td>8.0</td>\n",
       "    </tr>\n",
       "    <tr>\n",
       "      <td>r</td>\n",
       "      <td>141.0</td>\n",
       "      <td>453.0</td>\n",
       "      <td>46.0</td>\n",
       "      <td>17.0</td>\n",
       "      <td>20.0</td>\n",
       "    </tr>\n",
       "  </tbody>\n",
       "</table>\n",
       "</div>"
      ],
      "text/plain": [
       "   Bird 1  Bird 2  Bird 3  Bird 4  Bird 5\n",
       "i    80.0   164.0    53.0    16.0    16.0\n",
       "s    42.0    26.0     9.0    11.0     8.0\n",
       "r   141.0   453.0    46.0    17.0    20.0"
      ]
     },
     "execution_count": 71,
     "metadata": {},
     "output_type": "execute_result"
    }
   ],
   "source": [
    "# Twitching: sleep only:\n",
    "test = summary_Categories_by_Stage['Twitch'].loc[['i','s','r']]\n",
    "test"
   ]
  },
  {
   "cell_type": "code",
   "execution_count": 72,
   "metadata": {},
   "outputs": [
    {
     "data": {
      "text/plain": [
       "Bird 1    263.0\n",
       "Bird 2    643.0\n",
       "Bird 3    108.0\n",
       "Bird 4     44.0\n",
       "Bird 5     44.0\n",
       "dtype: float64"
      ]
     },
     "execution_count": 72,
     "metadata": {},
     "output_type": "execute_result"
    }
   ],
   "source": [
    "test.sum()"
   ]
  },
  {
   "cell_type": "code",
   "execution_count": 73,
   "metadata": {},
   "outputs": [
    {
     "name": "stdout",
     "output_type": "stream",
     "text": [
      "mean twitching episodes per bird:\n",
      "220.4\n",
      "SEM: 112.97636921055658\n"
     ]
    }
   ],
   "source": [
    "print('mean twitching episodes per bird:')\n",
    "print(test.sum().mean())\n",
    "print('SEM:', test.sum().std()/np.sqrt(len(test.sum())))"
   ]
  },
  {
   "cell_type": "code",
   "execution_count": 74,
   "metadata": {},
   "outputs": [
    {
     "data": {
      "text/plain": [
       "i    0.355450\n",
       "s    0.143057\n",
       "r    0.501493\n",
       "dtype: float64"
      ]
     },
     "execution_count": 74,
     "metadata": {},
     "output_type": "execute_result"
    }
   ],
   "source": [
    "test_perc = test/test.sum()\n",
    "test_perc.mean(axis=1)"
   ]
  },
  {
   "cell_type": "code",
   "execution_count": 75,
   "metadata": {
    "scrolled": true
   },
   "outputs": [
    {
     "name": "stdout",
     "output_type": "stream",
     "text": [
      "SEMs\n"
     ]
    },
    {
     "data": {
      "text/plain": [
       "i    0.039462\n",
       "s    0.036956\n",
       "r    0.056385\n",
       "dtype: float64"
      ]
     },
     "execution_count": 75,
     "metadata": {},
     "output_type": "execute_result"
    }
   ],
   "source": [
    "print('SEMs')\n",
    "test_perc.std(axis=1)/np.sqrt(len(test.sum()))"
   ]
  },
  {
   "cell_type": "markdown",
   "metadata": {},
   "source": [
    "## save to csv"
   ]
  },
  {
   "cell_type": "code",
   "execution_count": 76,
   "metadata": {},
   "outputs": [],
   "source": [
    "if saveData:\n",
    "    for category in categories:\n",
    "        category_by_stage = summary_Categories_by_Stage[category]\n",
    "        category_by_stage.to_csv(saveAsPath + saveAsName + str(category) + '_beginnings.csv')"
   ]
  },
  {
   "cell_type": "code",
   "execution_count": null,
   "metadata": {},
   "outputs": [],
   "source": []
  }
 ],
 "metadata": {
  "kernelspec": {
   "display_name": "Python 3",
   "language": "python",
   "name": "python3"
  },
  "language_info": {
   "codemirror_mode": {
    "name": "ipython",
    "version": 3
   },
   "file_extension": ".py",
   "mimetype": "text/x-python",
   "name": "python",
   "nbconvert_exporter": "python",
   "pygments_lexer": "ipython3",
   "version": "3.7.4"
  },
  "toc": {
   "base_numbering": 1,
   "nav_menu": {},
   "number_sections": true,
   "sideBar": true,
   "skip_h1_title": false,
   "title_cell": "Table of Contents",
   "title_sidebar": "Contents",
   "toc_cell": false,
   "toc_position": {
    "height": "calc(100% - 180px)",
    "left": "10px",
    "top": "150px",
    "width": "279px"
   },
   "toc_section_display": true,
   "toc_window_display": true
  }
 },
 "nbformat": 4,
 "nbformat_minor": 1
}
